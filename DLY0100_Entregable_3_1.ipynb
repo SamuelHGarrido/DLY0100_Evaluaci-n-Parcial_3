{
  "nbformat": 4,
  "nbformat_minor": 0,
  "metadata": {
    "colab": {
      "provenance": [],
      "gpuType": "T4"
    },
    "kernelspec": {
      "name": "python3",
      "display_name": "Python 3"
    },
    "accelerator": "GPU"
  },
  "cells": [
    {
      "cell_type": "markdown",
      "metadata": {
        "id": "mX8gZlVyCCbz"
      },
      "source": [
        "# Modelos del lenguaje con RNNs\n",
        "\n",
        "En esta parte, vamos a entrenar un modelo del lenguaje basado en caracteres con Recurrent Neural Networks. Asimismo, utilizaremos el modelo para generar texto. En particular, alimentaremos nuestro modelo con obras de la literatura clásica en castellano para obtener una red neuronal que sea capaz de \"escribir\" fragmentos literarios.\n",
        "\n",
        "Los entrenamientos para obtener un modelo de calidad podrían tomar cierto tiempo (5-10 minutos por epoch), por lo que se aconseja empezar a trabajar pronto. El uso de GPUs no ayuda tanto con LSTMs como con CNNs, por lo que si tenéis máquinas potentes en casa es posible que podáis entrenar más rápido o a la misma velocidad que en Colab. En todo caso, la potencia de Colab es más que suficiente para completar esta actividad con éxito.\n",
        "\n",
        "<center><img src=\"https://upload.wikimedia.org/wikipedia/commons/d/d8/El_ingenioso_hidalgo_don_Quijote_de_la_Mancha.jpg\" style=\"text-align: center\" height=\"300px\"></center>\n",
        "\n",
        "El dataset a utilizar consistirá en un archivo de texto con el contenido íntegro en castellano antiguo de El Ingenioso Hidalgo Don Quijote de la Mancha, disponible de manera libre en la página de [Project Gutenberg](https://www.gutenberg.org). Asimismo, como apartado optativo en este laboratorio se pueden utilizar otras fuentes de texto. Aquí podéis descargar los datos a utilizar de El Quijote y un par de obras adicionales:\n",
        "\n",
        "[El ingenioso hidalgo Don Quijote de la Mancha (Miguel de Cervantes)](https://onedrive.live.com/download?cid=C506CF0A4F373B0F&resid=C506CF0A4F373B0F%219424&authkey=AH0gb-qSo5Xd7Io)\n",
        "\n",
        "[Compilación de obras teatrales (Calderón de la Barca)](https://onedrive.live.com/download?cid=C506CF0A4F373B0F&resid=C506CF0A4F373B0F%219433&authkey=AKvGD6DC3IRBqmc)\n",
        "\n",
        "[Trafalgar (Benito Pérez Galdós)](https://onedrive.live.com/download?cid=C506CF0A4F373B0F&resid=C506CF0A4F373B0F%219434&authkey=AErPCAtMKOI5tYQ)\n",
        "\n",
        "Como ya deberíamos de estar acostumbrados en problemas de Machine Learning, es importante echar un vistazo a los datos antes de empezar."
      ]
    },
    {
      "cell_type": "code",
      "source": [
        "import numpy as np\n",
        "import re\n",
        "import pandas as pd\n",
        "import keras\n",
        "import random\n",
        "import matplotlib.pyplot as plt\n",
        "from sklearn.model_selection import train_test_split\n",
        "from sklearn.metrics import classification_report\n",
        "\n",
        "\n",
        "import tensorflow as tf\n",
        "from keras.models import Sequential\n",
        "from keras.layers import LSTM, Dense, Dropout, BatchNormalization\n",
        "from keras.callbacks import LambdaCallback, EarlyStopping, ModelCheckpoint"
      ],
      "metadata": {
        "id": "CZ62Ed0p9kRW"
      },
      "execution_count": null,
      "outputs": []
    },
    {
      "cell_type": "markdown",
      "metadata": {
        "id": "QI274F8LQC59"
      },
      "source": [
        "## 1. Carga y procesado del texto"
      ]
    },
    {
      "cell_type": "markdown",
      "metadata": {
        "id": "MZNnzvXuqVVm"
      },
      "source": [
        "Primero, vamos a descargar el libro e inspeccionar los datos. El fichero a descargar es una versión en `.txt` del libro de Don Quijote, a la cual se le han borrado introducciones, licencias y otras secciones para dejarlo con el contenido real de la novela."
      ]
    },
    {
      "cell_type": "code",
      "metadata": {
        "id": "D7tKOZ9BFfki"
      },
      "source": [
        "path = keras.utils.get_file(\n",
        "    fname=\"don_quijote.txt\",\n",
        "    origin=\" https://raw.githubusercontent.com/JaznaLaProfe/Deep-Learning/main/textos/Don_Quijote_de_la_Mancha.txt\"\n",
        ")"
      ],
      "execution_count": null,
      "outputs": []
    },
    {
      "cell_type": "markdown",
      "source": [
        "### 1.1. Leer todo el contenido del fichero en una única variable ***text*** y convertir el string a minúsculas\n",
        "\n"
      ],
      "metadata": {
        "id": "NEOo74TJ_hko"
      }
    },
    {
      "cell_type": "markdown",
      "metadata": {
        "id": "VYGLvjLXrUUd"
      },
      "source": [
        "Una vez descargado, se lee el contenido del fichero en una variable. Posteriormente, se convierte el texto a minúsculas para facilitar el aprendizaje del modelo. Esto permite evitar que el modelo tenga que distinguir entre caracteres en mayúscula y minúscula, reduciendo así la complejidad del vocabulario."
      ]
    },
    {
      "cell_type": "code",
      "metadata": {
        "id": "8WB6FejrrTu9",
        "colab": {
          "base_uri": "https://localhost:8080/"
        },
        "outputId": "39ed3358-99ab-45e3-8b12-dd102e4fa67f"
      },
      "source": [
        "# Abrir y leer el contenido\n",
        "with open(path, 'r', encoding='utf-8') as f:\n",
        "    ini_texto = f.read()\n",
        "\n",
        "# Eliminar o mapear caracteres raros\n",
        "texto = re.sub(r'[^a-záéíóúüñcç\\s.,;!?\"\\'()-]', '', ini_texto.lower())\n",
        "\n",
        "# Mostrar los primeros 500 caracteres (por ejemplo)\n",
        "print(texto[:500])"
      ],
      "execution_count": null,
      "outputs": [
        {
          "output_type": "stream",
          "name": "stdout",
          "text": [
            "capítulo primero. que trata de la condición y ejercicio del famoso hidalgo\n",
            "don quijote de la mancha\n",
            "\n",
            "\n",
            "en un lugar de la mancha, de cuyo nombre no quiero acordarme, no ha mucho\n",
            "tiempo que vivía un hidalgo de los de lanza en astillero, adarga antigua,\n",
            "rocín flaco y galgo corredor. una olla de algo más vaca que carnero,\n",
            "salpicón las más noches, duelos y quebrantos los sábados, lantejas los\n",
            "viernes, algún palomino de añadidura los domingos, consumían las tres\n",
            "partes de su hacienda. el resto della co\n"
          ]
        }
      ]
    },
    {
      "cell_type": "markdown",
      "metadata": {
        "id": "dkgGl8GWtUk8"
      },
      "source": [
        "Para confirmar que el contenido se ha cargado correctamente, se imprime la longitud total del texto y los primeros 300 caracteres."
      ]
    },
    {
      "cell_type": "code",
      "metadata": {
        "id": "hMFhe3COFwSD",
        "colab": {
          "base_uri": "https://localhost:8080/"
        },
        "outputId": "68f0658a-793a-4cbb-e039-63919ee1b46c"
      },
      "source": [
        "print(\"Longitud del texto: {}\".format(len(texto)))\n",
        "print(texto[0:300])"
      ],
      "execution_count": null,
      "outputs": [
        {
          "output_type": "stream",
          "name": "stdout",
          "text": [
            "Longitud del texto: 2067181\n",
            "capítulo primero. que trata de la condición y ejercicio del famoso hidalgo\n",
            "don quijote de la mancha\n",
            "\n",
            "\n",
            "en un lugar de la mancha, de cuyo nombre no quiero acordarme, no ha mucho\n",
            "tiempo que vivía un hidalgo de los de lanza en astillero, adarga antigua,\n",
            "rocín flaco y galgo corredor. una olla de algo más\n"
          ]
        }
      ]
    },
    {
      "cell_type": "markdown",
      "metadata": {
        "id": "bZ7TUXWiyvOj"
      },
      "source": [
        "## 2. Procesado de los datos"
      ]
    },
    {
      "cell_type": "markdown",
      "metadata": {
        "id": "x66_Vi_Gyxns"
      },
      "source": [
        "Una de las grandes ventajas de trabajar con modelos que utilizan caracteres en vez de palabras es que no necesitamos tokenizar el texto (partirlo palabra a palabra). Nuestro modelo funcionará directamente con los caracteres en el texto, incluyendo espacios, saltos de línea, etc.\n",
        "\n",
        "Antes de hacer nada, necesitamos procesar el texto en entradas y salidas compatibles con nuestro modelo. Como sabemos, un modelo del lenguaje con RNNs acepta una serie de caracteres y predice el siguiente carácter en la secuencia.\n",
        "\n",
        "* \"*El ingenioso don Qui*\" -> predicción: **j**\n",
        "* \"*El ingenioso don Quij*\" -> predicción: **o**\n",
        "\n",
        "De modo que la entrada y la salida de nuestro modelo necesita ser algo parecido a este esquema. En este punto, podríamos usar dos formas de preparar los datos para nuestro modelo.\n",
        "\n",
        "1. **Secuencia a secuencia**. La entrada de nuestro modelo sería una secuencia y la salida sería esa secuencia trasladada un caracter a la derecha, de modo que en cada instante de tiempo la RNN tiene que predecir el carácter siguiente. Por ejemplo:\n",
        "\n",
        ">* *Input*:   El ingenioso don Quijot\n",
        ">* *Output*: l ingenioso don Quijote\n",
        "\n",
        "2. **Secuencia a carácter**. En este variante, pasaríamos una secuencia de caracteres por nuestra RNN y, al llegar al final de la secuencia, predeciríamos el siguiente carácter.\n",
        "\n",
        ">* *Input*:   El ingenioso don Quijot\n",
        ">* *Output*: e\n",
        "\n",
        "En este laboratorio, por simplicidad, vamos a utilizar la segunda variante.\n",
        "\n",
        "De este modo, a partir del texto, hemos de generar nuestro propio training data que consista en secuencias de caracteres con el siguiente carácter a predecir. Para estandarizar las cosas, utilizaremos secuencias de tamaño *SEQ_LENGTH* caracteres (un hiperparámetro que podemos elegir nosotros).\n",
        "\n"
      ]
    },
    {
      "cell_type": "markdown",
      "metadata": {
        "id": "mkfJUIxW5m5C"
      },
      "source": [
        "### 2.1. Obtención de los caracteres y mapas de caracteres\n",
        "\n",
        "Antes de preparar los datos, es necesario identificar todos los caracteres distintos que aparecen en el texto. A cada uno de estos caracteres se le asigna un índice entero, formando un diccionario de mapeo en ambas direcciones:\n",
        "\n",
        "\n",
        "\n"
      ]
    },
    {
      "cell_type": "code",
      "metadata": {
        "id": "5bJ0NsbCbupF",
        "colab": {
          "base_uri": "https://localhost:8080/"
        },
        "outputId": "6b69ac4e-68ab-47ae-8247-bdafde4ea858"
      },
      "source": [
        "chars = sorted(list(set(texto)))\n",
        "\n",
        "NUM_CHARS = len(chars)\n",
        "char_to_indices = dict((c, i) for i, c in enumerate(chars))\n",
        "indices_to_char = dict((i, c) for i, c in enumerate(chars))\n",
        "\n",
        "print(f\"Número de caracteres únicos: {NUM_CHARS}\")"
      ],
      "execution_count": null,
      "outputs": [
        {
          "output_type": "stream",
          "name": "stdout",
          "text": [
            "Número de caracteres únicos: 44\n"
          ]
        }
      ]
    },
    {
      "cell_type": "markdown",
      "metadata": {
        "id": "Y_B4AWo0ElwA"
      },
      "source": [
        "### 2.2. Obtención de secuencias de entrada y carácter a predecir\n",
        "\n",
        "Ahora, vamos a obtener las secuencias de entrada en formato texto y los correspondientes caracteres a predecir. Para ello, recorrer el texto completo leído anteriormente, obteniendo una secuencia de `SEQ_LENGTH` caracteres y el siguiente caracter a predecir. Una vez hecho, desplazarse un carácter a la izquierda y hacer lo mismo para obtener una nueva secuencia y predicción. Guardar las secuencias en una variable ***sequences*** y los caracteres a predecir en una variable ***next_chars***.\n",
        "\n",
        "Por ejemplo, si el texto fuera \"Don Quijote\" y SEQ_LENGTH fuese 5, tendríamos\n",
        "\n",
        "* *sequences* = [\"Don Q\", \"on Qu\", \"n Qui\", \" Quij\", \"Quijo\", \"uijot\"]\n",
        "* *next_chars* = ['u', 'i', 'j', 'o', 't', 'e']"
      ]
    },
    {
      "cell_type": "code",
      "metadata": {
        "id": "NslxhnnDK6uA"
      },
      "source": [
        "# Definimos el tamaño de las secuencias. Puedes dejar este valor por defecto.\n",
        "SEQ_LENGTH = 30\n",
        "\n",
        "sequences = []\n",
        "next_chars = []\n",
        "\n",
        "## TU CÓDIGO AQUÍ\n",
        "for i in range(0, len(texto) - SEQ_LENGTH):\n",
        "    sequences.append(texto[i:i + SEQ_LENGTH])\n",
        "    next_chars.append(texto[i + SEQ_LENGTH])"
      ],
      "execution_count": null,
      "outputs": []
    },
    {
      "cell_type": "markdown",
      "metadata": {
        "id": "1Y3AmjYtHdLJ"
      },
      "source": [
        "Se indica la cantidad de pares secuencia/objetivo generados:"
      ]
    },
    {
      "cell_type": "code",
      "metadata": {
        "id": "WVWqKxFcbwTu",
        "colab": {
          "base_uri": "https://localhost:8080/"
        },
        "outputId": "67b3fe0c-3121-4043-c417-fe7e96d571b9"
      },
      "source": [
        "print(\"Número total de secuencias generadas: {}\".format(len(sequences)))"
      ],
      "execution_count": null,
      "outputs": [
        {
          "output_type": "stream",
          "name": "stdout",
          "text": [
            "Número total de secuencias generadas: 2067151\n"
          ]
        }
      ]
    },
    {
      "cell_type": "markdown",
      "metadata": {
        "id": "goGQkKcwpLRJ"
      },
      "source": [
        "Dado que el texto es extenso y genera una gran cantidad de secuencias, se opta por limitar el conjunto de entrenamiento a un máximo de 400.000 ejemplos para asegurar un entrenamiento manejable en términos de memoria."
      ]
    },
    {
      "cell_type": "code",
      "metadata": {
        "id": "2pm1Q19ppw8F",
        "colab": {
          "base_uri": "https://localhost:8080/"
        },
        "outputId": "8b31c735-ea8d-48ea-b2e8-3d2eb93f53d5"
      },
      "source": [
        "# Número máximo de secuencias a utilizar para reducir el tamaño del dataset\n",
        "MAX_SEQUENCES = 400000\n",
        "\n",
        "# Generar un array de índices aleatorios para barajar las secuencias\n",
        "perm = np.random.permutation(len(sequences))\n",
        "\n",
        "# Convertir las listas a arrays de NumPy para permitir el indexado con el array de permutación\n",
        "sequences, next_chars = np.array(sequences), np.array(next_chars)\n",
        "\n",
        "# Reordenar las secuencias y los caracteres objetivo utilizando la permutación aleatoria\n",
        "sequences, next_chars = sequences[perm], next_chars[perm]\n",
        "\n",
        "# Limitar el número de secuencias y caracteres objetivo al máximo definido y convertirlos de nuevo a listas\n",
        "sequences, next_chars = list(sequences[:MAX_SEQUENCES]), list(next_chars[:MAX_SEQUENCES])\n",
        "\n",
        "\n",
        "print(len(sequences))"
      ],
      "execution_count": null,
      "outputs": [
        {
          "output_type": "stream",
          "name": "stdout",
          "text": [
            "400000\n"
          ]
        }
      ]
    },
    {
      "cell_type": "markdown",
      "metadata": {
        "id": "4FzgtAbPIs6f"
      },
      "source": [
        "### 2.3. Obtención de input X y output y para el modelo\n",
        "\n",
        "Finalmente, con las secuencias de entrada y los caracteres objetivo ya preparados, se procede a convertirlos en arrays numéricos que puedan ser utilizados por el modelo. Para ello, se aplica codificación one-hot sobre cada carácter.\n",
        "\n",
        "La codificación one-hot transforma cada carácter en un vector binario con un 1 en la posición correspondiente a su índice en el vocabulario, y ceros en las demás. Por ejemplo, si el vocabulario estuviera compuesto por los caracteres `['a', 'b', 'c', 'd']`, sus representaciones serían:\n",
        "\n",
        "  - `'a'` → (1, 0, 0, 0)\n",
        "\n",
        "  - `'b'` → (0, 1, 0, 0)\n",
        "\n",
        "  - `'c'` → (0, 0, 1, 0)\n",
        "\n",
        "  - `'d'` → (0, 0, 0, 1)\n",
        "\n",
        "Se generan dos tensores:\n",
        "\n",
        "- X: tensor de entrada con forma `(num_sequences, SEQ_LENGTH, NUM_CHARS)`\n",
        "\n",
        "- y: tensor objetivo con forma `(num_sequences, NUM_CHARS)`\n"
      ]
    },
    {
      "cell_type": "code",
      "metadata": {
        "id": "zMBwZ9obNGNg"
      },
      "source": [
        "# Obtener el número total de secuencias después de la limitación\n",
        "NUM_SEQUENCES = len(sequences)\n",
        "\n",
        "# Inicializar los arrays de entrada (X) y salida (y) con ceros.\n",
        "# X tendrá la forma (número de secuencias, longitud de secuencia, número de caracteres únicos)\n",
        "# y tendrá la forma (número de secuencias, número de caracteres únicos)\n",
        "# Ambos usarán one-hot encoding.\n",
        "X = np.zeros((NUM_SEQUENCES, SEQ_LENGTH, NUM_CHARS), dtype=np.float32)\n",
        "y = np.zeros((NUM_SEQUENCES, NUM_CHARS), dtype=np.float32)\n",
        "\n",
        "\n",
        "# Iterar sobre cada secuencia en la lista de secuencias\n",
        "for i, sequence in enumerate(sequences):\n",
        "    for t, char in enumerate(sequence):\n",
        "        # Convertir el carácter a su representación one-hot en el array X\n",
        "        # La posición del 1 corresponde al índice del carácter en el vocabulario\n",
        "        X[i, t, char_to_indices[char]] = 1\n",
        "\n",
        "    # Convertir el carácter objetivo (el siguiente carácter) a su representación one-hot en el array y\n",
        "    # La posición del 1 corresponde al índice del carácter objetivo en el vocabulario\n",
        "    y[i, char_to_indices[next_chars[i]]] = 1"
      ],
      "execution_count": null,
      "outputs": []
    },
    {
      "cell_type": "markdown",
      "source": [
        "Una vez codificados los datos, se dividen en tres subconjuntos: entrenamiento, validación y prueba. La división se realiza de forma secuencial, asignando el 80% de las secuencias al entrenamiento, el 10% a validación y el 10% restante a prueba. Esta separación es fundamental para evaluar la capacidad de generalización del modelo."
      ],
      "metadata": {
        "id": "CiyGhbZVtHfQ"
      }
    },
    {
      "cell_type": "code",
      "source": [
        "# Dividir los datos en entrenamiento, validación y prueba secuencialmente\n",
        "\n",
        "# Obtener el número total de secuencias disponibles en X\n",
        "NUM_SEQUENCES = X.shape[0]\n",
        "\n",
        "# Calcular los tamaños de cada conjunto\n",
        "# 80% para entrenamiento\n",
        "train_size = int(0.8 * NUM_SEQUENCES)\n",
        "# 10% para validación\n",
        "val_size = int(0.1 * NUM_SEQUENCES)\n",
        "# El 10% restante para prueba\n",
        "test_size = NUM_SEQUENCES - train_size - val_size\n",
        "\n",
        "# Realizar la división de los arrays X e y usando slicing\n",
        "X_train, y_train = X[:train_size], y[:train_size]\n",
        "X_val, y_val = X[train_size:train_size + val_size], y[train_size:train_size + val_size]\n",
        "X_test, y_test = X[train_size + val_size:], y[train_size + val_size:]\n",
        "\n",
        "\n",
        "print(f\"Shape de X_train: {X_train.shape}\")\n",
        "print(f\"Shape de y_train: {y_train.shape}\")\n",
        "print(f\"Shape de X_val: {X_val.shape}\")\n",
        "print(f\"Shape de y_val: {y_val.shape}\")\n",
        "print(f\"Shape de X_test: {X_test.shape}\")\n",
        "print(f\"Shape de y_test: {y_test.shape}\")"
      ],
      "metadata": {
        "colab": {
          "base_uri": "https://localhost:8080/"
        },
        "id": "K3GRbqI2782T",
        "outputId": "b605ae34-d2dc-4f8c-bccb-42eae294f27b"
      },
      "execution_count": null,
      "outputs": [
        {
          "output_type": "stream",
          "name": "stdout",
          "text": [
            "Shape de X_train: (320000, 30, 44)\n",
            "Shape de y_train: (320000, 44)\n",
            "Shape de X_val: (40000, 30, 44)\n",
            "Shape de y_val: (40000, 44)\n",
            "Shape de X_test: (40000, 30, 44)\n",
            "Shape de y_test: (40000, 44)\n"
          ]
        }
      ]
    },
    {
      "cell_type": "markdown",
      "source": [
        "#### Funciones necesarias"
      ],
      "metadata": {
        "id": "Ou1B6eS78u0c"
      }
    },
    {
      "cell_type": "markdown",
      "source": [
        "Esta función se encarga de entrenar un modelo de Keras utilizando los conjuntos de entrenamiento y validación. Posteriormente, evalúa su desempeño en el conjunto de prueba. Es útil para encapsular todo el proceso de entrenamiento y evaluación en una sola llamada."
      ],
      "metadata": {
        "id": "qUlhLiH0tLBC"
      }
    },
    {
      "cell_type": "code",
      "metadata": {
        "id": "611ddb6b"
      },
      "source": [
        "def train_and_test(model, X_train, y_train, X_val, y_val, X_test, y_test, batch_size=128, epochs=10, callbacks=None):\n",
        "    \"\"\"\n",
        "    Entrena un modelo, opcionalmente evalúa en validación, y evalúa finalmente en prueba.\n",
        "\n",
        "    Args:\n",
        "        model: El modelo Keras a entrenar.\n",
        "        X_train, y_train: Datos de entrenamiento.\n",
        "        X_val, y_val: Datos de validación (pueden ser None).\n",
        "        X_test, y_test: Datos de prueba.\n",
        "        batch_size: Tamaño del lote para el entrenamiento.\n",
        "        epochs: Número de épocas para el entrenamiento.\n",
        "        callbacks: Lista de callbacks para el entrenamiento.\n",
        "\n",
        "    Returns:\n",
        "        model: El modelo entrenado.\n",
        "        history: El objeto History del entrenamiento.\n",
        "        report: El classification report en el conjunto de prueba (como diccionario).\n",
        "    \"\"\"\n",
        "    print(f\"Entrenando modelo: {model.name}\")\n",
        "\n",
        "    # Configurar datos de validación si están disponibles\n",
        "    validation_data = None\n",
        "    if X_val is not None and y_val is not None:\n",
        "        validation_data = (X_val, y_val)\n",
        "\n",
        "    # Entrenar el modelo\n",
        "    history = model.fit(\n",
        "        X_train, y_train,\n",
        "        batch_size=batch_size,\n",
        "        epochs=epochs,\n",
        "        validation_data=validation_data,\n",
        "        callbacks=callbacks,\n",
        "        verbose=1 # Mostrar progreso del entrenamiento\n",
        "    )\n",
        "\n",
        "    print(\"\\nEvaluando modelo en el conjunto de prueba...\")\n",
        "    # Evaluar en el conjunto de prueba\n",
        "    y_pred_probs = model.predict(X_test, verbose=0)\n",
        "    y_pred = np.argmax(y_pred_probs, axis=1) # Obtener el índice de la clase predicha\n",
        "\n",
        "    # Convertir y_test de one-hot a índices de clase si está en one-hot\n",
        "    # Asumimos que y_test puede venir en one-hot o como índices.\n",
        "    # Si la suma de cada fila es 1, asumimos one-hot y convertimos.\n",
        "    if len(y_test.shape) > 1 and np.all(np.sum(y_test, axis=1) == 1):\n",
        "         y_true = np.argmax(y_test, axis=1)\n",
        "    else:\n",
        "        y_true = y_test # Asumimos que ya son índices de clase\n",
        "\n",
        "    # Identificar las clases presentes en los datos de prueba\n",
        "    present_labels = np.unique(y_true)\n",
        "\n",
        "    # Generar el classification report\n",
        "    # Usamos target_names para todos los posibles caracteres\n",
        "    target_names = [indices_to_char[i] for i in range(NUM_CHARS)]\n",
        "\n",
        "    # Pasamos las etiquetas presentes explícitamente a classification_report\n",
        "    report = classification_report(y_true, y_pred, labels=present_labels, target_names=target_names, output_dict=True, zero_division=0)\n",
        "\n",
        "\n",
        "    print(\"Evaluación completa.\")\n",
        "    return model, history, report"
      ],
      "execution_count": null,
      "outputs": []
    },
    {
      "cell_type": "markdown",
      "source": [
        "Esta función permite comparar visualmente el desempeño de dos modelos distintos, típicamente un modelo base y uno modificado."
      ],
      "metadata": {
        "id": "cMihDo3atgF_"
      }
    },
    {
      "cell_type": "code",
      "metadata": {
        "id": "084f40f8"
      },
      "source": [
        "def comparar_modelos(hist_base, hist_mod,\n",
        "                 nombre_base='Modelo Base',\n",
        "                 nombre_mod='Modelo Modificado'):\n",
        "    \"\"\"\n",
        "    Compara el historial de entrenamiento de dos modelos (pérdida y precisión).\n",
        "\n",
        "    Args:\n",
        "        hist_base: El objeto History del entrenamiento del modelo base.\n",
        "        hist_mod: El objeto History del entrenamiento del modelo modificado.\n",
        "        nombre_base: Nombre para el modelo base en los gráficos.\n",
        "        nombre_mod: Nombre para el modelo modificado en los gráficos.\n",
        "    \"\"\"\n",
        "    # Extraer series de los historiales\n",
        "    loss_b = hist_base.history['loss']\n",
        "    acc_b  = hist_base.history['categorical_accuracy']\n",
        "    loss_m = hist_mod.history['loss']\n",
        "    acc_m  = hist_mod.history['categorical_accuracy']\n",
        "\n",
        "    # Intentar obtener métricas de validación si existen\n",
        "    val_loss_b = hist_base.history.get('val_loss')\n",
        "    val_acc_b  = hist_base.history.get('val_categorical_accuracy')\n",
        "    val_loss_m = hist_mod.history.get('val_loss')\n",
        "    val_acc_m  = hist_mod.history.get('val_categorical_accuracy')\n",
        "\n",
        "\n",
        "    # crear ejes x separados que comienzan en 1\n",
        "    x_b = np.arange(1, len(loss_b) + 1)\n",
        "    x_m = np.arange(1, len(loss_m) + 1)\n",
        "\n",
        "    # límite común en x: de 1 al máximo número de épocas\n",
        "    max_epochs = max(len(loss_b), len(loss_m))\n",
        "\n",
        "    fig, axs = plt.subplots(1, 2, figsize=(16, 6))\n",
        "    for ax in axs:\n",
        "        ax.set_axisbelow(True)\n",
        "        ax.grid(True, linestyle='--', linewidth=0.5, alpha=0.7)\n",
        "        ax.set_xlim(1, max_epochs)\n",
        "\n",
        "    # GRÁFICO DE PÉRDIDA\n",
        "    axs[0].plot(x_b, loss_b,      label=f'{nombre_base} (Train)', zorder=3)\n",
        "    if val_loss_b is not None:\n",
        "        axs[0].plot(x_b, val_loss_b,  label=f'{nombre_base} (Val)',   zorder=3, linestyle='--')\n",
        "    axs[0].plot(x_m, loss_m,      label=f'{nombre_mod} (Train)',  zorder=3)\n",
        "    if val_loss_m is not None:\n",
        "        axs[0].plot(x_m, val_loss_m,  label=f'{nombre_mod} (Val)',    zorder=3, linestyle='--')\n",
        "\n",
        "    # Ajustar el límite superior del eje y de la pérdida\n",
        "    all_losses = loss_b + loss_m\n",
        "    if val_loss_b is not None:\n",
        "        all_losses += val_loss_b\n",
        "    if val_loss_m is not None:\n",
        "        all_losses += val_loss_m\n",
        "    y_max_loss = max(all_losses) if all_losses else 1.0\n",
        "    axs[0].set_ylim(0, y_max_loss * 1.05)\n",
        "\n",
        "    axs[0].set_title(f'Comparación de Pérdida — {nombre_base} vs {nombre_mod}')\n",
        "    axs[0].set_xlabel('Época'); axs[0].set_ylabel('Pérdida')\n",
        "    axs[0].legend(loc='upper right')\n",
        "\n",
        "    # GRÁFICO DE RENDIMIENTO (Accuracy)\n",
        "    axs[1].plot(x_b, acc_b,      label=f'{nombre_base} (Train)', zorder=3)\n",
        "    if val_acc_b is not None:\n",
        "        axs[1].plot(x_b, val_acc_b,  label=f'{nombre_base} (Val)',   zorder=3, linestyle='--')\n",
        "    axs[1].plot(x_m, acc_m,      label=f'{nombre_mod} (Train)',  zorder=3)\n",
        "    if val_acc_m is not None:\n",
        "        axs[1].plot(x_m, val_acc_m,  label=f'{nombre_mod} (Val)',    zorder=3, linestyle='--')\n",
        "\n",
        "    # Ajustar el límite superior del eje y de la precisión (hasta 1.0)\n",
        "    all_accs = acc_b + acc_m\n",
        "    if val_acc_b is not None:\n",
        "        all_accs += val_acc_b\n",
        "    if val_acc_m is not None:\n",
        "        all_accs += val_acc_m\n",
        "    y_max_acc = max(all_accs) if all_accs else 0.0\n",
        "    axs[1].set_ylim(0, min(1.0, y_max_acc * 1.1))\n",
        "\n",
        "    axs[1].set_title(f'Comparación de Rendimiento — {nombre_base} vs {nombre_mod}')\n",
        "    axs[1].set_xlabel('Época'); axs[1].set_ylabel('Rendimiento')\n",
        "    axs[1].legend(loc='lower right')\n",
        "\n",
        "    plt.tight_layout()\n",
        "    plt.show()"
      ],
      "execution_count": null,
      "outputs": []
    },
    {
      "cell_type": "markdown",
      "source": [
        "Se trata de una función de utilidad que visualiza el comportamiento de pérdida y precisión de un modelo a lo largo de las épocas de entrenamiento."
      ],
      "metadata": {
        "id": "9w5EhRVftoYg"
      }
    },
    {
      "cell_type": "code",
      "source": [
        "def plot_training_history(history, model_name=\"Modelo\"):\n",
        "    \"\"\"\n",
        "    Genera gráficos de pérdida y precisión del modelo durante el entrenamiento.\n",
        "\n",
        "    Args:\n",
        "        history: Objeto history devuelto por model.fit().\n",
        "        model_name (str): Nombre del modelo para usar en los títulos de los gráficos.\n",
        "    \"\"\"\n",
        "    plt.figure(figsize=(12, 5))\n",
        "\n",
        "    # Crear un array para el eje X que comience en 1\n",
        "    epochs = range(1, len(history.history['loss']) + 1)\n",
        "\n",
        "    # Gráfico de Pérdida\n",
        "    plt.subplot(1, 2, 1)\n",
        "    plt.plot(epochs, history.history['loss'], label='Pérdida de Entrenamiento')\n",
        "    if 'val_loss' in history.history:\n",
        "        plt.plot(epochs, history.history['val_loss'], label='Pérdida de Validación')\n",
        "    plt.title(f'Pérdida durante el entrenamiento de {model_name}')\n",
        "    plt.xlabel('Época')\n",
        "    plt.ylabel('Pérdida')\n",
        "    plt.legend()\n",
        "    plt.grid(True)\n",
        "    plt.xlim(1, len(history.history['loss'])) # Establecer límite inferior del eje X a 1\n",
        "\n",
        "    # Gráfico de Precisión (Accuracy)\n",
        "    plt.subplot(1, 2, 2)\n",
        "    plt.plot(epochs, history.history['categorical_accuracy'], label='Rendimiento de Entrenamiento')\n",
        "    if 'val_categorical_accuracy' in history.history:\n",
        "        plt.plot(epochs, history.history['val_categorical_accuracy'], label='Rendimiento de Validación')\n",
        "    plt.title(f'Rendimiento durante el entrenamiento de {model_name}')\n",
        "    plt.xlabel('Época')\n",
        "    plt.ylabel('Rendimiento')\n",
        "    plt.legend()\n",
        "    plt.grid(True)\n",
        "    plt.xlim(1, len(history.history['categorical_accuracy'])) # Establecer límite inferior del eje X a 1\n",
        "\n",
        "    plt.tight_layout()\n",
        "    plt.show()"
      ],
      "metadata": {
        "id": "QxLKKQtJfZKu"
      },
      "execution_count": null,
      "outputs": []
    },
    {
      "cell_type": "markdown",
      "source": [
        "Esta función genera texto automáticamente a partir de una semilla (seed_text) utilizando un modelo entrenado."
      ],
      "metadata": {
        "id": "muvUYSQdtmzR"
      }
    },
    {
      "cell_type": "code",
      "source": [
        "def generate_text_from_seed(model, seed_text, length, temperature):\n",
        "    \"\"\"\n",
        "    Genera una secuencia de texto de 'length' caracteres a partir de 'seed_text'\n",
        "    utilizando el modelo.\n",
        "\n",
        "    Args:\n",
        "        model: El modelo Keras entrenado.\n",
        "        seed_text (str): El fragmento de texto inicial.\n",
        "        length (int): La longitud del texto a generar (además del seed_text).\n",
        "        temperature (float): Parámetro para controlar la diversidad en el muestreo.\n",
        "\n",
        "    Returns:\n",
        "        str: El texto generado completo (seed_text + texto predicho).\n",
        "    \"\"\"\n",
        "    generated = seed_text\n",
        "    current_seed = seed_text\n",
        "\n",
        "    for i in range(length):\n",
        "        # 1. Preprocesar el seed actual para la predicción\n",
        "        processed_seed = current_seed.lower()\n",
        "        processed_seed = re.sub(r'[^a-záéíóúüñcç\\s.,;!?\"\\'()-]', '', processed_seed)\n",
        "\n",
        "        # Ajustar a la longitud correcta (SEQ_LENGTH) si es necesario\n",
        "        if len(processed_seed) > SEQ_LENGTH:\n",
        "            processed_seed = processed_seed[-SEQ_LENGTH:]\n",
        "        elif len(processed_seed) < SEQ_LENGTH:\n",
        "            processed_seed = processed_seed.rjust(SEQ_LENGTH)\n",
        "\n",
        "        # Convertir a one-hot encoding\n",
        "        x_pred = np.zeros((1, SEQ_LENGTH, NUM_CHARS))\n",
        "        for t, char in enumerate(processed_seed):\n",
        "            if char in char_to_indices:\n",
        "                x_pred[0, t, char_to_indices[char]] = 1.0\n",
        "\n",
        "        # 2. Realizar la predicción\n",
        "        if model is None:\n",
        "            print(\"Error: El modelo no está disponible.\")\n",
        "            return generated\n",
        "        try:\n",
        "            preds = model.predict(x_pred, verbose=0)[0]\n",
        "        except Exception as e:\n",
        "            print(f\"Error durante la predicción en generación: {e}\")\n",
        "            return generated\n",
        "\n",
        "        # 3. Muestrear el siguiente carácter\n",
        "        try:\n",
        "            next_index = sample(preds, temperature)\n",
        "        except Exception as e:\n",
        "             print(f\"Error durante el muestreo en generación: {e}\")\n",
        "             return generated\n",
        "\n",
        "        # 4. Convertir índice a carácter y actualizar\n",
        "        if next_index in indices_to_char:\n",
        "            next_char = indices_to_char[next_index]\n",
        "        else:\n",
        "            next_char = \"?\"\n",
        "\n",
        "        # Añadir el carácter predicho al texto generado y actualizar el seed para la siguiente iteración\n",
        "        generated += next_char\n",
        "        # Para el siguiente paso, la nueva secuencia de entrada será el final de la secuencia anterior + el nuevo carácter\n",
        "        current_seed = current_seed[1:] + next_char\n",
        "\n",
        "    return generated"
      ],
      "metadata": {
        "id": "Nj7tuD2-YkNc"
      },
      "execution_count": null,
      "outputs": []
    },
    {
      "cell_type": "markdown",
      "metadata": {
        "id": "IxeUxz3HPm3l"
      },
      "source": [
        "## 3. Definición del modelo y entrenamiento\n",
        "\n"
      ]
    },
    {
      "cell_type": "markdown",
      "source": [
        "### 3.1. Justificación de la elección de la capa LSTM\n",
        "\n",
        "Para este problema de generación de texto a nivel de caracteres, hemos optado por utilizar una capa **LSTM (Long Short-Term Memory)** en nuestro modelo recurrente. Aunque existen otras opciones como las RNNs simples y las GRUs (Gated Recurrent Units), la LSTM presenta ventajas clave para manejar dependencias a largo plazo en secuencias de datos, que son cruciales en el lenguaje.\n",
        "\n",
        "*   **Frente a las RNNs simples:** Las RNNs tradicionales a menudo sufren del problema del \"gradiente desvanecido\" (vanishing gradient) al procesar secuencias largas. Esto dificulta que aprendan y retengan información de pasos de tiempo distantes, lo que es esencial para generar texto coherente donde el contexto puede extenderse por muchas palabras o incluso frases. Las LSTMs, con su arquitectura interna que incluye celdas de memoria y \"puertas\" (input, forget, output), están diseñadas específicamente para mitigar este problema, permitiendo que la información relevante persista a lo largo de la secuencia.\n",
        "\n",
        "*   **Frente a las GRUs:** Las GRUs son una alternativa más simple a las LSTMs, con menos parámetros y una arquitectura ligeramente diferente (combinan las puertas de olvido y actualización y fusionan la celda de memoria con el estado oculto). A menudo, las GRUs pueden ofrecer un rendimiento comparable al de las LSTMs en muchas tareas y son computacionalmente menos costosas. Sin embargo, en tareas donde la retención de información a muy largo plazo es crítica o cuando se trabaja con conjuntos de datos grandes y complejos, las LSTMs a veces pueden tener una ligera ventaja debido a su mayor capacidad de modelado. Dada la naturaleza compleja y la longitud potencial de las dependencias en una obra literaria como El Quijote, la LSTM se presenta como una elección robusta para capturar estas relaciones y generar texto más coherente.\n",
        "\n",
        "En resumen, la capacidad inherente de las LSTMs para manejar dependencias de largo alcance las convierte en una opción sólida y probada para la generación de texto, superando las limitaciones de las RNNs simples en este contexto."
      ],
      "metadata": {
        "id": "bwLVu40RCL7E"
      }
    },
    {
      "cell_type": "markdown",
      "source": [
        "### 3.2. Creación del Modelo Base"
      ],
      "metadata": {
        "id": "4jDKBOvIBt_o"
      }
    },
    {
      "cell_type": "markdown",
      "source": [
        "Se define el \"Modelo Base\", una arquitectura secuencial diseñada para capturar patrones en secuencias de caracteres. El modelo se construye apilando las siguientes capas:\n",
        "\n",
        "*   **Capa LSTM (primera)**: Una capa LSTM con 256 unidades. Recibe las secuencias de entrada (`input_shape=(SEQ_LENGTH, NUM_CHARS)`) y está configurada con `return_sequences=True`, lo que significa que devuelve la secuencia completa de estados ocultos de la LSTM en cada paso de tiempo. Esto es necesario cuando se apilan capas LSTM.\n",
        "*   **Capa BatchNormalization (primera)**: Se aplica Batch Normalization después de la primera capa LSTM. Esta capa ayuda a estabilizar el entrenamiento normalizando las activaciones de la capa anterior. Esto puede acelerar la convergencia y permitir el uso de tasas de aprendizaje más altas.\n",
        "*   **Capa Dropout (primera)**: Una capa Dropout con una tasa de 0.3. Aplica regularización \"apagando\" aleatoriamente el 30% de las unidades de la capa anterior durante el entrenamiento para prevenir el sobreajuste.\n",
        "*   **Capa LSTM (segunda)**: Una segunda capa LSTM con 256 unidades. Recibe la secuencia de estados ocultos de la primera LSTM. En este caso, `return_sequences=False` indica que solo devuelve el estado oculto final de la secuencia, ya que esta es la última capa recurrente antes de la capa de salida.\n",
        "*   **Capa BatchNormalization (segunda)**: Se aplica Batch Normalization después de la segunda capa LSTM por las mismas razones que la primera capa.\n",
        "*   **Capa Dropout (segunda)**: Una segunda capa Dropout con una tasa de 0.3, aplicando regularización a la salida de la segunda LSTM.\n",
        "*   **Capa Densa de salida**: Una capa Densa con `NUM_CHARS` unidades (igual al número de caracteres únicos) y activación `softmax`. Esta capa final transforma la salida de la última capa LSTM en una distribución de probabilidad sobre todos los caracteres posibles, indicando la probabilidad predicha de que cada carácter sea el siguiente en la secuencia.\n",
        "\n",
        "El modelo se compila utilizando el optimizador Adam con una tasa de aprendizaje de 0.0005 y la función de pérdida 'categorical_crossentropy', adecuada para tareas de clasificación multiclase como la predicción del siguiente carácter. Se muestra un resumen del modelo, detallando las capas, sus formas de salida y el número de parámetros entrenables."
      ],
      "metadata": {
        "id": "xEKtmTI6FfR0"
      }
    },
    {
      "cell_type": "code",
      "metadata": {
        "id": "MSw2j0btYWZs",
        "colab": {
          "base_uri": "https://localhost:8080/",
          "height": 457
        },
        "outputId": "13022f84-48b7-46d7-88e4-5004895c110d"
      },
      "source": [
        "# Definir el modelo\n",
        "modelo_base = Sequential(name=\"Modelo_base\")\n",
        "\n",
        "# Primera capa LSTM\n",
        "modelo_base.add(LSTM(256, input_shape=(SEQ_LENGTH, NUM_CHARS), return_sequences=True, name=\"LSTM_1\"))\n",
        "modelo_base.add(BatchNormalization(name=\"BatchNorm_1\"))\n",
        "modelo_base.add(Dropout(0.3, name=\"Dropout_1\"))\n",
        "\n",
        "# Segunda capa LSTM\n",
        "modelo_base.add(LSTM(256, return_sequences=False, name=\"LSTM_2\"))\n",
        "modelo_base.add(BatchNormalization(name=\"BatchNorm_2\"))\n",
        "modelo_base.add(Dropout(0.3, name=\"Dropout_2\"))\n",
        "\n",
        "# Capa de salida\n",
        "modelo_base.add(Dense(NUM_CHARS, activation='softmax', name=\"Densa_salida\"))\n",
        "\n",
        "# Compilación\n",
        "optimizer = tf.keras.optimizers.Adam(learning_rate=0.0005)\n",
        "modelo_base.compile(loss='categorical_crossentropy', optimizer=optimizer, metrics=['categorical_accuracy'])\n",
        "\n",
        "modelo_base.summary()"
      ],
      "execution_count": null,
      "outputs": [
        {
          "output_type": "stream",
          "name": "stderr",
          "text": [
            "/usr/local/lib/python3.11/dist-packages/keras/src/layers/rnn/rnn.py:200: UserWarning: Do not pass an `input_shape`/`input_dim` argument to a layer. When using Sequential models, prefer using an `Input(shape)` object as the first layer in the model instead.\n",
            "  super().__init__(**kwargs)\n"
          ]
        },
        {
          "output_type": "display_data",
          "data": {
            "text/plain": [
              "\u001b[1mModel: \"Modelo_base\"\u001b[0m\n"
            ],
            "text/html": [
              "<pre style=\"white-space:pre;overflow-x:auto;line-height:normal;font-family:Menlo,'DejaVu Sans Mono',consolas,'Courier New',monospace\"><span style=\"font-weight: bold\">Model: \"Modelo_base\"</span>\n",
              "</pre>\n"
            ]
          },
          "metadata": {}
        },
        {
          "output_type": "display_data",
          "data": {
            "text/plain": [
              "┏━━━━━━━━━━━━━━━━━━━━━━━━━━━━━━━━━┳━━━━━━━━━━━━━━━━━━━━━━━━┳━━━━━━━━━━━━━━━┓\n",
              "┃\u001b[1m \u001b[0m\u001b[1mLayer (type)                   \u001b[0m\u001b[1m \u001b[0m┃\u001b[1m \u001b[0m\u001b[1mOutput Shape          \u001b[0m\u001b[1m \u001b[0m┃\u001b[1m \u001b[0m\u001b[1m      Param #\u001b[0m\u001b[1m \u001b[0m┃\n",
              "┡━━━━━━━━━━━━━━━━━━━━━━━━━━━━━━━━━╇━━━━━━━━━━━━━━━━━━━━━━━━╇━━━━━━━━━━━━━━━┩\n",
              "│ LSTM_1 (\u001b[38;5;33mLSTM\u001b[0m)                   │ (\u001b[38;5;45mNone\u001b[0m, \u001b[38;5;34m30\u001b[0m, \u001b[38;5;34m256\u001b[0m)        │       \u001b[38;5;34m308,224\u001b[0m │\n",
              "├─────────────────────────────────┼────────────────────────┼───────────────┤\n",
              "│ BatchNorm_1                     │ (\u001b[38;5;45mNone\u001b[0m, \u001b[38;5;34m30\u001b[0m, \u001b[38;5;34m256\u001b[0m)        │         \u001b[38;5;34m1,024\u001b[0m │\n",
              "│ (\u001b[38;5;33mBatchNormalization\u001b[0m)            │                        │               │\n",
              "├─────────────────────────────────┼────────────────────────┼───────────────┤\n",
              "│ Dropout_1 (\u001b[38;5;33mDropout\u001b[0m)             │ (\u001b[38;5;45mNone\u001b[0m, \u001b[38;5;34m30\u001b[0m, \u001b[38;5;34m256\u001b[0m)        │             \u001b[38;5;34m0\u001b[0m │\n",
              "├─────────────────────────────────┼────────────────────────┼───────────────┤\n",
              "│ LSTM_2 (\u001b[38;5;33mLSTM\u001b[0m)                   │ (\u001b[38;5;45mNone\u001b[0m, \u001b[38;5;34m256\u001b[0m)            │       \u001b[38;5;34m525,312\u001b[0m │\n",
              "├─────────────────────────────────┼────────────────────────┼───────────────┤\n",
              "│ BatchNorm_2                     │ (\u001b[38;5;45mNone\u001b[0m, \u001b[38;5;34m256\u001b[0m)            │         \u001b[38;5;34m1,024\u001b[0m │\n",
              "│ (\u001b[38;5;33mBatchNormalization\u001b[0m)            │                        │               │\n",
              "├─────────────────────────────────┼────────────────────────┼───────────────┤\n",
              "│ Dropout_2 (\u001b[38;5;33mDropout\u001b[0m)             │ (\u001b[38;5;45mNone\u001b[0m, \u001b[38;5;34m256\u001b[0m)            │             \u001b[38;5;34m0\u001b[0m │\n",
              "├─────────────────────────────────┼────────────────────────┼───────────────┤\n",
              "│ Densa_salida (\u001b[38;5;33mDense\u001b[0m)            │ (\u001b[38;5;45mNone\u001b[0m, \u001b[38;5;34m44\u001b[0m)             │        \u001b[38;5;34m11,308\u001b[0m │\n",
              "└─────────────────────────────────┴────────────────────────┴───────────────┘\n"
            ],
            "text/html": [
              "<pre style=\"white-space:pre;overflow-x:auto;line-height:normal;font-family:Menlo,'DejaVu Sans Mono',consolas,'Courier New',monospace\">┏━━━━━━━━━━━━━━━━━━━━━━━━━━━━━━━━━┳━━━━━━━━━━━━━━━━━━━━━━━━┳━━━━━━━━━━━━━━━┓\n",
              "┃<span style=\"font-weight: bold\"> Layer (type)                    </span>┃<span style=\"font-weight: bold\"> Output Shape           </span>┃<span style=\"font-weight: bold\">       Param # </span>┃\n",
              "┡━━━━━━━━━━━━━━━━━━━━━━━━━━━━━━━━━╇━━━━━━━━━━━━━━━━━━━━━━━━╇━━━━━━━━━━━━━━━┩\n",
              "│ LSTM_1 (<span style=\"color: #0087ff; text-decoration-color: #0087ff\">LSTM</span>)                   │ (<span style=\"color: #00d7ff; text-decoration-color: #00d7ff\">None</span>, <span style=\"color: #00af00; text-decoration-color: #00af00\">30</span>, <span style=\"color: #00af00; text-decoration-color: #00af00\">256</span>)        │       <span style=\"color: #00af00; text-decoration-color: #00af00\">308,224</span> │\n",
              "├─────────────────────────────────┼────────────────────────┼───────────────┤\n",
              "│ BatchNorm_1                     │ (<span style=\"color: #00d7ff; text-decoration-color: #00d7ff\">None</span>, <span style=\"color: #00af00; text-decoration-color: #00af00\">30</span>, <span style=\"color: #00af00; text-decoration-color: #00af00\">256</span>)        │         <span style=\"color: #00af00; text-decoration-color: #00af00\">1,024</span> │\n",
              "│ (<span style=\"color: #0087ff; text-decoration-color: #0087ff\">BatchNormalization</span>)            │                        │               │\n",
              "├─────────────────────────────────┼────────────────────────┼───────────────┤\n",
              "│ Dropout_1 (<span style=\"color: #0087ff; text-decoration-color: #0087ff\">Dropout</span>)             │ (<span style=\"color: #00d7ff; text-decoration-color: #00d7ff\">None</span>, <span style=\"color: #00af00; text-decoration-color: #00af00\">30</span>, <span style=\"color: #00af00; text-decoration-color: #00af00\">256</span>)        │             <span style=\"color: #00af00; text-decoration-color: #00af00\">0</span> │\n",
              "├─────────────────────────────────┼────────────────────────┼───────────────┤\n",
              "│ LSTM_2 (<span style=\"color: #0087ff; text-decoration-color: #0087ff\">LSTM</span>)                   │ (<span style=\"color: #00d7ff; text-decoration-color: #00d7ff\">None</span>, <span style=\"color: #00af00; text-decoration-color: #00af00\">256</span>)            │       <span style=\"color: #00af00; text-decoration-color: #00af00\">525,312</span> │\n",
              "├─────────────────────────────────┼────────────────────────┼───────────────┤\n",
              "│ BatchNorm_2                     │ (<span style=\"color: #00d7ff; text-decoration-color: #00d7ff\">None</span>, <span style=\"color: #00af00; text-decoration-color: #00af00\">256</span>)            │         <span style=\"color: #00af00; text-decoration-color: #00af00\">1,024</span> │\n",
              "│ (<span style=\"color: #0087ff; text-decoration-color: #0087ff\">BatchNormalization</span>)            │                        │               │\n",
              "├─────────────────────────────────┼────────────────────────┼───────────────┤\n",
              "│ Dropout_2 (<span style=\"color: #0087ff; text-decoration-color: #0087ff\">Dropout</span>)             │ (<span style=\"color: #00d7ff; text-decoration-color: #00d7ff\">None</span>, <span style=\"color: #00af00; text-decoration-color: #00af00\">256</span>)            │             <span style=\"color: #00af00; text-decoration-color: #00af00\">0</span> │\n",
              "├─────────────────────────────────┼────────────────────────┼───────────────┤\n",
              "│ Densa_salida (<span style=\"color: #0087ff; text-decoration-color: #0087ff\">Dense</span>)            │ (<span style=\"color: #00d7ff; text-decoration-color: #00d7ff\">None</span>, <span style=\"color: #00af00; text-decoration-color: #00af00\">44</span>)             │        <span style=\"color: #00af00; text-decoration-color: #00af00\">11,308</span> │\n",
              "└─────────────────────────────────┴────────────────────────┴───────────────┘\n",
              "</pre>\n"
            ]
          },
          "metadata": {}
        },
        {
          "output_type": "display_data",
          "data": {
            "text/plain": [
              "\u001b[1m Total params: \u001b[0m\u001b[38;5;34m846,892\u001b[0m (3.23 MB)\n"
            ],
            "text/html": [
              "<pre style=\"white-space:pre;overflow-x:auto;line-height:normal;font-family:Menlo,'DejaVu Sans Mono',consolas,'Courier New',monospace\"><span style=\"font-weight: bold\"> Total params: </span><span style=\"color: #00af00; text-decoration-color: #00af00\">846,892</span> (3.23 MB)\n",
              "</pre>\n"
            ]
          },
          "metadata": {}
        },
        {
          "output_type": "display_data",
          "data": {
            "text/plain": [
              "\u001b[1m Trainable params: \u001b[0m\u001b[38;5;34m845,868\u001b[0m (3.23 MB)\n"
            ],
            "text/html": [
              "<pre style=\"white-space:pre;overflow-x:auto;line-height:normal;font-family:Menlo,'DejaVu Sans Mono',consolas,'Courier New',monospace\"><span style=\"font-weight: bold\"> Trainable params: </span><span style=\"color: #00af00; text-decoration-color: #00af00\">845,868</span> (3.23 MB)\n",
              "</pre>\n"
            ]
          },
          "metadata": {}
        },
        {
          "output_type": "display_data",
          "data": {
            "text/plain": [
              "\u001b[1m Non-trainable params: \u001b[0m\u001b[38;5;34m1,024\u001b[0m (4.00 KB)\n"
            ],
            "text/html": [
              "<pre style=\"white-space:pre;overflow-x:auto;line-height:normal;font-family:Menlo,'DejaVu Sans Mono',consolas,'Courier New',monospace\"><span style=\"font-weight: bold\"> Non-trainable params: </span><span style=\"color: #00af00; text-decoration-color: #00af00\">1,024</span> (4.00 KB)\n",
              "</pre>\n"
            ]
          },
          "metadata": {}
        }
      ]
    },
    {
      "cell_type": "markdown",
      "metadata": {
        "id": "3yUFHS4kHkyY"
      },
      "source": [
        "Para ver cómo evoluciona nuestro modelo del lenguaje, definimos una función auxiliar que permite obtener un valor aleatorio según una distribución de probabilidad, en lugar de seleccionar siempre el carácter con mayor probabilidad.\n",
        "\n",
        "Este enfoque, conocido como sampling, introduce diversidad en los textos generados. El parámetro temperature controla dicha diversidad:\n",
        "\n",
        "- Temperaturas bajas (ej. 0.2) hacen el modelo más conservador.\n",
        "\n",
        "- Temperaturas altas (ej. 1.2) promueven textos más creativos, pero también más propensos a errores.\n"
      ]
    },
    {
      "cell_type": "code",
      "metadata": {
        "id": "LoGYpWOHd7Lr"
      },
      "source": [
        "def sample(probs, temperature=1.0):\n",
        "    \"\"\"Nos da el índice del elemento a elegir según la distribución\n",
        "    de probabilidad dada por probs.\n",
        "\n",
        "    Args:\n",
        "      probs es la salida dada por una capa softmax:\n",
        "        probs = model.predict(x_to_predict)[0]\n",
        "\n",
        "      temperature es un parámetro que nos permite obtener mayor\n",
        "        \"diversidad\" a la hora de obtener resultados.\n",
        "\n",
        "        temperature = 1 nos da la distribución normal de softmax\n",
        "        0 < temperature < 1 hace que el sampling sea más conservador,\n",
        "          de modo que sampleamos cosas de las que estamos más seguros\n",
        "        temperature > 1 hace que los samplings sean más atrevidos,\n",
        "          eligiendo en más ocasiones clases con baja probabilidad.\n",
        "          Con esto, tenemos mayor diversidad pero se cometen más\n",
        "          errores.\n",
        "    \"\"\"\n",
        "    # Cast a float64 por motivos numéricos\n",
        "    probs = np.asarray(probs).astype('float64')\n",
        "\n",
        "    # Añadir un pequeño epsilon para evitar log(0)\n",
        "    probs = probs + 1e-8\n",
        "\n",
        "    # Hacemos logaritmo de probabilidades y aplicamos reducción por temperatura.\n",
        "    probs = np.log(probs) / temperature\n",
        "\n",
        "    # Volvemos a aplicar exponencial y normalizamos de nuevo\n",
        "    exp_probs = np.exp(probs)\n",
        "    probs = exp_probs / np.sum(exp_probs)\n",
        "\n",
        "    # Hacemos el sampling dadas las nuevas probabilidades de salida (ver doc. de np.random.multinomial)\n",
        "    samples = np.random.multinomial(1, probs, 1)\n",
        "    return np.argmax(samples)"
      ],
      "execution_count": null,
      "outputs": []
    },
    {
      "cell_type": "markdown",
      "metadata": {
        "id": "3fejfZldd4ou"
      },
      "source": [
        "Utilizando la función anterior y el modelo entrenado, procedemos a definir una función que genera una secuencia de texto carácter por carácter, comenzando desde una semilla inicial (seed_text). En cada paso, el modelo predice las probabilidades del siguiente carácter y se elige uno mediante la función sample, que introduce un grado de aleatoriedad controlado por el parámetro temperature.\n",
        "\n",
        "El proceso se repite hasta alcanzar la longitud deseada. Con esto se simula cómo el modelo puede continuar una secuencia aprendida, permitiendo observar de forma práctica su capacidad generativa."
      ]
    },
    {
      "cell_type": "code",
      "metadata": {
        "id": "xOEZvnBXkODd"
      },
      "source": [
        "TEMPERATURES_TO_TRY = [0.2, 0.5, 1.0, 1.2]\n",
        "GENERATED_TEXT_LENGTH = 200 #\n",
        "\n",
        "def generate_text(seed_text, model, length, temperature=1):\n",
        "    \"\"\"Genera una secuencia de texto a partir de seed_text utilizando model.\n",
        "\n",
        "    La secuencia tiene longitud length y el sampling se hace con la temperature\n",
        "    definida.\n",
        "    \"\"\"\n",
        "    # Aquí guardaremos nuestro texto generado, que incluirá el\n",
        "    # texto origen\n",
        "    generated = seed_text\n",
        "\n",
        "    # Utilizar el modelo en un bucle de manera que generemos\n",
        "    # carácter a carácter. Habrá que construir los valores de\n",
        "    # X_pred de manera similar a como hemos hecho arriba, salvo que\n",
        "    # aquí sólo se necesita una oración\n",
        "    # Nótese que el x que utilicemos tiene que irse actualizando con\n",
        "    # los caracteres que se van generando. La secuencia de entrada al\n",
        "    # modelo tiene que ser una secuencia de tamaño SEQ_LENGTH que\n",
        "    # incluya el último caracter predicho.\n",
        "\n",
        "    for i in range(length):\n",
        "        # Preparar la secuencia de entrada para la predicción\n",
        "        x_pred = np.zeros((1, SEQ_LENGTH, NUM_CHARS))\n",
        "        for t, char in enumerate(seed_text):\n",
        "            if char in char_to_indices: # Verificar si el caracter está en el vocabulario\n",
        "                x_pred[0, t, char_to_indices[char]] = 1.\n",
        "            # Si el caracter no está en el vocabulario, simplemente lo ignoramos en la entrada one-hot\n",
        "\n",
        "        # Predecir las probabilidades del siguiente carácter\n",
        "        # Asegurarse de que el modelo está compilado y listo para predecir\n",
        "        if model is None:\n",
        "            print(\"Error: Model is not provided to generate_text function.\")\n",
        "            return generated\n",
        "        preds = model.predict(x_pred, verbose=0)[0]\n",
        "\n",
        "        # Samplear el siguiente carácter utilizando la función sample\n",
        "        # Asegurarse de que la función sample está definida (asumimos que sí)\n",
        "        next_index = sample(preds, temperature)\n",
        "        next_char = indices_to_char[next_index]\n",
        "\n",
        "        # Añadir el carácter generado al texto y actualizar la secuencia\n",
        "        generated += next_char\n",
        "        seed_text = seed_text[1:] + next_char\n",
        "\n",
        "    return generated\n"
      ],
      "execution_count": null,
      "outputs": []
    },
    {
      "cell_type": "markdown",
      "source": [
        "### 3.3. Entrenamiento del Modelo"
      ],
      "metadata": {
        "id": "2cXj3jcuBRSp"
      }
    },
    {
      "cell_type": "markdown",
      "metadata": {
        "id": "BSMYZ2JdrSJg"
      },
      "source": [
        "Una vez definido el modelo base, se procede a su entrenamiento utilizando los conjuntos de datos previamente preparados. El entrenamiento se gestiona mediante la función train_and_test, que divide los datos y entrena el modelo utilizando model.fit. Durante el proceso, se monitoriza la pérdida (loss) y la precisión categórica (categorical_accuracy), tanto para entrenamiento como para validación.\n",
        "\n",
        "Se emplean dos callbacks clave:\n",
        "\n",
        "- EarlyStopping, que detiene el entrenamiento si no se observa mejora en la pérdida de validación tras 5 épocas.\n",
        "\n",
        "- ModelCheckpoint, que guarda automáticamente los pesos del modelo con menor pérdida en validación.\n"
      ]
    },
    {
      "cell_type": "code",
      "source": [
        "early_stopping_callback = EarlyStopping(\n",
        "    monitor='val_loss',\n",
        "    patience=5,\n",
        "    restore_best_weights=True\n",
        ")\n",
        "\n",
        "checkpoint_callback = ModelCheckpoint(\n",
        "    filepath='best_model.keras',\n",
        "    monitor='val_loss',\n",
        "    save_best_only=True,\n",
        "    mode='min',\n",
        "    verbose=1\n",
        ")"
      ],
      "metadata": {
        "id": "k_pZKxGxHK5z"
      },
      "execution_count": null,
      "outputs": []
    },
    {
      "cell_type": "code",
      "metadata": {
        "id": "3oT7pNvjrP2e",
        "colab": {
          "base_uri": "https://localhost:8080/"
        },
        "outputId": "535181d8-4ba1-4c2b-c3fc-85193a2c9e66"
      },
      "source": [
        "best_model_base, history_base, report_base = train_and_test(\n",
        "    modelo_base,\n",
        "    X_train, y_train,\n",
        "    X_val, y_val,\n",
        "    X_test, y_test,\n",
        "    batch_size=128,\n",
        "    epochs=50,\n",
        "    callbacks=[early_stopping_callback, checkpoint_callback]\n",
        ")\n",
        "\n"
      ],
      "execution_count": null,
      "outputs": [
        {
          "output_type": "stream",
          "name": "stdout",
          "text": [
            "Entrenando modelo: Modelo_base\n",
            "Epoch 1/50\n",
            "\u001b[1m2497/2500\u001b[0m \u001b[32m━━━━━━━━━━━━━━━━━━━\u001b[0m\u001b[37m━\u001b[0m \u001b[1m0s\u001b[0m 14ms/step - categorical_accuracy: 0.2946 - loss: 2.5877\n",
            "Epoch 1: val_loss improved from inf to 1.86471, saving model to best_model.keras\n",
            "\u001b[1m2500/2500\u001b[0m \u001b[32m━━━━━━━━━━━━━━━━━━━━\u001b[0m\u001b[37m\u001b[0m \u001b[1m42s\u001b[0m 15ms/step - categorical_accuracy: 0.2947 - loss: 2.5870 - val_categorical_accuracy: 0.4237 - val_loss: 1.8647\n",
            "Epoch 2/50\n",
            "\u001b[1m2500/2500\u001b[0m \u001b[32m━━━━━━━━━━━━━━━━━━━━\u001b[0m\u001b[37m\u001b[0m \u001b[1m0s\u001b[0m 14ms/step - categorical_accuracy: 0.4308 - loss: 1.8334\n",
            "Epoch 2: val_loss improved from 1.86471 to 1.64657, saving model to best_model.keras\n",
            "\u001b[1m2500/2500\u001b[0m \u001b[32m━━━━━━━━━━━━━━━━━━━━\u001b[0m\u001b[37m\u001b[0m \u001b[1m38s\u001b[0m 14ms/step - categorical_accuracy: 0.4308 - loss: 1.8334 - val_categorical_accuracy: 0.4842 - val_loss: 1.6466\n",
            "Epoch 3/50\n",
            "\u001b[1m2497/2500\u001b[0m \u001b[32m━━━━━━━━━━━━━━━━━━━\u001b[0m\u001b[37m━\u001b[0m \u001b[1m0s\u001b[0m 14ms/step - categorical_accuracy: 0.4707 - loss: 1.6958\n",
            "Epoch 3: val_loss improved from 1.64657 to 1.56886, saving model to best_model.keras\n",
            "\u001b[1m2500/2500\u001b[0m \u001b[32m━━━━━━━━━━━━━━━━━━━━\u001b[0m\u001b[37m\u001b[0m \u001b[1m41s\u001b[0m 14ms/step - categorical_accuracy: 0.4707 - loss: 1.6958 - val_categorical_accuracy: 0.5082 - val_loss: 1.5689\n",
            "Epoch 4/50\n",
            "\u001b[1m2499/2500\u001b[0m \u001b[32m━━━━━━━━━━━━━━━━━━━\u001b[0m\u001b[37m━\u001b[0m \u001b[1m0s\u001b[0m 14ms/step - categorical_accuracy: 0.4905 - loss: 1.6258\n",
            "Epoch 4: val_loss improved from 1.56886 to 1.50640, saving model to best_model.keras\n",
            "\u001b[1m2500/2500\u001b[0m \u001b[32m━━━━━━━━━━━━━━━━━━━━\u001b[0m\u001b[37m\u001b[0m \u001b[1m42s\u001b[0m 15ms/step - categorical_accuracy: 0.4905 - loss: 1.6258 - val_categorical_accuracy: 0.5255 - val_loss: 1.5064\n",
            "Epoch 5/50\n",
            "\u001b[1m2499/2500\u001b[0m \u001b[32m━━━━━━━━━━━━━━━━━━━\u001b[0m\u001b[37m━\u001b[0m \u001b[1m0s\u001b[0m 14ms/step - categorical_accuracy: 0.5061 - loss: 1.5758\n",
            "Epoch 5: val_loss improved from 1.50640 to 1.47988, saving model to best_model.keras\n",
            "\u001b[1m2500/2500\u001b[0m \u001b[32m━━━━━━━━━━━━━━━━━━━━\u001b[0m\u001b[37m\u001b[0m \u001b[1m40s\u001b[0m 14ms/step - categorical_accuracy: 0.5061 - loss: 1.5758 - val_categorical_accuracy: 0.5324 - val_loss: 1.4799\n",
            "Epoch 6/50\n",
            "\u001b[1m2500/2500\u001b[0m \u001b[32m━━━━━━━━━━━━━━━━━━━━\u001b[0m\u001b[37m\u001b[0m \u001b[1m0s\u001b[0m 14ms/step - categorical_accuracy: 0.5178 - loss: 1.5352\n",
            "Epoch 6: val_loss improved from 1.47988 to 1.44989, saving model to best_model.keras\n",
            "\u001b[1m2500/2500\u001b[0m \u001b[32m━━━━━━━━━━━━━━━━━━━━\u001b[0m\u001b[37m\u001b[0m \u001b[1m42s\u001b[0m 15ms/step - categorical_accuracy: 0.5178 - loss: 1.5352 - val_categorical_accuracy: 0.5422 - val_loss: 1.4499\n",
            "Epoch 7/50\n",
            "\u001b[1m2497/2500\u001b[0m \u001b[32m━━━━━━━━━━━━━━━━━━━\u001b[0m\u001b[37m━\u001b[0m \u001b[1m0s\u001b[0m 14ms/step - categorical_accuracy: 0.5255 - loss: 1.5062\n",
            "Epoch 7: val_loss improved from 1.44989 to 1.43417, saving model to best_model.keras\n",
            "\u001b[1m2500/2500\u001b[0m \u001b[32m━━━━━━━━━━━━━━━━━━━━\u001b[0m\u001b[37m\u001b[0m \u001b[1m40s\u001b[0m 14ms/step - categorical_accuracy: 0.5255 - loss: 1.5062 - val_categorical_accuracy: 0.5451 - val_loss: 1.4342\n",
            "Epoch 8/50\n",
            "\u001b[1m2500/2500\u001b[0m \u001b[32m━━━━━━━━━━━━━━━━━━━━\u001b[0m\u001b[37m\u001b[0m \u001b[1m0s\u001b[0m 14ms/step - categorical_accuracy: 0.5303 - loss: 1.4833\n",
            "Epoch 8: val_loss improved from 1.43417 to 1.41037, saving model to best_model.keras\n",
            "\u001b[1m2500/2500\u001b[0m \u001b[32m━━━━━━━━━━━━━━━━━━━━\u001b[0m\u001b[37m\u001b[0m \u001b[1m41s\u001b[0m 14ms/step - categorical_accuracy: 0.5303 - loss: 1.4833 - val_categorical_accuracy: 0.5545 - val_loss: 1.4104\n",
            "Epoch 9/50\n",
            "\u001b[1m2498/2500\u001b[0m \u001b[32m━━━━━━━━━━━━━━━━━━━\u001b[0m\u001b[37m━\u001b[0m \u001b[1m0s\u001b[0m 14ms/step - categorical_accuracy: 0.5356 - loss: 1.4657\n",
            "Epoch 9: val_loss improved from 1.41037 to 1.40182, saving model to best_model.keras\n",
            "\u001b[1m2500/2500\u001b[0m \u001b[32m━━━━━━━━━━━━━━━━━━━━\u001b[0m\u001b[37m\u001b[0m \u001b[1m43s\u001b[0m 15ms/step - categorical_accuracy: 0.5356 - loss: 1.4657 - val_categorical_accuracy: 0.5565 - val_loss: 1.4018\n",
            "Epoch 10/50\n",
            "\u001b[1m2500/2500\u001b[0m \u001b[32m━━━━━━━━━━━━━━━━━━━━\u001b[0m\u001b[37m\u001b[0m \u001b[1m0s\u001b[0m 14ms/step - categorical_accuracy: 0.5433 - loss: 1.4442\n",
            "Epoch 10: val_loss improved from 1.40182 to 1.39383, saving model to best_model.keras\n",
            "\u001b[1m2500/2500\u001b[0m \u001b[32m━━━━━━━━━━━━━━━━━━━━\u001b[0m\u001b[37m\u001b[0m \u001b[1m40s\u001b[0m 15ms/step - categorical_accuracy: 0.5433 - loss: 1.4442 - val_categorical_accuracy: 0.5604 - val_loss: 1.3938\n",
            "Epoch 11/50\n",
            "\u001b[1m2497/2500\u001b[0m \u001b[32m━━━━━━━━━━━━━━━━━━━\u001b[0m\u001b[37m━\u001b[0m \u001b[1m0s\u001b[0m 14ms/step - categorical_accuracy: 0.5493 - loss: 1.4249\n",
            "Epoch 11: val_loss improved from 1.39383 to 1.37828, saving model to best_model.keras\n",
            "\u001b[1m2500/2500\u001b[0m \u001b[32m━━━━━━━━━━━━━━━━━━━━\u001b[0m\u001b[37m\u001b[0m \u001b[1m36s\u001b[0m 14ms/step - categorical_accuracy: 0.5493 - loss: 1.4249 - val_categorical_accuracy: 0.5628 - val_loss: 1.3783\n",
            "Epoch 12/50\n",
            "\u001b[1m2498/2500\u001b[0m \u001b[32m━━━━━━━━━━━━━━━━━━━\u001b[0m\u001b[37m━\u001b[0m \u001b[1m0s\u001b[0m 14ms/step - categorical_accuracy: 0.5517 - loss: 1.4152\n",
            "Epoch 12: val_loss improved from 1.37828 to 1.37236, saving model to best_model.keras\n",
            "\u001b[1m2500/2500\u001b[0m \u001b[32m━━━━━━━━━━━━━━━━━━━━\u001b[0m\u001b[37m\u001b[0m \u001b[1m37s\u001b[0m 15ms/step - categorical_accuracy: 0.5517 - loss: 1.4152 - val_categorical_accuracy: 0.5669 - val_loss: 1.3724\n",
            "Epoch 13/50\n",
            "\u001b[1m2499/2500\u001b[0m \u001b[32m━━━━━━━━━━━━━━━━━━━\u001b[0m\u001b[37m━\u001b[0m \u001b[1m0s\u001b[0m 14ms/step - categorical_accuracy: 0.5561 - loss: 1.4008\n",
            "Epoch 13: val_loss improved from 1.37236 to 1.36502, saving model to best_model.keras\n",
            "\u001b[1m2500/2500\u001b[0m \u001b[32m━━━━━━━━━━━━━━━━━━━━\u001b[0m\u001b[37m\u001b[0m \u001b[1m40s\u001b[0m 14ms/step - categorical_accuracy: 0.5561 - loss: 1.4008 - val_categorical_accuracy: 0.5684 - val_loss: 1.3650\n",
            "Epoch 14/50\n",
            "\u001b[1m2500/2500\u001b[0m \u001b[32m━━━━━━━━━━━━━━━━━━━━\u001b[0m\u001b[37m\u001b[0m \u001b[1m0s\u001b[0m 14ms/step - categorical_accuracy: 0.5616 - loss: 1.3824\n",
            "Epoch 14: val_loss improved from 1.36502 to 1.36317, saving model to best_model.keras\n",
            "\u001b[1m2500/2500\u001b[0m \u001b[32m━━━━━━━━━━━━━━━━━━━━\u001b[0m\u001b[37m\u001b[0m \u001b[1m42s\u001b[0m 15ms/step - categorical_accuracy: 0.5616 - loss: 1.3824 - val_categorical_accuracy: 0.5691 - val_loss: 1.3632\n",
            "Epoch 15/50\n",
            "\u001b[1m2500/2500\u001b[0m \u001b[32m━━━━━━━━━━━━━━━━━━━━\u001b[0m\u001b[37m\u001b[0m \u001b[1m0s\u001b[0m 14ms/step - categorical_accuracy: 0.5630 - loss: 1.3730\n",
            "Epoch 15: val_loss improved from 1.36317 to 1.35172, saving model to best_model.keras\n",
            "\u001b[1m2500/2500\u001b[0m \u001b[32m━━━━━━━━━━━━━━━━━━━━\u001b[0m\u001b[37m\u001b[0m \u001b[1m40s\u001b[0m 15ms/step - categorical_accuracy: 0.5630 - loss: 1.3730 - val_categorical_accuracy: 0.5729 - val_loss: 1.3517\n",
            "Epoch 16/50\n",
            "\u001b[1m2497/2500\u001b[0m \u001b[32m━━━━━━━━━━━━━━━━━━━\u001b[0m\u001b[37m━\u001b[0m \u001b[1m0s\u001b[0m 14ms/step - categorical_accuracy: 0.5645 - loss: 1.3650\n",
            "Epoch 16: val_loss improved from 1.35172 to 1.34901, saving model to best_model.keras\n",
            "\u001b[1m2500/2500\u001b[0m \u001b[32m━━━━━━━━━━━━━━━━━━━━\u001b[0m\u001b[37m\u001b[0m \u001b[1m40s\u001b[0m 14ms/step - categorical_accuracy: 0.5645 - loss: 1.3650 - val_categorical_accuracy: 0.5724 - val_loss: 1.3490\n",
            "Epoch 17/50\n",
            "\u001b[1m2497/2500\u001b[0m \u001b[32m━━━━━━━━━━━━━━━━━━━\u001b[0m\u001b[37m━\u001b[0m \u001b[1m0s\u001b[0m 14ms/step - categorical_accuracy: 0.5699 - loss: 1.3525\n",
            "Epoch 17: val_loss improved from 1.34901 to 1.34670, saving model to best_model.keras\n",
            "\u001b[1m2500/2500\u001b[0m \u001b[32m━━━━━━━━━━━━━━━━━━━━\u001b[0m\u001b[37m\u001b[0m \u001b[1m41s\u001b[0m 15ms/step - categorical_accuracy: 0.5699 - loss: 1.3525 - val_categorical_accuracy: 0.5729 - val_loss: 1.3467\n",
            "Epoch 18/50\n",
            "\u001b[1m2497/2500\u001b[0m \u001b[32m━━━━━━━━━━━━━━━━━━━\u001b[0m\u001b[37m━\u001b[0m \u001b[1m0s\u001b[0m 14ms/step - categorical_accuracy: 0.5710 - loss: 1.3441\n",
            "Epoch 18: val_loss improved from 1.34670 to 1.34233, saving model to best_model.keras\n",
            "\u001b[1m2500/2500\u001b[0m \u001b[32m━━━━━━━━━━━━━━━━━━━━\u001b[0m\u001b[37m\u001b[0m \u001b[1m41s\u001b[0m 14ms/step - categorical_accuracy: 0.5710 - loss: 1.3441 - val_categorical_accuracy: 0.5752 - val_loss: 1.3423\n",
            "Epoch 19/50\n",
            "\u001b[1m2498/2500\u001b[0m \u001b[32m━━━━━━━━━━━━━━━━━━━\u001b[0m\u001b[37m━\u001b[0m \u001b[1m0s\u001b[0m 14ms/step - categorical_accuracy: 0.5748 - loss: 1.3325\n",
            "Epoch 19: val_loss improved from 1.34233 to 1.33850, saving model to best_model.keras\n",
            "\u001b[1m2500/2500\u001b[0m \u001b[32m━━━━━━━━━━━━━━━━━━━━\u001b[0m\u001b[37m\u001b[0m \u001b[1m42s\u001b[0m 15ms/step - categorical_accuracy: 0.5748 - loss: 1.3326 - val_categorical_accuracy: 0.5777 - val_loss: 1.3385\n",
            "Epoch 20/50\n",
            "\u001b[1m2500/2500\u001b[0m \u001b[32m━━━━━━━━━━━━━━━━━━━━\u001b[0m\u001b[37m\u001b[0m \u001b[1m0s\u001b[0m 14ms/step - categorical_accuracy: 0.5756 - loss: 1.3318\n",
            "Epoch 20: val_loss improved from 1.33850 to 1.33652, saving model to best_model.keras\n",
            "\u001b[1m2500/2500\u001b[0m \u001b[32m━━━━━━━━━━━━━━━━━━━━\u001b[0m\u001b[37m\u001b[0m \u001b[1m38s\u001b[0m 15ms/step - categorical_accuracy: 0.5756 - loss: 1.3318 - val_categorical_accuracy: 0.5761 - val_loss: 1.3365\n",
            "Epoch 21/50\n",
            "\u001b[1m2497/2500\u001b[0m \u001b[32m━━━━━━━━━━━━━━━━━━━\u001b[0m\u001b[37m━\u001b[0m \u001b[1m0s\u001b[0m 14ms/step - categorical_accuracy: 0.5791 - loss: 1.3177\n",
            "Epoch 21: val_loss improved from 1.33652 to 1.32996, saving model to best_model.keras\n",
            "\u001b[1m2500/2500\u001b[0m \u001b[32m━━━━━━━━━━━━━━━━━━━━\u001b[0m\u001b[37m\u001b[0m \u001b[1m40s\u001b[0m 15ms/step - categorical_accuracy: 0.5791 - loss: 1.3177 - val_categorical_accuracy: 0.5792 - val_loss: 1.3300\n",
            "Epoch 22/50\n",
            "\u001b[1m2497/2500\u001b[0m \u001b[32m━━━━━━━━━━━━━━━━━━━\u001b[0m\u001b[37m━\u001b[0m \u001b[1m0s\u001b[0m 14ms/step - categorical_accuracy: 0.5800 - loss: 1.3093\n",
            "Epoch 22: val_loss improved from 1.32996 to 1.32831, saving model to best_model.keras\n",
            "\u001b[1m2500/2500\u001b[0m \u001b[32m━━━━━━━━━━━━━━━━━━━━\u001b[0m\u001b[37m\u001b[0m \u001b[1m41s\u001b[0m 15ms/step - categorical_accuracy: 0.5800 - loss: 1.3093 - val_categorical_accuracy: 0.5806 - val_loss: 1.3283\n",
            "Epoch 23/50\n",
            "\u001b[1m2497/2500\u001b[0m \u001b[32m━━━━━━━━━━━━━━━━━━━\u001b[0m\u001b[37m━\u001b[0m \u001b[1m0s\u001b[0m 14ms/step - categorical_accuracy: 0.5831 - loss: 1.3062\n",
            "Epoch 23: val_loss improved from 1.32831 to 1.32594, saving model to best_model.keras\n",
            "\u001b[1m2500/2500\u001b[0m \u001b[32m━━━━━━━━━━━━━━━━━━━━\u001b[0m\u001b[37m\u001b[0m \u001b[1m42s\u001b[0m 15ms/step - categorical_accuracy: 0.5831 - loss: 1.3062 - val_categorical_accuracy: 0.5781 - val_loss: 1.3259\n",
            "Epoch 24/50\n",
            "\u001b[1m2499/2500\u001b[0m \u001b[32m━━━━━━━━━━━━━━━━━━━\u001b[0m\u001b[37m━\u001b[0m \u001b[1m0s\u001b[0m 14ms/step - categorical_accuracy: 0.5827 - loss: 1.2989\n",
            "Epoch 24: val_loss did not improve from 1.32594\n",
            "\u001b[1m2500/2500\u001b[0m \u001b[32m━━━━━━━━━━━━━━━━━━━━\u001b[0m\u001b[37m\u001b[0m \u001b[1m39s\u001b[0m 15ms/step - categorical_accuracy: 0.5827 - loss: 1.2989 - val_categorical_accuracy: 0.5810 - val_loss: 1.3340\n",
            "Epoch 25/50\n",
            "\u001b[1m2499/2500\u001b[0m \u001b[32m━━━━━━━━━━━━━━━━━━━\u001b[0m\u001b[37m━\u001b[0m \u001b[1m0s\u001b[0m 15ms/step - categorical_accuracy: 0.5858 - loss: 1.2898\n",
            "Epoch 25: val_loss improved from 1.32594 to 1.31857, saving model to best_model.keras\n",
            "\u001b[1m2500/2500\u001b[0m \u001b[32m━━━━━━━━━━━━━━━━━━━━\u001b[0m\u001b[37m\u001b[0m \u001b[1m46s\u001b[0m 16ms/step - categorical_accuracy: 0.5858 - loss: 1.2898 - val_categorical_accuracy: 0.5829 - val_loss: 1.3186\n",
            "Epoch 26/50\n",
            "\u001b[1m2499/2500\u001b[0m \u001b[32m━━━━━━━━━━━━━━━━━━━\u001b[0m\u001b[37m━\u001b[0m \u001b[1m0s\u001b[0m 14ms/step - categorical_accuracy: 0.5885 - loss: 1.2814\n",
            "Epoch 26: val_loss improved from 1.31857 to 1.31854, saving model to best_model.keras\n",
            "\u001b[1m2500/2500\u001b[0m \u001b[32m━━━━━━━━━━━━━━━━━━━━\u001b[0m\u001b[37m\u001b[0m \u001b[1m78s\u001b[0m 15ms/step - categorical_accuracy: 0.5885 - loss: 1.2814 - val_categorical_accuracy: 0.5831 - val_loss: 1.3185\n",
            "Epoch 27/50\n",
            "\u001b[1m2498/2500\u001b[0m \u001b[32m━━━━━━━━━━━━━━━━━━━\u001b[0m\u001b[37m━\u001b[0m \u001b[1m0s\u001b[0m 14ms/step - categorical_accuracy: 0.5908 - loss: 1.2747\n",
            "Epoch 27: val_loss did not improve from 1.31854\n",
            "\u001b[1m2500/2500\u001b[0m \u001b[32m━━━━━━━━━━━━━━━━━━━━\u001b[0m\u001b[37m\u001b[0m \u001b[1m37s\u001b[0m 15ms/step - categorical_accuracy: 0.5908 - loss: 1.2747 - val_categorical_accuracy: 0.5820 - val_loss: 1.3217\n",
            "Epoch 28/50\n",
            "\u001b[1m2499/2500\u001b[0m \u001b[32m━━━━━━━━━━━━━━━━━━━\u001b[0m\u001b[37m━\u001b[0m \u001b[1m0s\u001b[0m 14ms/step - categorical_accuracy: 0.5898 - loss: 1.2738\n",
            "Epoch 28: val_loss improved from 1.31854 to 1.31621, saving model to best_model.keras\n",
            "\u001b[1m2500/2500\u001b[0m \u001b[32m━━━━━━━━━━━━━━━━━━━━\u001b[0m\u001b[37m\u001b[0m \u001b[1m40s\u001b[0m 15ms/step - categorical_accuracy: 0.5898 - loss: 1.2738 - val_categorical_accuracy: 0.5834 - val_loss: 1.3162\n",
            "Epoch 29/50\n",
            "\u001b[1m2499/2500\u001b[0m \u001b[32m━━━━━━━━━━━━━━━━━━━\u001b[0m\u001b[37m━\u001b[0m \u001b[1m0s\u001b[0m 14ms/step - categorical_accuracy: 0.5940 - loss: 1.2608\n",
            "Epoch 29: val_loss did not improve from 1.31621\n",
            "\u001b[1m2500/2500\u001b[0m \u001b[32m━━━━━━━━━━━━━━━━━━━━\u001b[0m\u001b[37m\u001b[0m \u001b[1m41s\u001b[0m 15ms/step - categorical_accuracy: 0.5940 - loss: 1.2608 - val_categorical_accuracy: 0.5842 - val_loss: 1.3201\n",
            "Epoch 30/50\n",
            "\u001b[1m2498/2500\u001b[0m \u001b[32m━━━━━━━━━━━━━━━━━━━\u001b[0m\u001b[37m━\u001b[0m \u001b[1m0s\u001b[0m 14ms/step - categorical_accuracy: 0.5932 - loss: 1.2635\n",
            "Epoch 30: val_loss did not improve from 1.31621\n",
            "\u001b[1m2500/2500\u001b[0m \u001b[32m━━━━━━━━━━━━━━━━━━━━\u001b[0m\u001b[37m\u001b[0m \u001b[1m43s\u001b[0m 15ms/step - categorical_accuracy: 0.5932 - loss: 1.2635 - val_categorical_accuracy: 0.5824 - val_loss: 1.3181\n",
            "Epoch 31/50\n",
            "\u001b[1m2497/2500\u001b[0m \u001b[32m━━━━━━━━━━━━━━━━━━━\u001b[0m\u001b[37m━\u001b[0m \u001b[1m0s\u001b[0m 15ms/step - categorical_accuracy: 0.5951 - loss: 1.2585\n",
            "Epoch 31: val_loss improved from 1.31621 to 1.31570, saving model to best_model.keras\n",
            "\u001b[1m2500/2500\u001b[0m \u001b[32m━━━━━━━━━━━━━━━━━━━━\u001b[0m\u001b[37m\u001b[0m \u001b[1m40s\u001b[0m 16ms/step - categorical_accuracy: 0.5951 - loss: 1.2585 - val_categorical_accuracy: 0.5839 - val_loss: 1.3157\n",
            "Epoch 32/50\n",
            "\u001b[1m2500/2500\u001b[0m \u001b[32m━━━━━━━━━━━━━━━━━━━━\u001b[0m\u001b[37m\u001b[0m \u001b[1m0s\u001b[0m 15ms/step - categorical_accuracy: 0.5974 - loss: 1.2506\n",
            "Epoch 32: val_loss did not improve from 1.31570\n",
            "\u001b[1m2500/2500\u001b[0m \u001b[32m━━━━━━━━━━━━━━━━━━━━\u001b[0m\u001b[37m\u001b[0m \u001b[1m40s\u001b[0m 16ms/step - categorical_accuracy: 0.5974 - loss: 1.2506 - val_categorical_accuracy: 0.5838 - val_loss: 1.3192\n",
            "Epoch 33/50\n",
            "\u001b[1m2500/2500\u001b[0m \u001b[32m━━━━━━━━━━━━━━━━━━━━\u001b[0m\u001b[37m\u001b[0m \u001b[1m0s\u001b[0m 14ms/step - categorical_accuracy: 0.5987 - loss: 1.2444\n",
            "Epoch 33: val_loss improved from 1.31570 to 1.31488, saving model to best_model.keras\n",
            "\u001b[1m2500/2500\u001b[0m \u001b[32m━━━━━━━━━━━━━━━━━━━━\u001b[0m\u001b[37m\u001b[0m \u001b[1m38s\u001b[0m 15ms/step - categorical_accuracy: 0.5987 - loss: 1.2444 - val_categorical_accuracy: 0.5852 - val_loss: 1.3149\n",
            "Epoch 34/50\n",
            "\u001b[1m2498/2500\u001b[0m \u001b[32m━━━━━━━━━━━━━━━━━━━\u001b[0m\u001b[37m━\u001b[0m \u001b[1m0s\u001b[0m 14ms/step - categorical_accuracy: 0.6000 - loss: 1.2408\n",
            "Epoch 34: val_loss did not improve from 1.31488\n",
            "\u001b[1m2500/2500\u001b[0m \u001b[32m━━━━━━━━━━━━━━━━━━━━\u001b[0m\u001b[37m\u001b[0m \u001b[1m40s\u001b[0m 15ms/step - categorical_accuracy: 0.6000 - loss: 1.2408 - val_categorical_accuracy: 0.5832 - val_loss: 1.3171\n",
            "Epoch 35/50\n",
            "\u001b[1m2497/2500\u001b[0m \u001b[32m━━━━━━━━━━━━━━━━━━━\u001b[0m\u001b[37m━\u001b[0m \u001b[1m0s\u001b[0m 14ms/step - categorical_accuracy: 0.6011 - loss: 1.2378\n",
            "Epoch 35: val_loss did not improve from 1.31488\n",
            "\u001b[1m2500/2500\u001b[0m \u001b[32m━━━━━━━━━━━━━━━━━━━━\u001b[0m\u001b[37m\u001b[0m \u001b[1m41s\u001b[0m 15ms/step - categorical_accuracy: 0.6011 - loss: 1.2378 - val_categorical_accuracy: 0.5850 - val_loss: 1.3151\n",
            "Epoch 36/50\n",
            "\u001b[1m2498/2500\u001b[0m \u001b[32m━━━━━━━━━━━━━━━━━━━\u001b[0m\u001b[37m━\u001b[0m \u001b[1m0s\u001b[0m 15ms/step - categorical_accuracy: 0.6012 - loss: 1.2370\n",
            "Epoch 36: val_loss improved from 1.31488 to 1.31440, saving model to best_model.keras\n",
            "\u001b[1m2500/2500\u001b[0m \u001b[32m━━━━━━━━━━━━━━━━━━━━\u001b[0m\u001b[37m\u001b[0m \u001b[1m42s\u001b[0m 15ms/step - categorical_accuracy: 0.6012 - loss: 1.2370 - val_categorical_accuracy: 0.5849 - val_loss: 1.3144\n",
            "Epoch 37/50\n",
            "\u001b[1m2500/2500\u001b[0m \u001b[32m━━━━━━━━━━━━━━━━━━━━\u001b[0m\u001b[37m\u001b[0m \u001b[1m0s\u001b[0m 14ms/step - categorical_accuracy: 0.6030 - loss: 1.2298\n",
            "Epoch 37: val_loss did not improve from 1.31440\n",
            "\u001b[1m2500/2500\u001b[0m \u001b[32m━━━━━━━━━━━━━━━━━━━━\u001b[0m\u001b[37m\u001b[0m \u001b[1m39s\u001b[0m 15ms/step - categorical_accuracy: 0.6030 - loss: 1.2298 - val_categorical_accuracy: 0.5854 - val_loss: 1.3165\n",
            "Epoch 38/50\n",
            "\u001b[1m2500/2500\u001b[0m \u001b[32m━━━━━━━━━━━━━━━━━━━━\u001b[0m\u001b[37m\u001b[0m \u001b[1m0s\u001b[0m 14ms/step - categorical_accuracy: 0.6050 - loss: 1.2221\n",
            "Epoch 38: val_loss improved from 1.31440 to 1.31397, saving model to best_model.keras\n",
            "\u001b[1m2500/2500\u001b[0m \u001b[32m━━━━━━━━━━━━━━━━━━━━\u001b[0m\u001b[37m\u001b[0m \u001b[1m36s\u001b[0m 14ms/step - categorical_accuracy: 0.6050 - loss: 1.2222 - val_categorical_accuracy: 0.5867 - val_loss: 1.3140\n",
            "Epoch 39/50\n",
            "\u001b[1m2500/2500\u001b[0m \u001b[32m━━━━━━━━━━━━━━━━━━━━\u001b[0m\u001b[37m\u001b[0m \u001b[1m0s\u001b[0m 14ms/step - categorical_accuracy: 0.6047 - loss: 1.2237\n",
            "Epoch 39: val_loss did not improve from 1.31397\n",
            "\u001b[1m2500/2500\u001b[0m \u001b[32m━━━━━━━━━━━━━━━━━━━━\u001b[0m\u001b[37m\u001b[0m \u001b[1m36s\u001b[0m 14ms/step - categorical_accuracy: 0.6047 - loss: 1.2237 - val_categorical_accuracy: 0.5853 - val_loss: 1.3178\n",
            "Epoch 40/50\n",
            "\u001b[1m2499/2500\u001b[0m \u001b[32m━━━━━━━━━━━━━━━━━━━\u001b[0m\u001b[37m━\u001b[0m \u001b[1m0s\u001b[0m 14ms/step - categorical_accuracy: 0.6054 - loss: 1.2244\n",
            "Epoch 40: val_loss did not improve from 1.31397\n",
            "\u001b[1m2500/2500\u001b[0m \u001b[32m━━━━━━━━━━━━━━━━━━━━\u001b[0m\u001b[37m\u001b[0m \u001b[1m41s\u001b[0m 15ms/step - categorical_accuracy: 0.6054 - loss: 1.2244 - val_categorical_accuracy: 0.5859 - val_loss: 1.3197\n",
            "Epoch 41/50\n",
            "\u001b[1m2499/2500\u001b[0m \u001b[32m━━━━━━━━━━━━━━━━━━━\u001b[0m\u001b[37m━\u001b[0m \u001b[1m0s\u001b[0m 14ms/step - categorical_accuracy: 0.6079 - loss: 1.2145\n",
            "Epoch 41: val_loss did not improve from 1.31397\n",
            "\u001b[1m2500/2500\u001b[0m \u001b[32m━━━━━━━━━━━━━━━━━━━━\u001b[0m\u001b[37m\u001b[0m \u001b[1m41s\u001b[0m 15ms/step - categorical_accuracy: 0.6079 - loss: 1.2145 - val_categorical_accuracy: 0.5867 - val_loss: 1.3173\n",
            "Epoch 42/50\n",
            "\u001b[1m2499/2500\u001b[0m \u001b[32m━━━━━━━━━━━━━━━━━━━\u001b[0m\u001b[37m━\u001b[0m \u001b[1m0s\u001b[0m 14ms/step - categorical_accuracy: 0.6078 - loss: 1.2132\n",
            "Epoch 42: val_loss improved from 1.31397 to 1.31323, saving model to best_model.keras\n",
            "\u001b[1m2500/2500\u001b[0m \u001b[32m━━━━━━━━━━━━━━━━━━━━\u001b[0m\u001b[37m\u001b[0m \u001b[1m42s\u001b[0m 15ms/step - categorical_accuracy: 0.6078 - loss: 1.2132 - val_categorical_accuracy: 0.5858 - val_loss: 1.3132\n",
            "Epoch 43/50\n",
            "\u001b[1m2500/2500\u001b[0m \u001b[32m━━━━━━━━━━━━━━━━━━━━\u001b[0m\u001b[37m\u001b[0m \u001b[1m0s\u001b[0m 14ms/step - categorical_accuracy: 0.6095 - loss: 1.2085\n",
            "Epoch 43: val_loss did not improve from 1.31323\n",
            "\u001b[1m2500/2500\u001b[0m \u001b[32m━━━━━━━━━━━━━━━━━━━━\u001b[0m\u001b[37m\u001b[0m \u001b[1m41s\u001b[0m 15ms/step - categorical_accuracy: 0.6095 - loss: 1.2085 - val_categorical_accuracy: 0.5855 - val_loss: 1.3200\n",
            "Epoch 44/50\n",
            "\u001b[1m2500/2500\u001b[0m \u001b[32m━━━━━━━━━━━━━━━━━━━━\u001b[0m\u001b[37m\u001b[0m \u001b[1m0s\u001b[0m 14ms/step - categorical_accuracy: 0.6102 - loss: 1.2018\n",
            "Epoch 44: val_loss did not improve from 1.31323\n",
            "\u001b[1m2500/2500\u001b[0m \u001b[32m━━━━━━━━━━━━━━━━━━━━\u001b[0m\u001b[37m\u001b[0m \u001b[1m40s\u001b[0m 15ms/step - categorical_accuracy: 0.6102 - loss: 1.2018 - val_categorical_accuracy: 0.5856 - val_loss: 1.3182\n",
            "Epoch 45/50\n",
            "\u001b[1m2500/2500\u001b[0m \u001b[32m━━━━━━━━━━━━━━━━━━━━\u001b[0m\u001b[37m\u001b[0m \u001b[1m0s\u001b[0m 14ms/step - categorical_accuracy: 0.6112 - loss: 1.2000\n",
            "Epoch 45: val_loss did not improve from 1.31323\n",
            "\u001b[1m2500/2500\u001b[0m \u001b[32m━━━━━━━━━━━━━━━━━━━━\u001b[0m\u001b[37m\u001b[0m \u001b[1m37s\u001b[0m 15ms/step - categorical_accuracy: 0.6112 - loss: 1.2000 - val_categorical_accuracy: 0.5869 - val_loss: 1.3185\n",
            "Epoch 46/50\n",
            "\u001b[1m2500/2500\u001b[0m \u001b[32m━━━━━━━━━━━━━━━━━━━━\u001b[0m\u001b[37m\u001b[0m \u001b[1m0s\u001b[0m 14ms/step - categorical_accuracy: 0.6120 - loss: 1.1951\n",
            "Epoch 46: val_loss did not improve from 1.31323\n",
            "\u001b[1m2500/2500\u001b[0m \u001b[32m━━━━━━━━━━━━━━━━━━━━\u001b[0m\u001b[37m\u001b[0m \u001b[1m41s\u001b[0m 15ms/step - categorical_accuracy: 0.6120 - loss: 1.1951 - val_categorical_accuracy: 0.5870 - val_loss: 1.3179\n",
            "Epoch 47/50\n",
            "\u001b[1m2500/2500\u001b[0m \u001b[32m━━━━━━━━━━━━━━━━━━━━\u001b[0m\u001b[37m\u001b[0m \u001b[1m0s\u001b[0m 14ms/step - categorical_accuracy: 0.6129 - loss: 1.1944\n",
            "Epoch 47: val_loss did not improve from 1.31323\n",
            "\u001b[1m2500/2500\u001b[0m \u001b[32m━━━━━━━━━━━━━━━━━━━━\u001b[0m\u001b[37m\u001b[0m \u001b[1m41s\u001b[0m 15ms/step - categorical_accuracy: 0.6129 - loss: 1.1944 - val_categorical_accuracy: 0.5852 - val_loss: 1.3200\n",
            "\n",
            "Evaluando modelo en el conjunto de prueba...\n",
            "Evaluación completa.\n"
          ]
        },
        {
          "output_type": "stream",
          "name": "stderr",
          "text": [
            "/usr/local/lib/python3.11/dist-packages/sklearn/metrics/_classification.py:2687: UserWarning: labels size, 42, does not match size of target_names, 44\n",
            "  warnings.warn(\n"
          ]
        }
      ]
    },
    {
      "cell_type": "markdown",
      "source": [
        "#### Visualización"
      ],
      "metadata": {
        "id": "H2pU5d0JXruu"
      }
    },
    {
      "cell_type": "code",
      "source": [
        "if history_base is not None:\n",
        "    print(\"Mostrando gráficos para el Modelo Base:\")\n",
        "    plot_training_history(history_base, model_name=\"Modelo Base\")"
      ],
      "metadata": {
        "id": "CThmZQjVfgZJ",
        "colab": {
          "base_uri": "https://localhost:8080/",
          "height": 545
        },
        "outputId": "14afc49e-dff8-445e-edf4-422bcff48d8b"
      },
      "execution_count": null,
      "outputs": [
        {
          "output_type": "stream",
          "name": "stdout",
          "text": [
            "Mostrando gráficos para el Modelo Base:\n"
          ]
        },
        {
          "output_type": "display_data",
          "data": {
            "text/plain": [
              "<Figure size 1200x500 with 2 Axes>"
            ],
            "image/png": "[encoded data removed]"
          },
          "metadata": {}
        }
      ]
    },
    {
      "cell_type": "markdown",
      "source": [
        "La visualización muestra cómo evolucionan la pérdida y el rendimiento (precisión categórica) del Modelo Base a lo largo del proceso de entrenamiento y validación.\n",
        "\n",
        "- En el gráfico de la izquierda, se aprecia una disminución sostenida de la pérdida en entrenamiento a lo largo de las épocas. La pérdida en validación también decrece rápidamente al principio y luego se estabiliza, lo cual sugiere que el modelo aprende patrones útiles sin evidencia clara de sobreajuste significativo.\n",
        "\n",
        "- En el gráfico de la derecha, el rendimiento del modelo en entrenamiento mejora de manera constante, superando el 60% hacia el final del entrenamiento. En validación, el rendimiento también incrementa rápidamente durante las primeras épocas y luego se estabiliza, alcanzando un rendimiento cercano al observado en entrenamiento. Esta evolución indica que el modelo generaliza razonablemente bien a datos no vistos."
      ],
      "metadata": {
        "id": "xVpkCnSHQqfq"
      }
    },
    {
      "cell_type": "markdown",
      "source": [
        "#### Métricas"
      ],
      "metadata": {
        "id": "X9-XIi7w5-1g"
      }
    },
    {
      "cell_type": "markdown",
      "source": [
        "Para evaluar el rendimiento más representativo del Modelo Base, se identificó la mejor época de entrenamiento según el valor mínimo de la pérdida en validación (val_loss)"
      ],
      "metadata": {
        "id": "CGFTR2fFMGR8"
      }
    },
    {
      "cell_type": "code",
      "source": [
        "# Encontrar la época con la menor pérdida de validación\n",
        "if 'val_loss' in history_base.history:\n",
        "    best_epoch_index_base = np.argmin(history_base.history['val_loss'])\n",
        "    best_epoch_base = best_epoch_index_base + 1 # Las épocas se indexan desde 1\n",
        "\n",
        "    print(f\"Mejor época para Modelo Base (basada en val_loss): {best_epoch_base}\")\n",
        "\n",
        "    # Obtener las métricas de la mejor época\n",
        "    metrics_best_epoch_base = {\n",
        "        'Modelo': 'Modelo Base (Mejor Época)',\n",
        "        'Loss Entrenamiento': history_base.history['loss'][best_epoch_index_base],\n",
        "        'Loss Validación': history_base.history['val_loss'][best_epoch_index_base],\n",
        "        'Accuracy Entrenamiento': history_base.history['categorical_accuracy'][best_epoch_index_base],\n",
        "        'Accuracy Validación': history_base.history['val_categorical_accuracy'][best_epoch_index_base]\n",
        "    }\n",
        "    display(pd.DataFrame([metrics_best_epoch_base]))\n",
        "else:\n",
        "    print(\"El historial del Modelo Base no contiene métricas de validación.\")\n"
      ],
      "metadata": {
        "id": "d7eX1S3j5-Nq",
        "colab": {
          "base_uri": "https://localhost:8080/",
          "height": 99
        },
        "outputId": "6f2fca18-89a6-48a8-a08a-cca56f0a951a"
      },
      "execution_count": null,
      "outputs": [
        {
          "output_type": "stream",
          "name": "stdout",
          "text": [
            "Mejor época para Modelo Base (basada en val_loss): 42\n"
          ]
        },
        {
          "output_type": "display_data",
          "data": {
            "text/plain": [
              "                      Modelo  Loss Entrenamiento  Loss Validación  \\\n",
              "0  Modelo Base (Mejor Época)            1.219117         1.313231   \n",
              "\n",
              "   Accuracy Entrenamiento  Accuracy Validación  \n",
              "0                0.606112             0.585825  "
            ],
            "text/html": [
              "\n",
              "  <div id=\"df-2a188c0d-3948-4355-9375-5e50245341ac\" class=\"colab-df-container\">\n",
              "    <div>\n",
              "<style scoped>\n",
              "    .dataframe tbody tr th:only-of-type {\n",
              "        vertical-align: middle;\n",
              "    }\n",
              "\n",
              "    .dataframe tbody tr th {\n",
              "        vertical-align: top;\n",
              "    }\n",
              "\n",
              "    .dataframe thead th {\n",
              "        text-align: right;\n",
              "    }\n",
              "</style>\n",
              "<table border=\"1\" class=\"dataframe\">\n",
              "  <thead>\n",
              "    <tr style=\"text-align: right;\">\n",
              "      <th></th>\n",
              "      <th>Modelo</th>\n",
              "      <th>Loss Entrenamiento</th>\n",
              "      <th>Loss Validación</th>\n",
              "      <th>Accuracy Entrenamiento</th>\n",
              "      <th>Accuracy Validación</th>\n",
              "    </tr>\n",
              "  </thead>\n",
              "  <tbody>\n",
              "    <tr>\n",
              "      <th>0</th>\n",
              "      <td>Modelo Base (Mejor Época)</td>\n",
              "      <td>1.219117</td>\n",
              "      <td>1.313231</td>\n",
              "      <td>0.606112</td>\n",
              "      <td>0.585825</td>\n",
              "    </tr>\n",
              "  </tbody>\n",
              "</table>\n",
              "</div>\n",
              "    <div class=\"colab-df-buttons\">\n",
              "\n",
              "  <div class=\"colab-df-container\">\n",
              "    <button class=\"colab-df-convert\" onclick=\"convertToInteractive('df-2a188c0d-3948-4355-9375-5e50245341ac')\"\n",
              "            title=\"Convert this dataframe to an interactive table.\"\n",
              "            style=\"display:none;\">\n",
              "\n",
              "  <svg xmlns=\"http://www.w3.org/2000/svg\" height=\"24px\" viewBox=\"0 -960 960 960\">\n",
              "    <path d=\"M120-120v-720h720v720H120Zm60-500h600v-160H180v160Zm220 220h160v-160H400v160Zm0 220h160v-160H400v160ZM180-400h160v-160H180v160Zm440 0h160v-160H620v160ZM180-180h160v-160H180v160Zm440 0h160v-160H620v160Z\"/>\n",
              "  </svg>\n",
              "    </button>\n",
              "\n",
              "  <style>\n",
              "    .colab-df-container {\n",
              "      display:flex;\n",
              "      gap: 12px;\n",
              "    }\n",
              "\n",
              "    .colab-df-convert {\n",
              "      background-color: #E8F0FE;\n",
              "      border: none;\n",
              "      border-radius: 50%;\n",
              "      cursor: pointer;\n",
              "      display: none;\n",
              "      fill: #1967D2;\n",
              "      height: 32px;\n",
              "      padding: 0 0 0 0;\n",
              "      width: 32px;\n",
              "    }\n",
              "\n",
              "    .colab-df-convert:hover {\n",
              "      background-color: #E2EBFA;\n",
              "      box-shadow: 0px 1px 2px rgba(60, 64, 67, 0.3), 0px 1px 3px 1px rgba(60, 64, 67, 0.15);\n",
              "      fill: #174EA6;\n",
              "    }\n",
              "\n",
              "    .colab-df-buttons div {\n",
              "      margin-bottom: 4px;\n",
              "    }\n",
              "\n",
              "    [theme=dark] .colab-df-convert {\n",
              "      background-color: #3B4455;\n",
              "      fill: #D2E3FC;\n",
              "    }\n",
              "\n",
              "    [theme=dark] .colab-df-convert:hover {\n",
              "      background-color: #434B5C;\n",
              "      box-shadow: 0px 1px 3px 1px rgba(0, 0, 0, 0.15);\n",
              "      filter: drop-shadow(0px 1px 2px rgba(0, 0, 0, 0.3));\n",
              "      fill: #FFFFFF;\n",
              "    }\n",
              "  </style>\n",
              "\n",
              "    <script>\n",
              "      const buttonEl =\n",
              "        document.querySelector('#df-2a188c0d-3948-4355-9375-5e50245341ac button.colab-df-convert');\n",
              "      buttonEl.style.display =\n",
              "        google.colab.kernel.accessAllowed ? 'block' : 'none';\n",
              "\n",
              "      async function convertToInteractive(key) {\n",
              "        const element = document.querySelector('#df-2a188c0d-3948-4355-9375-5e50245341ac');\n",
              "        const dataTable =\n",
              "          await google.colab.kernel.invokeFunction('convertToInteractive',\n",
              "                                                    [key], {});\n",
              "        if (!dataTable) return;\n",
              "\n",
              "        const docLinkHtml = 'Like what you see? Visit the ' +\n",
              "          '<a target=\"_blank\" href=https://colab.research.google.com/notebooks/data_table.ipynb>data table notebook</a>'\n",
              "          + ' to learn more about interactive tables.';\n",
              "        element.innerHTML = '';\n",
              "        dataTable['output_type'] = 'display_data';\n",
              "        await google.colab.output.renderOutput(dataTable, element);\n",
              "        const docLink = document.createElement('div');\n",
              "        docLink.innerHTML = docLinkHtml;\n",
              "        element.appendChild(docLink);\n",
              "      }\n",
              "    </script>\n",
              "  </div>\n",
              "\n",
              "\n",
              "    </div>\n",
              "  </div>\n"
            ],
            "application/vnd.google.colaboratory.intrinsic+json": {
              "type": "dataframe",
              "summary": "{\n  \"name\": \"    print(\\\"El historial del Modelo Base no contiene m\\u00e9tricas de validaci\\u00f3n\",\n  \"rows\": 1,\n  \"fields\": [\n    {\n      \"column\": \"Modelo\",\n      \"properties\": {\n        \"dtype\": \"string\",\n        \"num_unique_values\": 1,\n        \"samples\": [\n          \"Modelo Base (Mejor \\u00c9poca)\"\n        ],\n        \"semantic_type\": \"\",\n        \"description\": \"\"\n      }\n    },\n    {\n      \"column\": \"Loss Entrenamiento\",\n      \"properties\": {\n        \"dtype\": \"number\",\n        \"std\": null,\n        \"min\": 1.2191170454025269,\n        \"max\": 1.2191170454025269,\n        \"num_unique_values\": 1,\n        \"samples\": [\n          1.2191170454025269\n        ],\n        \"semantic_type\": \"\",\n        \"description\": \"\"\n      }\n    },\n    {\n      \"column\": \"Loss Validaci\\u00f3n\",\n      \"properties\": {\n        \"dtype\": \"number\",\n        \"std\": null,\n        \"min\": 1.3132305145263672,\n        \"max\": 1.3132305145263672,\n        \"num_unique_values\": 1,\n        \"samples\": [\n          1.3132305145263672\n        ],\n        \"semantic_type\": \"\",\n        \"description\": \"\"\n      }\n    },\n    {\n      \"column\": \"Accuracy Entrenamiento\",\n      \"properties\": {\n        \"dtype\": \"number\",\n        \"std\": null,\n        \"min\": 0.6061124801635742,\n        \"max\": 0.6061124801635742,\n        \"num_unique_values\": 1,\n        \"samples\": [\n          0.6061124801635742\n        ],\n        \"semantic_type\": \"\",\n        \"description\": \"\"\n      }\n    },\n    {\n      \"column\": \"Accuracy Validaci\\u00f3n\",\n      \"properties\": {\n        \"dtype\": \"number\",\n        \"std\": null,\n        \"min\": 0.5858250260353088,\n        \"max\": 0.5858250260353088,\n        \"num_unique_values\": 1,\n        \"samples\": [\n          0.5858250260353088\n        ],\n        \"semantic_type\": \"\",\n        \"description\": \"\"\n      }\n    }\n  ]\n}"
            }
          },
          "metadata": {}
        }
      ]
    },
    {
      "cell_type": "markdown",
      "source": [
        " La mejor época correspondió a la época 42, lo cual indica que en ese punto el modelo alcanzó su mejor capacidad de generalización antes de que aparecieran posibles signos de sobreajuste.\n",
        "\n",
        "En dicha época, la pérdida en entrenamiento fue de 1.219, mientras que la pérdida en validación alcanzó un valor ligeramente superior de 1.313. Esta diferencia es esperada y razonable, sugiriendo que el modelo logra un buen ajuste sin memorizar los datos. En cuanto a la precisión categórica, se obtuvo un 60.6 % en entrenamiento y 58.6 % en validación, lo cual refleja una performance equilibrada y consistente entre ambos conjuntos."
      ],
      "metadata": {
        "id": "9MO-bvKtMIrm"
      }
    },
    {
      "cell_type": "markdown",
      "source": [
        "### 3.4. Generación de Texto"
      ],
      "metadata": {
        "id": "W3zT2ImWB7Vx"
      }
    },
    {
      "cell_type": "markdown",
      "source": [
        "Luego, se utiliza el modelo entrenado para generar nuevo texto. Se parte de una secuencia inicial de caracteres (la \"semilla\") y, de forma iterativa, el modelo predice el siguiente carácter. Durante este proceso de generación, se explora cómo el parámetro de \"temperatura\" influye en la diversidad y aleatoriedad del texto producido."
      ],
      "metadata": {
        "id": "1qut1qUURnuL"
      }
    },
    {
      "cell_type": "code",
      "source": [
        "# Generación de texto\n",
        "if modelo_base is not None:\n",
        "    print(\"Generando texto con el modelo entrenado:\")\n",
        "\n",
        "    # Seleccionar una secuencia inicial al azar\n",
        "    if 'texto' in globals() and len(texto) >= SEQ_LENGTH:\n",
        "        if len(texto) - SEQ_LENGTH - 1 >= 0:\n",
        "            start_pos = random.randint(0, len(texto) - SEQ_LENGTH - 1)\n",
        "            seed_text = texto[start_pos:start_pos + SEQ_LENGTH]\n",
        "\n",
        "            for temperature in TEMPERATURES_TO_TRY:\n",
        "                print(\"\\n------> Generando texto con temperature {}\".format(temperature))\n",
        "                generated_text = generate_text(seed_text, modelo_base, GENERATED_TEXT_LENGTH, temperature)\n",
        "                print(\"Seed: {}\".format(seed_text))\n",
        "                print(\"Texto generado: {}\".format(generated_text))\n",
        "                print(\"-\" * 50)\n",
        "        else:\n",
        "            print(\"No se pudo generar texto: la variable 'texto' es demasiado corta para obtener una secuencia de longitud SEQ_LENGTH.\")\n",
        "\n",
        "    else:\n",
        "        print(\"No se pudo generar texto: la variable 'texto' no está disponible o es muy corta.\")\n",
        "\n",
        "else:\n",
        "    print(\"El modelo no ha sido entrenado. Por favor, ejecuta la celda de entrenamiento primero.\")"
      ],
      "metadata": {
        "id": "YkZhRWVYInkA",
        "colab": {
          "base_uri": "https://localhost:8080/"
        },
        "outputId": "d09a671f-8753-462a-b76f-cc0c795bb42e"
      },
      "execution_count": null,
      "outputs": [
        {
          "output_type": "stream",
          "name": "stdout",
          "text": [
            "Generando texto con el modelo entrenado:\n",
            "\n",
            "------> Generando texto con temperature 0.2\n",
            "Seed: hado en no haber nacido en la \n",
            "Texto generado: hado en no haber nacido en la mano de la cabeza, y la cual dijo\n",
            "\n",
            "-si no se viene a su señor don quijote de la mancha, y en el mundo de la mancha, y dijo\n",
            "\n",
            "-si me parece -respondió don quijote-, porque se le había de ser en el casti\n",
            "--------------------------------------------------\n",
            "\n",
            "------> Generando texto con temperature 0.5\n",
            "Seed: hado en no haber nacido en la \n",
            "Texto generado: hado en no haber nacido en la mesma misma intención sin compañal la señora dulcinea del toboso, y allí se lo han de ser acompañar la gracia de las entregas de su\n",
            "manda y con su amo, que no podrá ver lo que me puede haber sino que \n",
            "--------------------------------------------------\n",
            "\n",
            "------> Generando texto con temperature 1.0\n",
            "Seed: hado en no haber nacido en la \n",
            "Texto generado: hado en no haber nacido en la alma\n",
            "con la mano, y los preguntas casas. la\n",
            "hraza le ya de escuchar y en tiene. o punto, porque tiene\n",
            "fueso y discreto los bellidos priesa, y no hay\n",
            "convernido de esto espacio y a la latra miseria de \n",
            "--------------------------------------------------\n",
            "\n",
            "------> Generando texto con temperature 1.2\n",
            "Seed: hado en no haber nacido en la \n",
            "Texto generado: hado en no haber nacido en la cialdad; tate él aquí, y allí una vueltuvo saltiente\n",
            "de aladaén, en raga; sacaro la palma abía de nuevo persance torresa que lo me así es basvollo -respondió tanta suspejo- agua, han quideso\n",
            "primero s\n",
            "--------------------------------------------------\n"
          ]
        }
      ]
    },
    {
      "cell_type": "markdown",
      "source": [
        "Al generar texto con el Modelo Base se observa que, con temperatura baja (0.2), el resultado es altamente coherente pero repetitivo, mostrando secuencias comunes aprendidas del corpus, como referencias reiteradas a “don Quijote de la Mancha”. Con una temperatura intermedia (0.5), el modelo comienza a introducir mayor variedad léxica, aunque aparecen ligeras inconsistencias y repeticiones. A temperatura 1.0, el texto se vuelve más diverso, pero pierde precisión gramatical y semántica, generando palabras parcialmente inventadas. Finalmente, con temperatura alta (1.2), el modelo produce frases caóticas y con bajo sentido, revelando un alto nivel de creatividad pero escasa coherencia. En conjunto, se confirma que la temperatura permite modular el equilibrio entre estabilidad y creatividad en la generación textual."
      ],
      "metadata": {
        "id": "tjdTWlJjJKZN"
      }
    },
    {
      "cell_type": "markdown",
      "source": [
        "#### 3.4.1. Generación de Texto con Semilla Manual"
      ],
      "metadata": {
        "id": "pEpvzaT4EasV"
      }
    },
    {
      "cell_type": "markdown",
      "source": [
        "Por último, se ilustra la capacidad del modelo para generar texto utilizando una semilla de texto específica proporcionada. Se muestra el resultado de aplicar el proceso de generación con esta semilla inicial y se observan los efectos de diferentes valores de temperatura en el texto generado."
      ],
      "metadata": {
        "id": "FfH5ua5rUyNy"
      }
    },
    {
      "cell_type": "code",
      "source": [
        "# Definir lista de temperaturas para usar con generate_text_from_seed\n",
        "Temperaturas = [0.2, 0.5, 1.0, 1.2]\n",
        "\n",
        "# Use modelo_base explicitly\n",
        "if modelo_base is not None and \\\n",
        "   'SEQ_LENGTH' in globals() and 'NUM_CHARS' in globals() and \\\n",
        "   'char_to_indices' in globals() and 'indices_to_char' in globals() and \\\n",
        "   'generate_text_from_seed' in globals() and callable(generate_text_from_seed):\n",
        "\n",
        "    seed_text_ejemplo = \"el ingenioso don \"\n",
        "    longitud_generar = 200\n",
        "\n",
        "    print(f\"Texto semilla para la generación: '{seed_text_ejemplo}'\")\n",
        "    print(f\"Longitud del texto a generar (adicional a la semilla): {longitud_generar}\")\n",
        "    print(\"Temperaturas a probar:\", Temperaturas)\n",
        "\n",
        "    # Itera sobre la lista de temperaturas\n",
        "    for temperatura_actual in Temperaturas:\n",
        "        print(f\"\\n--- Generando texto con Temperatura: {temperatura_actual} ---\")\n",
        "\n",
        "        texto_generado_ejemplo = generate_text_from_seed(\n",
        "            modelo_base, # Pass modelo_base as the model\n",
        "            seed_text_ejemplo,\n",
        "            longitud_generar,\n",
        "            temperature=temperatura_actual\n",
        "        )\n",
        "\n",
        "        print(f\"Texto generado: {texto_generado_ejemplo}\")\n",
        "        print(\"-\" * 50)\n",
        "\n",
        "else:\n",
        "    print(\"Error: Las variables/funciones necesarias para la generación manual de texto no están completamente definidas o el modelo base no ha sido entrenado.\")\n",
        "    print(\"Asegúrate de haber ejecutado todas las celdas anteriores, incluyendo la definición de generate_text_from_seed, sample, y el entrenamiento del modelo base.\")"
      ],
      "metadata": {
        "id": "Le-5yKhlYnOQ",
        "colab": {
          "base_uri": "https://localhost:8080/"
        },
        "outputId": "2e64b51a-ba3e-4ca5-b9ba-ef9394f8a6e4"
      },
      "execution_count": null,
      "outputs": [
        {
          "output_type": "stream",
          "name": "stdout",
          "text": [
            "Texto semilla para la generación: 'el ingenioso don '\n",
            "Longitud del texto a generar (adicional a la semilla): 200\n",
            "Temperaturas a probar: [0.2, 0.5, 1.0, 1.2]\n",
            "\n",
            "--- Generando texto con Temperatura: 0.2 ---\n",
            "Texto generado: el ingenioso don quijote, que en la cual se le dijese a la mesma cabeza, que esta merced se le dieron la casa, y de la mancha, por el caballero, que está en el mundo.\n",
            "\n",
            "-no se lo había de ser muy bien propósito, y a es\n",
            "--------------------------------------------------\n",
            "\n",
            "--- Generando texto con Temperatura: 0.5 ---\n",
            "Texto generado: el ingenioso don quijote, y que el\n",
            "agua con tantas palabras que en el mesmo hacerle de su amo venga mis desdichas de maestras de su padre tantas las aldencias, y aun te digo, porque se sola y había muy acidio a su cas\n",
            "--------------------------------------------------\n",
            "\n",
            "--- Generando texto con Temperatura: 1.0 ---\n",
            "Texto generado: el ingenioso don quijote dejó el\n",
            "dorotea; no más se capítila.\n",
            "\n",
            "-pues cuarro -respondió sancho-, que\n",
            "también roición que\n",
            "blanco el cual, por las pertincias,\n",
            "   porqué se serás dla tripeza, con atarza de los sobrinamos,\n",
            "--------------------------------------------------\n",
            "\n",
            "--- Generando texto con Temperatura: 1.2 ---\n",
            "Texto generado: el ingenioso don quijote.\n",
            "\n",
            "y, le diaba sancho\n",
            "una estraga, oh apresencia han de claría; aquí con cutatro golpea.\n",
            "\n",
            "-por cierto, dios\n",
            "con coptilla! que, a lo que el\n",
            "neúlica, hino cargado a las\n",
            "y sapolluas rey diablo,\n",
            "co\n",
            "--------------------------------------------------\n"
          ]
        }
      ]
    },
    {
      "cell_type": "markdown",
      "source": [
        "Al generar texto a partir de la semilla manual \"el ingenioso don\", el modelo demuestra distintos comportamientos según la temperatura utilizada. Con temperatura baja (0.2), el texto es altamente estructurado y coherente, repitiendo fórmulas reconocibles del corpus como “don Quijote de la Mancha”, aunque con escasa variación. A 0.5, se mantiene el sentido general pero aparecen fragmentos más diversos, aunque con construcciones sintácticas poco naturales. Con temperatura 1.0, la generación se vuelve claramente más impredecible, introduciendo palabras inventadas y saltos temáticos que rompen la fluidez. Finalmente, con temperatura 1.2, el texto alcanza un nivel de creatividad extremo, resultando en frases caóticas y sin coherencia gramatical. Esta variación confirma el impacto directo de la temperatura sobre la diversidad y estabilidad del texto generado."
      ],
      "metadata": {
        "id": "ZFc7dmMQJatL"
      }
    },
    {
      "cell_type": "markdown",
      "source": [
        "### 3.5. Creación del Modelo 2"
      ],
      "metadata": {
        "id": "Pg81ZKK0GEoB"
      }
    },
    {
      "cell_type": "markdown",
      "source": [
        "Luego de definir y entrenar el Modelo Base, se introduce y evalúa un segundo modelo, denominado Modelo 2. Este modelo presenta una arquitectura similar pero con modificaciones respecto al anterior, con el objetivo de explorar si dichos cambios se traducen en un mejor rendimiento o en diferencias significativas en la calidad del texto generado.\n",
        "\n",
        "Primero, se define la arquitectura del Modelo 2. Esta se compone de dos capas LSTM con 256 unidades cada una, seguidas de capas de normalización (BatchNormalization) y regularización (Dropout). A diferencia del Modelo Base, este modelo incluye recurrent_dropout=0.3 en la primera capa LSTM, lo que introduce una forma de regularización interna que afecta las conexiones temporales de la red, ayudando a reducir el sobreajuste.\n",
        "\n",
        "La capa final es una capa Dense con activación softmax, que transforma la salida en una distribución de probabilidad sobre el conjunto completo de caracteres posibles. El modelo se compila utilizando la función de pérdida categorical_crossentropy y la métrica categorical_accuracy, que evalúa qué proporción de predicciones coinciden exactamente con el carácter correcto, siendo apropiada para tareas de clasificación multiclase con codificación one-hot."
      ],
      "metadata": {
        "id": "nZoxr181VgOG"
      }
    },
    {
      "cell_type": "code",
      "source": [
        "# Definir el modelo\n",
        "modelo_2 = Sequential(name=\"Modelo_2\")\n",
        "\n",
        "# Primera capa LSTM\n",
        "modelo_2.add(LSTM(256, input_shape=(SEQ_LENGTH, NUM_CHARS), return_sequences=True, recurrent_dropout=0.3, name=\"LSTM_1\"))\n",
        "modelo_2.add(BatchNormalization(name=\"BatchNorm_1\"))\n",
        "modelo_2.add(Dropout(0.3, name=\"Dropout_1\"))\n",
        "\n",
        "# Segunda capa LSTM\n",
        "modelo_2.add(LSTM(256, return_sequences=False, name=\"LSTM_2\"))\n",
        "modelo_2.add(BatchNormalization(name=\"BatchNorm_2\"))\n",
        "modelo_2.add(Dropout(0.3, name=\"Dropout_2\"))\n",
        "\n",
        "# Capa de salida\n",
        "modelo_2.add(Dense(NUM_CHARS, activation='softmax', name=\"Densa_salida\"))\n",
        "\n",
        "# Compilación\n",
        "optimizer = tf.keras.optimizers.Adam(learning_rate=0.0005)\n",
        "modelo_2.compile(loss='categorical_crossentropy', optimizer=optimizer, metrics=['categorical_accuracy'])\n",
        "\n",
        "modelo_2.summary()"
      ],
      "metadata": {
        "id": "cZ6A_603E2d4",
        "colab": {
          "base_uri": "https://localhost:8080/",
          "height": 457
        },
        "outputId": "a4ee5dc3-29c8-45dc-e190-c8e037d687b0"
      },
      "execution_count": null,
      "outputs": [
        {
          "output_type": "stream",
          "name": "stderr",
          "text": [
            "/usr/local/lib/python3.11/dist-packages/keras/src/layers/rnn/rnn.py:200: UserWarning: Do not pass an `input_shape`/`input_dim` argument to a layer. When using Sequential models, prefer using an `Input(shape)` object as the first layer in the model instead.\n",
            "  super().__init__(**kwargs)\n"
          ]
        },
        {
          "output_type": "display_data",
          "data": {
            "text/plain": [
              "\u001b[1mModel: \"Modelo_2\"\u001b[0m\n"
            ],
            "text/html": [
              "<pre style=\"white-space:pre;overflow-x:auto;line-height:normal;font-family:Menlo,'DejaVu Sans Mono',consolas,'Courier New',monospace\"><span style=\"font-weight: bold\">Model: \"Modelo_2\"</span>\n",
              "</pre>\n"
            ]
          },
          "metadata": {}
        },
        {
          "output_type": "display_data",
          "data": {
            "text/plain": [
              "┏━━━━━━━━━━━━━━━━━━━━━━━━━━━━━━━━━┳━━━━━━━━━━━━━━━━━━━━━━━━┳━━━━━━━━━━━━━━━┓\n",
              "┃\u001b[1m \u001b[0m\u001b[1mLayer (type)                   \u001b[0m\u001b[1m \u001b[0m┃\u001b[1m \u001b[0m\u001b[1mOutput Shape          \u001b[0m\u001b[1m \u001b[0m┃\u001b[1m \u001b[0m\u001b[1m      Param #\u001b[0m\u001b[1m \u001b[0m┃\n",
              "┡━━━━━━━━━━━━━━━━━━━━━━━━━━━━━━━━━╇━━━━━━━━━━━━━━━━━━━━━━━━╇━━━━━━━━━━━━━━━┩\n",
              "│ LSTM_1 (\u001b[38;5;33mLSTM\u001b[0m)                   │ (\u001b[38;5;45mNone\u001b[0m, \u001b[38;5;34m30\u001b[0m, \u001b[38;5;34m256\u001b[0m)        │       \u001b[38;5;34m308,224\u001b[0m │\n",
              "├─────────────────────────────────┼────────────────────────┼───────────────┤\n",
              "│ BatchNorm_1                     │ (\u001b[38;5;45mNone\u001b[0m, \u001b[38;5;34m30\u001b[0m, \u001b[38;5;34m256\u001b[0m)        │         \u001b[38;5;34m1,024\u001b[0m │\n",
              "│ (\u001b[38;5;33mBatchNormalization\u001b[0m)            │                        │               │\n",
              "├─────────────────────────────────┼────────────────────────┼───────────────┤\n",
              "│ Dropout_1 (\u001b[38;5;33mDropout\u001b[0m)             │ (\u001b[38;5;45mNone\u001b[0m, \u001b[38;5;34m30\u001b[0m, \u001b[38;5;34m256\u001b[0m)        │             \u001b[38;5;34m0\u001b[0m │\n",
              "├─────────────────────────────────┼────────────────────────┼───────────────┤\n",
              "│ LSTM_2 (\u001b[38;5;33mLSTM\u001b[0m)                   │ (\u001b[38;5;45mNone\u001b[0m, \u001b[38;5;34m256\u001b[0m)            │       \u001b[38;5;34m525,312\u001b[0m │\n",
              "├─────────────────────────────────┼────────────────────────┼───────────────┤\n",
              "│ BatchNorm_2                     │ (\u001b[38;5;45mNone\u001b[0m, \u001b[38;5;34m256\u001b[0m)            │         \u001b[38;5;34m1,024\u001b[0m │\n",
              "│ (\u001b[38;5;33mBatchNormalization\u001b[0m)            │                        │               │\n",
              "├─────────────────────────────────┼────────────────────────┼───────────────┤\n",
              "│ Dropout_2 (\u001b[38;5;33mDropout\u001b[0m)             │ (\u001b[38;5;45mNone\u001b[0m, \u001b[38;5;34m256\u001b[0m)            │             \u001b[38;5;34m0\u001b[0m │\n",
              "├─────────────────────────────────┼────────────────────────┼───────────────┤\n",
              "│ Densa_salida (\u001b[38;5;33mDense\u001b[0m)            │ (\u001b[38;5;45mNone\u001b[0m, \u001b[38;5;34m44\u001b[0m)             │        \u001b[38;5;34m11,308\u001b[0m │\n",
              "└─────────────────────────────────┴────────────────────────┴───────────────┘\n"
            ],
            "text/html": [
              "<pre style=\"white-space:pre;overflow-x:auto;line-height:normal;font-family:Menlo,'DejaVu Sans Mono',consolas,'Courier New',monospace\">┏━━━━━━━━━━━━━━━━━━━━━━━━━━━━━━━━━┳━━━━━━━━━━━━━━━━━━━━━━━━┳━━━━━━━━━━━━━━━┓\n",
              "┃<span style=\"font-weight: bold\"> Layer (type)                    </span>┃<span style=\"font-weight: bold\"> Output Shape           </span>┃<span style=\"font-weight: bold\">       Param # </span>┃\n",
              "┡━━━━━━━━━━━━━━━━━━━━━━━━━━━━━━━━━╇━━━━━━━━━━━━━━━━━━━━━━━━╇━━━━━━━━━━━━━━━┩\n",
              "│ LSTM_1 (<span style=\"color: #0087ff; text-decoration-color: #0087ff\">LSTM</span>)                   │ (<span style=\"color: #00d7ff; text-decoration-color: #00d7ff\">None</span>, <span style=\"color: #00af00; text-decoration-color: #00af00\">30</span>, <span style=\"color: #00af00; text-decoration-color: #00af00\">256</span>)        │       <span style=\"color: #00af00; text-decoration-color: #00af00\">308,224</span> │\n",
              "├─────────────────────────────────┼────────────────────────┼───────────────┤\n",
              "│ BatchNorm_1                     │ (<span style=\"color: #00d7ff; text-decoration-color: #00d7ff\">None</span>, <span style=\"color: #00af00; text-decoration-color: #00af00\">30</span>, <span style=\"color: #00af00; text-decoration-color: #00af00\">256</span>)        │         <span style=\"color: #00af00; text-decoration-color: #00af00\">1,024</span> │\n",
              "│ (<span style=\"color: #0087ff; text-decoration-color: #0087ff\">BatchNormalization</span>)            │                        │               │\n",
              "├─────────────────────────────────┼────────────────────────┼───────────────┤\n",
              "│ Dropout_1 (<span style=\"color: #0087ff; text-decoration-color: #0087ff\">Dropout</span>)             │ (<span style=\"color: #00d7ff; text-decoration-color: #00d7ff\">None</span>, <span style=\"color: #00af00; text-decoration-color: #00af00\">30</span>, <span style=\"color: #00af00; text-decoration-color: #00af00\">256</span>)        │             <span style=\"color: #00af00; text-decoration-color: #00af00\">0</span> │\n",
              "├─────────────────────────────────┼────────────────────────┼───────────────┤\n",
              "│ LSTM_2 (<span style=\"color: #0087ff; text-decoration-color: #0087ff\">LSTM</span>)                   │ (<span style=\"color: #00d7ff; text-decoration-color: #00d7ff\">None</span>, <span style=\"color: #00af00; text-decoration-color: #00af00\">256</span>)            │       <span style=\"color: #00af00; text-decoration-color: #00af00\">525,312</span> │\n",
              "├─────────────────────────────────┼────────────────────────┼───────────────┤\n",
              "│ BatchNorm_2                     │ (<span style=\"color: #00d7ff; text-decoration-color: #00d7ff\">None</span>, <span style=\"color: #00af00; text-decoration-color: #00af00\">256</span>)            │         <span style=\"color: #00af00; text-decoration-color: #00af00\">1,024</span> │\n",
              "│ (<span style=\"color: #0087ff; text-decoration-color: #0087ff\">BatchNormalization</span>)            │                        │               │\n",
              "├─────────────────────────────────┼────────────────────────┼───────────────┤\n",
              "│ Dropout_2 (<span style=\"color: #0087ff; text-decoration-color: #0087ff\">Dropout</span>)             │ (<span style=\"color: #00d7ff; text-decoration-color: #00d7ff\">None</span>, <span style=\"color: #00af00; text-decoration-color: #00af00\">256</span>)            │             <span style=\"color: #00af00; text-decoration-color: #00af00\">0</span> │\n",
              "├─────────────────────────────────┼────────────────────────┼───────────────┤\n",
              "│ Densa_salida (<span style=\"color: #0087ff; text-decoration-color: #0087ff\">Dense</span>)            │ (<span style=\"color: #00d7ff; text-decoration-color: #00d7ff\">None</span>, <span style=\"color: #00af00; text-decoration-color: #00af00\">44</span>)             │        <span style=\"color: #00af00; text-decoration-color: #00af00\">11,308</span> │\n",
              "└─────────────────────────────────┴────────────────────────┴───────────────┘\n",
              "</pre>\n"
            ]
          },
          "metadata": {}
        },
        {
          "output_type": "display_data",
          "data": {
            "text/plain": [
              "\u001b[1m Total params: \u001b[0m\u001b[38;5;34m846,892\u001b[0m (3.23 MB)\n"
            ],
            "text/html": [
              "<pre style=\"white-space:pre;overflow-x:auto;line-height:normal;font-family:Menlo,'DejaVu Sans Mono',consolas,'Courier New',monospace\"><span style=\"font-weight: bold\"> Total params: </span><span style=\"color: #00af00; text-decoration-color: #00af00\">846,892</span> (3.23 MB)\n",
              "</pre>\n"
            ]
          },
          "metadata": {}
        },
        {
          "output_type": "display_data",
          "data": {
            "text/plain": [
              "\u001b[1m Trainable params: \u001b[0m\u001b[38;5;34m845,868\u001b[0m (3.23 MB)\n"
            ],
            "text/html": [
              "<pre style=\"white-space:pre;overflow-x:auto;line-height:normal;font-family:Menlo,'DejaVu Sans Mono',consolas,'Courier New',monospace\"><span style=\"font-weight: bold\"> Trainable params: </span><span style=\"color: #00af00; text-decoration-color: #00af00\">845,868</span> (3.23 MB)\n",
              "</pre>\n"
            ]
          },
          "metadata": {}
        },
        {
          "output_type": "display_data",
          "data": {
            "text/plain": [
              "\u001b[1m Non-trainable params: \u001b[0m\u001b[38;5;34m1,024\u001b[0m (4.00 KB)\n"
            ],
            "text/html": [
              "<pre style=\"white-space:pre;overflow-x:auto;line-height:normal;font-family:Menlo,'DejaVu Sans Mono',consolas,'Courier New',monospace\"><span style=\"font-weight: bold\"> Non-trainable params: </span><span style=\"color: #00af00; text-decoration-color: #00af00\">1,024</span> (4.00 KB)\n",
              "</pre>\n"
            ]
          },
          "metadata": {}
        }
      ]
    },
    {
      "cell_type": "markdown",
      "source": [
        "### 3.6. Entrenamiento del Modelo 2"
      ],
      "metadata": {
        "id": "P6q7oTvDXX6r"
      }
    },
    {
      "cell_type": "markdown",
      "source": [
        "Luego, se procede al entrenamiento del Modelo 2 utilizando los mismos conjuntos de datos de entrenamiento, validación y prueba que el Modelo Base. El entrenamiento se lleva a cabo aplicando el mismo proceso y utilizando los mismos hiperparámetros definidos para el Modelo Base, como el tamaño del Batchsize (128), el número de épocas (50) y el callback."
      ],
      "metadata": {
        "id": "ktVZW4ImWPwc"
      }
    },
    {
      "cell_type": "code",
      "source": [
        "checkpoint_callback_2 = ModelCheckpoint(\n",
        "    filepath='best_model_2.keras',\n",
        "    monitor='val_loss',\n",
        "    save_best_only=True,\n",
        "    mode='min',\n",
        "    verbose=1\n",
        ")\n",
        "\n",
        "best_model_2, history_model_2, report_model_2 = train_and_test(\n",
        "    modelo_2,\n",
        "    X_train, y_train,\n",
        "    X_val, y_val,\n",
        "    X_test, y_test,\n",
        "    batch_size=128,\n",
        "    epochs=50,\n",
        "    callbacks=[early_stopping_callback, checkpoint_callback_2]\n",
        ")"
      ],
      "metadata": {
        "id": "59Jt5Uz8E5wG",
        "colab": {
          "base_uri": "https://localhost:8080/"
        },
        "outputId": "46613508-2769-443c-88dc-f52adc0a2d28"
      },
      "execution_count": null,
      "outputs": [
        {
          "output_type": "stream",
          "name": "stdout",
          "text": [
            "Entrenando modelo: Modelo_2\n",
            "Epoch 1/50\n",
            "\u001b[1m2500/2500\u001b[0m \u001b[32m━━━━━━━━━━━━━━━━━━━━\u001b[0m\u001b[37m\u001b[0m \u001b[1m0s\u001b[0m 51ms/step - categorical_accuracy: 0.2764 - loss: 2.7142\n",
            "Epoch 1: val_loss improved from inf to 1.79421, saving model to best_model_2.keras\n",
            "\u001b[1m2500/2500\u001b[0m \u001b[32m━━━━━━━━━━━━━━━━━━━━\u001b[0m\u001b[37m\u001b[0m \u001b[1m144s\u001b[0m 55ms/step - categorical_accuracy: 0.2764 - loss: 2.7140 - val_categorical_accuracy: 0.4432 - val_loss: 1.7942\n",
            "Epoch 2/50\n",
            "\u001b[1m2499/2500\u001b[0m \u001b[32m━━━━━━━━━━━━━━━━━━━\u001b[0m\u001b[37m━\u001b[0m \u001b[1m0s\u001b[0m 51ms/step - categorical_accuracy: 0.4272 - loss: 1.8467\n",
            "Epoch 2: val_loss improved from 1.79421 to 1.63119, saving model to best_model_2.keras\n",
            "\u001b[1m2500/2500\u001b[0m \u001b[32m━━━━━━━━━━━━━━━━━━━━\u001b[0m\u001b[37m\u001b[0m \u001b[1m141s\u001b[0m 55ms/step - categorical_accuracy: 0.4272 - loss: 1.8467 - val_categorical_accuracy: 0.4872 - val_loss: 1.6312\n",
            "Epoch 3/50\n",
            "\u001b[1m2499/2500\u001b[0m \u001b[32m━━━━━━━━━━━━━━━━━━━\u001b[0m\u001b[37m━\u001b[0m \u001b[1m0s\u001b[0m 51ms/step - categorical_accuracy: 0.4674 - loss: 1.7029\n",
            "Epoch 3: val_loss improved from 1.63119 to 1.54829, saving model to best_model_2.keras\n",
            "\u001b[1m2500/2500\u001b[0m \u001b[32m━━━━━━━━━━━━━━━━━━━━\u001b[0m\u001b[37m\u001b[0m \u001b[1m138s\u001b[0m 55ms/step - categorical_accuracy: 0.4674 - loss: 1.7029 - val_categorical_accuracy: 0.5128 - val_loss: 1.5483\n",
            "Epoch 4/50\n",
            "\u001b[1m2499/2500\u001b[0m \u001b[32m━━━━━━━━━━━━━━━━━━━\u001b[0m\u001b[37m━\u001b[0m \u001b[1m0s\u001b[0m 51ms/step - categorical_accuracy: 0.4923 - loss: 1.6166\n",
            "Epoch 4: val_loss improved from 1.54829 to 1.49829, saving model to best_model_2.keras\n",
            "\u001b[1m2500/2500\u001b[0m \u001b[32m━━━━━━━━━━━━━━━━━━━━\u001b[0m\u001b[37m\u001b[0m \u001b[1m142s\u001b[0m 55ms/step - categorical_accuracy: 0.4923 - loss: 1.6166 - val_categorical_accuracy: 0.5278 - val_loss: 1.4983\n",
            "Epoch 5/50\n",
            "\u001b[1m2500/2500\u001b[0m \u001b[32m━━━━━━━━━━━━━━━━━━━━\u001b[0m\u001b[37m\u001b[0m \u001b[1m0s\u001b[0m 51ms/step - categorical_accuracy: 0.5066 - loss: 1.5677\n",
            "Epoch 5: val_loss improved from 1.49829 to 1.46154, saving model to best_model_2.keras\n",
            "\u001b[1m2500/2500\u001b[0m \u001b[32m━━━━━━━━━━━━━━━━━━━━\u001b[0m\u001b[37m\u001b[0m \u001b[1m143s\u001b[0m 55ms/step - categorical_accuracy: 0.5066 - loss: 1.5677 - val_categorical_accuracy: 0.5366 - val_loss: 1.4615\n",
            "Epoch 6/50\n",
            "\u001b[1m2499/2500\u001b[0m \u001b[32m━━━━━━━━━━━━━━━━━━━\u001b[0m\u001b[37m━\u001b[0m \u001b[1m0s\u001b[0m 51ms/step - categorical_accuracy: 0.5190 - loss: 1.5292\n",
            "Epoch 6: val_loss improved from 1.46154 to 1.42945, saving model to best_model_2.keras\n",
            "\u001b[1m2500/2500\u001b[0m \u001b[32m━━━━━━━━━━━━━━━━━━━━\u001b[0m\u001b[37m\u001b[0m \u001b[1m143s\u001b[0m 56ms/step - categorical_accuracy: 0.5190 - loss: 1.5292 - val_categorical_accuracy: 0.5472 - val_loss: 1.4295\n",
            "Epoch 7/50\n",
            "\u001b[1m2500/2500\u001b[0m \u001b[32m━━━━━━━━━━━━━━━━━━━━\u001b[0m\u001b[37m\u001b[0m \u001b[1m0s\u001b[0m 51ms/step - categorical_accuracy: 0.5275 - loss: 1.4962\n",
            "Epoch 7: val_loss improved from 1.42945 to 1.41429, saving model to best_model_2.keras\n",
            "\u001b[1m2500/2500\u001b[0m \u001b[32m━━━━━━━━━━━━━━━━━━━━\u001b[0m\u001b[37m\u001b[0m \u001b[1m142s\u001b[0m 55ms/step - categorical_accuracy: 0.5275 - loss: 1.4962 - val_categorical_accuracy: 0.5524 - val_loss: 1.4143\n",
            "Epoch 8/50\n",
            "\u001b[1m2500/2500\u001b[0m \u001b[32m━━━━━━━━━━━━━━━━━━━━\u001b[0m\u001b[37m\u001b[0m \u001b[1m0s\u001b[0m 51ms/step - categorical_accuracy: 0.5348 - loss: 1.4689\n",
            "Epoch 8: val_loss improved from 1.41429 to 1.39667, saving model to best_model_2.keras\n",
            "\u001b[1m2500/2500\u001b[0m \u001b[32m━━━━━━━━━━━━━━━━━━━━\u001b[0m\u001b[37m\u001b[0m \u001b[1m142s\u001b[0m 56ms/step - categorical_accuracy: 0.5348 - loss: 1.4689 - val_categorical_accuracy: 0.5570 - val_loss: 1.3967\n",
            "Epoch 9/50\n",
            "\u001b[1m2500/2500\u001b[0m \u001b[32m━━━━━━━━━━━━━━━━━━━━\u001b[0m\u001b[37m\u001b[0m \u001b[1m0s\u001b[0m 52ms/step - categorical_accuracy: 0.5415 - loss: 1.4474\n",
            "Epoch 9: val_loss improved from 1.39667 to 1.38586, saving model to best_model_2.keras\n",
            "\u001b[1m2500/2500\u001b[0m \u001b[32m━━━━━━━━━━━━━━━━━━━━\u001b[0m\u001b[37m\u001b[0m \u001b[1m142s\u001b[0m 56ms/step - categorical_accuracy: 0.5415 - loss: 1.4474 - val_categorical_accuracy: 0.5615 - val_loss: 1.3859\n",
            "Epoch 10/50\n",
            "\u001b[1m2500/2500\u001b[0m \u001b[32m━━━━━━━━━━━━━━━━━━━━\u001b[0m\u001b[37m\u001b[0m \u001b[1m0s\u001b[0m 52ms/step - categorical_accuracy: 0.5467 - loss: 1.4319\n",
            "Epoch 10: val_loss improved from 1.38586 to 1.37450, saving model to best_model_2.keras\n",
            "\u001b[1m2500/2500\u001b[0m \u001b[32m━━━━━━━━━━━━━━━━━━━━\u001b[0m\u001b[37m\u001b[0m \u001b[1m143s\u001b[0m 56ms/step - categorical_accuracy: 0.5467 - loss: 1.4319 - val_categorical_accuracy: 0.5646 - val_loss: 1.3745\n",
            "Epoch 11/50\n",
            "\u001b[1m2500/2500\u001b[0m \u001b[32m━━━━━━━━━━━━━━━━━━━━\u001b[0m\u001b[37m\u001b[0m \u001b[1m0s\u001b[0m 52ms/step - categorical_accuracy: 0.5524 - loss: 1.4087\n",
            "Epoch 11: val_loss improved from 1.37450 to 1.36438, saving model to best_model_2.keras\n",
            "\u001b[1m2500/2500\u001b[0m \u001b[32m━━━━━━━━━━━━━━━━━━━━\u001b[0m\u001b[37m\u001b[0m \u001b[1m141s\u001b[0m 56ms/step - categorical_accuracy: 0.5524 - loss: 1.4087 - val_categorical_accuracy: 0.5677 - val_loss: 1.3644\n",
            "Epoch 12/50\n",
            "\u001b[1m2500/2500\u001b[0m \u001b[32m━━━━━━━━━━━━━━━━━━━━\u001b[0m\u001b[37m\u001b[0m \u001b[1m0s\u001b[0m 54ms/step - categorical_accuracy: 0.5578 - loss: 1.3928\n",
            "Epoch 12: val_loss improved from 1.36438 to 1.35772, saving model to best_model_2.keras\n",
            "\u001b[1m2500/2500\u001b[0m \u001b[32m━━━━━━━━━━━━━━━━━━━━\u001b[0m\u001b[37m\u001b[0m \u001b[1m142s\u001b[0m 57ms/step - categorical_accuracy: 0.5578 - loss: 1.3928 - val_categorical_accuracy: 0.5669 - val_loss: 1.3577\n",
            "Epoch 13/50\n",
            "\u001b[1m2500/2500\u001b[0m \u001b[32m━━━━━━━━━━━━━━━━━━━━\u001b[0m\u001b[37m\u001b[0m \u001b[1m0s\u001b[0m 53ms/step - categorical_accuracy: 0.5608 - loss: 1.3809\n",
            "Epoch 13: val_loss improved from 1.35772 to 1.34586, saving model to best_model_2.keras\n",
            "\u001b[1m2500/2500\u001b[0m \u001b[32m━━━━━━━━━━━━━━━━━━━━\u001b[0m\u001b[37m\u001b[0m \u001b[1m201s\u001b[0m 56ms/step - categorical_accuracy: 0.5608 - loss: 1.3809 - val_categorical_accuracy: 0.5717 - val_loss: 1.3459\n",
            "Epoch 14/50\n",
            "\u001b[1m2500/2500\u001b[0m \u001b[32m━━━━━━━━━━━━━━━━━━━━\u001b[0m\u001b[37m\u001b[0m \u001b[1m0s\u001b[0m 53ms/step - categorical_accuracy: 0.5627 - loss: 1.3698\n",
            "Epoch 14: val_loss improved from 1.34586 to 1.34564, saving model to best_model_2.keras\n",
            "\u001b[1m2500/2500\u001b[0m \u001b[32m━━━━━━━━━━━━━━━━━━━━\u001b[0m\u001b[37m\u001b[0m \u001b[1m144s\u001b[0m 58ms/step - categorical_accuracy: 0.5627 - loss: 1.3698 - val_categorical_accuracy: 0.5710 - val_loss: 1.3456\n",
            "Epoch 15/50\n",
            "\u001b[1m2499/2500\u001b[0m \u001b[32m━━━━━━━━━━━━━━━━━━━\u001b[0m\u001b[37m━\u001b[0m \u001b[1m0s\u001b[0m 55ms/step - categorical_accuracy: 0.5676 - loss: 1.3576\n",
            "Epoch 15: val_loss improved from 1.34564 to 1.34197, saving model to best_model_2.keras\n",
            "\u001b[1m2500/2500\u001b[0m \u001b[32m━━━━━━━━━━━━━━━━━━━━\u001b[0m\u001b[37m\u001b[0m \u001b[1m207s\u001b[0m 59ms/step - categorical_accuracy: 0.5676 - loss: 1.3576 - val_categorical_accuracy: 0.5719 - val_loss: 1.3420\n",
            "Epoch 16/50\n",
            "\u001b[1m2500/2500\u001b[0m \u001b[32m━━━━━━━━━━━━━━━━━━━━\u001b[0m\u001b[37m\u001b[0m \u001b[1m0s\u001b[0m 55ms/step - categorical_accuracy: 0.5708 - loss: 1.3446\n",
            "Epoch 16: val_loss improved from 1.34197 to 1.33576, saving model to best_model_2.keras\n",
            "\u001b[1m2500/2500\u001b[0m \u001b[32m━━━━━━━━━━━━━━━━━━━━\u001b[0m\u001b[37m\u001b[0m \u001b[1m198s\u001b[0m 58ms/step - categorical_accuracy: 0.5708 - loss: 1.3446 - val_categorical_accuracy: 0.5765 - val_loss: 1.3358\n",
            "Epoch 17/50\n",
            "\u001b[1m2499/2500\u001b[0m \u001b[32m━━━━━━━━━━━━━━━━━━━\u001b[0m\u001b[37m━\u001b[0m \u001b[1m0s\u001b[0m 55ms/step - categorical_accuracy: 0.5714 - loss: 1.3420\n",
            "Epoch 17: val_loss improved from 1.33576 to 1.33177, saving model to best_model_2.keras\n",
            "\u001b[1m2500/2500\u001b[0m \u001b[32m━━━━━━━━━━━━━━━━━━━━\u001b[0m\u001b[37m\u001b[0m \u001b[1m206s\u001b[0m 59ms/step - categorical_accuracy: 0.5714 - loss: 1.3420 - val_categorical_accuracy: 0.5763 - val_loss: 1.3318\n",
            "Epoch 18/50\n",
            "\u001b[1m2499/2500\u001b[0m \u001b[32m━━━━━━━━━━━━━━━━━━━\u001b[0m\u001b[37m━\u001b[0m \u001b[1m0s\u001b[0m 54ms/step - categorical_accuracy: 0.5756 - loss: 1.3271\n",
            "Epoch 18: val_loss improved from 1.33177 to 1.32874, saving model to best_model_2.keras\n",
            "\u001b[1m2500/2500\u001b[0m \u001b[32m━━━━━━━━━━━━━━━━━━━━\u001b[0m\u001b[37m\u001b[0m \u001b[1m196s\u001b[0m 57ms/step - categorical_accuracy: 0.5756 - loss: 1.3271 - val_categorical_accuracy: 0.5775 - val_loss: 1.3287\n",
            "Epoch 19/50\n",
            "\u001b[1m2500/2500\u001b[0m \u001b[32m━━━━━━━━━━━━━━━━━━━━\u001b[0m\u001b[37m\u001b[0m \u001b[1m0s\u001b[0m 54ms/step - categorical_accuracy: 0.5793 - loss: 1.3200\n",
            "Epoch 19: val_loss improved from 1.32874 to 1.32327, saving model to best_model_2.keras\n",
            "\u001b[1m2500/2500\u001b[0m \u001b[32m━━━━━━━━━━━━━━━━━━━━\u001b[0m\u001b[37m\u001b[0m \u001b[1m206s\u001b[0m 59ms/step - categorical_accuracy: 0.5793 - loss: 1.3200 - val_categorical_accuracy: 0.5791 - val_loss: 1.3233\n",
            "Epoch 20/50\n",
            "\u001b[1m2500/2500\u001b[0m \u001b[32m━━━━━━━━━━━━━━━━━━━━\u001b[0m\u001b[37m\u001b[0m \u001b[1m0s\u001b[0m 55ms/step - categorical_accuracy: 0.5795 - loss: 1.3100\n",
            "Epoch 20: val_loss did not improve from 1.32327\n",
            "\u001b[1m2500/2500\u001b[0m \u001b[32m━━━━━━━━━━━━━━━━━━━━\u001b[0m\u001b[37m\u001b[0m \u001b[1m147s\u001b[0m 59ms/step - categorical_accuracy: 0.5795 - loss: 1.3100 - val_categorical_accuracy: 0.5790 - val_loss: 1.3262\n",
            "Epoch 21/50\n",
            "\u001b[1m2500/2500\u001b[0m \u001b[32m━━━━━━━━━━━━━━━━━━━━\u001b[0m\u001b[37m\u001b[0m \u001b[1m0s\u001b[0m 54ms/step - categorical_accuracy: 0.5832 - loss: 1.3094\n",
            "Epoch 21: val_loss did not improve from 1.32327\n",
            "\u001b[1m2500/2500\u001b[0m \u001b[32m━━━━━━━━━━━━━━━━━━━━\u001b[0m\u001b[37m\u001b[0m \u001b[1m202s\u001b[0m 59ms/step - categorical_accuracy: 0.5832 - loss: 1.3094 - val_categorical_accuracy: 0.5818 - val_loss: 1.3242\n",
            "Epoch 22/50\n",
            "\u001b[1m2499/2500\u001b[0m \u001b[32m━━━━━━━━━━━━━━━━━━━\u001b[0m\u001b[37m━\u001b[0m \u001b[1m0s\u001b[0m 54ms/step - categorical_accuracy: 0.5836 - loss: 1.2982\n",
            "Epoch 22: val_loss improved from 1.32327 to 1.32041, saving model to best_model_2.keras\n",
            "\u001b[1m2500/2500\u001b[0m \u001b[32m━━━━━━━━━━━━━━━━━━━━\u001b[0m\u001b[37m\u001b[0m \u001b[1m201s\u001b[0m 58ms/step - categorical_accuracy: 0.5836 - loss: 1.2982 - val_categorical_accuracy: 0.5817 - val_loss: 1.3204\n",
            "Epoch 23/50\n",
            "\u001b[1m2499/2500\u001b[0m \u001b[32m━━━━━━━━━━━━━━━━━━━\u001b[0m\u001b[37m━\u001b[0m \u001b[1m0s\u001b[0m 54ms/step - categorical_accuracy: 0.5859 - loss: 1.2933\n",
            "Epoch 23: val_loss did not improve from 1.32041\n",
            "\u001b[1m2500/2500\u001b[0m \u001b[32m━━━━━━━━━━━━━━━━━━━━\u001b[0m\u001b[37m\u001b[0m \u001b[1m145s\u001b[0m 58ms/step - categorical_accuracy: 0.5859 - loss: 1.2934 - val_categorical_accuracy: 0.5805 - val_loss: 1.3207\n",
            "Epoch 24/50\n",
            "\u001b[1m2500/2500\u001b[0m \u001b[32m━━━━━━━━━━━━━━━━━━━━\u001b[0m\u001b[37m\u001b[0m \u001b[1m0s\u001b[0m 54ms/step - categorical_accuracy: 0.5871 - loss: 1.2827\n",
            "Epoch 24: val_loss did not improve from 1.32041\n",
            "\u001b[1m2500/2500\u001b[0m \u001b[32m━━━━━━━━━━━━━━━━━━━━\u001b[0m\u001b[37m\u001b[0m \u001b[1m202s\u001b[0m 58ms/step - categorical_accuracy: 0.5871 - loss: 1.2827 - val_categorical_accuracy: 0.5809 - val_loss: 1.3209\n",
            "Epoch 25/50\n",
            "\u001b[1m2500/2500\u001b[0m \u001b[32m━━━━━━━━━━━━━━━━━━━━\u001b[0m\u001b[37m\u001b[0m \u001b[1m0s\u001b[0m 54ms/step - categorical_accuracy: 0.5912 - loss: 1.2740\n",
            "Epoch 25: val_loss improved from 1.32041 to 1.31854, saving model to best_model_2.keras\n",
            "\u001b[1m2500/2500\u001b[0m \u001b[32m━━━━━━━━━━━━━━━━━━━━\u001b[0m\u001b[37m\u001b[0m \u001b[1m202s\u001b[0m 58ms/step - categorical_accuracy: 0.5912 - loss: 1.2740 - val_categorical_accuracy: 0.5820 - val_loss: 1.3185\n",
            "Epoch 26/50\n",
            "\u001b[1m2500/2500\u001b[0m \u001b[32m━━━━━━━━━━━━━━━━━━━━\u001b[0m\u001b[37m\u001b[0m \u001b[1m0s\u001b[0m 54ms/step - categorical_accuracy: 0.5934 - loss: 1.2696\n",
            "Epoch 26: val_loss improved from 1.31854 to 1.31521, saving model to best_model_2.keras\n",
            "\u001b[1m2500/2500\u001b[0m \u001b[32m━━━━━━━━━━━━━━━━━━━━\u001b[0m\u001b[37m\u001b[0m \u001b[1m202s\u001b[0m 58ms/step - categorical_accuracy: 0.5934 - loss: 1.2696 - val_categorical_accuracy: 0.5839 - val_loss: 1.3152\n",
            "Epoch 27/50\n",
            "\u001b[1m2499/2500\u001b[0m \u001b[32m━━━━━━━━━━━━━━━━━━━\u001b[0m\u001b[37m━\u001b[0m \u001b[1m0s\u001b[0m 54ms/step - categorical_accuracy: 0.5929 - loss: 1.2682\n",
            "Epoch 27: val_loss did not improve from 1.31521\n",
            "\u001b[1m2500/2500\u001b[0m \u001b[32m━━━━━━━━━━━━━━━━━━━━\u001b[0m\u001b[37m\u001b[0m \u001b[1m202s\u001b[0m 58ms/step - categorical_accuracy: 0.5929 - loss: 1.2682 - val_categorical_accuracy: 0.5845 - val_loss: 1.3172\n",
            "Epoch 28/50\n",
            "\u001b[1m2500/2500\u001b[0m \u001b[32m━━━━━━━━━━━━━━━━━━━━\u001b[0m\u001b[37m\u001b[0m \u001b[1m0s\u001b[0m 54ms/step - categorical_accuracy: 0.5940 - loss: 1.2576\n",
            "Epoch 28: val_loss improved from 1.31521 to 1.31403, saving model to best_model_2.keras\n",
            "\u001b[1m2500/2500\u001b[0m \u001b[32m━━━━━━━━━━━━━━━━━━━━\u001b[0m\u001b[37m\u001b[0m \u001b[1m203s\u001b[0m 59ms/step - categorical_accuracy: 0.5940 - loss: 1.2576 - val_categorical_accuracy: 0.5852 - val_loss: 1.3140\n",
            "Epoch 29/50\n",
            "\u001b[1m2500/2500\u001b[0m \u001b[32m━━━━━━━━━━━━━━━━━━━━\u001b[0m\u001b[37m\u001b[0m \u001b[1m0s\u001b[0m 55ms/step - categorical_accuracy: 0.5957 - loss: 1.2572\n",
            "Epoch 29: val_loss improved from 1.31403 to 1.31146, saving model to best_model_2.keras\n",
            "\u001b[1m2500/2500\u001b[0m \u001b[32m━━━━━━━━━━━━━━━━━━━━\u001b[0m\u001b[37m\u001b[0m \u001b[1m148s\u001b[0m 59ms/step - categorical_accuracy: 0.5957 - loss: 1.2572 - val_categorical_accuracy: 0.5858 - val_loss: 1.3115\n",
            "Epoch 30/50\n",
            "\u001b[1m2500/2500\u001b[0m \u001b[32m━━━━━━━━━━━━━━━━━━━━\u001b[0m\u001b[37m\u001b[0m \u001b[1m0s\u001b[0m 55ms/step - categorical_accuracy: 0.5988 - loss: 1.2489\n",
            "Epoch 30: val_loss did not improve from 1.31146\n",
            "\u001b[1m2500/2500\u001b[0m \u001b[32m━━━━━━━━━━━━━━━━━━━━\u001b[0m\u001b[37m\u001b[0m \u001b[1m149s\u001b[0m 60ms/step - categorical_accuracy: 0.5988 - loss: 1.2489 - val_categorical_accuracy: 0.5857 - val_loss: 1.3136\n",
            "Epoch 31/50\n",
            "\u001b[1m2499/2500\u001b[0m \u001b[32m━━━━━━━━━━━━━━━━━━━\u001b[0m\u001b[37m━\u001b[0m \u001b[1m0s\u001b[0m 57ms/step - categorical_accuracy: 0.5991 - loss: 1.2460\n",
            "Epoch 31: val_loss did not improve from 1.31146\n",
            "\u001b[1m2500/2500\u001b[0m \u001b[32m━━━━━━━━━━━━━━━━━━━━\u001b[0m\u001b[37m\u001b[0m \u001b[1m205s\u001b[0m 61ms/step - categorical_accuracy: 0.5991 - loss: 1.2460 - val_categorical_accuracy: 0.5846 - val_loss: 1.3146\n",
            "Epoch 32/50\n",
            "\u001b[1m2500/2500\u001b[0m \u001b[32m━━━━━━━━━━━━━━━━━━━━\u001b[0m\u001b[37m\u001b[0m \u001b[1m0s\u001b[0m 55ms/step - categorical_accuracy: 0.6021 - loss: 1.2360\n",
            "Epoch 32: val_loss did not improve from 1.31146\n",
            "\u001b[1m2500/2500\u001b[0m \u001b[32m━━━━━━━━━━━━━━━━━━━━\u001b[0m\u001b[37m\u001b[0m \u001b[1m194s\u001b[0m 58ms/step - categorical_accuracy: 0.6021 - loss: 1.2360 - val_categorical_accuracy: 0.5869 - val_loss: 1.3126\n",
            "Epoch 33/50\n",
            "\u001b[1m2500/2500\u001b[0m \u001b[32m━━━━━━━━━━━━━━━━━━━━\u001b[0m\u001b[37m\u001b[0m \u001b[1m0s\u001b[0m 54ms/step - categorical_accuracy: 0.6006 - loss: 1.2353\n",
            "Epoch 33: val_loss improved from 1.31146 to 1.31139, saving model to best_model_2.keras\n",
            "\u001b[1m2500/2500\u001b[0m \u001b[32m━━━━━━━━━━━━━━━━━━━━\u001b[0m\u001b[37m\u001b[0m \u001b[1m146s\u001b[0m 58ms/step - categorical_accuracy: 0.6006 - loss: 1.2353 - val_categorical_accuracy: 0.5866 - val_loss: 1.3114\n",
            "Epoch 34/50\n",
            "\u001b[1m2499/2500\u001b[0m \u001b[32m━━━━━━━━━━━━━━━━━━━\u001b[0m\u001b[37m━\u001b[0m \u001b[1m0s\u001b[0m 54ms/step - categorical_accuracy: 0.6042 - loss: 1.2233\n",
            "Epoch 34: val_loss improved from 1.31139 to 1.31075, saving model to best_model_2.keras\n",
            "\u001b[1m2500/2500\u001b[0m \u001b[32m━━━━━━━━━━━━━━━━━━━━\u001b[0m\u001b[37m\u001b[0m \u001b[1m202s\u001b[0m 58ms/step - categorical_accuracy: 0.6042 - loss: 1.2233 - val_categorical_accuracy: 0.5868 - val_loss: 1.3107\n",
            "Epoch 35/50\n",
            "\u001b[1m2500/2500\u001b[0m \u001b[32m━━━━━━━━━━━━━━━━━━━━\u001b[0m\u001b[37m\u001b[0m \u001b[1m0s\u001b[0m 55ms/step - categorical_accuracy: 0.6042 - loss: 1.2253\n",
            "Epoch 35: val_loss did not improve from 1.31075\n",
            "\u001b[1m2500/2500\u001b[0m \u001b[32m━━━━━━━━━━━━━━━━━━━━\u001b[0m\u001b[37m\u001b[0m \u001b[1m202s\u001b[0m 59ms/step - categorical_accuracy: 0.6042 - loss: 1.2253 - val_categorical_accuracy: 0.5868 - val_loss: 1.3114\n",
            "Epoch 36/50\n",
            "\u001b[1m2499/2500\u001b[0m \u001b[32m━━━━━━━━━━━━━━━━━━━\u001b[0m\u001b[37m━\u001b[0m \u001b[1m0s\u001b[0m 54ms/step - categorical_accuracy: 0.6048 - loss: 1.2234\n",
            "Epoch 36: val_loss did not improve from 1.31075\n",
            "\u001b[1m2500/2500\u001b[0m \u001b[32m━━━━━━━━━━━━━━━━━━━━\u001b[0m\u001b[37m\u001b[0m \u001b[1m198s\u001b[0m 57ms/step - categorical_accuracy: 0.6048 - loss: 1.2234 - val_categorical_accuracy: 0.5857 - val_loss: 1.3160\n",
            "Epoch 37/50\n",
            "\u001b[1m2499/2500\u001b[0m \u001b[32m━━━━━━━━━━━━━━━━━━━\u001b[0m\u001b[37m━\u001b[0m \u001b[1m0s\u001b[0m 56ms/step - categorical_accuracy: 0.6057 - loss: 1.2214\n",
            "Epoch 37: val_loss did not improve from 1.31075\n",
            "\u001b[1m2500/2500\u001b[0m \u001b[32m━━━━━━━━━━━━━━━━━━━━\u001b[0m\u001b[37m\u001b[0m \u001b[1m208s\u001b[0m 60ms/step - categorical_accuracy: 0.6057 - loss: 1.2214 - val_categorical_accuracy: 0.5893 - val_loss: 1.3181\n",
            "Epoch 38/50\n",
            "\u001b[1m2500/2500\u001b[0m \u001b[32m━━━━━━━━━━━━━━━━━━━━\u001b[0m\u001b[37m\u001b[0m \u001b[1m0s\u001b[0m 55ms/step - categorical_accuracy: 0.6066 - loss: 1.2128\n",
            "Epoch 38: val_loss did not improve from 1.31075\n",
            "\u001b[1m2500/2500\u001b[0m \u001b[32m━━━━━━━━━━━━━━━━━━━━\u001b[0m\u001b[37m\u001b[0m \u001b[1m199s\u001b[0m 59ms/step - categorical_accuracy: 0.6066 - loss: 1.2128 - val_categorical_accuracy: 0.5879 - val_loss: 1.3131\n",
            "Epoch 39/50\n",
            "\u001b[1m2500/2500\u001b[0m \u001b[32m━━━━━━━━━━━━━━━━━━━━\u001b[0m\u001b[37m\u001b[0m \u001b[1m0s\u001b[0m 54ms/step - categorical_accuracy: 0.6109 - loss: 1.2046\n",
            "Epoch 39: val_loss did not improve from 1.31075\n",
            "\u001b[1m2500/2500\u001b[0m \u001b[32m━━━━━━━━━━━━━━━━━━━━\u001b[0m\u001b[37m\u001b[0m \u001b[1m200s\u001b[0m 58ms/step - categorical_accuracy: 0.6109 - loss: 1.2046 - val_categorical_accuracy: 0.5886 - val_loss: 1.3145\n",
            "\n",
            "Evaluando modelo en el conjunto de prueba...\n",
            "Evaluación completa.\n"
          ]
        },
        {
          "output_type": "stream",
          "name": "stderr",
          "text": [
            "/usr/local/lib/python3.11/dist-packages/sklearn/metrics/_classification.py:2687: UserWarning: labels size, 42, does not match size of target_names, 44\n",
            "  warnings.warn(\n"
          ]
        }
      ]
    },
    {
      "cell_type": "markdown",
      "source": [
        "#### Visualización"
      ],
      "metadata": {
        "id": "3XbHHn79Xji-"
      }
    },
    {
      "cell_type": "code",
      "source": [
        "if history_model_2 is not None:\n",
        "    print(\"Mostrando gráficos para el Modelo 2:\")\n",
        "    plot_training_history(history_model_2, model_name=\"Modelo 2\")"
      ],
      "metadata": {
        "id": "6ODCrXEZGBDM",
        "colab": {
          "base_uri": "https://localhost:8080/",
          "height": 455
        },
        "outputId": "a049033e-4448-42a4-b3c2-872e3743de25"
      },
      "execution_count": null,
      "outputs": [
        {
          "output_type": "stream",
          "name": "stdout",
          "text": [
            "Mostrando gráficos para el Modelo 2:\n"
          ]
        },
        {
          "output_type": "display_data",
          "data": {
            "text/plain": [
              "<Figure size 1200x500 with 2 Axes>"
            ],
            "image/png": "[encoded data removed]"
          },
          "metadata": {}
        }
      ]
    },
    {
      "cell_type": "markdown",
      "source": [
        "En los gráficos se observa la evolución de la pérdida y del rendimiento (precisión categórica) del Modelo 2 a lo largo del proceso de entrenamiento y validación. En la curva de pérdida, se aprecia una disminución progresiva y sostenida tanto en los datos de entrenamiento como de validación, con una diferencia moderada entre ambas curvas. Esto sugiere que el modelo logra un aprendizaje eficaz sin signos evidentes de sobreajuste.\n",
        "\n",
        "En cuanto al rendimiento, el Modelo 2 alcanza una precisión categórica superior al 60 % en entrenamiento y cercana al 59 % en validación, lo que indica una mejora respecto al Modelo Base. Además, la cercanía entre ambas curvas sugiere una buena capacidad de generalización. El hecho de que la curva de validación se estabilice a partir de cierta época refuerza la idea de que el modelo se beneficia de la arquitectura más profunda y de las técnicas de regularización introducidas."
      ],
      "metadata": {
        "id": "-Z1TebCPNaFc"
      }
    },
    {
      "cell_type": "markdown",
      "source": [
        "#### Métricas"
      ],
      "metadata": {
        "id": "5hRxBpzP6K3O"
      }
    },
    {
      "cell_type": "markdown",
      "source": [
        "Para identificar el punto de mejor rendimiento del Modelo 2, se analizó la época con la menor pérdida en validación (val_loss)."
      ],
      "metadata": {
        "id": "2211c-V0NitT"
      }
    },
    {
      "cell_type": "code",
      "source": [
        "\n",
        "if 'val_loss' in history_model_2.history:\n",
        "    best_epoch_index_model_2 = np.argmin(history_model_2.history['val_loss'])\n",
        "    best_epoch_model_2 = best_epoch_index_model_2 + 1 # Las épocas se indexan desde 1\n",
        "\n",
        "    print(f\"\\nMejor época para Modelo 2 (basada en val_loss): {best_epoch_model_2}\")\n",
        "\n",
        "    # Obtener las métricas de la mejor época\n",
        "    metrics_best_epoch_model_2 = {\n",
        "        'Modelo': 'Modelo 2 (Mejor Época)',\n",
        "        'Loss Entrenamiento': history_model_2.history['loss'][best_epoch_index_model_2],\n",
        "        'Loss Validación': history_model_2.history['val_loss'][best_epoch_index_model_2],\n",
        "        'Accuracy Entrenamiento': history_model_2.history['categorical_accuracy'][best_epoch_index_model_2],\n",
        "        'Accuracy Validación': history_model_2.history['val_categorical_accuracy'][best_epoch_index_model_2]\n",
        "    }\n",
        "    display(pd.DataFrame([metrics_best_epoch_model_2]))\n",
        "else:\n",
        "    print(\"\\nEl historial del Modelo 2 no contiene métricas de validación.\")"
      ],
      "metadata": {
        "id": "xTCB3Rjz6Kb8",
        "colab": {
          "base_uri": "https://localhost:8080/",
          "height": 118
        },
        "outputId": "f03c7a94-38fd-4264-d4b1-44809ab6a641"
      },
      "execution_count": null,
      "outputs": [
        {
          "output_type": "stream",
          "name": "stdout",
          "text": [
            "\n",
            "Mejor época para Modelo 2 (basada en val_loss): 34\n"
          ]
        },
        {
          "output_type": "display_data",
          "data": {
            "text/plain": [
              "                   Modelo  Loss Entrenamiento  Loss Validación  \\\n",
              "0  Modelo 2 (Mejor Época)            1.236407          1.31075   \n",
              "\n",
              "   Accuracy Entrenamiento  Accuracy Validación  \n",
              "0                0.600856             0.586825  "
            ],
            "text/html": [
              "\n",
              "  <div id=\"df-e297d64a-17cf-49fb-85ad-37241d5bcfd8\" class=\"colab-df-container\">\n",
              "    <div>\n",
              "<style scoped>\n",
              "    .dataframe tbody tr th:only-of-type {\n",
              "        vertical-align: middle;\n",
              "    }\n",
              "\n",
              "    .dataframe tbody tr th {\n",
              "        vertical-align: top;\n",
              "    }\n",
              "\n",
              "    .dataframe thead th {\n",
              "        text-align: right;\n",
              "    }\n",
              "</style>\n",
              "<table border=\"1\" class=\"dataframe\">\n",
              "  <thead>\n",
              "    <tr style=\"text-align: right;\">\n",
              "      <th></th>\n",
              "      <th>Modelo</th>\n",
              "      <th>Loss Entrenamiento</th>\n",
              "      <th>Loss Validación</th>\n",
              "      <th>Accuracy Entrenamiento</th>\n",
              "      <th>Accuracy Validación</th>\n",
              "    </tr>\n",
              "  </thead>\n",
              "  <tbody>\n",
              "    <tr>\n",
              "      <th>0</th>\n",
              "      <td>Modelo 2 (Mejor Época)</td>\n",
              "      <td>1.236407</td>\n",
              "      <td>1.31075</td>\n",
              "      <td>0.600856</td>\n",
              "      <td>0.586825</td>\n",
              "    </tr>\n",
              "  </tbody>\n",
              "</table>\n",
              "</div>\n",
              "    <div class=\"colab-df-buttons\">\n",
              "\n",
              "  <div class=\"colab-df-container\">\n",
              "    <button class=\"colab-df-convert\" onclick=\"convertToInteractive('df-e297d64a-17cf-49fb-85ad-37241d5bcfd8')\"\n",
              "            title=\"Convert this dataframe to an interactive table.\"\n",
              "            style=\"display:none;\">\n",
              "\n",
              "  <svg xmlns=\"http://www.w3.org/2000/svg\" height=\"24px\" viewBox=\"0 -960 960 960\">\n",
              "    <path d=\"M120-120v-720h720v720H120Zm60-500h600v-160H180v160Zm220 220h160v-160H400v160Zm0 220h160v-160H400v160ZM180-400h160v-160H180v160Zm440 0h160v-160H620v160ZM180-180h160v-160H180v160Zm440 0h160v-160H620v160Z\"/>\n",
              "  </svg>\n",
              "    </button>\n",
              "\n",
              "  <style>\n",
              "    .colab-df-container {\n",
              "      display:flex;\n",
              "      gap: 12px;\n",
              "    }\n",
              "\n",
              "    .colab-df-convert {\n",
              "      background-color: #E8F0FE;\n",
              "      border: none;\n",
              "      border-radius: 50%;\n",
              "      cursor: pointer;\n",
              "      display: none;\n",
              "      fill: #1967D2;\n",
              "      height: 32px;\n",
              "      padding: 0 0 0 0;\n",
              "      width: 32px;\n",
              "    }\n",
              "\n",
              "    .colab-df-convert:hover {\n",
              "      background-color: #E2EBFA;\n",
              "      box-shadow: 0px 1px 2px rgba(60, 64, 67, 0.3), 0px 1px 3px 1px rgba(60, 64, 67, 0.15);\n",
              "      fill: #174EA6;\n",
              "    }\n",
              "\n",
              "    .colab-df-buttons div {\n",
              "      margin-bottom: 4px;\n",
              "    }\n",
              "\n",
              "    [theme=dark] .colab-df-convert {\n",
              "      background-color: #3B4455;\n",
              "      fill: #D2E3FC;\n",
              "    }\n",
              "\n",
              "    [theme=dark] .colab-df-convert:hover {\n",
              "      background-color: #434B5C;\n",
              "      box-shadow: 0px 1px 3px 1px rgba(0, 0, 0, 0.15);\n",
              "      filter: drop-shadow(0px 1px 2px rgba(0, 0, 0, 0.3));\n",
              "      fill: #FFFFFF;\n",
              "    }\n",
              "  </style>\n",
              "\n",
              "    <script>\n",
              "      const buttonEl =\n",
              "        document.querySelector('#df-e297d64a-17cf-49fb-85ad-37241d5bcfd8 button.colab-df-convert');\n",
              "      buttonEl.style.display =\n",
              "        google.colab.kernel.accessAllowed ? 'block' : 'none';\n",
              "\n",
              "      async function convertToInteractive(key) {\n",
              "        const element = document.querySelector('#df-e297d64a-17cf-49fb-85ad-37241d5bcfd8');\n",
              "        const dataTable =\n",
              "          await google.colab.kernel.invokeFunction('convertToInteractive',\n",
              "                                                    [key], {});\n",
              "        if (!dataTable) return;\n",
              "\n",
              "        const docLinkHtml = 'Like what you see? Visit the ' +\n",
              "          '<a target=\"_blank\" href=https://colab.research.google.com/notebooks/data_table.ipynb>data table notebook</a>'\n",
              "          + ' to learn more about interactive tables.';\n",
              "        element.innerHTML = '';\n",
              "        dataTable['output_type'] = 'display_data';\n",
              "        await google.colab.output.renderOutput(dataTable, element);\n",
              "        const docLink = document.createElement('div');\n",
              "        docLink.innerHTML = docLinkHtml;\n",
              "        element.appendChild(docLink);\n",
              "      }\n",
              "    </script>\n",
              "  </div>\n",
              "\n",
              "\n",
              "    </div>\n",
              "  </div>\n"
            ],
            "application/vnd.google.colaboratory.intrinsic+json": {
              "type": "dataframe",
              "summary": "{\n  \"name\": \"    print(\\\"\\\\nEl historial del Modelo 2 no contiene m\\u00e9tricas de validaci\\u00f3n\",\n  \"rows\": 1,\n  \"fields\": [\n    {\n      \"column\": \"Modelo\",\n      \"properties\": {\n        \"dtype\": \"string\",\n        \"num_unique_values\": 1,\n        \"samples\": [\n          \"Modelo 2 (Mejor \\u00c9poca)\"\n        ],\n        \"semantic_type\": \"\",\n        \"description\": \"\"\n      }\n    },\n    {\n      \"column\": \"Loss Entrenamiento\",\n      \"properties\": {\n        \"dtype\": \"number\",\n        \"std\": null,\n        \"min\": 1.236406683921814,\n        \"max\": 1.236406683921814,\n        \"num_unique_values\": 1,\n        \"samples\": [\n          1.236406683921814\n        ],\n        \"semantic_type\": \"\",\n        \"description\": \"\"\n      }\n    },\n    {\n      \"column\": \"Loss Validaci\\u00f3n\",\n      \"properties\": {\n        \"dtype\": \"number\",\n        \"std\": null,\n        \"min\": 1.3107495307922363,\n        \"max\": 1.3107495307922363,\n        \"num_unique_values\": 1,\n        \"samples\": [\n          1.3107495307922363\n        ],\n        \"semantic_type\": \"\",\n        \"description\": \"\"\n      }\n    },\n    {\n      \"column\": \"Accuracy Entrenamiento\",\n      \"properties\": {\n        \"dtype\": \"number\",\n        \"std\": null,\n        \"min\": 0.6008562445640564,\n        \"max\": 0.6008562445640564,\n        \"num_unique_values\": 1,\n        \"samples\": [\n          0.6008562445640564\n        ],\n        \"semantic_type\": \"\",\n        \"description\": \"\"\n      }\n    },\n    {\n      \"column\": \"Accuracy Validaci\\u00f3n\",\n      \"properties\": {\n        \"dtype\": \"number\",\n        \"std\": null,\n        \"min\": 0.5868250131607056,\n        \"max\": 0.5868250131607056,\n        \"num_unique_values\": 1,\n        \"samples\": [\n          0.5868250131607056\n        ],\n        \"semantic_type\": \"\",\n        \"description\": \"\"\n      }\n    }\n  ]\n}"
            }
          },
          "metadata": {}
        }
      ]
    },
    {
      "cell_type": "markdown",
      "source": [
        "La mejor época identificada en el entrenamiento correspondió a la época 34, donde el modelo logró su mayor capacidad de generalización antes de estabilizarse o incurrir en sobreajuste.\n",
        "\n",
        "En esa época, la pérdida en entrenamiento fue de 1.236, mientras que la pérdida en validación alcanzó un valor de 1.311, prácticamente idéntica a la obtenida por el Modelo Base en su mejor punto. La precisión categórica fue de 60.1 % en entrenamiento y 58.7 % en validación, también muy similar a los valores obtenidos previamente."
      ],
      "metadata": {
        "id": "llZUhYZ4NjZw"
      }
    },
    {
      "cell_type": "markdown",
      "source": [
        "### 3.7. Generación de Texto"
      ],
      "metadata": {
        "id": "Wx9yHGa2X-lr"
      }
    },
    {
      "cell_type": "markdown",
      "source": [
        "Luego, se utiliza el modelo entrenado para generar nuevo texto. Se parte de una secuencia inicial de caracteres (la \"semilla\") y, de forma iterativa, el modelo predice el siguiente carácter. Durante este proceso de generación, se explora cómo el parámetro de \"temperatura\" influye en la diversidad y aleatoriedad del texto producido."
      ],
      "metadata": {
        "id": "oDoQsq3tOCGo"
      }
    },
    {
      "cell_type": "code",
      "source": [
        "# Generación de texto\n",
        "if modelo_2 is not None:\n",
        "    print(\"Generando texto con el modelo entrenado:\")\n",
        "\n",
        "    # Seleccionar una secuencia inicial al azar\n",
        "    if 'texto' in globals() and len(texto) >= SEQ_LENGTH:\n",
        "        if len(texto) - SEQ_LENGTH - 1 >= 0:\n",
        "            start_pos = random.randint(0, len(texto) - SEQ_LENGTH - 1)\n",
        "            seed_text = texto[start_pos:start_pos + SEQ_LENGTH]\n",
        "\n",
        "            for temperature in TEMPERATURES_TO_TRY:\n",
        "                print(\"\\n------> Generando texto con temperature {}\".format(temperature))\n",
        "                generated_text = generate_text(seed_text, modelo_2, GENERATED_TEXT_LENGTH, temperature)\n",
        "                print(\"Seed: {}\".format(seed_text))\n",
        "                print(\"Texto generado: {}\".format(generated_text))\n",
        "                print(\"-\" * 50)\n",
        "        else:\n",
        "            print(\"No se pudo generar texto: la variable 'texto' es demasiado corta para obtener una secuencia de longitud SEQ_LENGTH.\")\n",
        "\n",
        "    else:\n",
        "        print(\"No se pudo generar texto: la variable 'texto' no está disponible o es muy corta.\")\n",
        "\n",
        "else:\n",
        "    print(\"El modelo no ha sido entrenado. Por favor, ejecuta la celda de entrenamiento primero.\")"
      ],
      "metadata": {
        "id": "gjfsOAaVM7Y6",
        "colab": {
          "base_uri": "https://localhost:8080/"
        },
        "outputId": "8a036e86-41c0-4137-a8a0-e76417d45d36"
      },
      "execution_count": null,
      "outputs": [
        {
          "output_type": "stream",
          "name": "stdout",
          "text": [
            "Generando texto con el modelo entrenado:\n",
            "\n",
            "------> Generando texto con temperature 0.2\n",
            "Seed:  gusto de ver que acerté en mi\n",
            "Texto generado:  gusto de ver que acerté en mi padre de la mano, y que el cual se había de hacer la cabeza de la mano de su amo.\n",
            "\n",
            "-así es -respondió don quijote-, porque es el todo lo que de aquella cabeza la cabeza de la mano, y que el de los de\n",
            "--------------------------------------------------\n",
            "\n",
            "------> Generando texto con temperature 0.5\n",
            "Seed:  gusto de ver que acerté en mi\n",
            "Texto generado:  gusto de ver que acerté en mi señor la alcanza, a la duquesa y\n",
            "acabó de condenir a la señora dulcinea del toboso, y lo que le tendría ver la contra a aquel\n",
            "como el autor de pensamiento a ella, y que el suelo de la mano de la donc\n",
            "--------------------------------------------------\n",
            "\n",
            "------> Generando texto con temperature 1.0\n",
            "Seed:  gusto de ver que acerté en mi\n",
            "Texto generado:  gusto de ver que acerté en mi furiente y le dijo\n",
            "   -dijo, en tanto que yo os esperaba mucho jure que no la\n",
            "van en los oladoles se les viene,\n",
            "buscaba una cosa de camila de los\n",
            "del oído y tener por ser\n",
            "las tan gvioria, con suele a\n",
            "--------------------------------------------------\n",
            "\n",
            "------> Generando texto con temperature 1.2\n",
            "Seed:  gusto de ver que acerté en mi\n",
            "Texto generado:  gusto de ver que acerté en mi bueno, y no tiene; pues, en\n",
            "cierto de ver concertar vencina; señor nombre a él quesará\n",
            "en él que atentó de debar aquí a\n",
            "decille la ventana, a dicistaalme a su sapaciera don letanet, contento, le te l\n",
            "--------------------------------------------------\n"
          ]
        }
      ]
    },
    {
      "cell_type": "markdown",
      "source": [
        "Al generar texto con el Modelo 2 se observa un comportamiento consistente con lo esperado respecto al control de temperatura. Con temperatura baja (0.2), el modelo genera frases coherentes pero altamente repetitivas, centradas en estructuras comunes como “la cabeza de la mano” o “respondió don Quijote”, reflejando una fuerte adhesión a patrones frecuentes del corpus. Al incrementar la temperatura a 0.5, el texto gana en variación y fluidez, aunque aún mantiene una estructura sintáctica reconocible y un contexto narrativo lógico. A temperatura 1.0, se evidencia una mayor diversidad y creatividad, aunque ya comienzan a aparecer construcciones confusas o términos poco claros. Con temperatura 1.2, la generación se torna mucho más caótica, con frases desordenadas, palabras poco comprensibles y una pérdida notable de coherencia. En conjunto, se confirma que el Modelo 2 responde de manera similar al modelo base frente a los ajustes de temperatura, permitiendo modular la creatividad en función del grado de aleatoriedad deseado."
      ],
      "metadata": {
        "id": "YPmOoHExOJur"
      }
    },
    {
      "cell_type": "markdown",
      "source": [
        "#### 3.7.1. Generación de Texto con Semilla Manual"
      ],
      "metadata": {
        "id": "NTaJHglDYC63"
      }
    },
    {
      "cell_type": "code",
      "source": [
        "# Definir lista de temperaturas para usar con generate_text_from_seed\n",
        "Temperaturas = [0.2, 0.5, 1.0, 1.2]\n",
        "\n",
        "# Use modelo_base explicitly\n",
        "if modelo_2 is not None and \\\n",
        "   'SEQ_LENGTH' in globals() and 'NUM_CHARS' in globals() and \\\n",
        "   'char_to_indices' in globals() and 'indices_to_char' in globals() and \\\n",
        "   'generate_text_from_seed' in globals() and callable(generate_text_from_seed):\n",
        "\n",
        "    seed_text_ejemplo = \"el ingenioso don \"\n",
        "    longitud_generar = 200\n",
        "\n",
        "    print(f\"Texto semilla para la generación: '{seed_text_ejemplo}'\")\n",
        "    print(f\"Longitud del texto a generar (adicional a la semilla): {longitud_generar}\")\n",
        "    print(\"Temperaturas a probar:\", Temperaturas)\n",
        "\n",
        "    # Itera sobre la lista de temperaturas\n",
        "    for temperatura_actual in Temperaturas:\n",
        "        print(f\"\\n--- Generando texto con Temperatura: {temperatura_actual} ---\")\n",
        "\n",
        "        texto_generado_ejemplo = generate_text_from_seed(\n",
        "            modelo_2, # Pass modelo_base as the model\n",
        "            seed_text_ejemplo,\n",
        "            longitud_generar,\n",
        "            temperature=temperatura_actual\n",
        "        )\n",
        "\n",
        "        print(f\"Texto generado: {texto_generado_ejemplo}\")\n",
        "        print(\"-\" * 50)\n",
        "\n",
        "else:\n",
        "    print(\"Error: Las variables/funciones necesarias para la generación manual de texto no están completamente definidas o el modelo base no ha sido entrenado.\")\n",
        "    print(\"Asegúrate de haber ejecutado todas las celdas anteriores, incluyendo la definición de generate_text_from_seed, sample, y el entrenamiento del modelo base.\")"
      ],
      "metadata": {
        "id": "PtNRi_4I0NQD",
        "colab": {
          "base_uri": "https://localhost:8080/"
        },
        "outputId": "2f2fdf84-2508-415f-9b98-b5954e3c576f"
      },
      "execution_count": null,
      "outputs": [
        {
          "output_type": "stream",
          "name": "stdout",
          "text": [
            "Texto semilla para la generación: 'el ingenioso don '\n",
            "Longitud del texto a generar (adicional a la semilla): 200\n",
            "Temperaturas a probar: [0.2, 0.5, 1.0, 1.2]\n",
            "\n",
            "--- Generando texto con Temperatura: 0.2 ---\n",
            "Texto generado: el ingenioso don quijote de la mancha, a lo que le dijo\n",
            "\n",
            "-si es que es escudero de la mano de la concena a la cabeza de la mano de la mano de la mano de la grande ama de la mano que le dijese que le persona a la cabez\n",
            "--------------------------------------------------\n",
            "\n",
            "--- Generando texto con Temperatura: 0.5 ---\n",
            "Texto generado: el ingenioso don quijote de la cabeza, y de\n",
            "por mi reposentado y de ver a ser pensade y almohado a los caballeros andantes había salido de mano, con mucha ventura de los agravios que le diese para saber que los\n",
            "pocos \n",
            "--------------------------------------------------\n",
            "\n",
            "--- Generando texto con Temperatura: 1.0 ---\n",
            "Texto generado: el ingenioso don quijote\n",
            "había acometer, por vejos otra lesa\n",
            "convienen. la caésta, señoría que no tan podía\n",
            "ser vida, y desnuva\n",
            "óla muchos razones y razandas venganzas de las algunas,\n",
            "tendrados de rebuzn que punto, pa\n",
            "--------------------------------------------------\n",
            "\n",
            "--- Generando texto con Temperatura: 1.2 ---\n",
            "Texto generado: el ingenioso don quijote de bazalle  hacer piblosito, a\n",
            "ellostros vepas; sino que éste, el\n",
            "menotela como los benepidas; y que\n",
            "no infirme, y no gade pasar mus mundo, que lo memoria dé que el juzgar que tengo de pudiese\n",
            "--------------------------------------------------\n"
          ]
        }
      ]
    },
    {
      "cell_type": "markdown",
      "source": [
        "Al generar texto con el Modelo 2 a partir de una semilla manual (\"el ingenioso don\"), se observa nuevamente cómo la temperatura influye directamente en la diversidad y coherencia del texto generado. Con temperatura 0.2, el modelo produce frases altamente repetitivas y previsibles, centradas en estructuras comunes como “la mano de la cabeza”, lo que indica una fuerte adhesión a los patrones más frecuentes del corpus. Con temperatura 0.5, se mantiene cierta coherencia, pero ya aparecen combinaciones de palabras más variadas y una mayor fluidez narrativa, aunque con leves errores sintácticos.\n",
        "\n",
        "A temperatura 1.0, la generación se vuelve considerablemente más creativa y arriesgada, introduciendo neologismos o palabras deformadas, y mostrando frases con menor cohesión semántica. Finalmente, a temperatura 1.2, el texto pierde casi por completo la coherencia, generando expresiones caóticas y sin sentido claro, reflejando un alto grado de aleatoriedad. Esta progresión reafirma que la temperatura actúa como un regulador del balance entre estabilidad y creatividad, incluso cuando se parte de una semilla"
      ],
      "metadata": {
        "id": "n3Of5eYjOWSd"
      }
    },
    {
      "cell_type": "markdown",
      "metadata": {
        "id": "a6c7fcf8"
      },
      "source": [
        "## 4. Comparación de Modelos Entrenados\n",
        "\n"
      ]
    },
    {
      "cell_type": "code",
      "source": [
        "print(\"Comparando historiales de entrenamiento (Pérdida y Precisión)...\")\n",
        "comparar_modelos(history_base, history_model_2,\n",
        "                 nombre_base='Modelo Base',\n",
        "                 nombre_mod='Modelo 2')"
      ],
      "metadata": {
        "id": "s6OR56ZfNx9L",
        "colab": {
          "base_uri": "https://localhost:8080/",
          "height": 645
        },
        "outputId": "98a028ee-7bb9-485e-c034-a1876a16348b"
      },
      "execution_count": null,
      "outputs": [
        {
          "output_type": "stream",
          "name": "stdout",
          "text": [
            "Comparando historiales de entrenamiento (Pérdida y Precisión)...\n"
          ]
        },
        {
          "output_type": "display_data",
          "data": {
            "text/plain": [
              "<Figure size 1600x600 with 2 Axes>"
            ],
            "image/png": "[encoded data removed]"
          },
          "metadata": {}
        }
      ]
    },
    {
      "cell_type": "markdown",
      "source": [
        "En la comparación visual entre el Modelo Base y el Modelo 2, se observan diferencias sutiles pero relevantes en cuanto a pérdida y rendimiento a lo largo de las épocas.\n",
        "\n",
        "En el gráfico de pérdida (izquierda), ambos modelos muestran una tendencia decreciente tanto en entrenamiento como en validación, indicando un aprendizaje progresivo. Sin embargo, el Modelo 2 logra estabilizar antes su pérdida de validación, mostrando una curva ligeramente más plana y constante a partir de la época 20, mientras que el Modelo Base presenta más variabilidad, lo cual podría indicar una mayor propensión al sobreajuste.\n",
        "\n",
        "En cuanto al rendimiento (gráfico derecho), ambos modelos alcanzan niveles similares de precisión categórica, pero el Modelo 2 presenta una leve ventaja en las primeras épocas, especialmente en validación. Hacia el final del entrenamiento, el rendimiento de ambos se aproxima, aunque el Modelo 2 logra un ascenso más continuo y sostenido en la curva de entrenamiento."
      ],
      "metadata": {
        "id": "hb9hSpR-OlPd"
      }
    },
    {
      "cell_type": "code",
      "source": [
        "# Extraer las métricas de los objetos history para la mejor época\n",
        "metrics_base = {\n",
        "    'Modelo': 'Modelo Base (Mejor Época)',\n",
        "    'Loss Entrenamiento': history_base.history['loss'][best_epoch_index_base],\n",
        "    'Loss Validación': history_base.history['val_loss'][best_epoch_index_base] if 'val_loss' in history_base.history else 'N/A',\n",
        "    'Accuracy Entrenamiento': history_base.history['categorical_accuracy'][best_epoch_index_base],\n",
        "    'Accuracy Validación': history_base.history['val_categorical_accuracy'][best_epoch_index_base] if 'val_categorical_accuracy' in history_base.history else 'N/A'\n",
        "}\n",
        "\n",
        "metrics_model_2 = {\n",
        "    'Modelo': 'Modelo 2 (Mejor Época)',\n",
        "    'Loss Entrenamiento': history_model_2.history['loss'][best_epoch_index_model_2],\n",
        "    'Loss Validación': history_model_2.history['val_loss'][best_epoch_index_model_2] if 'val_loss' in history_model_2.history else 'N/A',\n",
        "    'Accuracy Entrenamiento': history_model_2.history['categorical_accuracy'][best_epoch_index_model_2],\n",
        "    'Accuracy Validación': history_model_2.history['val_categorical_accuracy'][best_epoch_index_model_2] if 'val_categorical_accuracy' in history_model_2.history else 'N/A'\n",
        "}\n",
        "\n",
        "# Crear un DataFrame para mostrar las métricas\n",
        "df_metrics_comparison = pd.DataFrame([metrics_base, metrics_model_2])\n",
        "\n",
        "# Mostrar el DataFrame\n",
        "display(df_metrics_comparison)"
      ],
      "metadata": {
        "id": "QP4TEgR1uQeR",
        "colab": {
          "base_uri": "https://localhost:8080/",
          "height": 125
        },
        "outputId": "1774b79b-5e47-4d20-dca9-046131b7ec47"
      },
      "execution_count": null,
      "outputs": [
        {
          "output_type": "display_data",
          "data": {
            "text/plain": [
              "                      Modelo  Loss Entrenamiento  Loss Validación  \\\n",
              "0  Modelo Base (Mejor Época)            1.219117         1.313231   \n",
              "1     Modelo 2 (Mejor Época)            1.236407         1.310750   \n",
              "\n",
              "   Accuracy Entrenamiento  Accuracy Validación  \n",
              "0                0.606112             0.585825  \n",
              "1                0.600856             0.586825  "
            ],
            "text/html": [
              "\n",
              "  <div id=\"df-cba63c41-8829-4ea2-b6d4-d149f40a396c\" class=\"colab-df-container\">\n",
              "    <div>\n",
              "<style scoped>\n",
              "    .dataframe tbody tr th:only-of-type {\n",
              "        vertical-align: middle;\n",
              "    }\n",
              "\n",
              "    .dataframe tbody tr th {\n",
              "        vertical-align: top;\n",
              "    }\n",
              "\n",
              "    .dataframe thead th {\n",
              "        text-align: right;\n",
              "    }\n",
              "</style>\n",
              "<table border=\"1\" class=\"dataframe\">\n",
              "  <thead>\n",
              "    <tr style=\"text-align: right;\">\n",
              "      <th></th>\n",
              "      <th>Modelo</th>\n",
              "      <th>Loss Entrenamiento</th>\n",
              "      <th>Loss Validación</th>\n",
              "      <th>Accuracy Entrenamiento</th>\n",
              "      <th>Accuracy Validación</th>\n",
              "    </tr>\n",
              "  </thead>\n",
              "  <tbody>\n",
              "    <tr>\n",
              "      <th>0</th>\n",
              "      <td>Modelo Base (Mejor Época)</td>\n",
              "      <td>1.219117</td>\n",
              "      <td>1.313231</td>\n",
              "      <td>0.606112</td>\n",
              "      <td>0.585825</td>\n",
              "    </tr>\n",
              "    <tr>\n",
              "      <th>1</th>\n",
              "      <td>Modelo 2 (Mejor Época)</td>\n",
              "      <td>1.236407</td>\n",
              "      <td>1.310750</td>\n",
              "      <td>0.600856</td>\n",
              "      <td>0.586825</td>\n",
              "    </tr>\n",
              "  </tbody>\n",
              "</table>\n",
              "</div>\n",
              "    <div class=\"colab-df-buttons\">\n",
              "\n",
              "  <div class=\"colab-df-container\">\n",
              "    <button class=\"colab-df-convert\" onclick=\"convertToInteractive('df-cba63c41-8829-4ea2-b6d4-d149f40a396c')\"\n",
              "            title=\"Convert this dataframe to an interactive table.\"\n",
              "            style=\"display:none;\">\n",
              "\n",
              "  <svg xmlns=\"http://www.w3.org/2000/svg\" height=\"24px\" viewBox=\"0 -960 960 960\">\n",
              "    <path d=\"M120-120v-720h720v720H120Zm60-500h600v-160H180v160Zm220 220h160v-160H400v160Zm0 220h160v-160H400v160ZM180-400h160v-160H180v160Zm440 0h160v-160H620v160ZM180-180h160v-160H180v160Zm440 0h160v-160H620v160Z\"/>\n",
              "  </svg>\n",
              "    </button>\n",
              "\n",
              "  <style>\n",
              "    .colab-df-container {\n",
              "      display:flex;\n",
              "      gap: 12px;\n",
              "    }\n",
              "\n",
              "    .colab-df-convert {\n",
              "      background-color: #E8F0FE;\n",
              "      border: none;\n",
              "      border-radius: 50%;\n",
              "      cursor: pointer;\n",
              "      display: none;\n",
              "      fill: #1967D2;\n",
              "      height: 32px;\n",
              "      padding: 0 0 0 0;\n",
              "      width: 32px;\n",
              "    }\n",
              "\n",
              "    .colab-df-convert:hover {\n",
              "      background-color: #E2EBFA;\n",
              "      box-shadow: 0px 1px 2px rgba(60, 64, 67, 0.3), 0px 1px 3px 1px rgba(60, 64, 67, 0.15);\n",
              "      fill: #174EA6;\n",
              "    }\n",
              "\n",
              "    .colab-df-buttons div {\n",
              "      margin-bottom: 4px;\n",
              "    }\n",
              "\n",
              "    [theme=dark] .colab-df-convert {\n",
              "      background-color: #3B4455;\n",
              "      fill: #D2E3FC;\n",
              "    }\n",
              "\n",
              "    [theme=dark] .colab-df-convert:hover {\n",
              "      background-color: #434B5C;\n",
              "      box-shadow: 0px 1px 3px 1px rgba(0, 0, 0, 0.15);\n",
              "      filter: drop-shadow(0px 1px 2px rgba(0, 0, 0, 0.3));\n",
              "      fill: #FFFFFF;\n",
              "    }\n",
              "  </style>\n",
              "\n",
              "    <script>\n",
              "      const buttonEl =\n",
              "        document.querySelector('#df-cba63c41-8829-4ea2-b6d4-d149f40a396c button.colab-df-convert');\n",
              "      buttonEl.style.display =\n",
              "        google.colab.kernel.accessAllowed ? 'block' : 'none';\n",
              "\n",
              "      async function convertToInteractive(key) {\n",
              "        const element = document.querySelector('#df-cba63c41-8829-4ea2-b6d4-d149f40a396c');\n",
              "        const dataTable =\n",
              "          await google.colab.kernel.invokeFunction('convertToInteractive',\n",
              "                                                    [key], {});\n",
              "        if (!dataTable) return;\n",
              "\n",
              "        const docLinkHtml = 'Like what you see? Visit the ' +\n",
              "          '<a target=\"_blank\" href=https://colab.research.google.com/notebooks/data_table.ipynb>data table notebook</a>'\n",
              "          + ' to learn more about interactive tables.';\n",
              "        element.innerHTML = '';\n",
              "        dataTable['output_type'] = 'display_data';\n",
              "        await google.colab.output.renderOutput(dataTable, element);\n",
              "        const docLink = document.createElement('div');\n",
              "        docLink.innerHTML = docLinkHtml;\n",
              "        element.appendChild(docLink);\n",
              "      }\n",
              "    </script>\n",
              "  </div>\n",
              "\n",
              "\n",
              "    <div id=\"df-9c390f31-cbcc-4ef3-bd41-a082a54f919f\">\n",
              "      <button class=\"colab-df-quickchart\" onclick=\"quickchart('df-9c390f31-cbcc-4ef3-bd41-a082a54f919f')\"\n",
              "                title=\"Suggest charts\"\n",
              "                style=\"display:none;\">\n",
              "\n",
              "<svg xmlns=\"http://www.w3.org/2000/svg\" height=\"24px\"viewBox=\"0 0 24 24\"\n",
              "     width=\"24px\">\n",
              "    <g>\n",
              "        <path d=\"M19 3H5c-1.1 0-2 .9-2 2v14c0 1.1.9 2 2 2h14c1.1 0 2-.9 2-2V5c0-1.1-.9-2-2-2zM9 17H7v-7h2v7zm4 0h-2V7h2v10zm4 0h-2v-4h2v4z\"/>\n",
              "    </g>\n",
              "</svg>\n",
              "      </button>\n",
              "\n",
              "<style>\n",
              "  .colab-df-quickchart {\n",
              "      --bg-color: #E8F0FE;\n",
              "      --fill-color: #1967D2;\n",
              "      --hover-bg-color: #E2EBFA;\n",
              "      --hover-fill-color: #174EA6;\n",
              "      --disabled-fill-color: #AAA;\n",
              "      --disabled-bg-color: #DDD;\n",
              "  }\n",
              "\n",
              "  [theme=dark] .colab-df-quickchart {\n",
              "      --bg-color: #3B4455;\n",
              "      --fill-color: #D2E3FC;\n",
              "      --hover-bg-color: #434B5C;\n",
              "      --hover-fill-color: #FFFFFF;\n",
              "      --disabled-bg-color: #3B4455;\n",
              "      --disabled-fill-color: #666;\n",
              "  }\n",
              "\n",
              "  .colab-df-quickchart {\n",
              "    background-color: var(--bg-color);\n",
              "    border: none;\n",
              "    border-radius: 50%;\n",
              "    cursor: pointer;\n",
              "    display: none;\n",
              "    fill: var(--fill-color);\n",
              "    height: 32px;\n",
              "    padding: 0;\n",
              "    width: 32px;\n",
              "  }\n",
              "\n",
              "  .colab-df-quickchart:hover {\n",
              "    background-color: var(--hover-bg-color);\n",
              "    box-shadow: 0 1px 2px rgba(60, 64, 67, 0.3), 0 1px 3px 1px rgba(60, 64, 67, 0.15);\n",
              "    fill: var(--button-hover-fill-color);\n",
              "  }\n",
              "\n",
              "  .colab-df-quickchart-complete:disabled,\n",
              "  .colab-df-quickchart-complete:disabled:hover {\n",
              "    background-color: var(--disabled-bg-color);\n",
              "    fill: var(--disabled-fill-color);\n",
              "    box-shadow: none;\n",
              "  }\n",
              "\n",
              "  .colab-df-spinner {\n",
              "    border: 2px solid var(--fill-color);\n",
              "    border-color: transparent;\n",
              "    border-bottom-color: var(--fill-color);\n",
              "    animation:\n",
              "      spin 1s steps(1) infinite;\n",
              "  }\n",
              "\n",
              "  @keyframes spin {\n",
              "    0% {\n",
              "      border-color: transparent;\n",
              "      border-bottom-color: var(--fill-color);\n",
              "      border-left-color: var(--fill-color);\n",
              "    }\n",
              "    20% {\n",
              "      border-color: transparent;\n",
              "      border-left-color: var(--fill-color);\n",
              "      border-top-color: var(--fill-color);\n",
              "    }\n",
              "    30% {\n",
              "      border-color: transparent;\n",
              "      border-left-color: var(--fill-color);\n",
              "      border-top-color: var(--fill-color);\n",
              "      border-right-color: var(--fill-color);\n",
              "    }\n",
              "    40% {\n",
              "      border-color: transparent;\n",
              "      border-right-color: var(--fill-color);\n",
              "      border-top-color: var(--fill-color);\n",
              "    }\n",
              "    60% {\n",
              "      border-color: transparent;\n",
              "      border-right-color: var(--fill-color);\n",
              "    }\n",
              "    80% {\n",
              "      border-color: transparent;\n",
              "      border-right-color: var(--fill-color);\n",
              "      border-bottom-color: var(--fill-color);\n",
              "    }\n",
              "    90% {\n",
              "      border-color: transparent;\n",
              "      border-bottom-color: var(--fill-color);\n",
              "    }\n",
              "  }\n",
              "</style>\n",
              "\n",
              "      <script>\n",
              "        async function quickchart(key) {\n",
              "          const quickchartButtonEl =\n",
              "            document.querySelector('#' + key + ' button');\n",
              "          quickchartButtonEl.disabled = true;  // To prevent multiple clicks.\n",
              "          quickchartButtonEl.classList.add('colab-df-spinner');\n",
              "          try {\n",
              "            const charts = await google.colab.kernel.invokeFunction(\n",
              "                'suggestCharts', [key], {});\n",
              "          } catch (error) {\n",
              "            console.error('Error during call to suggestCharts:', error);\n",
              "          }\n",
              "          quickchartButtonEl.classList.remove('colab-df-spinner');\n",
              "          quickchartButtonEl.classList.add('colab-df-quickchart-complete');\n",
              "        }\n",
              "        (() => {\n",
              "          let quickchartButtonEl =\n",
              "            document.querySelector('#df-9c390f31-cbcc-4ef3-bd41-a082a54f919f button');\n",
              "          quickchartButtonEl.style.display =\n",
              "            google.colab.kernel.accessAllowed ? 'block' : 'none';\n",
              "        })();\n",
              "      </script>\n",
              "    </div>\n",
              "\n",
              "  <div id=\"id_11f906a3-ee01-45eb-80d9-d0fc56ff0505\">\n",
              "    <style>\n",
              "      .colab-df-generate {\n",
              "        background-color: #E8F0FE;\n",
              "        border: none;\n",
              "        border-radius: 50%;\n",
              "        cursor: pointer;\n",
              "        display: none;\n",
              "        fill: #1967D2;\n",
              "        height: 32px;\n",
              "        padding: 0 0 0 0;\n",
              "        width: 32px;\n",
              "      }\n",
              "\n",
              "      .colab-df-generate:hover {\n",
              "        background-color: #E2EBFA;\n",
              "        box-shadow: 0px 1px 2px rgba(60, 64, 67, 0.3), 0px 1px 3px 1px rgba(60, 64, 67, 0.15);\n",
              "        fill: #174EA6;\n",
              "      }\n",
              "\n",
              "      [theme=dark] .colab-df-generate {\n",
              "        background-color: #3B4455;\n",
              "        fill: #D2E3FC;\n",
              "      }\n",
              "\n",
              "      [theme=dark] .colab-df-generate:hover {\n",
              "        background-color: #434B5C;\n",
              "        box-shadow: 0px 1px 3px 1px rgba(0, 0, 0, 0.15);\n",
              "        filter: drop-shadow(0px 1px 2px rgba(0, 0, 0, 0.3));\n",
              "        fill: #FFFFFF;\n",
              "      }\n",
              "    </style>\n",
              "    <button class=\"colab-df-generate\" onclick=\"generateWithVariable('df_metrics_comparison')\"\n",
              "            title=\"Generate code using this dataframe.\"\n",
              "            style=\"display:none;\">\n",
              "\n",
              "  <svg xmlns=\"http://www.w3.org/2000/svg\" height=\"24px\"viewBox=\"0 0 24 24\"\n",
              "       width=\"24px\">\n",
              "    <path d=\"M7,19H8.4L18.45,9,17,7.55,7,17.6ZM5,21V16.75L18.45,3.32a2,2,0,0,1,2.83,0l1.4,1.43a1.91,1.91,0,0,1,.58,1.4,1.91,1.91,0,0,1-.58,1.4L9.25,21ZM18.45,9,17,7.55Zm-12,3A5.31,5.31,0,0,0,4.9,8.1,5.31,5.31,0,0,0,1,6.5,5.31,5.31,0,0,0,4.9,4.9,5.31,5.31,0,0,0,6.5,1,5.31,5.31,0,0,0,8.1,4.9,5.31,5.31,0,0,0,12,6.5,5.46,5.46,0,0,0,6.5,12Z\"/>\n",
              "  </svg>\n",
              "    </button>\n",
              "    <script>\n",
              "      (() => {\n",
              "      const buttonEl =\n",
              "        document.querySelector('#id_11f906a3-ee01-45eb-80d9-d0fc56ff0505 button.colab-df-generate');\n",
              "      buttonEl.style.display =\n",
              "        google.colab.kernel.accessAllowed ? 'block' : 'none';\n",
              "\n",
              "      buttonEl.onclick = () => {\n",
              "        google.colab.notebook.generateWithVariable('df_metrics_comparison');\n",
              "      }\n",
              "      })();\n",
              "    </script>\n",
              "  </div>\n",
              "\n",
              "    </div>\n",
              "  </div>\n"
            ],
            "application/vnd.google.colaboratory.intrinsic+json": {
              "type": "dataframe",
              "variable_name": "df_metrics_comparison",
              "summary": "{\n  \"name\": \"df_metrics_comparison\",\n  \"rows\": 2,\n  \"fields\": [\n    {\n      \"column\": \"Modelo\",\n      \"properties\": {\n        \"dtype\": \"string\",\n        \"num_unique_values\": 2,\n        \"samples\": [\n          \"Modelo 2 (Mejor \\u00c9poca)\",\n          \"Modelo Base (Mejor \\u00c9poca)\"\n        ],\n        \"semantic_type\": \"\",\n        \"description\": \"\"\n      }\n    },\n    {\n      \"column\": \"Loss Entrenamiento\",\n      \"properties\": {\n        \"dtype\": \"number\",\n        \"std\": 0.012225620641252053,\n        \"min\": 1.2191170454025269,\n        \"max\": 1.236406683921814,\n        \"num_unique_values\": 2,\n        \"samples\": [\n          1.236406683921814,\n          1.2191170454025269\n        ],\n        \"semantic_type\": \"\",\n        \"description\": \"\"\n      }\n    },\n    {\n      \"column\": \"Loss Validaci\\u00f3n\",\n      \"properties\": {\n        \"dtype\": \"number\",\n        \"std\": 0.0017543204224174532,\n        \"min\": 1.3107495307922363,\n        \"max\": 1.3132305145263672,\n        \"num_unique_values\": 2,\n        \"samples\": [\n          1.3107495307922363,\n          1.3132305145263672\n        ],\n        \"semantic_type\": \"\",\n        \"description\": \"\"\n      }\n    },\n    {\n      \"column\": \"Accuracy Entrenamiento\",\n      \"properties\": {\n        \"dtype\": \"number\",\n        \"std\": 0.00371671983593319,\n        \"min\": 0.6008562445640564,\n        \"max\": 0.6061124801635742,\n        \"num_unique_values\": 2,\n        \"samples\": [\n          0.6008562445640564,\n          0.6061124801635742\n        ],\n        \"semantic_type\": \"\",\n        \"description\": \"\"\n      }\n    },\n    {\n      \"column\": \"Accuracy Validaci\\u00f3n\",\n      \"properties\": {\n        \"dtype\": \"number\",\n        \"std\": 0.0007070976774672692,\n        \"min\": 0.5858250260353088,\n        \"max\": 0.5868250131607056,\n        \"num_unique_values\": 2,\n        \"samples\": [\n          0.5868250131607056,\n          0.5858250260353088\n        ],\n        \"semantic_type\": \"\",\n        \"description\": \"\"\n      }\n    }\n  ]\n}"
            }
          },
          "metadata": {}
        }
      ]
    },
    {
      "cell_type": "markdown",
      "source": [
        "Al comparar las métricas obtenidas en la mejor época de cada modelo, se evidencia que ambos alcanzan un rendimiento muy similar tanto en pérdida como en precisión categórica. El Modelo Base logró una menor pérdida en entrenamiento (1.219) y una validación de 1.313, mientras que el Modelo 2 presentó una ligera pérdida adicional en entrenamiento (1.236) pero una validación marginalmente mejor (1.310).\n",
        "\n",
        "Respecto a la precisión categórica, el Modelo Base obtuvo 60.6 % en entrenamiento y 58.6 % en validación, frente al 60.1 % y 58.7 % respectivamente del Modelo 2. Esta diferencia es mínima pero favorable al Modelo 2, lo que refuerza la percepción obtenida en las curvas de entrenamiento: una arquitectura más regularizada puede facilitar una mejor generalización sin sacrificar capacidad de aprendizaje."
      ],
      "metadata": {
        "id": "4BhqDGQ5PH6C"
      }
    },
    {
      "cell_type": "code",
      "metadata": {
        "colab": {
          "base_uri": "https://localhost:8080/",
          "height": 707
        },
        "id": "5b76c105",
        "outputId": "001d0699-df52-4f26-d023-1711d49d77dc"
      },
      "source": [
        "# Extraer los nombres de los modelos y las métricas finales del DataFrame\n",
        "models = df_metrics_comparison['Modelo']\n",
        "train_loss = df_metrics_comparison['Loss Entrenamiento']\n",
        "val_loss = df_metrics_comparison['Loss Validación']\n",
        "\n",
        "\n",
        "x = np.arange(len(models)) # las posiciones de las etiquetas en x\n",
        "width = 0.35 # el ancho de las barras\n",
        "\n",
        "fig, ax = plt.subplots(1, 1, figsize=(10, 7)) # Aumentar el tamaño de la figura\n",
        "\n",
        "# Gráfico de Pérdida\n",
        "rects1 = ax.bar(x - width/2, train_loss, width, label='Entrenamiento')\n",
        "rects2 = ax.bar(x + width/2, val_loss, width, label='Validación')\n",
        "\n",
        "# Añadir etiquetas numéricas en las barras\n",
        "def autolabel(rects):\n",
        "\n",
        "    for rect in rects:\n",
        "        height = rect.get_height()\n",
        "        ax.annotate(f'{height:.3f}',\n",
        "                    xy=(rect.get_x() + rect.get_width() / 2, height),\n",
        "                    xytext=(0, 3),\n",
        "                    textcoords=\"offset points\",\n",
        "                    ha='center', va='bottom')\n",
        "\n",
        "autolabel(rects1)\n",
        "autolabel(rects2)\n",
        "\n",
        "\n",
        "ax.set_ylabel('Pérdida')\n",
        "ax.set_title('Comparación de Pérdida de Entrenamiento y Validación (Mejor Época)')\n",
        "ax.set_xticks(x)\n",
        "ax.set_xticklabels(models)\n",
        "ax.legend(loc='upper right') # Mantener la posición de la leyenda\n",
        "ax.grid(axis='y', linestyle='--', alpha=0.7)\n",
        "\n",
        "# Ajustar los límites del eje y para dar espacio a las etiquetas\n",
        "ax.set_ylim(0, max(train_loss.max(), val_loss.max()) * 1.15) # Aumentar el límite superior del eje y\n",
        "\n",
        "plt.tight_layout()\n",
        "plt.show()"
      ],
      "execution_count": null,
      "outputs": [
        {
          "output_type": "display_data",
          "data": {
            "text/plain": [
              "<Figure size 1000x700 with 1 Axes>"
            ],
            "image/png": "[encoded data removed]"
          },
          "metadata": {}
        }
      ]
    },
    {
      "cell_type": "markdown",
      "source": [
        "El gráfico de barras ilustra comparativamente la pérdida de entrenamiento y validación para ambos modelos en su mejor época, lo que permite una evaluación directa de su desempeño.\n",
        "\n",
        "Se observa que el Modelo Base logró una menor pérdida en entrenamiento (1.219) que el Modelo 2 (1.236), lo cual podría indicar que se ajustó ligeramente mejor a los datos de entrenamiento. Sin embargo, cuando se analiza la pérdida en validación, el Modelo 2 presenta una ventaja leve, con un valor de 1.311 frente a 1.313 del Modelo Base.\n",
        "\n",
        "Esta diferencia, aunque pequeña, sugiere que el Modelo 2 logra una mejor generalización, posiblemente gracias a las técnicas de regularización incorporadas (como recurrent_dropout). Además, la cercanía entre ambas pérdidas en cada modelo indica que no hay evidencia fuerte de sobreajuste, ya que el gap entre entrenamiento y validación es moderado y consistente."
      ],
      "metadata": {
        "id": "yEi_8nlNPikB"
      }
    },
    {
      "cell_type": "markdown",
      "source": [
        "## Conclusiones Finales\n",
        "\n",
        "A lo largo de este trabajo se implementaron y compararon dos modelos basados en redes LSTM para la generación de texto carácter a carácter, utilizando como corpus fragmentos de *Don Quijote de la Mancha*. Ambos modelos fueron entrenados con representación one-hot y evaluados en términos de pérdida y exactitud tanto en entrenamiento como validación.\n",
        "\n",
        "Se observó que ambos modelos lograron aprender patrones léxicos y estructurales del corpus, siendo capaces de generar secuencias de texto en español con palabras reconocibles, e incluso con estilo narrativo similar al original. La modulación de la **temperatura** durante la generación permitió ajustar el grado de creatividad del modelo: temperaturas bajas generaron texto más repetitivo pero coherente, mientras que temperaturas altas dieron lugar a secuencias más creativas, aunque con menor coherencia semántica.\n",
        "\n",
        "Al comparar el **Modelo Base** con el **Modelo 2** (que introdujo `recurrent_dropout`), se apreció un rendimiento muy similar. Sin embargo, el Modelo 2 mostró una **ligera ventaja en pérdida de validación**, lo cual podría indicar una mejor capacidad de generalización, aunque la diferencia fue marginal.\n",
        "\n",
        "Durante la experimentación también se intentaron **ajustes en la longitud de secuencia (`SEQ_LENGTH`)**, incrementándola de 30 a 35 caracteres. Si bien esto buscaba capturar dependencias a mayor plazo, se evidenció una **limitación crítica en los recursos de RAM disponibles**, lo que imposibilitó seguir con esta configuración. De manera similar, al aumentar el parámetro `max_sequences` durante la generación del dataset, también se produjo un agotamiento de memoria. Estos desafíos revelan la necesidad de equilibrar la complejidad del modelo y el volumen de datos con las capacidades computacionales del entorno.\n",
        "\n",
        "Finalmente, el trabajo cumple con los objetivos planteados, permitiendo explorar la generación de texto en español desde un enfoque práctico, interpretar la evolución de aprendizaje a lo largo de las épocas y comprender el impacto de distintos factores como la arquitectura, temperatura y longitud de secuencia en el comportamiento de los modelos de lenguaje.\n"
      ],
      "metadata": {
        "id": "5NvBs5VbQb4w"
      }
    }
  ]
}