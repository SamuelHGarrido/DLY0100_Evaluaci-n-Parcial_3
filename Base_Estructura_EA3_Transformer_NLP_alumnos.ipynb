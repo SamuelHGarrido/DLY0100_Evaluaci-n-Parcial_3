{
  "cells": [
    {
      "cell_type": "markdown",
      "source": [
        "# Evaluación 3 - Implementación de Transformers para Procesamiento de Lenguaje Natural (NLP)\n",
        "\n",
        "**Autores:**\n",
        "\n",
        "+ Matias Aniñir\n",
        "+ Samuel Garrido\n",
        "\n",
        "**Correos Electrónicos:**\n",
        "\n",
        "+ mat.aninir@duocuc.cl\n",
        "+ sam.garrido@duocuc.cl\n",
        "\n",
        "**Fecha de Creación:** Junio de 2025\n",
        "**Versión:** 1.0  \n",
        "\n",
        "---\n",
        "\n",
        "## Descripción\n",
        "\n",
        "Este notebook contiene el desarrollo de la evaluación 3 de la asignatura de Deep Learning de la carrera de Ingeniería en Informática de DuocUC sede Concepción.\n",
        "\n",
        "---\n",
        "\n",
        "## Requisitos de Software\n",
        "\n",
        "Este notebook fue desarrollado con Python 3.10"
      ],
      "metadata": {
        "id": "OgIEdm0xmgIF"
      },
      "id": "OgIEdm0xmgIF"
    },
    {
      "cell_type": "markdown",
      "source": [
        "\n",
        "### Objetivo\n",
        "En esta evaluación, implementaremos un modelo basado en arquitecturas de Transformers para una tarea de procesamiento de lenguaje natural (NLP), utilizando el dataset **DailyDialog**. Este conjunto de datos de diálogos permite que el modelo practique en generación de texto y comprensión de contexto en interacciones cotidianas.\n",
        "\n",
        "Usaremos TensorFlow para construir un modelo transformer básico con las siguientes características:\n",
        "- **Encoder-Decoder**: para procesar la entrada y generar salida secuencial.\n",
        "- **Atención Multi-cabezal**: para capturar dependencias a largo plazo en el diálogo.\n",
        "\n",
        "Al final, evaluaremos el modelo utilizando métricas específicas de NLP, como BLEU o ROUGE.\n"
      ],
      "metadata": {
        "id": "FdwUfYbVO9Nk"
      },
      "id": "FdwUfYbVO9Nk"
    },
    {
      "cell_type": "markdown",
      "source": [
        "## Aclaración"
      ],
      "metadata": {
        "id": "t2C6nEcdms1g"
      },
      "id": "t2C6nEcdms1g"
    },
    {
      "cell_type": "markdown",
      "source": [
        "Debido a los problemas de rendimiento detectados durante la implementación del notebook proporcionado por Duoc, se tomó la decisión de utilizar y adaptar funciones del notebook creado por el usuario jaygala24, disponible en el enlace: https://colab.research.google.com/github/jaygala24/pytorch-implementations/blob/master/Attention%20Is%20All%20You%20Need.ipynb. Al utilizar estas funciones adaptadas, junto con ajustes en los datos y algunos otros elementos del código, se logró una mejora significativa en el rendimiento del modelo en comparación con el notebook original denominado EA3_Transformer_MALO.ipynb que se encuentra en el github."
      ],
      "metadata": {
        "id": "8XaQD9Sdksq4"
      },
      "id": "8XaQD9Sdksq4"
    },
    {
      "cell_type": "markdown",
      "source": [
        "## 1. Carga y Exploración del Dataset: DailyDialog"
      ],
      "metadata": {
        "id": "r4QqCQe6TTB1"
      },
      "id": "r4QqCQe6TTB1"
    },
    {
      "cell_type": "code",
      "source": [
        "# ─────────────────────────────────────────────────────────────────────────────\n",
        "# IMPORTS\n",
        "# ─────────────────────────────────────────────────────────────────────────────\n",
        "import math\n",
        "import random\n",
        "import re\n",
        "import unicodedata\n",
        "import warnings\n",
        "from collections import Counter\n",
        "\n",
        "import matplotlib.pyplot as plt\n",
        "import numpy as np\n",
        "import pandas as pd\n",
        "import seaborn as sns\n",
        "import spacy\n",
        "import torch\n",
        "import torch.nn as nn\n",
        "import torch.nn.functional as F\n",
        "import torch.optim as optim\n",
        "from matplotlib import rc\n",
        "from nltk.translate.bleu_score import corpus_bleu\n",
        "from pylab import rcParams\n",
        "from torch.nn.utils.rnn import pad_sequence\n",
        "from torch.utils.data import DataLoader, Dataset\n",
        "from tqdm.auto import tqdm\n",
        "\n",
        "warnings.filterwarnings('ignore')"
      ],
      "metadata": {
        "id": "lSrRbWitUG59"
      },
      "id": "lSrRbWitUG59",
      "execution_count": null,
      "outputs": []
    },
    {
      "cell_type": "code",
      "source": [
        "# ============================================================================\n",
        "# 1. DESCARGA Y LECTURA DE LOS CSV\n",
        "# ============================================================================\n",
        "!wget -q https://raw.githubusercontent.com/JaznaLaProfe/Deep-Learning/main/data/dialog/train.csv\n",
        "!wget -q https://raw.githubusercontent.com/JaznaLaProfe/Deep-Learning/main/data/dialog/validation.csv\n",
        "!wget -q https://raw.githubusercontent.com/JaznaLaProfe/Deep-Learning/main/data/dialog/test.csv\n",
        "\n",
        "train_df = pd.read_csv(\"train.csv\")\n",
        "valid_df = pd.read_csv(\"validation.csv\")\n",
        "test_df  = pd.read_csv(\"test.csv\")"
      ],
      "metadata": {
        "id": "oMLazMn2PJGP"
      },
      "id": "oMLazMn2PJGP",
      "execution_count": null,
      "outputs": []
    },
    {
      "cell_type": "markdown",
      "source": [
        "Los diálogos se encuentran almacenados en un archivo CSV. En su interior se aprecia la estructura conversacional: los signos de interrogación, las comillas y los saltos de línea marcan claramente cada turno de pregunta y respuesta entre los interlocutores."
      ],
      "metadata": {
        "id": "Z37U2MtBnwvM"
      },
      "id": "Z37U2MtBnwvM"
    },
    {
      "cell_type": "code",
      "source": [
        "print(train_df[\"dialog\"][0])"
      ],
      "metadata": {
        "colab": {
          "base_uri": "https://localhost:8080/"
        },
        "id": "30eqRHpaPaYP",
        "outputId": "6f0658f2-ddd2-406e-e7a9-1b02bfc7380a"
      },
      "id": "30eqRHpaPaYP",
      "execution_count": null,
      "outputs": [
        {
          "output_type": "stream",
          "name": "stdout",
          "text": [
            "['Say , Jim , how about going for a few beers after dinner ? '\n",
            " ' You know that is tempting but is really not good for our fitness . '\n",
            " ' What do you mean ? It will help us to relax . '\n",
            " \" Do you really think so ? I don't . It will just make us fat and act silly . Remember last time ? \"\n",
            " \" I guess you are right.But what shall we do ? I don't feel like sitting at home . \"\n",
            " ' I suggest a walk over to the gym where we can play singsong and meet some of our friends . '\n",
            " \" That's a good idea . I hear Mary and Sally often go there to play pingpong.Perhaps we can make a foursome with them . \"\n",
            " ' Sounds great to me ! If they are willing , we could ask them to go dancing with us.That is excellent exercise and fun , too . '\n",
            " \" Good.Let ' s go now . \" ' All right . ']\n"
          ]
        }
      ]
    },
    {
      "cell_type": "markdown",
      "source": [
        "Ahora se convierte la columna `dialog` del CSV en pares de pregunta-respuesta listos para el modelo. La función `parse_dialog` limpia cada diálogo: descarta valores nulos, quita corchetes y saltos de línea, y usa una expresión regular para separar los turnos, devolviendo una lista de enunciados ordenados. Luego, `extract_pairs` recorre esos enunciados y agrupa cada intervención con la respuesta inmediata siguiente, formando los pares. El mismo procedimiento se aplica a los DataFrames de entrenamiento, validación y prueba, y se informa el número de pares generados en cada conjunto.\n"
      ],
      "metadata": {
        "id": "NiJ9uncKoaZ9"
      },
      "id": "NiJ9uncKoaZ9"
    },
    {
      "cell_type": "code",
      "source": [
        "# ============================================================================\n",
        "# 2. PARSER ROBUSTO PARA LA COLUMNA \"dialog\"\n",
        "# ============================================================================\n",
        "def parse_dialog(raw: str):\n",
        "    if pd.isna(raw):\n",
        "        return []\n",
        "    s = str(raw).strip()\n",
        "    if s.startswith('[') and s.endswith(']'):\n",
        "        s = s[1:-1]\n",
        "    s = s.replace(\"\\n\", \" \")\n",
        "    parts = re.split(r\"\"\"['\"]\\s+['\"]\"\"\", s)\n",
        "    return [p.strip(\" '\\\"\") for p in parts if p.strip(\" '\\\"\")]\n",
        "\n",
        "def extract_pairs(df: pd.DataFrame):\n",
        "    pairs = []\n",
        "    for raw in df[\"dialog\"]:\n",
        "        utt = parse_dialog(raw)\n",
        "        pairs += [(utt[i], utt[i + 1]) for i in range(len(utt) - 1)]\n",
        "    return pairs\n",
        "\n",
        "train_pairs, valid_pairs, test_pairs = map(extract_pairs, (train_df, valid_df, test_df))\n",
        "print(f\"Pares obtenidos: {len(train_pairs)} / {len(valid_pairs)} / {len(test_pairs)}\")"
      ],
      "metadata": {
        "colab": {
          "base_uri": "https://localhost:8080/"
        },
        "id": "aAVbQVhjWjOf",
        "outputId": "4e834916-4344-4a94-d0ed-7c749b402902"
      },
      "id": "aAVbQVhjWjOf",
      "execution_count": null,
      "outputs": [
        {
          "output_type": "stream",
          "name": "stdout",
          "text": [
            "Pares obtenidos: 76052 / 7069 / 6740\n"
          ]
        }
      ]
    },
    {
      "cell_type": "markdown",
      "source": [
        "En esta etapa se lleva el texto crudo a tensores listos para el Transformer sin recurrir a modelos pre-entrenados:\n",
        "\n",
        "1. **Tokenización artesanal**\n",
        "   *Un patrón regex* identifica palabras alfanuméricas y signos de puntuación individuales. Cada coincidencia se convierte a minúsculas, de modo que “Hello, world!” pasa a `[\"hello\", \",\", \"world\", \"!\"]`.\n",
        "\n",
        "2. **Vocabulario construido a mano**\n",
        "\n",
        "   * Se inicializan los símbolos especiales `<pad>`, `<unk>`, `<sos>` y `<eos>`.\n",
        "   * Con un contador se recorren los pares de entrenamiento y se añaden solo los tokens cuyo número de apariciones es ≥ 2, evitando vocablos poco representativos.\n",
        "   * Cada token recibe un índice entero; los especiales ocupan las posiciones 0-3.\n",
        "\n",
        "3. **Codificación de oraciones**\n",
        "   La función `encode` mapea cada token al índice correspondiente —o a `<unk>` si no existe— y encierra la secuencia entre `<sos>` y `<eos>`, devolviendo un tensor `torch.long`.\n",
        "\n",
        "4. **Dataset y DataLoader**\n",
        "\n",
        "   * `PairsDataset` almacena cada par `(src, trg)` ya codificado.\n",
        "   * `collate_fn` aplica *padding* con `<pad>` para que todos los ejemplos de un lote compartan la misma longitud y devuelve tensores con la forma `[seq_len, batch]`.\n",
        "   * Se crean *DataLoaders* para entrenamiento, validación y prueba con `BATCH_SIZE = 64`; se activan barajado y uso de GPU si está disponible.\n",
        "\n",
        "5. **Máscara de padding**\n",
        "   La función `make_pad_mask` genera un tensor booleano que marca con `True` las posiciones `<pad>` (dimensión `[batch, seq_len]`). El Transformer la usa para ignorar relleno durante la atención.\n",
        "\n",
        "Con estas rutinas, cada diálogo queda representado numéricamente, correctamente alineado en lotes y acompañado de la máscara necesaria para un entrenamiento estable y eficiente.\n"
      ],
      "metadata": {
        "id": "u4u1BLgyogZf"
      },
      "id": "u4u1BLgyogZf"
    },
    {
      "cell_type": "code",
      "source": [
        "# ============================================================================\n",
        "# 3. TOKENIZACIÓN SIN MODELOS PRE-ENTRENADOS\n",
        "# ============================================================================\n",
        "TOKEN_REGEX = re.compile(r\"[A-Za-z0-9]+|[^\\w\\s]\")      # palabras y signos sueltos\n",
        "\n",
        "def tokenize(text: str):\n",
        "    \"\"\"\n",
        "    Divide el texto en tokens sin recurrir a modelos entrenados.\n",
        "    - Convierte a minúsculas.\n",
        "    - Separa puntuación como tokens individuales.\n",
        "    \"\"\"\n",
        "    return [tok.lower() for tok in TOKEN_REGEX.findall(text)]\n",
        "\n",
        "# ============================================================================\n",
        "# 4. CONSTRUCCIÓN MANUAL DEL VOCABULARIO\n",
        "# ============================================================================\n",
        "\n",
        "SPECIALS = [\"<pad>\", \"<unk>\", \"<sos>\", \"<eos>\"]\n",
        "counter = Counter()\n",
        "\n",
        "for src, trg in train_pairs:\n",
        "    counter.update(tokenize(src))\n",
        "    counter.update(tokenize(trg))\n",
        "\n",
        "vocab = {tok: idx for idx, tok in enumerate(SPECIALS)}   # 0-3 reservados\n",
        "for token, freq in counter.items():\n",
        "    if freq >= 2:                                        # MIN_FREQ = 2\n",
        "        vocab.setdefault(token, len(vocab))\n",
        "\n",
        "PAD_IDX = vocab[\"<pad>\"]\n",
        "UNK_IDX = vocab[\"<unk>\"]\n",
        "SOS_IDX = vocab[\"<sos>\"]\n",
        "EOS_IDX = vocab[\"<eos>\"]\n",
        "\n",
        "# ============================================================================\n",
        "# 5. FUNCIONES DE CODIFICACIÓN / DECODIFICACIÓN\n",
        "# ============================================================================\n",
        "\n",
        "def encode(sentence: str):\n",
        "    ids = [vocab.get(tok, UNK_IDX) for tok in tokenize(sentence)]\n",
        "    return torch.tensor([SOS_IDX] + ids + [EOS_IDX], dtype=torch.long)\n",
        "\n",
        "# ============================================================================\n",
        "# 6. DATASET Y DATALOADER\n",
        "# ============================================================================\n",
        "\n",
        "class PairsDataset(Dataset):\n",
        "    def __init__(self, pairs):\n",
        "        self.data = [(encode(src), encode(trg)) for src, trg in pairs]\n",
        "    def __len__(self):\n",
        "        return len(self.data)\n",
        "    def __getitem__(self, idx):\n",
        "        return self.data[idx]\n",
        "\n",
        "train_ds, valid_ds, test_ds = map(PairsDataset, (train_pairs, valid_pairs, test_pairs))\n",
        "\n",
        "def collate_fn(batch):\n",
        "    src_seq, trg_seq = zip(*batch)\n",
        "    src_pad = pad_sequence(src_seq, batch_first=False, padding_value=PAD_IDX)\n",
        "    trg_pad = pad_sequence(trg_seq, batch_first=False, padding_value=PAD_IDX)\n",
        "    return src_pad, trg_pad                                # [seq_len, batch]\n",
        "\n",
        "BATCH_SIZE = 64\n",
        "device = torch.device(\"cuda\" if torch.cuda.is_available() else \"cpu\")\n",
        "\n",
        "train_loader = DataLoader(train_ds, batch_size=BATCH_SIZE,\n",
        "                          shuffle=True, collate_fn=collate_fn)\n",
        "valid_loader = DataLoader(valid_ds, batch_size=BATCH_SIZE,\n",
        "                          collate_fn=collate_fn)\n",
        "test_loader  = DataLoader(test_ds,  batch_size=BATCH_SIZE,\n",
        "                          collate_fn=collate_fn)\n",
        "\n",
        "# ============================================================================\n",
        "# 7. MÁSCARA DE PADDING (para tu Transformer)\n",
        "# ============================================================================\n",
        "def make_pad_mask(seq):\n",
        "    # seq: [seq_len, batch] → devuelve [batch, seq_len]\n",
        "    return (seq == PAD_IDX).T\n"
      ],
      "metadata": {
        "id": "aHDJ5eTXWAym"
      },
      "id": "aHDJ5eTXWAym",
      "execution_count": null,
      "outputs": []
    },
    {
      "cell_type": "markdown",
      "source": [
        "## Arquitectura del transformer"
      ],
      "metadata": {
        "id": "pTa5VPP5pVtr"
      },
      "id": "pTa5VPP5pVtr"
    },
    {
      "cell_type": "markdown",
      "source": [
        "![image.png](data:image/png;base64,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)\n",
        "\n",
        "(source: http://arxiv.org/pdf/1706.03762)"
      ],
      "metadata": {
        "id": "K1AJOVVpqop_"
      },
      "id": "K1AJOVVpqop_"
    },
    {
      "cell_type": "markdown",
      "source": [
        "La arquitectura Transformer, propuesta por Vaswani et al. (2017), se compone de dos bloques principales: **encoder** y **decoder**, ambos apilados en capas múltiples (indicadas como N× en la figura). A diferencia de modelos anteriores, no utiliza recurrencia ni convoluciones, sino atención paralela sobre toda la secuencia.\n",
        "\n",
        "---\n",
        "\n",
        " **1. Encoder**\n",
        "\n",
        "* **Input Embedding + Positional Encoding**: convierte las palabras en vectores y añade información de posición.\n",
        "* **Multi-Head Attention**: cada token puede enfocarse en otros tokens de la entrada.\n",
        "* **Feed Forward**: red neuronal simple aplicada a cada posición.\n",
        "* **Add & Norm**: conexiones residuales y normalización que estabilizan el aprendizaje.\n",
        "\n",
        "Este bloque codifica la secuencia de entrada en una representación contextual rica.\n",
        "\n",
        "---\n",
        "\n",
        " **2. Decoder**\n",
        "\n",
        "* **Masked Multi-Head Attention**: atención sobre la propia secuencia de salida, pero enmascarando el futuro.\n",
        "* **Encoder–Decoder Attention**: el decoder atiende a las representaciones del encoder.\n",
        "* **Feed Forward y Add & Norm**: igual que en el encoder.\n",
        "* **Output**: tras una proyección lineal, se aplica *softmax* para predecir la siguiente palabra.\n",
        "\n",
        "El decoder genera la respuesta paso a paso, usando tanto el contexto generado por el encoder como lo ya generado.\n",
        "\n",
        "---\n",
        "\n",
        "Este diseño permite al Transformer aprender dependencias largas y complejas de manera eficiente y en paralelo, superando las limitaciones de las redes recurrentes tradicionales.\n"
      ],
      "metadata": {
        "id": "LszK6gxQqrmB"
      },
      "id": "LszK6gxQqrmB"
    },
    {
      "cell_type": "markdown",
      "source": [
        "### Scaled Dot-Product Attention"
      ],
      "metadata": {
        "id": "8nXJ6qPIpIaX"
      },
      "id": "8nXJ6qPIpIaX"
    },
    {
      "cell_type": "markdown",
      "source": [
        "![image.png](data:image/png;base64,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)\n",
        "(source: https://arxiv.org/pdf/1706.03762.pdf)"
      ],
      "metadata": {
        "id": "ea-P4aJLpeiv"
      },
      "id": "ea-P4aJLpeiv"
    },
    {
      "cell_type": "markdown",
      "source": [
        "El **Scaled Dot-Product Attention** permite que cada token obtenga, en paralelo, la información más relevante del resto de la secuencia:\n",
        "\n",
        "* **Calcula similitudes**: el producto punto entre *query* y *key* mide cuánto importa cada token para otro.\n",
        "* **Escala por √dₖ**: divide esos puntajes para evitar saturar el *softmax* y mantener gradientes estables.\n",
        "* **Aplica máscaras**: descarta posiciones de *padding* o futuros tokens (look-ahead).\n",
        "* **Pondera los valores**: el *softmax* convierte los puntajes en pesos; con ellos promedia los vectores *value* y genera el contexto final.\n",
        "\n",
        "Gracias a este proceso, el Transformer captura dependencias a cualquier distancia sin recurrir a pasos secuenciales.\n"
      ],
      "metadata": {
        "id": "ik_w0cNYpmDz"
      },
      "id": "ik_w0cNYpmDz"
    },
    {
      "cell_type": "code",
      "source": [
        "class ScaledDotProductAttention(nn.Module):\n",
        "    \"\"\" Computes scaled dot product attention\n",
        "    \"\"\"\n",
        "\n",
        "    def __init__(self, scale, dropout_rate):\n",
        "        super(ScaledDotProductAttention, self).__init__()\n",
        "        self.scale = scale\n",
        "        self.dropout_rate = dropout_rate\n",
        "\n",
        "        self.dropout = nn.Dropout(dropout_rate)\n",
        "\n",
        "\n",
        "    def forward(self, query, key, value, mask=None):\n",
        "        \"\"\" query: (batch_size, n_heads, query_len, head_dim)\n",
        "            key: (batch_size, n_heads, key_len, head_dim)\n",
        "            value: (batch_size, n_heads, value_len, head_dim)\n",
        "            mask: (batch_size, 1, 1, source_seq_len) for source mask\n",
        "                  (batch_size, 1, target_seq_len, target_seq_len) for target mask\n",
        "        \"\"\"\n",
        "        # calculate alignment scores\n",
        "        scores = torch.matmul(query, key.transpose(-2, -1))  # (batch_size, n_heads, query_len, value_len)\n",
        "        scores = scores / self.scale  # (batch_size, num_heads, query_len, value_len)\n",
        "\n",
        "        # mask out invalid positions\n",
        "        if mask is not None:\n",
        "            scores = scores.masked_fill(mask == 0, float('-inf'))  # (batch_size, n_heads, query_len, value_len)\n",
        "\n",
        "        # calculate the attention weights (prob) from alignment scores\n",
        "        attn_probs = F.softmax(scores, dim=-1)  # (batch_size, n_heads, query_len, value_len)\n",
        "\n",
        "        # calculate context vector\n",
        "        output = torch.matmul(self.dropout(attn_probs), value)  # (batch_size, n_heads, query_len, head_dim)\n",
        "\n",
        "        # output: (batch_size, n_heads, query_len, head_dim)\n",
        "        # attn_probs: (batch_size, n_heads, query_len, value_len)\n",
        "        return output, attn_probs"
      ],
      "metadata": {
        "id": "amKxDs9zTV8k"
      },
      "id": "amKxDs9zTV8k",
      "execution_count": null,
      "outputs": []
    },
    {
      "cell_type": "markdown",
      "source": [
        "### Multi-Head Attention Module\n"
      ],
      "metadata": {
        "id": "tgTlS0ropqne"
      },
      "id": "tgTlS0ropqne"
    },
    {
      "cell_type": "markdown",
      "source": [
        "![image.png](data:image/png;base64,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)\n",
        "(source: https://arxiv.org/pdf/1706.03762.pdf)\n"
      ],
      "metadata": {
        "id": "2mzCU9y3pttS"
      },
      "id": "2mzCU9y3pttS"
    },
    {
      "cell_type": "markdown",
      "source": [
        "Este módulo amplía la atención básica permitiendo que el modelo examine la información desde varios “puntos de vista” simultáneos:\n",
        "\n",
        "* **Proyecciones paralelas**: la entrada se separa en *n* subespacios (“cabezas”), donde cada cabeza obtiene sus propias matrices *query*, *key* y *value*.\n",
        "* **Atención independiente**: dentro de cada cabeza se aplica Scaled Dot-Product Attention, calculando qué tokens son relevantes según una métrica diferente.\n",
        "* **Fusión de contextos**: los resultados de todas las cabezas se concatenan y pasan por una última proyección lineal, combinando las dependencias aprendidas.\n",
        "\n",
        "Con esto el Transformer captura distintos tipos de relaciones (léxicas, sintácticas o semánticas) de forma concurrente, enriqueciendo la representación de cada token sin aumentar la profundidad de la red.\n"
      ],
      "metadata": {
        "id": "rWTDTccgpvUS"
      },
      "id": "rWTDTccgpvUS"
    },
    {
      "cell_type": "code",
      "source": [
        "class MultiHeadAttention(nn.Module):\n",
        "    \"\"\" Implements Multi-Head Self-Attention proposed by Vaswani et al., 2017.\n",
        "        refer https://arxiv.org/abs/1706.03762\n",
        "    \"\"\"\n",
        "\n",
        "    def __init__(self, d_model, n_heads, dropout_rate=0.1):\n",
        "        super(MultiHeadAttention, self).__init__()\n",
        "        assert d_model % n_heads == 0, \"`d_model` should be a multiple of `n_heads`\"\n",
        "\n",
        "        self.d_model = d_model\n",
        "        self.n_heads = n_heads\n",
        "        self.d_k = self.d_v = d_model // n_heads  # head_dim\n",
        "        self.dropout_rate = dropout_rate\n",
        "\n",
        "        self.W_q = nn.Linear(d_model, d_model, bias=False)\n",
        "        self.W_k = nn.Linear(d_model, d_model, bias=False)\n",
        "        self.W_v = nn.Linear(d_model, d_model, bias=False)\n",
        "        self.W_o = nn.Linear(d_model, d_model)\n",
        "\n",
        "        self.attention = ScaledDotProductAttention(np.sqrt(self.d_k), dropout_rate)\n",
        "\n",
        "\n",
        "    def split_heads(self, x):\n",
        "        \"\"\" x: (batch_size, seq_len, d_model)\n",
        "        \"\"\"\n",
        "        batch_size = x.size(0)\n",
        "        x = x.view(batch_size, -1, self.n_heads, self.d_k).transpose(1, 2)  # (batch_size, n_heads, seq_len, d_k)\n",
        "\n",
        "        # x: (batch_size, n_heads, seq_len, head_dim)\n",
        "        return x\n",
        "\n",
        "\n",
        "    def group_heads(self, x):\n",
        "        \"\"\" x: (batch_size, n_heads, seq_len, head_dim)\n",
        "        \"\"\"\n",
        "        batch_size = x.size(0)\n",
        "        x = x.transpose(1, 2).contiguous().view(batch_size, -1, self.n_heads * self.d_k)\n",
        "\n",
        "        # x: (batch_size, seq_len, d_model)\n",
        "        return x\n",
        "\n",
        "\n",
        "    def forward(self, query, key, value, mask=None):\n",
        "        \"\"\" query: (batch_size, query_len, d_model)\n",
        "            key: (batch_size, key_len, d_model)\n",
        "            value: (batch_size, value_len, d_model)\n",
        "            mask: (batch_size, 1, source_seq_len) for source mask\n",
        "                  (batch_size, target_seq_len, target_seq_len) for target mask\n",
        "        \"\"\"\n",
        "        # apply linear projections to query, key and value\n",
        "        Q = self.split_heads(self.W_q(query))  # (batch_size, n_heads, query_len, head_dim)\n",
        "        K = self.split_heads(self.W_k(key))  # (batch_size, n_heads, key_len, head_dim)\n",
        "        V = self.split_heads(self.W_v(value))  # (batch_size, n_heads, value_len, head_dim)\n",
        "\n",
        "        if mask is not None:\n",
        "            # apply same mask for all the heads\n",
        "            mask = mask.unsqueeze(1)\n",
        "\n",
        "            # mask: (batch_size, 1, 1, source_seq_len) for source mask\n",
        "            #       (batch_size, 1, target_seq_len, target_seq_len) for target mask\n",
        "\n",
        "        # calculate attention weights and context vector for each of the heads\n",
        "        x, attn = self.attention(Q, K, V, mask)\n",
        "\n",
        "        # x: (batch_size, n_heads, query_len, head_dim)\n",
        "        # attn: (batch_size, n_heads, query_len, value_len)\n",
        "\n",
        "        # concatenate context vector of all the heads\n",
        "        x = self.group_heads(x)  # (batch_size, query_len, d_model)\n",
        "\n",
        "        # apply linear projection to concatenated context vector\n",
        "        x = self.W_o(x)  # (batch_size, query_len, d_model)\n",
        "\n",
        "        # x: (batch_size, query_len, d_model)\n",
        "        # attn: (batch_size, n_heads, query_len, value_len)\n",
        "        return x, attn"
      ],
      "metadata": {
        "id": "bWzVZisBTbjC"
      },
      "id": "bWzVZisBTbjC",
      "execution_count": null,
      "outputs": []
    },
    {
      "cell_type": "markdown",
      "source": [
        "### PositionwiseFeedForward"
      ],
      "metadata": {
        "id": "1uB0bbVdrX7B"
      },
      "id": "1uB0bbVdrX7B"
    },
    {
      "cell_type": "markdown",
      "source": [
        "El módulo `PositionwiseFeedForward` implementa una red neuronal totalmente conectada que se aplica de forma independiente a cada posición de la secuencia. Está compuesto por dos capas lineales con una función de activación ReLU intermedia y una capa de *dropout* para regularización.\n",
        "\n",
        "Su función dentro del Transformer es **aumentar la capacidad de representación no lineal** de cada token después de que este haya pasado por el mecanismo de atención. A diferencia de una red tradicional, esta operación se realiza **posición por posición**, manteniendo la estructura secuencial, pero enriqueciendo la información que cada vector transporta.\n",
        "\n",
        "Este bloque es esencial para que el modelo no solo combine información mediante atención, sino que también la **transforme y abstraiga**, capturando patrones complejos útiles para tareas de procesamiento de lenguaje natural.\n"
      ],
      "metadata": {
        "id": "qNgaOJrGp-LT"
      },
      "id": "qNgaOJrGp-LT"
    },
    {
      "cell_type": "code",
      "source": [
        "class PositionwiseFeedForward(nn.Module):\n",
        "    \"\"\" Implements a two layer feed-forward network.\n",
        "    \"\"\"\n",
        "\n",
        "    def __init__(self, d_model, d_ff, dropout_rate=0.1):\n",
        "        super(PositionwiseFeedForward, self).__init__()\n",
        "        self.d_model = d_model\n",
        "        self.d_ff = d_ff\n",
        "        self.dropout_rate = dropout_rate\n",
        "\n",
        "        self.w_1 = nn.Linear(d_model, d_ff)\n",
        "        self.w_2 = nn.Linear(d_ff, d_model)\n",
        "        self.dropout = nn.Dropout(dropout_rate)\n",
        "\n",
        "\n",
        "    def forward(self, x):\n",
        "        \"\"\" x: (batch_size, seq_len, d_model)\n",
        "        \"\"\"\n",
        "        x = self.dropout(F.relu(self.w_1(x)))  # (batch_size, seq_len, d_ff)\n",
        "        x = self.w_2(x)  # (batch_size, seq_len, d_model)\n",
        "\n",
        "        # x: (batch_size, seq_len, d_model)\n",
        "        return x"
      ],
      "metadata": {
        "id": "o9o1KOCkTcpy"
      },
      "id": "o9o1KOCkTcpy",
      "execution_count": null,
      "outputs": []
    },
    {
      "cell_type": "markdown",
      "source": [
        "### PositionalEncoding"
      ],
      "metadata": {
        "id": "8KNLXX0Grh0G"
      },
      "id": "8KNLXX0Grh0G"
    },
    {
      "cell_type": "markdown",
      "source": [
        "El módulo `PositionalEncoding` añade información de posición a los embeddings de entrada, permitiendo que el modelo Transformer —que no utiliza recurrencia ni convoluciones— pueda reconocer el orden de las palabras en una secuencia.\n",
        "\n",
        "Para lograr esto, genera una matriz fija de codificaciones sinusoidales basada en la posición de cada token y en la dimensión del embedding. Esta codificación combina funciones seno y coseno de diferentes frecuencias, permitiendo al modelo inferir relaciones posicionales absolutas y relativas.\n",
        "\n",
        "Durante el *forward pass*, se suma esta codificación posicional a los embeddings y se aplica *dropout* para prevenir sobreajuste. Así, cada vector de entrada no solo representa el significado del token, sino también su ubicación dentro de la secuencia, lo que es crucial para tareas de procesamiento de lenguaje natural como traducción o generación de texto.\n"
      ],
      "metadata": {
        "id": "GVzYwKGXriHf"
      },
      "id": "GVzYwKGXriHf"
    },
    {
      "cell_type": "code",
      "source": [
        "class PositionalEncoding(nn.Module):\n",
        "    \"\"\" Implements the sinusoidal positional encoding.\n",
        "    \"\"\"\n",
        "\n",
        "    def __init__(self, d_model, dropout_rate=0.1, max_len=5000):\n",
        "        super(PositionalEncoding, self).__init__()\n",
        "        self.d_model = d_model\n",
        "        self.dropout_rate = dropout_rate\n",
        "        self.max_len = max_len\n",
        "\n",
        "        self.dropout = nn.Dropout(dropout_rate)\n",
        "\n",
        "        # compute positional encodings\n",
        "        pe = torch.zeros(max_len, d_model)  # (max_len, d_model)\n",
        "        position = torch.arange(0, max_len, dtype=torch.float).unsqueeze(1)  # (max_len, 1)\n",
        "        div_term = torch.exp(\n",
        "            torch.arange(0, d_model, 2).float() * (-math.log(10000.0) / d_model)\n",
        "        )  # (d_model,)\n",
        "        pe[:, 0::2] = torch.sin(position * div_term)\n",
        "        pe[:, 1::2] = torch.cos(position * div_term)\n",
        "        pe = pe.unsqueeze(0).transpose(0, 1)  # (max_len, 1, d_model)\n",
        "        self.register_buffer('pe', pe)\n",
        "\n",
        "    def forward(self, x):\n",
        "        \"\"\" x: (batch_size, seq_len, d_model)\n",
        "        \"\"\"\n",
        "        x = x + self.pe[:x.size(0), :]  # (batch_size, seq_len, d_model)\n",
        "        x = self.dropout(x)  # (batch_size, seq_len, d_model)\n",
        "\n",
        "        # x: (batch_size, seq_len, d_model)\n",
        "        return x"
      ],
      "metadata": {
        "id": "J7B3_zjgTdJj"
      },
      "id": "J7B3_zjgTdJj",
      "execution_count": null,
      "outputs": []
    },
    {
      "cell_type": "markdown",
      "source": [
        "### Encoder Module"
      ],
      "metadata": {
        "id": "akiaLdw4rrjg"
      },
      "id": "akiaLdw4rrjg"
    },
    {
      "cell_type": "markdown",
      "source": [
        "\n",
        " **EncoderLayer**\n",
        "\n",
        "El módulo `EncoderLayer` representa una capa básica del encoder Transformer. Está compuesta por dos subcomponentes principales:\n",
        "\n",
        "1. **Self-Attention Multicabeza**: permite que cada token atienda al resto de la secuencia, extrayendo relaciones contextuales a cualquier distancia.\n",
        "2. **Feed-Forward Posicional**: aplica una transformación no lineal por separado a cada posición de la secuencia.\n",
        "\n",
        "Ambos bloques se combinan con **conexiones residuales** y **normalización por capas** (*LayerNorm*)"
      ],
      "metadata": {
        "id": "VevKvdwDrsgY"
      },
      "id": "VevKvdwDrsgY"
    },
    {
      "cell_type": "code",
      "source": [
        "class EncoderLayer(nn.Module):\n",
        "    \"\"\" Encoder is made up of a self-attention layer and a feed-forward layer.\n",
        "    \"\"\"\n",
        "\n",
        "    def __init__(self, d_model, n_heads, d_ff, dropout_rate=0.1):\n",
        "        super(EncoderLayer, self).__init__()\n",
        "        self.d_model = d_model\n",
        "        self.d_ff = d_ff\n",
        "        self.n_heads = n_heads\n",
        "        self.dropout_rate = dropout_rate\n",
        "\n",
        "        self.attn_layer = MultiHeadAttention(d_model, n_heads, dropout_rate)\n",
        "        self.attn_layer_norm = nn.LayerNorm(d_model, eps=1e-6)\n",
        "\n",
        "        self.ff_layer = PositionwiseFeedForward(d_model, d_ff, dropout_rate)\n",
        "        self.ff_layer_norm = nn.LayerNorm(d_model, eps=1e-6)\n",
        "\n",
        "        self.dropout = nn.Dropout(dropout_rate)\n",
        "\n",
        "\n",
        "    def forward(self, x, mask):\n",
        "        \"\"\" x: (batch_size, source_seq_len, d_model)\n",
        "            mask: (batch_size, 1, source_seq_len)\n",
        "        \"\"\"\n",
        "        # apply self-attention\n",
        "        x1, _ = self.attn_layer(x, x, x, mask)  # (batch_size, source_seq_len, d_model)\n",
        "\n",
        "        # apply residual connection followed by layer normalization\n",
        "        x = self.attn_layer_norm(x + self.dropout(x1))  # (batch_size, source_seq_len, d_model)\n",
        "\n",
        "        # apply position-wise feed-forward\n",
        "        x1 = self.ff_layer(x)  # (batch_size, source_seq_len, d_model)\n",
        "\n",
        "        # apply residual connection followed by layer normalization\n",
        "        x = self.ff_layer_norm(x + self.dropout(x1))  # (batch_size, source_seq_len, d_model)\n",
        "\n",
        "        # x: (batch_size, source_seq_len, d_model)\n",
        "        return x"
      ],
      "metadata": {
        "id": "WdVKfaSFTfJ5"
      },
      "id": "WdVKfaSFTfJ5",
      "execution_count": null,
      "outputs": []
    },
    {
      "cell_type": "code",
      "source": [
        "class Encoder(nn.Module):\n",
        "    \"\"\" Encoder block is a stack of N identical encoder layers.\n",
        "    \"\"\"\n",
        "\n",
        "    def __init__(self, vocab_size, d_model, n_layers, n_heads, d_ff, pad_idx, dropout_rate=0.1, max_len=5000):\n",
        "        super(Encoder, self).__init__()\n",
        "        self.vocab_size = vocab_size\n",
        "        self.d_model = d_model\n",
        "        self.n_layers = n_layers\n",
        "        self.d_ff = d_ff\n",
        "        self.pad_idx = pad_idx\n",
        "        self.dropout_rate = dropout_rate\n",
        "        self.max_len = max_len\n",
        "\n",
        "        self.tok_embedding = nn.Embedding(vocab_size, d_model, padding_idx=pad_idx)\n",
        "        self.pos_embedding = PositionalEncoding(d_model, dropout_rate, max_len)\n",
        "        self.layers = nn.ModuleList([\n",
        "            EncoderLayer(d_model, n_heads, d_ff, dropout_rate)\n",
        "            for _ in range(n_layers)\n",
        "        ])\n",
        "        self.layer_norm = nn.LayerNorm(d_model, eps=1e-6)\n",
        "\n",
        "\n",
        "    def forward(self, x, mask):\n",
        "        \"\"\" x: (batch_size, source_seq_len)\n",
        "            mask: (batch_size, 1, source_seq_len)\n",
        "        \"\"\"\n",
        "        # apply positional encoding to token sequences\n",
        "        x = self.tok_embedding(x)  # (batch_size, source_seq_len, d_model)\n",
        "        x = self.pos_embedding(x)  # (batch_size, source_seq_len, d_model)\n",
        "\n",
        "        for layer in self.layers:\n",
        "            x = layer(x, mask)  # (batch_size, source_seq_len, d_model)\n",
        "\n",
        "        x = self.layer_norm(x)  # (batch_size, source_seq_len, d_model)\n",
        "\n",
        "        # x: (batch_size, source_seq_len, d_model)\n",
        "        return x"
      ],
      "metadata": {
        "id": "1IZI2s4_TgXe"
      },
      "id": "1IZI2s4_TgXe",
      "execution_count": null,
      "outputs": []
    },
    {
      "cell_type": "markdown",
      "source": [
        "### Decoder Module"
      ],
      "metadata": {
        "id": "Ndbmo4RCr9Oo"
      },
      "id": "Ndbmo4RCr9Oo"
    },
    {
      "cell_type": "markdown",
      "source": [
        "\n",
        "**DecoderLayer**\n",
        "\n",
        "El módulo `DecoderLayer` representa una capa básica del decodificador Transformer. Está compuesto por tres bloques funcionales:\n",
        "\n",
        "1. **Masked Self-Attention**: permite que el modelo atienda a tokens anteriores de la secuencia de salida, pero **no a los futuros**, preservando el orden causal en la generación.\n",
        "\n",
        "2. **Encoder–Decoder Attention**: conecta el decoder con el encoder, permitiéndole acceder a la representación contextual de la secuencia de entrada (memoria).\n",
        "\n",
        "3. **Feed-Forward Posicional**: aplica una red no lineal a cada posición de manera individual.\n",
        "\n",
        "Cada uno de estos bloques está seguido de una **conexión residual**, una operación de **normalización por capas** y un mecanismo de *dropout*, que en conjunto mejoran la estabilidad y el aprendizaje del modelo.\n",
        "\n",
        "---\n",
        "\n",
        " **Decoder**\n",
        "\n",
        "El módulo `Decoder` completa el bloque decodificador del Transformer apilando múltiples `DecoderLayer` (N capas). Su funcionamiento incluye:\n",
        "\n",
        "* **Embeddings**: convierte los índices de los tokens de salida en vectores y les añade codificación posicional.\n",
        "* **Pila de capas**: cada capa refina la representación mediante atención propia y hacia el encoder.\n",
        "* **Normalización final**: asegura una salida estable antes de proyectar los vectores a distribuciones de probabilidad.\n",
        "\n",
        "Este bloque es responsable de **generar la secuencia de salida paso a paso**, combinando la información generada previamente con la memoria proveniente del encoder. Es fundamental en tareas de traducción, respuesta automática o cualquier problema de generación de texto.\n"
      ],
      "metadata": {
        "id": "BkU8Wlyur9zO"
      },
      "id": "BkU8Wlyur9zO"
    },
    {
      "cell_type": "code",
      "source": [
        "class DecoderLayer(nn.Module):\n",
        "    \"\"\" Decoder is made up of a self-attention layer, a encoder-decoder attention\n",
        "        layer and a feed-forward layer.\n",
        "    \"\"\"\n",
        "\n",
        "    def __init__(self, d_model, n_heads, d_ff, dropout_rate=0.1):\n",
        "        super(DecoderLayer, self).__init__()\n",
        "        self.d_model = d_model\n",
        "        self.d_ff = d_ff\n",
        "        self.n_heads = n_heads\n",
        "        self.dropout_rate = dropout_rate\n",
        "\n",
        "        self.attn_layer = MultiHeadAttention(d_model, n_heads, dropout_rate)\n",
        "        self.attn_layer_norm = nn.LayerNorm(d_model, eps=1e-6)\n",
        "\n",
        "        self.enc_attn_layer = MultiHeadAttention(d_model, n_heads, dropout_rate)\n",
        "        self.enc_attn_layer_norm = nn.LayerNorm(d_model, eps=1e-6)\n",
        "\n",
        "        self.ff_layer = PositionwiseFeedForward(d_model, d_ff, dropout_rate)\n",
        "        self.ff_layer_norm = nn.LayerNorm(d_model, eps=1e-6)\n",
        "\n",
        "        self.dropout = nn.Dropout(dropout_rate)\n",
        "\n",
        "\n",
        "    def forward(self, x, memory, src_mask, tgt_mask):\n",
        "        \"\"\" x: (batch_size, target_seq_len, d_model)\n",
        "            memory: (batch_size, source_seq_len, d_model)\n",
        "            src_mask: (batch_size, 1, source_seq_len)\n",
        "            tgt_mask: (batch_size, target_seq_len, target_seq_len)\n",
        "        \"\"\"\n",
        "        # apply self-attention\n",
        "        x1, _ = self.attn_layer(x, x, x, tgt_mask)  # (batch_size, target_seq_len, d_model)\n",
        "\n",
        "        # apply residual connection followed by layer normalization\n",
        "        x = self.attn_layer_norm(x + self.dropout(x1))  # (batch_size, target_seq_len, d_model)\n",
        "\n",
        "        # apply encoder-decoder attention\n",
        "        # memory is the output from encoder block (encoder states)\n",
        "        x1, attn = self.enc_attn_layer(x, memory, memory, src_mask)\n",
        "\n",
        "        # x1: (batch_size, target_seq_len, d_model)\n",
        "        # attn: (batch_size, n_heads, target_seq_len, source_seq_len)\n",
        "\n",
        "        # apply residual connection followed by layer normalization\n",
        "        x = self.attn_layer_norm(x + self.dropout(x1))  # (batch_size, target_seq_len, d_model)\n",
        "\n",
        "        # apply position-wise feed-forward\n",
        "        x1 = self.ff_layer(x)  # (batch_size, target_seq_len, d_model)\n",
        "\n",
        "        # apply residual connection followed by layer normalization\n",
        "        x = self.ff_layer_norm(x + self.dropout(x1))  # (batch_size, target_seq_len, d_model)\n",
        "\n",
        "        # x: (batch_size, target_seq_len, d_model)\n",
        "        # attn: (batch_size, n_heads, target_seq_len, source_seq_len)\n",
        "        return x, attn"
      ],
      "metadata": {
        "id": "ddSI8xSEThYK"
      },
      "id": "ddSI8xSEThYK",
      "execution_count": null,
      "outputs": []
    },
    {
      "cell_type": "code",
      "source": [
        "class Decoder(nn.Module):\n",
        "    \"\"\" Decoder block is a stack of N identical decoder layers.\n",
        "    \"\"\"\n",
        "\n",
        "    def __init__(self, vocab_size, d_model, n_layers, n_heads, d_ff, pad_idx, dropout_rate=0.1, max_len=5000):\n",
        "        super(Decoder, self).__init__()\n",
        "        self.vocab_size = vocab_size\n",
        "        self.d_model = d_model\n",
        "        self.n_layers = n_layers\n",
        "        self.d_ff = d_ff\n",
        "        self.pad_idx = pad_idx\n",
        "        self.dropout_rate = dropout_rate\n",
        "        self.max_len = max_len\n",
        "\n",
        "        self.tok_embedding = nn.Embedding(vocab_size, d_model, padding_idx=pad_idx)\n",
        "        self.pos_embedding = PositionalEncoding(d_model, dropout_rate, max_len)\n",
        "        self.layers = nn.ModuleList([\n",
        "            DecoderLayer(d_model, n_heads, d_ff, dropout_rate)\n",
        "            for _ in range(n_layers)\n",
        "        ])\n",
        "        self.layer_norm = nn.LayerNorm(d_model, eps=1e-6)\n",
        "\n",
        "\n",
        "    def forward(self, x, memory, src_mask, tgt_mask):\n",
        "        \"\"\" x: (batch_size, target_seq_len, d_model)\n",
        "            memory: (batch_size, source_seq_len, d_model)\n",
        "            src_mask: (batch_size, 1, source_seq_len)\n",
        "            tgt_mask: (batch_size, target_seq_len, target_seq_len)\n",
        "        \"\"\"\n",
        "        # apply positional encoding to token sequences\n",
        "        x = self.tok_embedding(x)  # (batch_size, target_seq_len, d_model)\n",
        "        x = self.pos_embedding(x)  # (batch_size, target_seq_len, d_model)\n",
        "\n",
        "        for layer in self.layers:\n",
        "            x, attn = layer(x, memory, src_mask, tgt_mask)  # (batch_size, target_seq_len, d_model)\n",
        "\n",
        "        x = self.layer_norm(x)  # (batch_size, target_seq_len, d_model)\n",
        "\n",
        "        # x: (batch_size, target_seq_len, d_model)\n",
        "        # attn: (batch_size, n_heads, target_seq_len, source_seq_len)\n",
        "        return x, attn"
      ],
      "metadata": {
        "id": "A5QL4goFTiib"
      },
      "id": "A5QL4goFTiib",
      "execution_count": null,
      "outputs": []
    },
    {
      "cell_type": "markdown",
      "source": [
        "### Transformer\n"
      ],
      "metadata": {
        "id": "TAXlTzQksMOt"
      },
      "id": "TAXlTzQksMOt"
    },
    {
      "cell_type": "markdown",
      "source": [
        "El módulo `Transformer` actúa como envoltorio general que integra y coordina el funcionamiento del encoder, el decoder y la capa final de proyección (*generator*), formando así la arquitectura completa del modelo Transformer.\n",
        "\n",
        "---\n",
        "\n",
        " Componentes principales\n",
        "\n",
        "1. **Encoder**: procesa la secuencia de entrada (`src`) utilizando atención propia y transforma cada token en una representación contextualizada.\n",
        "\n",
        "2. **Decoder**: genera la secuencia de salida (`tgt`) combinando atención enmascarada (para no mirar futuros tokens) y atención cruzada sobre las salidas del encoder.\n",
        "\n",
        "3. **Generator**: proyecta la salida del decoder a una distribución de probabilidad sobre el vocabulario, desde la cual se puede predecir el próximo token.\n",
        "\n",
        "---\n",
        "\n",
        " Funciones auxiliares\n",
        "\n",
        "* **`get_pad_mask`**: genera una máscara booleana para ignorar los tokens de *padding* tanto en el encoder como el decoder.\n",
        "* **`get_subsequent_mask`**: enmascara los futuros tokens de la secuencia objetivo durante el entrenamiento, asegurando que el modelo no vea más allá del token actual.\n",
        "\n",
        "---\n",
        "\n",
        " Proceso general (`forward`)\n",
        "\n",
        "1. Se crean las máscaras necesarias para la entrada y la salida.\n",
        "2. El encoder procesa la entrada y genera un estado contextual.\n",
        "3. El decoder utiliza ese estado junto a la secuencia objetivo parcial para generar una salida.\n",
        "4. El resultado del decoder se pasa por el generador para obtener una distribución sobre el vocabulario.\n",
        "\n",
        "Este módulo es el responsable de enlazar todos los componentes del Transformer y ejecutar el flujo completo de codificación y decodificación de secuencias, ya sea para entrenamiento o inferencia.\n"
      ],
      "metadata": {
        "id": "6JpwGWEPsMjA"
      },
      "id": "6JpwGWEPsMjA"
    },
    {
      "cell_type": "code",
      "source": [
        "class Transformer(nn.Module):\n",
        "    \"\"\" Transformer wrapper for encoder and decoder.\n",
        "    \"\"\"\n",
        "\n",
        "    def __init__(self, encoder, decoder, generator, pad_idx):\n",
        "        super(Transformer, self).__init__()\n",
        "        self.pad_idx = pad_idx\n",
        "\n",
        "        self.encoder = encoder\n",
        "        self.decoder = decoder\n",
        "        self.generator = generator\n",
        "\n",
        "\n",
        "    def get_pad_mask(self, x, pad_idx):\n",
        "        \"\"\" x: (batch_size, seq_len)\n",
        "        \"\"\"\n",
        "        x = (x != pad_idx).unsqueeze(-2)  # (batch_size, 1, seq_len)\n",
        "\n",
        "        # x: (batch_size, 1, seq_len)\n",
        "        return x\n",
        "\n",
        "\n",
        "    def get_subsequent_mask(self, x):\n",
        "        \"\"\" x: (batch_size, seq_len)\n",
        "        \"\"\"\n",
        "        seq_len = x.size(1)\n",
        "        subsequent_mask = np.triu(np.ones((1, seq_len, seq_len)), k=1).astype(np.int8)  # (batch_size, seq_len, seq_len)\n",
        "        subsequent_mask = (torch.from_numpy(subsequent_mask) == 0).to(x.device)  # (batch_size, seq_len, seq_len)\n",
        "\n",
        "\n",
        "        # subsequent_mask: (batch_size, seq_len, seq_len)\n",
        "        return subsequent_mask\n",
        "\n",
        "\n",
        "    def forward(self, src, tgt):\n",
        "        \"\"\" src: (batch_size, source_seq_len)\n",
        "            tgt: (batch_size, target_seq_len)\n",
        "        \"\"\"\n",
        "        # create masks for source and target\n",
        "        src_mask = self.get_pad_mask(src, self.pad_idx)\n",
        "        tgt_mask = self.get_pad_mask(tgt, self.pad_idx) & self.get_subsequent_mask(tgt)\n",
        "\n",
        "        # src_mask: (batch_size, 1, seq_len)\n",
        "        # tgt_mask: (batch_size, seq_len, seq_len)\n",
        "\n",
        "        # encode the source sequence\n",
        "        enc_output = self.encoder(src, src_mask)  # (batch_size, source_seq_len, d_model)\n",
        "\n",
        "        # decode based on source sequence and target sequence generated so far\n",
        "        dec_output, attn = self.decoder(tgt, enc_output, src_mask, tgt_mask)\n",
        "\n",
        "        # dec_output: (batch_size, target_seq_len, d_model)\n",
        "        # attn: (batch_size, n_heads, target_seq_len, source_seq_len)\n",
        "\n",
        "        # apply linear projection to obtain the output distribution\n",
        "        output = self.generator(dec_output)  # (batch_size, target_seq_len, vocab_size)\n",
        "\n",
        "        # output: (batch_size, target_seq_len, vocab_size)\n",
        "        # attn: (batch_size, n_heads, target_seq_len, source_seq_len)\n",
        "        return output, attn"
      ],
      "metadata": {
        "id": "kiS7uGlnTjpi"
      },
      "id": "kiS7uGlnTjpi",
      "execution_count": null,
      "outputs": []
    },
    {
      "cell_type": "code",
      "source": [
        "class Generator(nn.Module):\n",
        "    \"\"\" Linear projection layer for generating output distribution.\n",
        "    \"\"\"\n",
        "\n",
        "    def __init__(self, d_model, vocab_size):\n",
        "        super(Generator, self).__init__()\n",
        "        self.proj = nn.Linear(d_model, vocab_size)\n",
        "\n",
        "\n",
        "    def forward(self, x):\n",
        "        \"\"\" x: (batch_size, target_seq_len, d_model)\n",
        "        \"\"\"\n",
        "        # apply linear projection followed by softmax to obtain output distribution\n",
        "        x = self.proj(x)  # (batch_size, target_seq_len, vocab_size)\n",
        "        output = F.log_softmax(x, dim=-1)  # (batch_size, target_seq_len)\n",
        "\n",
        "        # output: (batch_size, target_seq_len)\n",
        "        return output"
      ],
      "metadata": {
        "id": "rL3YipZ4TkBo"
      },
      "id": "rL3YipZ4TkBo",
      "execution_count": null,
      "outputs": []
    },
    {
      "cell_type": "markdown",
      "source": [
        "## Utilidades"
      ],
      "metadata": {
        "id": "XQEytyoitPEr"
      },
      "id": "XQEytyoitPEr"
    },
    {
      "cell_type": "markdown",
      "source": [
        "\n",
        "\n",
        "#### **`model_summary`**\n",
        "\n",
        "Esta función imprime la estructura del modelo y muestra el número total de parámetros entrenables y no entrenables. Es útil para tener una visión general de la complejidad del modelo y para verificar que todos los componentes se estén actualizando correctamente durante el entrenamiento.\n",
        "\n",
        "---\n",
        "\n",
        "#### **`convert_ids_to_text`**\n",
        "\n",
        "Permite convertir una secuencia de identificadores de tokens (índices numéricos) de vuelta a texto legible utilizando el vocabulario.\n",
        "\n",
        "* Si la entrada es unidimensional, detiene la conversión al encontrar el token `<eos>`.\n",
        "* Si es bidimensional, procesa cada fila como una secuencia independiente.\n",
        "\n",
        "Esta función resulta clave para interpretar las salidas del modelo y evaluar su calidad de manera cualitativa.\n",
        "\n",
        "---\n",
        "\n",
        "#### **`NoamOptim`**\n",
        "\n",
        "Este módulo implementa el **esquema de ajuste del learning rate propuesto por Vaswani et al. (2017)**. Envuelve un optimizador base (como Adam) y modifica su tasa de aprendizaje dinámicamente.\n",
        "\n",
        "Este esquema incrementa el learning rate durante un número inicial de pasos de *warm-up*, y luego lo reduce progresivamente, lo que ayuda a estabilizar el entrenamiento de modelos grandes desde cero.\n"
      ],
      "metadata": {
        "id": "0QijKmextwLu"
      },
      "id": "0QijKmextwLu"
    },
    {
      "cell_type": "code",
      "source": [
        "def model_summary(model):\n",
        "    print(model)\n",
        "    print(f'# of trainable params: {sum(p.numel() for p in model.parameters() if p.requires_grad):,}')\n",
        "    print(f'# of non-trainable params: {sum(p.numel() for p in model.parameters() if not p.requires_grad):,}')"
      ],
      "metadata": {
        "id": "IdsfEC06TmSd"
      },
      "id": "IdsfEC06TmSd",
      "execution_count": null,
      "outputs": []
    },
    {
      "cell_type": "code",
      "source": [
        "def convert_ids_to_text(ids, vocab, eos_idx, unk_idx):\n",
        "    \"\"\" Converts token ids to text.\n",
        "    \"\"\"\n",
        "    if ids.dim() == 1:\n",
        "        output_tokens = []\n",
        "        for token_id in ids:\n",
        "            if token_id == eos_idx:\n",
        "                break\n",
        "            else:\n",
        "                output_tokens.append(vocab.itos[token_id])\n",
        "        return output_tokens\n",
        "\n",
        "    elif ids.dim() == 2:\n",
        "        return [convert_ids_to_text(ids[i, :], vocab, eos_idx, unk_idx) for i in range(ids.size(0))]\n",
        "\n",
        "    raise RuntimeError(f'ids has {ids.size()} dimensions, expected 2 dimensions')"
      ],
      "metadata": {
        "id": "f32_IexPTmn5"
      },
      "id": "f32_IexPTmn5",
      "execution_count": null,
      "outputs": []
    },
    {
      "cell_type": "code",
      "source": [
        "class NoamOptim(object):\n",
        "    \"\"\" Optimizer wrapper for learning rate scheduling.\n",
        "    \"\"\"\n",
        "\n",
        "    def __init__(self, optimizer, d_model, factor, n_warmup_steps):\n",
        "        self.optimizer = optimizer\n",
        "        self.d_model = d_model\n",
        "        self.factor = factor\n",
        "        self.n_warmup_steps = n_warmup_steps\n",
        "        self.n_steps = 0\n",
        "\n",
        "\n",
        "    def zero_grad(self):\n",
        "        self.optimizer.zero_grad()\n",
        "\n",
        "\n",
        "    def step(self):\n",
        "        self.n_steps += 1\n",
        "        lr = self.get_lr()\n",
        "        for p in self.optimizer.param_groups:\n",
        "            p['lr'] = lr\n",
        "        self.optimizer.step()\n",
        "\n",
        "\n",
        "    def get_lr(self):\n",
        "        return self.factor * (\n",
        "            self.d_model ** (-0.5)\n",
        "            * min(self.n_steps ** (-0.5), self.n_steps * self.n_warmup_steps ** (-1.5))\n",
        "        )"
      ],
      "metadata": {
        "id": "40gFeCn8ToPM"
      },
      "id": "40gFeCn8ToPM",
      "execution_count": null,
      "outputs": []
    },
    {
      "cell_type": "markdown",
      "source": [
        "### Evaluación"
      ],
      "metadata": {
        "id": "gGianMY2trpA"
      },
      "id": "gGianMY2trpA"
    },
    {
      "cell_type": "markdown",
      "source": [
        "La función `eval_fn` evalúa el desempeño del modelo sobre un conjunto de validación o prueba, sin actualizar sus parámetros.\n",
        "\n",
        "1. **Modo evaluación**: desactiva el *dropout* y evita el cálculo de gradientes (`torch.no_grad()`), lo que hace el proceso más eficiente.\n",
        "\n",
        "2. **Forward pass y pérdida**: por cada lote, calcula las predicciones del modelo y la pérdida entre las salidas y las respuestas reales.\n",
        "\n",
        "3. **Conversión a texto**: transforma los índices de salida y referencia en tokens para evaluar las respuestas generadas.\n",
        "\n",
        "4. **Cálculo de métricas**:\n",
        "\n",
        "   * **Perplejidad**: mide qué tan bien el modelo predice las secuencias.\n",
        "   * **BLEU-4**: compara la calidad de las salidas generadas respecto a las referencias reales.\n",
        "\n",
        "En resumen, esta función permite cuantificar el rendimiento del modelo tanto en términos de precisión lingüística como de fluidez estadística.\n"
      ],
      "metadata": {
        "id": "N08nCYysuE_E"
      },
      "id": "N08nCYysuE_E"
    },
    {
      "cell_type": "code",
      "source": [
        "def eval_fn(model, iterator, criterion):\n",
        "    model.eval()\n",
        "    total_loss = 0.0\n",
        "    steps = 0\n",
        "    hypotheses = []\n",
        "    references = []\n",
        "\n",
        "    tk0 = tqdm(iterator, total=len(iterator), position=0, leave=True)\n",
        "\n",
        "    with torch.no_grad():\n",
        "        for idx, batch in enumerate(tk0):\n",
        "            source, source_lengths = batch.src\n",
        "            target, target_lengths = batch.trg\n",
        "\n",
        "            # source: (batch_size, source_seq_len), source_lengths: (batch_size)\n",
        "            # target: (batch_size, target_seq_len), target_lengths: (batch_size)\n",
        "\n",
        "            # forward pass\n",
        "            optimizer.zero_grad()\n",
        "            output, _ = model(source, target[:, :-1])  # (batch_size, target_seq_len - 1, vocab_size)\n",
        "\n",
        "            # calculate the loss\n",
        "            loss = criterion(\n",
        "                output.view(-1, output.size(-1)),  # (batch_size * (target_seq_len - 1), vocab_size)\n",
        "                target[:, 1:].contiguous().view(-1)  # (batch_size * (target_seq_len - 1))\n",
        "            )\n",
        "            total_loss += loss.item()\n",
        "            steps += 1\n",
        "\n",
        "            output = output.argmax(dim=-1)  # (batch_size, target_seq_len - 1)\n",
        "            target = target[:, 1:]  # (batch_size, target_seq_len - 1)\n",
        "\n",
        "            # converting the ids to tokens (used later for calculating BLEU score)\n",
        "            pred_tokens = convert_ids_to_text(output, de_text.vocab, EOS_IDX, UNK_IDX)\n",
        "            target_tokens = convert_ids_to_text(target, de_text.vocab, EOS_IDX, UNK_IDX)\n",
        "\n",
        "            hypotheses += pred_tokens\n",
        "            references += [[token] for token in target_tokens]\n",
        "\n",
        "            tk0.set_postfix(loss=total_loss/steps)\n",
        "\n",
        "    tk0.close()\n",
        "\n",
        "    perplexity = np.exp(total_loss / len(iterator))\n",
        "    bleu4 = bleu_score(hypotheses, references)\n",
        "\n",
        "    return output, perplexity, bleu4"
      ],
      "metadata": {
        "id": "A8JubJ9vbBq0"
      },
      "id": "A8JubJ9vbBq0",
      "execution_count": null,
      "outputs": []
    },
    {
      "cell_type": "markdown",
      "source": [
        "### Entrenamiento"
      ],
      "metadata": {
        "id": "iK8yG7uVtpTM"
      },
      "id": "iK8yG7uVtpTM"
    },
    {
      "cell_type": "markdown",
      "source": [
        "La función `train_fn` entrena el modelo durante una época completa. Para cada lote, realiza los siguientes pasos:\n",
        "\n",
        "1. **Forward pass**: el modelo recibe la secuencia fuente y la secuencia objetivo (sin el último token) y genera predicciones.\n",
        "2. **Cálculo de pérdida**: compara las predicciones con la secuencia objetivo real desplazada (sin el `<sos>`).\n",
        "3. **Backward pass y optimización**: se calcula el gradiente, se aplica *gradient clipping* para evitar inestabilidad y se actualizan los pesos.\n",
        "4. **Seguimiento**: se muestra la pérdida media en tiempo real y al final se calcula la *perplejidad* como métrica de desempeño.\n",
        "\n",
        "Esta rutina permite evaluar y ajustar el modelo de forma estable y eficiente.\n"
      ],
      "metadata": {
        "id": "xwjXB6Uut_tR"
      },
      "id": "xwjXB6Uut_tR"
    },
    {
      "cell_type": "code",
      "source": [
        "def train_fn(model, iterator, optimizer, critertion, clip=1.0):\n",
        "    model.train()\n",
        "    total_loss = 0\n",
        "    steps = 0\n",
        "\n",
        "    tk0 = tqdm(iterator, total=len(iterator), position=0, leave=True)\n",
        "\n",
        "    for idx, batch in enumerate(tk0):\n",
        "        source, source_lengths = batch.src\n",
        "        target, target_lengths = batch.trg\n",
        "\n",
        "        # source: (batch_size, source_seq_len), source_lengths: (batch_size)\n",
        "        # target: (batch_size, target_seq_len), target_lengths: (batch_size)\n",
        "\n",
        "        # forward pass\n",
        "        optimizer.zero_grad()\n",
        "        output, _ = model(source, target[:, :-1])  # (batch_size, target_seq_len - 1, vocab_size)\n",
        "\n",
        "        # calculate the loss\n",
        "        loss = criterion(\n",
        "            output.view(-1, output.size(-1)),  # (batch_size * (target_seq_len - 1), vocab_size)\n",
        "            target[:, 1:].contiguous().view(-1)  # (batch_size * (target_seq_len - 1))\n",
        "        )\n",
        "        total_loss += loss.item()\n",
        "        steps += 1\n",
        "\n",
        "        output = output.argmax(dim=-1)  # (batch_size, target_seq_len - 1)\n",
        "\n",
        "        # backward pass\n",
        "        loss.backward()\n",
        "\n",
        "        # clip gradients to avoid exploding gradients issue\n",
        "        nn.utils.clip_grad_norm_(model.parameters(), clip)\n",
        "\n",
        "        # update model parameters\n",
        "        optimizer.step()\n",
        "\n",
        "        tk0.set_postfix(loss=total_loss/steps)\n",
        "\n",
        "    tk0.close()\n",
        "\n",
        "    perplexity = np.exp(total_loss / len(iterator))\n",
        "\n",
        "    return output, perplexity"
      ],
      "metadata": {
        "id": "ik_zeZ8gbAqI"
      },
      "id": "ik_zeZ8gbAqI",
      "execution_count": null,
      "outputs": []
    },
    {
      "cell_type": "code",
      "source": [
        "VOCAB_SIZE   = len(vocab)\n",
        "HIDDEN_SIZE  = 256\n",
        "N_LAYERS     = 4\n",
        "N_HEADS      = 8\n",
        "FF_SIZE      = 1024\n",
        "DROPOUT_RATE = 0.1\n",
        "N_EPOCHS     = 50\n",
        "CLIP         = 1.0"
      ],
      "metadata": {
        "id": "kavrjrqGTsYg"
      },
      "id": "kavrjrqGTsYg",
      "execution_count": null,
      "outputs": []
    },
    {
      "cell_type": "markdown",
      "source": [
        "\n",
        "* **`VOCAB_SIZE`**: representa el tamaño total del vocabulario, es decir, la cantidad de tokens únicos que puede procesar el modelo.\n",
        "\n",
        "* **`HIDDEN_SIZE = 256`**: define la dimensión de los vectores internos del modelo, también conocida como `d_model`, utilizada en embeddings, atención y capas intermedias.\n",
        "\n",
        "* **`N_LAYERS = 4`**: indica que tanto el encoder como el decoder estarán compuestos por 4 capas apiladas.\n",
        "\n",
        "* **`N_HEADS = 8`**: especifica que cada capa de atención usará 8 cabezas independientes para capturar distintos tipos de relaciones entre tokens.\n",
        "\n",
        "* **`FF_SIZE = 1024`**: determina la dimensión oculta de la red *feed-forward* que sigue a cada capa de atención, permitiendo mayor capacidad de transformación no lineal.\n",
        "\n",
        "* **`DROPOUT_RATE = 0.1`**: fija la tasa de *dropout* para prevenir sobreajuste durante el entrenamiento.\n",
        "\n",
        "* **`N_EPOCHS = 50`**: número de veces que el modelo recorrerá completamente el conjunto de entrenamiento.\n",
        "\n",
        "* **`CLIP = 1.0`**: valor máximo para la magnitud del gradiente, usado para evitar el problema de gradientes explosivos mediante *gradient clipping*.\n"
      ],
      "metadata": {
        "id": "a5Vvdm2BuQHk"
      },
      "id": "a5Vvdm2BuQHk"
    },
    {
      "cell_type": "code",
      "source": [
        "# tamaño común del vocabulario\n",
        "VOCAB_SIZE = len(vocab)\n",
        "\n",
        "# --- instancias -------------------------------------------------------\n",
        "encoder   = Encoder(VOCAB_SIZE, HIDDEN_SIZE,\n",
        "                    N_LAYERS, N_HEADS, FF_SIZE,\n",
        "                    PAD_IDX, DROPOUT_RATE)\n",
        "\n",
        "decoder   = Decoder(VOCAB_SIZE, HIDDEN_SIZE,\n",
        "                    N_LAYERS, N_HEADS, FF_SIZE,\n",
        "                    PAD_IDX, DROPOUT_RATE)\n",
        "\n",
        "generator = Generator(HIDDEN_SIZE, VOCAB_SIZE)\n",
        "\n",
        "model = Transformer(encoder, decoder, generator, PAD_IDX).to(device)\n",
        "model_summary(model)        # ← tu función de resumen preferida\n"
      ],
      "metadata": {
        "colab": {
          "base_uri": "https://localhost:8080/"
        },
        "id": "lzJ84NQiTsyJ",
        "outputId": "5119b3f5-c31d-4414-aaa9-fea33d00ea98"
      },
      "id": "lzJ84NQiTsyJ",
      "execution_count": null,
      "outputs": [
        {
          "output_type": "stream",
          "name": "stdout",
          "text": [
            "Transformer(\n",
            "  (encoder): Encoder(\n",
            "    (tok_embedding): Embedding(16477, 256, padding_idx=0)\n",
            "    (pos_embedding): PositionalEncoding(\n",
            "      (dropout): Dropout(p=0.1, inplace=False)\n",
            "    )\n",
            "    (layers): ModuleList(\n",
            "      (0-3): 4 x EncoderLayer(\n",
            "        (attn_layer): MultiHeadAttention(\n",
            "          (W_q): Linear(in_features=256, out_features=256, bias=False)\n",
            "          (W_k): Linear(in_features=256, out_features=256, bias=False)\n",
            "          (W_v): Linear(in_features=256, out_features=256, bias=False)\n",
            "          (W_o): Linear(in_features=256, out_features=256, bias=True)\n",
            "          (attention): ScaledDotProductAttention(\n",
            "            (dropout): Dropout(p=0.1, inplace=False)\n",
            "          )\n",
            "        )\n",
            "        (attn_layer_norm): LayerNorm((256,), eps=1e-06, elementwise_affine=True)\n",
            "        (ff_layer): PositionwiseFeedForward(\n",
            "          (w_1): Linear(in_features=256, out_features=1024, bias=True)\n",
            "          (w_2): Linear(in_features=1024, out_features=256, bias=True)\n",
            "          (dropout): Dropout(p=0.1, inplace=False)\n",
            "        )\n",
            "        (ff_layer_norm): LayerNorm((256,), eps=1e-06, elementwise_affine=True)\n",
            "        (dropout): Dropout(p=0.1, inplace=False)\n",
            "      )\n",
            "    )\n",
            "    (layer_norm): LayerNorm((256,), eps=1e-06, elementwise_affine=True)\n",
            "  )\n",
            "  (decoder): Decoder(\n",
            "    (tok_embedding): Embedding(16477, 256, padding_idx=0)\n",
            "    (pos_embedding): PositionalEncoding(\n",
            "      (dropout): Dropout(p=0.1, inplace=False)\n",
            "    )\n",
            "    (layers): ModuleList(\n",
            "      (0-3): 4 x DecoderLayer(\n",
            "        (attn_layer): MultiHeadAttention(\n",
            "          (W_q): Linear(in_features=256, out_features=256, bias=False)\n",
            "          (W_k): Linear(in_features=256, out_features=256, bias=False)\n",
            "          (W_v): Linear(in_features=256, out_features=256, bias=False)\n",
            "          (W_o): Linear(in_features=256, out_features=256, bias=True)\n",
            "          (attention): ScaledDotProductAttention(\n",
            "            (dropout): Dropout(p=0.1, inplace=False)\n",
            "          )\n",
            "        )\n",
            "        (attn_layer_norm): LayerNorm((256,), eps=1e-06, elementwise_affine=True)\n",
            "        (enc_attn_layer): MultiHeadAttention(\n",
            "          (W_q): Linear(in_features=256, out_features=256, bias=False)\n",
            "          (W_k): Linear(in_features=256, out_features=256, bias=False)\n",
            "          (W_v): Linear(in_features=256, out_features=256, bias=False)\n",
            "          (W_o): Linear(in_features=256, out_features=256, bias=True)\n",
            "          (attention): ScaledDotProductAttention(\n",
            "            (dropout): Dropout(p=0.1, inplace=False)\n",
            "          )\n",
            "        )\n",
            "        (enc_attn_layer_norm): LayerNorm((256,), eps=1e-06, elementwise_affine=True)\n",
            "        (ff_layer): PositionwiseFeedForward(\n",
            "          (w_1): Linear(in_features=256, out_features=1024, bias=True)\n",
            "          (w_2): Linear(in_features=1024, out_features=256, bias=True)\n",
            "          (dropout): Dropout(p=0.1, inplace=False)\n",
            "        )\n",
            "        (ff_layer_norm): LayerNorm((256,), eps=1e-06, elementwise_affine=True)\n",
            "        (dropout): Dropout(p=0.1, inplace=False)\n",
            "      )\n",
            "    )\n",
            "    (layer_norm): LayerNorm((256,), eps=1e-06, elementwise_affine=True)\n",
            "  )\n",
            "  (generator): Generator(\n",
            "    (proj): Linear(in_features=256, out_features=16477, bias=True)\n",
            "  )\n",
            ")\n",
            "# of trainable params: 20,035,421\n",
            "# of non-trainable params: 0\n"
          ]
        }
      ]
    },
    {
      "cell_type": "code",
      "source": [
        "optimizer = NoamOptim(\n",
        "    optim.Adam(model.parameters(), lr=1e-4, betas=(0.9, 0.98), eps=1e-9),\n",
        "    model.encoder.d_model, 2, 4000\n",
        ")"
      ],
      "metadata": {
        "id": "XZ1Powx5TuIA"
      },
      "id": "XZ1Powx5TuIA",
      "execution_count": null,
      "outputs": []
    },
    {
      "cell_type": "code",
      "source": [
        "criterion = nn.CrossEntropyLoss(ignore_index=PAD_IDX)"
      ],
      "metadata": {
        "id": "R6QK7EQpTvo6"
      },
      "id": "R6QK7EQpTvo6",
      "execution_count": null,
      "outputs": []
    },
    {
      "cell_type": "code",
      "source": [
        "# ─────────────────────────────────────────────────────────────────────────────\n",
        "# COLLATE FN  (batch-first → tensores [B, S])\n",
        "# ─────────────────────────────────────────────────────────────────────────────\n",
        "def collate_fn(batch):\n",
        "    src_seq, trg_seq = zip(*batch)                    # lista de tensores 1-D\n",
        "    src_pad = pad_sequence(src_seq, batch_first=True, padding_value=PAD_IDX)\n",
        "    trg_pad = pad_sequence(trg_seq, batch_first=True, padding_value=PAD_IDX)\n",
        "    return src_pad, trg_pad\n",
        "\n",
        "# ─────────────────────────────────────────────────────────────────────────────\n",
        "# DATALOADERS\n",
        "# ─────────────────────────────────────────────────────────────────────────────\n",
        "BATCH_SIZE = 64\n",
        "train_loader = DataLoader(train_ds, batch_size=BATCH_SIZE,\n",
        "                          shuffle=True, collate_fn=collate_fn)\n",
        "valid_loader = DataLoader(valid_ds, batch_size=BATCH_SIZE,\n",
        "                          collate_fn=collate_fn)\n",
        "\n",
        "# ─────────────────────────────────────────────────────────────────────────────\n",
        "# HELPERS\n",
        "# ─────────────────────────────────────────────────────────────────────────────\n",
        "def flatten_logits(x):                 # x: [B, S, V]\n",
        "    return x.reshape(-1, x.size(-1))   #        ↓\n",
        "                                       #      [B·S, V]\n",
        "\n",
        "# ─────────────────────────────────────────────────────────────────────────────\n",
        "# TRAIN ONE EPOCH\n",
        "# ─────────────────────────────────────────────────────────────────────────────\n",
        "def train_fn(model, loader, optimizer, criterion, clip):\n",
        "    model.train()\n",
        "    tok_sum, loss_sum = 0, 0.0\n",
        "\n",
        "    for src, trg in tqdm(loader, total=len(loader)):\n",
        "        src, trg = src.to(device), trg.to(device)     # [B, S]\n",
        "\n",
        "        trg_in  = trg[:, :-1]\n",
        "        trg_out = trg[:, 1:].reshape(-1)\n",
        "\n",
        "        optimizer.zero_grad()\n",
        "        logits = model(src, trg_in)                   # → [B, S-1, V]  /  tuple\n",
        "        if isinstance(logits, tuple):                 #  (según tu implementación)\n",
        "            logits = logits[0]\n",
        "\n",
        "        loss = criterion(flatten_logits(logits), trg_out)\n",
        "        loss.backward()\n",
        "        torch.nn.utils.clip_grad_norm_(model.parameters(), clip)\n",
        "        optimizer.step()\n",
        "\n",
        "        loss_sum += loss.item() * trg_out.size(0)\n",
        "        tok_sum  += trg_out.size(0)\n",
        "\n",
        "    return torch.exp(torch.tensor(loss_sum / tok_sum)).item()   # perplexity\n",
        "\n",
        "# ─────────────────────────────────────────────────────────────────────────────\n",
        "# EVAL ONE EPOCH  (devuelve PPL, BLEU-4)\n",
        "# ─────────────────────────────────────────────────────────────────────────────\n",
        "def eval_fn(model, loader, criterion):\n",
        "    model.eval()\n",
        "    tok_sum, loss_sum = 0, 0.0\n",
        "    refs, hyps = [], []\n",
        "\n",
        "    with torch.no_grad():\n",
        "        for src, trg in tqdm(loader, total=len(loader)):\n",
        "            src, trg = src.to(device), trg.to(device)\n",
        "\n",
        "            trg_in  = trg[:, :-1]\n",
        "            trg_out = trg[:, 1:].reshape(-1)\n",
        "\n",
        "            logits = model(src, trg_in)\n",
        "            if isinstance(logits, tuple):\n",
        "                logits = logits[0]\n",
        "\n",
        "            loss = criterion(flatten_logits(logits), trg_out)\n",
        "            loss_sum += loss.item() * trg_out.size(0)\n",
        "            tok_sum  += trg_out.size(0)\n",
        "\n",
        "            preds = logits.argmax(-1)                 # [B, S-1]\n",
        "            for ref_seq, hyp_seq in zip(trg[:, 1:], preds):\n",
        "                ref = ref_seq.tolist()\n",
        "                hyp = hyp_seq.tolist()\n",
        "                if EOS_IDX in ref:\n",
        "                    ref = ref[: ref.index(EOS_IDX)]\n",
        "                if EOS_IDX in hyp:\n",
        "                    hyp = hyp[: hyp.index(EOS_IDX)]\n",
        "                if ref and hyp:\n",
        "                    refs.append([ref])\n",
        "                    hyps.append(hyp)\n",
        "\n",
        "    bleu4 = corpus_bleu(refs, hyps) * 100 if refs else 0.0\n",
        "    ppl   = torch.exp(torch.tensor(loss_sum / tok_sum)).item()\n",
        "    return ppl, bleu4\n",
        "\n",
        "# ─────────────────────────────────────────────────────────────────────────────\n",
        "# TRAINING LOOP + EARLY STOPPING\n",
        "# ─────────────────────────────────────────────────────────────────────────────\n",
        "best_bleu4   = float('-inf')\n",
        "es_patience  = 15\n",
        "patience     = 0\n",
        "model_path   = \"model.pth\"\n",
        "\n",
        "for epoch in range(1, N_EPOCHS + 1):\n",
        "    train_ppl = train_fn(model, train_loader, optimizer, criterion, CLIP)\n",
        "    valid_ppl, valid_bleu4 = eval_fn(model, valid_loader, criterion)\n",
        "\n",
        "    print(f\"Epoch {epoch:02d} | train PPL {train_ppl:.3f} | \"\n",
        "          f\"valid PPL {valid_ppl:.3f} | BLEU-4 {valid_bleu4:.2f}\")\n",
        "\n",
        "    if valid_bleu4 > best_bleu4:\n",
        "        best_bleu4, patience = valid_bleu4, 0\n",
        "        torch.save(model.state_dict(), model_path)\n",
        "        print(\"✓ BLEU mejoró. Modelo guardado.\")\n",
        "    else:\n",
        "        patience += 1\n",
        "        print(f\"Early-stopping: {patience}/{es_patience}\")\n",
        "        if patience == es_patience:\n",
        "            print(f\"⏹  Detenido. Mejor BLEU-4 = {best_bleu4:.2f}\")\n",
        "            break\n"
      ],
      "metadata": {
        "colab": {
          "base_uri": "https://localhost:8080/",
          "height": 1000,
          "referenced_widgets": [
            "99168f1079e14390a9fe1786fb538449",
            "0c1288c6304c412f8cdcc03f83e80ec0",
            "6737e0de30924bfc8aab28a3f991ac12",
            "b3d1abd8221b431698edab1aae089676",
            "7a26179ebd674e6ebcc1351597c39337",
            "be6c7ee0de3c4d769cf555687322739c",
            "11fd877662a84eaf949cedd6b9b56aff",
            "a3b9697242e04488a66a97ce4d8edeaa",
            "231b6de75b9146d0a4dba0aa58be394f",
            "326146a462194e119df03324ddb114fc",
            "cdd8d5c08d7145e7a6fb3a179b0d14b3",
            "c330e50cef6e4b3691e53c85295cc87a",
            "f47a4ab8c42547d4a96923db6e2335a7",
            "b988ae6b07414c6d97940c3efe73f76e",
            "e5d976c4268d40588a6ae10597cba494",
            "d91a8a0c9e414eab8675bafca74df9ef",
            "22f18432e6914e188f58ad4f765fef83",
            "b7a27401a9b2466a8bb17dbb4d971d93",
            "1cb49ce7501c4ae9bbc63c9db749aefa",
            "91b8896199ad4ab2b3ec55b0b5c8182a",
            "992e4b98eacd402ab87bbba05b982541",
            "1b14e8803e9540119e85bb7b830b9cb4",
            "99b46e11e04f4ae39d60fd00df52d055",
            "d5a0b7f3445f489b847e4aa733d08080",
            "a33ebd2775784c84adaa7c1340126f45",
            "b561ec1964044f8392bd4ebe5f8a0380",
            "65d23b2ad0164a7da4be7b24b5d10a37",
            "126de832da2d4f319cb52f80d12dd7fa",
            "f7bf9ecf59414864a43de39275065f55",
            "9cbd5389d76040b79e14dae5386f50fe",
            "4c5161d640014995b6fa655e96123990",
            "27ffaa67e4c240e1974cf29df526d91b",
            "80a40f9020b84b6c9740544ed8e18315",
            "089343be47984c839d98a4222e36a02d",
            "bef08bb1d82e40209b4554b7c816a311",
            "a6eae01391af4bb5aa4055db778b501f",
            "1039eb1162de4cbf8093e357a43a585b",
            "2cb71eab266f4078996275b9c6d196cd",
            "c6ec6ad665ad45b3a83c609a6749d33c",
            "44c9895d600f4668af6f2ee5468c8f97",
            "990644978698470f9fac95240256396c",
            "dd4483dab02f49b3bbbac217ac0f7e3a",
            "46134e4aaaeb4b60a3eb02a53b36d2d8",
            "766c5cf4f8e942fb8ca243a652d19aea",
            "429e8add1daa46028a3e615265b2d20f",
            "9b0ccebe38ae4d059834a61208eab5e4",
            "d4b431827bfc42afb11c8e7c3ff65115",
            "e1fb3df2d6fc429d855167e8837ea8a7",
            "1edca4e68c78447dbdc37172147a824e",
            "d6ce01e79e594849a16b64db8db80be9",
            "da39df999d1a494d8b2c23ed68d688a0",
            "f44e42d911eb49698fcc8fa64d26faa2",
            "52daadb57394450099b7ae36c7aa8cc0",
            "64059fd1998d402eaa7e6827ba3d56b1",
            "2f6a33ddd4684f32aed47e2114e194c7",
            "4dff511dc9454251bd87d2e7e315df28",
            "2d36ef7605f6425d8d1df20d754a420d",
            "9b2984133a0442b0b8aec26a4cb4889a",
            "4e53da4b8a274a28898cbeb53cd4fe81",
            "c2631f113c4045d898d8905a8442bb36",
            "56ee463c6b3c4ad79626800a0fbf990b",
            "a28dbf766b3c4e37a1405468eb280fe4",
            "f699b3ab09d14b7b8bc59df19d5555d2",
            "9fa1c2dede704a2495c91a3a11935f35",
            "eeae7bcc499441688bfa6f8fc1647d81",
            "fbd3763eb2fa43ce84e5c00d4ed37224",
            "ff58b218361a4dff9cc86fa4c693c082",
            "e3a219b716bf4781873e03f94ed3296d",
            "ef59102547b14f04acb35df52af7da39",
            "cedc0302329f40e793787746cb71f2b3",
            "a6b52163bcf543e580225bb63e1bb381",
            "7226085b21fa48bfbb6d641b569bcc5d",
            "36ba6d4be6cb4984b8ea0827c51fd7e4",
            "847970d3cb934d9d86f72309d7f2bdc1",
            "6bde17f54cf542698161def1630c9d21",
            "557732a6a65842889fc0d5a2f46f4ce2",
            "7050913ca2ea4fdcaaa0fe293a3d2fed",
            "21a120da868648319bb4fcf06853d536",
            "0c5dc3b52a0241a09c6facc150a45754",
            "277990be18864bb9b6cb141a27acb5ca",
            "d83d2bb1fcf14ecbae8477d9f251156c",
            "b448425a05ba4d3fb10e65c4d5b09919",
            "32938a86e1ec4ed9bed82126b4b82129",
            "a2274afdab7d4cdab8c7d761d1e39dc8",
            "59c99443e65645d18b16956fe00810b1",
            "fa1d225ea99049df92eb4f1a229be534",
            "7457c864bfc24249920a5068c9f960e2",
            "251c651c0fd140108daf33497f102b07",
            "57613ab7c01c4524a35eab21aad5a032",
            "36cf5760ee704cd89f1689ca914fe49a",
            "ee4f5f02aaa94baeb55d4ef86d637580",
            "affa85ba40ed494cbb0a22a02669ae54",
            "c6eb4be3bcc74ce59e1f6f40a0ef8562",
            "2fc1491ff0bc4acf95de8b832411d901",
            "6fd4880eb6ec4ad2bbf05e799f0a2ece",
            "4959c3cf26874398bec982976a9b8b11",
            "de854848a2e64601956585607961b329",
            "315314cd2b5c43909cd2cfef5e30a676",
            "ddcc7e5e8647421cbae23e23093c1726",
            "6068f4cdf04b4af79d79471b969f354c",
            "ca08afc68cf940ada4af58092044c41e",
            "accccacb0fb94f0e93408c753598f07c",
            "c7d99af211814a889f4ed78accf7282b",
            "6e040453814944c0baf3a97a2c2dd002",
            "fa46411a57034a068d30d1bbd0d68799",
            "ca014e5bf6524b7988a995ab749e7684",
            "509ba7c3c0cb4f568c4b91d9f946213c",
            "d6bf1f98dc1c4d459409003f9b304d17",
            "e70302c34a6347d2ac92ab1f63df3996",
            "bce55755f8004928965c6939a1145a07",
            "e21c2697e28d47b7b9096b37ee262703",
            "46421918e19249b8be2914fb6cd40a2c",
            "0833943dfbdd420ab368517a10027ee3",
            "e1bc8e87202f4a4aabfd3b4926892e64",
            "73d55e8a407d48629de657bb48e53ef3",
            "aff65d71d2be48eb9347f130367d59fd",
            "35300e69c9ff47f0a9697dd18353ac3f",
            "912d68b5199e48098355f6eb64ad5471",
            "a2209dbc40234e09bf849357be7594bc",
            "626c69d9b5a9492ba2a097a029ad1ceb",
            "a87098fc1cc0458da483d896cdf6ede6",
            "237c4e16a61749408d9989ae7e2bd728",
            "b05894d25bc54491b49bb0d0e1cfb861",
            "65eacf0c6c6240fc80d595185a99923a",
            "e8e5b90facc14222a750419f70d96d55",
            "19b6e96b71c44379be9a58ee56296252",
            "28cfa6f593b4412bb8d83089d24f73f7",
            "09ec59f0f2214f1e97d66d7415193cb3",
            "3bf7ff1b6446468ea496d3e394127440",
            "a516fac1ff7a4f508fb531f6bc5d6fa2",
            "9069c85a1df54c518726c58463159799",
            "9f43ad5dc2e345eeabadb46175130966",
            "a7ebbae5434e4b4c8d50b4ca0b9bacd8",
            "6277d424fdb542948fdba015f28fb3eb",
            "f5e8dc4e462c4eb7aa5d3452597d9f3e",
            "ec4a70674b37489c96c6ecbc60bb40c1",
            "65c21e85a4d3466bb0b6d834d6e2a199",
            "e8d44af28a0049fe8ef69af38fc57673",
            "5a0e8ab46be94c48b5cf9d779fa2dff8",
            "a4997b5a727248daade5d9da84d0d012",
            "7c95e27bb5f543068bffb59d032784c7",
            "1d8d0aead5e6420f94c076d109929813",
            "7bcd44656e9d4edc974d447107191cf4",
            "7bd22a932cfa473bba5688ad019241e7",
            "65c749141aa64c919786af358a446e2b",
            "f63ba2aee5974ab6a22bf5d3bf09932b",
            "206a1b80478648e49d51c0c9f75ec427",
            "ff2cc4d1028141f2ab1e90ba6e668466",
            "32fdc30b75934b6c980c591837b44f7e",
            "fd01a65bfecf4b20984be41fb0f8fb5c",
            "f8bde8e0b3bd441bbdd66c89429aacb7",
            "57530cbee606458cbf900bd2fadaae91",
            "dcb4fc27ee5644ac861c575bc11286ad",
            "a29433d3a30541dabe3857b20e6b178f",
            "9e321846be0d4531a38ef6fe521cb469",
            "742f071ae5e6419fafbe273dd70bb6af",
            "f3ad5babceb3423f8daf93a383b70ae5",
            "c659d2de2fc1447f917a6b6892095e45",
            "f8615ac273674f29b337315f208450d4",
            "40443723b7f348ec9371511baa9c3d84",
            "34b6e9b7e7e84e4c9c5cd7a306252778",
            "9cce581ef1c248f98c5455c2220c15a9",
            "ae679192011f45e0af178eda91616e1d",
            "de1a2895a9054e369b269592e9e35d74",
            "efa164cff0ae4b78a3420becda337813",
            "8616e7c5ee874131ab2531859d433344",
            "8984b9bab2b44a36ab63918a864b3db0",
            "2d38cd4aa81044e894ec2f09650b68ec",
            "98c433da66604ec094bf5f7eac43a2bb",
            "b1e7a85f31b34d658ebaaaa751018775",
            "69e2458d2eea4b2386cd9154cc7a8777",
            "7678adea3b2a4f7b868bb9c578b07b3c",
            "939a81200fdb467db419a71a7d0f04bf",
            "f43fa47869c445b8a786b3b7c487718e",
            "d8a2669473af42b6aafa03d8c3a64aee",
            "41fa536705394f40a8760f7327dc324a",
            "6f2a25f846f44220a612d055a77c7588",
            "cd123ce197344b189939bc2a40358087",
            "3a532bb1ca6c4a2fa735399f9bcbec69",
            "8f434162a678450da04be87fa9c9c02f",
            "b8bdfd45b6ac45f1957ca98507574e95",
            "40b3d4a420d945ab850a5adfd448a8e1",
            "7330f5eeba354fb587b25820b3520849",
            "db84154a50f34bc18ab78fe432afb0ce",
            "fa811da124824605a2f04a44db8466d1",
            "827ff0886e3449e88245b405b4c573b2",
            "fd6251616f234d018a88e6596549576c",
            "a67a507518f84064bdb5a23ad3feb56c",
            "91380ee63da4467f838f8d494328c315",
            "56e6d860f6e94aca8445d7df71419817",
            "cca5ba76d84f4468bf0ee4c4e444a35f",
            "bf944d48e2a14b0d90de4d4c9a420afe",
            "3bac8bba9f794091a73f8af0ac0da462",
            "628e2dfcfc434795a28be3f36ced55f3",
            "fe104902c8fe45d78b7409a4aeecdc79",
            "e61dc0d9ab564c61b0f44a381b2c66f8",
            "d4b82380ee4e44258887497820c02b04",
            "75af334ac76a410692f4f77034e0c8b4",
            "a00824302e57438993e46230cc0e2408",
            "022a8ed796bb4d94bff57186282151b3",
            "60b46858db9c4fe28d07adde305c6f92",
            "d32cad2371824a7fb881258289a1b9d2",
            "4c9cd6af2943496e965309b940ffb3a2",
            "05fcb62c83934790a30051c6b40bb2d1",
            "ebdf4d3299ca4ca690b25052de359e34",
            "e1418183f2e54adf9d467c763e0b32f9",
            "af60d2abde3b4710ba3d5a9554a2e588",
            "0e1a6099d63c47bca83a4aa4f1c4141e",
            "85da31c249ac44fdacdd866e39a974c8",
            "db6c7054367740049ada1d04de244a4f",
            "01f6bb5a44e8499481f451229725fbcc",
            "4ea279da5d794c688b27500b1a0b875c",
            "23f620a889e9404da04b76fa6e6e51f3",
            "e2de8ccd7b0f4df69f310e45a8ce9d38",
            "e694548fdc2742cb85805fcfebe31ca5",
            "bb43b0952b0f4037a69533abe32fd0bd",
            "6900a704ce1644f0af6af58dfad78dcd",
            "ee6be34fc7144da58907729726885ade",
            "bc3598e32e92498c9c7a7918788f1fe2",
            "b643d73a926e4b78b344737cbdac8ce3",
            "bb5b0bfe66fe4dcfbc0e76e2e4a2feb2",
            "8a71b221f2b8488b88c13616441a8149",
            "36e3007b4aa94b2bb38ccc5dc64934d4",
            "3ec59405da6e4295b67f2d5eef658845",
            "9a9e48d4cadf47d090f847417da4cdaa",
            "e175696e1329437681ec1a8b527be73b",
            "54345440379a41338bd162cd7bb10a9a",
            "95270fa64b2246e1a5cc34f0e49cd0f9",
            "f3f8004bcf264dbf8ac2a70ba7c2a69d",
            "e5d79a72e6e14e958af3ae9ae7cc359e",
            "b682633ca36b4ca4916854bb7d8eba25",
            "5156e988be1e43c8b7af2b3d858c3e6f",
            "50b245ad8a014d369ec621242d2d63cc",
            "7d6d581858444c0d90f3e3db7c3ab251",
            "9e1ea84ffcfc4088af796cf15afb1bea",
            "2adc9c0eb8bf47ceb13ff0cfc2fe9a13",
            "23956dac920546679fc06802fe567007",
            "b5b2b49bef5d48b5a6fc60e350be8b8b",
            "c1560ac1f22b436197c34e5fa56726e4",
            "b7c4d8c4c1824972be76bd223a18f149",
            "4b5d61f684264c7ca8a349b916a1c94a",
            "fc76a1ae10ce4360b5bf5c2f04c277ac",
            "b564526bf3654f5d9003c6f272fb5455",
            "9acff681580a4a7caaf0488e5bffc116",
            "1fa4ae1dc2034079b9475c8c321b113a",
            "5054a0db33dd45e786d24e4d01fd613a",
            "4ebcf6f64fb94e6190d1c87635033d44",
            "50f3d58b969448eeb061e7994a30283e",
            "3ae80ed244614654ae2bf0a3fdd53fea",
            "d01073656c6a4c088e6dbd07817d18d9",
            "cb05114aedb548759ece301bc0876f17",
            "feadde1430114063a8015ae622995d44",
            "6406d38bd2af44ebade6d1efb13edb52",
            "1950efaf45414fd6861bdc4e5b49c802",
            "1f9329c3ac324945bac9f134e2d9d041",
            "832ea0465e3e43e3b017f0bf11146230",
            "19dd224316fe4c49a4c748535cc60f57",
            "14d19f3eac034003ab2e6d4d22c7ff48",
            "09f458e6c2874774b6feb05d5839d0a0",
            "b0c117ece3cf4551b5dd930673dc870e",
            "c87659e5cd5044f18cb0b57a429e9afd",
            "e5bc511136fd41c282efadb441fb6d4f",
            "a1c7092fafd44eca8405d6402a790cf3",
            "e0ea0011df774641a836b9719425f35b",
            "4b3ed44dae80420f96d11afb9783553a",
            "f27b3e82ca0249e882cbcb22c7e847b5",
            "e82a884b4c8140fd8607f723d6f7cfff",
            "979368fd19c446b7b2686c8b2cf38c3b",
            "4bd625a6428f4b76ab83a997019ad7d3",
            "c729c3ed15d0476e80b1e53ddac101b7",
            "f28229215d334bc18263c447be9819c2",
            "2d79d28d657c4665854842f9d8cd35da",
            "8f6cdc0379394cbaa1fe3fc78f9f2c21",
            "6268d2014a7a42668755a48484cf0a77",
            "6d89a2c667dd4a8abf8108756d7e8af6",
            "1b3a9f4090f749a1a95ed35f4e98cb4f",
            "ae22ff5f37be43d5b11efebce7bc3556",
            "90cae30216ec48fea40e90e651fa2604",
            "f7d3085bf7e6498c979d018a0afb3510",
            "931bdce26d2c4a5f8f59add88f044249",
            "7dac192c738148d0acbef61d40b52756",
            "a9baf0c5522b47df8d4e5b53b5af8e30",
            "1dd6a179b83643b6a75b9baca3c3cc50",
            "535e93a19d2b4560b127daf1558e1e6a",
            "bb758153543f4d40b8fec7b691f64dac",
            "cacb4bffb6c64de2bae56764348d2621",
            "eb1dfa62a7784ebbb32b536276444609",
            "debda7381a8d464db335c3397122dd38",
            "b50a16d9186b4513981049229e482d2b",
            "604cbea9a16b4f6bbbf1e02b79d6d321",
            "e92fa1d16f204731b806205c310d2a6e",
            "2f57cee651194b2eae9aa165f06fa8b1",
            "4cfae2788e1f41e9987dac420574ad78",
            "802b92f3f23a4024836e5c00c8279e9b",
            "582d5cca94a043d3b6d93f37bc6cfabe",
            "42acd1d8889a4bf4ba42188b1066eae1",
            "f963c0f44ab94f7d96c9920f0a5f41f8",
            "09da68d53ab34d5eb163102b08ff0406",
            "5082c68be1774effacf40c9755820c07",
            "2c3faf62b2e441ae947cebeee06c5ebb",
            "45ea1c2dd98a4439a9f482420918f6c8",
            "6513a851ed8b4495a5285c2f8d72f3ce",
            "2d4aaa7aa9b0434fbdb00128638cd2d5",
            "d1796989bcdb475490fa3982e246b284",
            "a6f591321d434806b358619fdf9009af",
            "cb9731b1de674809a2afe0fe8ff17746",
            "af8e82ab715d43b992ab84ab1f07af20",
            "c8cccd9a4d6f4eff951bfc422ed99c0d",
            "7ec3af563bd5419bba44a25c011c08c4",
            "b99149f533e7484a8f9dba074f7293be",
            "c5c847bbae964f6c8c240b3f86e965df",
            "d68a35b0baa8491bb53bcd5b8c84006e",
            "3ab7e8b3cbb9412a883a688055e6a8ca",
            "d861c14c13224f479c0586cf3fe3c8d9",
            "0264e1e1d0fb4fbb922d5da406ccd4a9",
            "e0c5ee380645420fa54759ef2fff22ff",
            "5802a7f2398346dfb914ef7c5a400f73",
            "903a7635890b49539b69d1fbfc7b2591",
            "efe6f215b61d41b9986b3bc3ebcf45e2",
            "e92aeb865c47403e9f74812aceb6c433",
            "2d9ff8e424904e56a10b067e7f5e318e",
            "3bb3fba9d1a74ba7bcd100b7b136ea60",
            "3b347bdd3c9d45ec9198565e137634d6",
            "d81a0fd0b8a04477b7946aaa25758e7d",
            "37ce91d8d92444a9b799832d735efc9b",
            "6b83487a0f1141108d26ec8cd4646a02",
            "f3a65690d4574e9d8a7ccb8a7d975b8b",
            "d084ad16e5ea47fb82df0e9d20bb2a14",
            "23531a0bb294433fa35a8a5967e13176",
            "984beff07dab406ea9f30beb5038a5de",
            "26191918a1584991afb6f5a4acecc240",
            "20ea5b8c6dc44f2d82ce28568e07426f",
            "4097b913a4cb45e288f0ce5e5242895f",
            "64bf252502d34dcdb5aeb88d054146b2",
            "2d42f49aefb149fea72a719c8625e658",
            "a0a250104941401e8318f8a785b43a02",
            "4eac2a6f3c434750904f2132ca697cfa",
            "74cd6b7cb1674d578523ed8295423cd3",
            "0bdfd01bc8cb42b2b7af8639475a007f",
            "cf8438cc3f4648be9298dcd71697bdaf",
            "ec2b825c0b884335a05c19813373fd83",
            "b511e9f4f57b4cca8e3173ac7b8c8d36",
            "3e72e3972bdd417d8788347c89561e6a",
            "7d92a0f2c2a14ff0a6af8cc3fb057951",
            "df9e309dd69447ddbab15d308877bb14",
            "6f65a55e17c84fc897bf484f7d577b37",
            "fb626930a863474897288a66eea5e0fd",
            "89af9dd652134d40a7738a7b9bc3a487",
            "cafde0a6d4f44728b02e47b1438243e7",
            "d9f41c5cfe6d488d949c22a503081276",
            "3a937a063c454589ad30ddadcb049ff2",
            "68f6b7a72ce64482a1488bdea4c66f67",
            "bc7bfd9df7214fad92b94366e0f3618f",
            "050853d65e814a3ba075d28eb8bec01d",
            "25c81f86d77f499fb935f4dd818b62a6",
            "59e0ed7bbad34adcbd828e617786017c",
            "2fd27eb55e0541b59ca5c08cc52f8b40",
            "c702e7974f584702abf5427c35aca7a8",
            "004a6bb56328429ea12467c09dcccd6e",
            "cbb2ad2e4972455ca0a253c6e4fc5391",
            "14357c7b91e044f69ce0c05598017431",
            "4c2c2778d8ba40199638981728abfa8c",
            "55b2d0c7b60348c1bd65d6b11ffad129",
            "8e36dc5d8e224252a1109a60a5ccf309",
            "1efa6758b3d044e6b780918f1a61ec0b",
            "47b97533a4604fd2ae8c4f832384d31d",
            "8ad4671c31ae4ed29bb7f1729ff51969",
            "efbae73347db4845a0fa57b1919bfa94",
            "433fc1c9eaed4a7eb5d4502778e57459",
            "fdfde53beedc47c8aa4e4fe6d6ddcbfa",
            "794cd072ce26400f98b04eb76fe0a473",
            "9867f78afd6d40d08e1aac6d017cf109",
            "adbb44b2735047139d60174f0623aad5",
            "0c0144330d21458288db3f65dea77af4",
            "122cef27de184caa94f487cb3aa5b17a",
            "32b13fabefbe44378a74e8362b0fc720",
            "8c57faadc63a454aba04d7570ba0f42f",
            "f311921abeb84b30b8a3b1f84e199a51",
            "6a512e06cf1645fb8093a5866d232ce4",
            "989f3db1e94e4b77b48efa7f8960fa6d",
            "086f96af13a644cb9db3e2ab2fb7ee2f",
            "a42bd522871746148d987b8510648875",
            "572e660aab91414ab45d99d2e01f26e0",
            "d0b1b6b3a57045a8877a6bbf55492a8c",
            "62d824e1162140478ca9575ae6298536",
            "f4290304a8bf4147916b2d9197a156a6",
            "3d35a330be3b41f39d371a91fe861285",
            "fc455c77ad534f2a8217e013ead8da0e",
            "b30b9e6b096e4fd2bb0d600b069e5127",
            "a3c43bc2f40c463ea14a5bec8f09c349",
            "e4db99174bd2493685eab4a694490126",
            "9667dd7877304012800867896ff1a113",
            "3f0e051d88d24580ad482e0de318828e",
            "2f0546c3155e483d86065fb9791a121a",
            "461f18a0bee5442ead23352b569a0acf",
            "18351bfda6bb4f0a9f0004e0b1d2164d",
            "4c2fed7398284591a5f4fad1a4d91a58",
            "82c487087d9f436392b79164ac29ce12",
            "3cd0a3b29dea47aa9bf1164b449d7ea3",
            "26c2ac55837b4f6d9a7a3b065bd1963c",
            "49dd6d1755674ba7828cde795f633e59",
            "bdce671a1ae84f6e8f81694559c7d6a3",
            "c43ee2ef35ad47d4bcd58a97b97e4d8f",
            "ebc56afa178443839c48cef8bd2a4439",
            "9be2e4ceb14648349d454109b6798a19",
            "6d778415536a4d598ddfce3f6bb9271e",
            "f70e599ea1d2415ab699408dc04a0fe5",
            "4018a25d459747d3886610877cd7dc05",
            "d8b0693f214045349002472c49750bb8",
            "38297c1891df4799a630cd1739b05d9e",
            "dc6de578a0e84c808c9d3f6b21ff0158",
            "4b810938ec6b4f1a8071a4d1b5d8b936",
            "de37d840680342338734e57b8f404c96",
            "b0cfe8023c1843de989d2efd800846a6",
            "ed9666acb25044a5b85df7d1d0e0da81",
            "6f2f20e065324b7b9609e99bc31b2b3d",
            "0b83839821b8499992c4599134390436",
            "4308aaa05b1b459892383c225aa10be8",
            "a697846413d1433d833b0d3f9b74dda9",
            "f14552c816d94222a4f8a9dd9827083a",
            "8e238a7a741c4eb9a7bc955bea8c1285",
            "057803628fdc47e48ff7ea8e7bf5b97b",
            "01874a1d7d1047b2ac23c4cbfed90362",
            "86dc6796969940a7adcd3a0160196c53",
            "164edad795ae4d0f868d6bde518e3cf0",
            "73683643712443369ff549afef440fbd",
            "6d1cc5bd30eb4fb7a9647afebdd5849e",
            "23dfc98ae9b4448b97a8f376028052c1",
            "89733fc76f3b42429ca6ccbf6833da31",
            "b1c7519d3f9d4553a85419c14aa6764f",
            "d64f6e456647475b9896fcd6d554921e",
            "7ad3ba6528e44b49a632b3b352429476",
            "4a3c9f69e6cb4a2bb9a71e8e12e85f8d",
            "16afd6d2fdef43b08c7cebc88c8dfa1c",
            "5d32a4a6116048f18d49a83d14bca056",
            "615663b6398146d98606954bda054b25",
            "104b3aaefd374785b6499330266c20ad",
            "bd5f6361f5914d69b9580f47742d40c5",
            "12bd86021e2f4e469c0fbfdad942669c",
            "9b6253d2240343beabfeb0b8b1e0d6b6",
            "8b5940c76fe84338ac31dba14787b59d",
            "878fa9d33dc24fa7a53b22c4a38a73c6",
            "b410e68d3a5444058fe6cd3d7fe8e52a",
            "02e4210d0cc641d7accefeec3564f7a0",
            "58e13559a28842d780f357fff29119af",
            "cb23732992a043b6a875494b94d27d5b",
            "f7e064f5bc7946dba11c8d617e32c432",
            "b10c380aa21b470484ee5c0bd211a00d",
            "e6e21bdd1a7f4d80ae4accac277ed92f",
            "2963ddf41ad84b3d907db6c9b8bf7939",
            "1886b1142e1f405c8a9144542aa9c437",
            "0e8d2c77393a4bc4b05ba2ba68ec23bb",
            "f212bea6c9bd4039befdfdb3fdf763e5",
            "5a766a4220374085b734961a47cfdb36",
            "d7aedc7e89c0462fae8a3bf263395a92",
            "7ae2fac7d03144d3804784f325746fb9",
            "ab4319ca38e647a8a1b738fa5b93864d",
            "dc83fc22d01446908bd487e69c32a45d",
            "940861a0877f432c8ba8f2c1c83fa971",
            "293cf35963e1490898fc3884e15378cb",
            "0d736639badd400b81f8f97c12067901",
            "eb933894b3d346e48501149349b9679f",
            "5914cc3b71584989b849291eb32d7650",
            "53e614d2215a4ab8a6f1b481fb3a4970",
            "490afcde576147edaeade6d6ca633809",
            "a1dff204f32c4e95a2b6a54bde2bea7f",
            "212479818e964e75931df77181ae3c5b",
            "6942926d5fe140f7bb3beb4923a77a29",
            "914c5a8337f74e88b559dbf19896f245",
            "0a9999c02da84d849627c8fe72530776",
            "b1c11934c98545bcac547d3f908e7163",
            "aaad0f7f6497498ea47d3fda2f1b739d",
            "9c4f84ca255f44cfb02280f38f87ad4e",
            "914733df9b164a16bc150ba30d7c5980",
            "eb93f583db27400496a9c8080a12c160",
            "c1e11d57810a49cba87c81673d1c6534",
            "3f3d78ed523a4d10a4ab985358e6e1f4",
            "9f880551357f46b4a368b86d30b2eb9a",
            "7bff2c0c668645629e91b370e879a7fd",
            "3321845d9bac4830ba2c4cfae8dbf223",
            "920ed8707c99445294df141a27575904",
            "8789d5bd3ab34aff843632c26f4ce729",
            "2d3ceb588c354777af88d45383a3d52d",
            "71a0c58892994ab5a30fe584997d32d0",
            "383fbd44ec934106ac64c4902e11b1eb",
            "da89bb3cfca04963bdb61d9028655fe5",
            "0099dffd03884e85ab73a76b7a0b9507",
            "3dc58f017d8a44e28eb610f20f8d1b9b",
            "4f0ebe0797824227886ab33de0a5fd73",
            "f7d482fcdbe24a0f8d4f45f24d60918c",
            "eb4e744cce87456084fc6c63661afba7",
            "fc9c00e1b5164e689aee9c85759e6262",
            "767eea937c264d7fa111e2d3b4e1ff01",
            "0996246a0cb744908873b235660ac1bc",
            "30c41e6242c14390af8e96d71e03438e",
            "6adf673275dd4facb1fb2b775296b8c6",
            "cc74661895414a069d59b860a5a53969",
            "ed36e2c7b0154d9a981443f89f32e963",
            "2970c688bd9e463b82d276257618980e",
            "6f030ef6fa524b178a9716c54258b939",
            "1e7d12cebffe48949fcffe2c9ceab460",
            "495e1b55d8c640f890927b21aefc676b",
            "606d7f978f164b3a8e0ab35b24598dad",
            "bbf3fffbe6614be0ad9920de6a78b5fa",
            "3d35a4c8ddb84a8095b20c0013ae2ba8",
            "1937d0b9638b431799bedf5b3420faac",
            "c806aaf0a25d4bfd98d8ee7ce4f193b9",
            "c47c478630ba4a0088ff2230be3d5498",
            "cffb227f7e9b469ead924c07748a9570",
            "0146bd02c53c4f23a4356e8d3869c201",
            "1254d53f82b44071ad51a44142a70ad2",
            "ec3953feaaae4444a453d594c4410836",
            "4e16e4e00cda49caad256a181e9c709e",
            "3ef22f3d7ef744f3af0b3ebe255065cb",
            "6b63501b41904266998d966618aef5aa",
            "10774faa4ba14cdebc132d4df3191ddc",
            "b87bd9cfb4864193988693e8d4c6c256",
            "bfcdf3c9f9cf40efa90acdfbfcc72365",
            "1bbed2effe8d42c48fd8c5a6f1dec4b1",
            "a63866cd1f4b46e8a7744368ef8d018e",
            "c5932b807a374098952095148ccd31e3",
            "de060e19d82f4f76a6411de35e0a8699",
            "3e005566257f45f6993dd99fe4ed8016",
            "c9489116fbb948ee8a12d3009edf7fb2",
            "e2cb628e6a8143d3beea3ee0acea4375",
            "83a9f4793c0c407c9e82540f64e40887",
            "489d14d8230449e8a00491bb351d0642",
            "d004462595544a1e8bdf8a3dd1ef1871",
            "747fb6cfbbbf4532ae5c006cd7f1ff6a",
            "e3d2111344604b779005d8d70e555259",
            "6d5045c087334442a2fdec6c4a954f2b",
            "08fd218fcc134f1bac5b09e4856500f3",
            "407df285cae041b7bdc991a1f98a7df8",
            "cc701f7fb2974f84b4b7b84e2ff71009",
            "354198ed660e4317ac37935acfa8e465",
            "a16a7afeecf54f4fa38b82a4bc1486d5",
            "202557f9c2bd40768267c7602b839e3d",
            "6b7be2ccc3ce4587be18cf2847fa854f",
            "fdf500b158c140b09155eb4a12acc423",
            "6a09c93fc8364aa6a3a52a54a0cceeac",
            "ff4e0be984a84e55adb1f5b8abb78054",
            "fd2de1b0e8964433b58c1fb9268a6e08",
            "66605bade5b1408e81cc1d438013e5df",
            "7e916e91f5bf4bfb8fcf700d38826330",
            "ea7c0f16874f4b919538ff7e9ca0b098",
            "545104faf77a43608a78260c97031c8c",
            "0176da437b5543beaaa8a2a5e520e411",
            "fc053f1136584694b918bb312466be8d",
            "9cb2ed4f60984129b63d24344f4c99b1",
            "0a435e0d59b849e8ab66a149214ae8e5",
            "e0d8f886bbe043c593b03f0c5d0d4fa9",
            "5fef6b2ee55542788979f2cf8be0814d",
            "bbae172d041146b792d3f5d0f8a519af",
            "b1e2ab46155f46f685ef575f64f42eaf",
            "499858da755346379d274c6ac7674662",
            "a33fe4650c364e25b5608421ced27aad",
            "76a9b1c95c764ce3a51f5301f21ce1f9",
            "9f8b5857279e4925a0ab8e67c42811ea",
            "a3e456d7527f439ebc035d13d64b02ed",
            "db1d08d815784d478410652349c2a42c",
            "27be2c3c7a284d868778f2c75a1a8aa3",
            "32f924bef9a2425b8aa0300f4493946b",
            "b296e322af464ea1822792721d4ad5a4",
            "e3df0bf525244500bbdd88979d70aedb",
            "08ef9796e571454fa8b98a21e7422d6b",
            "f67e46fff60a4c5fa0bb9cd2f0524ffd",
            "7073ec92665b4999bd1d4d60af3a4db0",
            "046a68174c03430ab095186ae3aae103",
            "eb4c0f1fb95a4390ae4028ba2c577d13",
            "45c10b656c774a9b8ea5c0cc47166eb5",
            "bee418e388f84743bcf9b48d02cc16c0",
            "e80da1d2bac14ab88a2a44fb4c2d37ad",
            "62feacb0037b4584a174a15328a1654b",
            "47bf502f57b54ec49a078b853437ea34",
            "addffce55054453091439b4a25cd74aa",
            "84994a1b01d24ca0ba33d9590dcb97e8",
            "55fdc93d2c784482a11c6c54fc3f5d1e",
            "0b1e6827a662411082cf75f6bbd12cbf",
            "90a298dbff104d33a6e3c091e0f5dc3f",
            "135adc2dc2f343dc9ccd51a1cc9f5cba",
            "151acfa3b40e4c72b9bf1f01316a4c25",
            "5fb64e5e0de4451c9997db082670caeb",
            "c1b811cd8fb24660b22b369c19c2c51c",
            "2d74b8c6efe24c62b6cf933a1932a334",
            "8fc3ed1495754b0499ef2eb9b162d124",
            "8f5c55566210418391d2c0f664b7161d",
            "05545202ed8c4991815bd8cc6f07f437",
            "db41916283a8439393b30f2d6c1a4efc",
            "4deb529c9a314f11bb23e440f7db55dc",
            "edfe0b438b6e493cbdbcb4a105ac8185",
            "a23500aacbc040d08d1651e340b8cc24",
            "1d3ee536fa664ecfa0857363f036d4b0",
            "0b08d5ece9f44a75b4b01ae65b2413e0",
            "3269701a8ca24078a68bf0570b63739b",
            "c1e0aa8593104d199bb09c9e297e1bcb",
            "4735003a806c4aff9bb33cec6ad7ecf6",
            "65ed75d2cf6a4e0ba7c824c7dd9f3a96",
            "a5b60b4e7c5e4a74b2361054937cfd88",
            "4241a182cc2d4ecfa594b9d13f32b1cb",
            "92a6fdc469304b33907d5f11f5bf67ea",
            "a4d8208abbfa40c48dea929cb667fcf7",
            "4c02ec5d6885486eacab302ac86fb9ae",
            "66107529d79a47be86be7045bc40cfc7",
            "c1ad020c0d174c2f87ab04f493a21123",
            "7f3b28ab5e3947d0b31f6d386bffc83a",
            "8d500209a8144d2289b6d26121c3f3f6",
            "382506b8a1b1443dabc871e0a524ef5f",
            "3af9626cb72847c09957eb511b22eaca",
            "6c64aa04cfab410ab8f4f1ec36674ef6",
            "6aab00bdd090465abcd72d1e66886005",
            "c588f3bdfe4e4a8cb2a21cee9d38dc0a",
            "f6c5055accd84a2f83c4afcda70f5851",
            "dcf7d233c52246c68bcec7a661f34630",
            "f39d6dd263bb4d95a9364eef4712f7a6",
            "36c87c98a2684cc7b6a0e3897110d01d",
            "7abd4629dcb24423b0d29130c0d5b588",
            "68b62a3f32794da0ad80cf3ba6dbaa57",
            "c2e12b54aa5e46a8867c060a50766ff5",
            "e2ed22c6729947adbc6e7a197f08ec73",
            "e07c907e13c44609b660db991a243ed3",
            "0672a6e998f048c4bc3f1e12a15ac692",
            "aceffd470603454fa9539e5f0a5ec597",
            "2a60a9e7e7734ee9a107a44ba84509ca",
            "6852f00e7dd04d3489e8fcef05f7ef32",
            "4505c9f44032456ba7326a72f6c7510f",
            "f025a2f1a05e4f5999aad1a184358e40",
            "609b55ffe5f3424d86e51ba20f2f761d",
            "c89b43fe540547cebb1f4cf137aef157",
            "5fd1e2e4fefc467e8adf23a35ff01035",
            "ac22ccff3a86412bbcd822395a40466f",
            "480b463d10b240e68e17df82849d3bef",
            "b55ce31af8194de8be1d0b4f461474d8",
            "db0d6b112354487180db82a7a3585f44",
            "92125b628af84af8925e117fa2ef3a6d",
            "3d9be789246d41e2b43564193dc86967",
            "8141a5eb35864db285cec5b0467e775f",
            "2cda1c573f0d4d2499bd408d5b06f184",
            "a56117468e8e4985a2ed94b9f7c3300d",
            "8320b2b27dce4930830328c0929ac8e7",
            "018a682496314d1b99b7b731ea5ab16f",
            "a02628b8c71a42119e2cd79aff64c7da",
            "18a40b105e55497a90c5483ca6ebc31f",
            "4569bf5c04314853a32b62a8c0494bfd",
            "36ca0500083f400b8f7458a114ee2e45",
            "4448a85128a647b2b9e744cc0e0ab882",
            "ceef0e0afc544aa6a154100320bfcdfb",
            "bc50221ccb754888bcb2d62d840a8e58",
            "45cee4576c28409ab2021f2048a01f28",
            "4520a1bf4a9042edbe071971ec07e102",
            "4ea02d4efa8c41419118199b42983a44",
            "c03cb446cd7e4ee08792e4231da17efe",
            "746b4e0cbf7448be931e4ced747c82e2",
            "8503151dbded41c1911c05c2bc96c98f",
            "9f8fbdc09b824a478f262441adf206bc",
            "2571a62cddae4b888d3c49269b271963",
            "e5d6bda948b3431cb05fe03c77bb3a14",
            "e04c2ab1cd7f4904901ab8a4a5e35a37",
            "73a57246e0694c5389ada53788d6e843",
            "f5443bb99c3a4a238e180508bcaa9226",
            "35a5dba3c19742e6997d56e111a1df19",
            "bb3f6f6effda480a8b0fa481a5947c2f",
            "78034df0abf046ba8d5da69812282f9e",
            "48e609fd38b547399f60e02fa3d0358f",
            "89bfdd5213744b2aa04c535990da1a2a",
            "911e27ee96ad4fcdb60e8fb77d8d8c2b",
            "dc4356c134a748f6acad57658297447b",
            "5e51260be7a2446c98ca151acea2fc6b",
            "208631cc94084ddba91f6ba10c47482a",
            "812f9c26649c485bb9c353237cdddcd4",
            "3557086927fd4cd792924f76c13a660b",
            "163771dccf8145eb89e0b91cf75ef099",
            "4672bf9e48be4843abfb9c27100269be",
            "15c14ebb610b4df2b2ebae5c209f3569",
            "afa9bf1197154413a453054401ffce4f",
            "35063128987447bc8885a2827a8728b7",
            "b7ca674a18ce43f8a8d62fa3d2380a71",
            "ecb33172df4c41c986558563ce13d737",
            "07735776a5cf4262a929961bf357b09f",
            "6d65694f341c4654817a13fa17f53974",
            "498f7c7c5d544b29b9370b4521e5e69c",
            "69aaa807f1de49439ac4c4ace76c019c",
            "fc950c892e2c41d3af602be041eb5302",
            "6f233b289e214d768962dacc8f60e520",
            "66e7fb38638a400da5ea81d8ae603e52",
            "d26f8041b2d4414c84ebe4cf3c6d51e3",
            "4203b26056084ca1b91c8ba285d3402b",
            "ffef6ec7846649f29a1f51988c8a2a1c",
            "74fc0ea672a34e88a51b1593f162510c",
            "44f868c32c7c445e8a338d03f90ea3ce",
            "b5111a0048ca49d8afbe17a4a96ccd00",
            "1da79c580f744dfdae62842bcb8639fb",
            "fa619b441fdc4b69a644b5f7a0cfa290",
            "45c25e04bb0e4863a212b18a05859a3f",
            "624c1cc026264858908e8439db8d0852",
            "b9d8573ed71f452eaa4c7aa2d4e1cffc",
            "ceed9d32838d41658353db4f553cd0ca",
            "e813a61c64a54007a1054f5aab7a07a3",
            "5d6657d920074b82ad9acc0b8dd04353",
            "7dbbe93e7c1b4d1ea970e30a82dbcda1",
            "38b5d13b2b9a431abbaedc3487275bfc",
            "2c273c2e4b4149c388c05e90189df9ca",
            "4dc6397e6632457e97fcfe23387c3617",
            "dec3c5ecd51444d99001943a9817df7f",
            "61b00e57e4244ca4ab50d2d04ebcaa75",
            "f5fb1ee454d841d08d49191f36779998",
            "8d72161ee01249538647a2059abeea23",
            "61d10dcce07145aeb6d5829bd665f40d",
            "b2c7b4788ebb41dfb44aaaea7e17aca7",
            "6f88006d8b854afeaaafe1e02f142130",
            "82aeb3fc9880409496ee75e2431cbca3",
            "841456a1d77b457cb37cacfd75998262",
            "ee4687d962ae466195b056a2679044c4",
            "357876bdb986475891beb3e196951a84",
            "88cb568ebe814c7c8addecd9b36efe6b",
            "60cfa9fd647047048e74a86fea2921d5",
            "2e2f2a16f7da428b9def129e0e0e020d",
            "4dc53073f0384fc89bacba5c281fe9d3",
            "9332c4e9a3794e14baffc01ae3699707",
            "fc460dd4b0bc4beca0b11cd208acb0a3",
            "eeea58df2f234cdebe149c18bc651a08",
            "650ff72dbb6845839c575f924a866b4b",
            "05575acf5d6e4e38b1b89e4ad2f53067",
            "311305785dca44cd90ed860dfdc33924",
            "9f3461a3f3914b02961aac5ab4247bdc",
            "738756c68fd144f7a5c139003c5f71c3",
            "4c9afe07efd84a128a65573ed9dd33a8",
            "1f98c86b611e41f89ed1771cc5dd838e",
            "462cd1eb1c634ef99ec99a06c6a46ccc",
            "f83ac25afef541b18a1d51164758d794",
            "9b9b4b39af0945f0bf99f168985a4b9c",
            "7403aee7edee4794ab28fa97f60028b9",
            "fcec2b806753406a8d5e967df557a4fa",
            "49c145d595b944fd96f6dcb1c95eb713",
            "777c2c14ba974c7ba398d992d472bd54",
            "b5635e28704e4d329c2e60095247a6fb",
            "576df8f833cd4fa9b4dd4180355a360c",
            "74dde5d90cb949daaf32d5b3f8daca23",
            "433af2feaa3c4dfea22d43af9d851bbb",
            "7c786b940581436fa4ec7c62a8d50348",
            "4236088c0ba04a93a93d1f09a39c1a8c",
            "6356dcc7f3ea45c6be18747d65c739d7",
            "c607606f5fde439f9fcbc7eb28ab6b7f",
            "ca4ac5f8a7d944989a6341f603e3e34c",
            "c024aedf2b2f4807a982c0e98fbd43c5",
            "e4202efdbe2e417bb79bcaa2a332a263",
            "b9c8cda327624abf8275b0d1653d3407",
            "51d4d3af72b2461eb6ccbef32bda4cc7",
            "3b5286caa747428fb4374c70a7179f0a",
            "262de1bd5df847428f90b6cd8fcc6b1c",
            "d7ac3c12ba68485095a7b27b382aec1b",
            "1a9389826d3d4a5caa0a47703f230706",
            "e455889c6ba6463a95c37d5eb2c735e7",
            "2af376bb20bc4886ae503fc1253b2b48",
            "2b70fe1bbd544acebc41fd2a8b4780c3",
            "4bae1d73339d49fcaabcab369e987dd0",
            "d6d52432bedb40349be6d416676b2265",
            "02a4731ef12b4b3b8d22a8d5e0f29315",
            "25819e6dade6432eb28d1dac9c9124d9",
            "c7c1e5fa51b34231a5cf80927eedf44e",
            "e72cebc187044215b0c18548df3d5c08",
            "983970b84aa14b96b93f294df7cf1303",
            "f2c4a5b05c354d7eac4e6f8c5454636e",
            "f53ee23f4c044a57940a76447d0cce92",
            "75df35dfa5f94b0f822dfcf05241ee70",
            "bcda386a3dcc45bd9b9b811e47a691f3",
            "e3f805babf134ae0a69e5e1a86c0191b",
            "726f32910fb745ffb858d73a9809a92c",
            "38a1e3d3c3cd48979b106c6b8c8747da",
            "1bf893eec4354922a77add826f3a5564",
            "ebd2dbde37e448e380823b1d60b67f95",
            "6cec6afb62d54d38bc98a316c51e5f2e",
            "b35f255e5bce483fb8f674a9180035b1",
            "13c72fa1ff2c4be889bff8916c241ad2",
            "306ee7f4de294ea68945790961ecd0b4",
            "e7000033e94d48d6a70a188af8d5c9c5",
            "d6247ee41717441ea3d89e0c7536d00c",
            "bb609386a1f04f4bb046ee9dabf96179",
            "a8ff109202ea4465b552f4ae4ba3cbee",
            "1d3ee47a8da74fe3bc0cf3b2faf6e0bc",
            "8acd8c53353c455bbf90bc18681bcb92",
            "f2a0dd22fa4145818271ab0fe21369db",
            "88a5351de81445e5b86ff1e4c445097e",
            "15365094a57d48889c0853c854003d04",
            "da080d2ae700457aa0d7387f072040f5",
            "63ef330cd79e438ebb384e5d14145522",
            "0778fad7afee4902be012ffeef28e70d",
            "94c96c27c9b8438584de1daf44936a29",
            "3d3d3e68bb734b4c8f1c95e68c59408d",
            "04e56d12aef148f88b06ce2ad7be3eff",
            "da2d07d0edcc420099737e4626839c60",
            "87686519d4704fc395465ae334a6129e",
            "3653561affd34481be42406ae49cc544",
            "293ab4ffb9fa4feab078f7113d53dd82",
            "b81bc50633e44a03a5cbcbc8c6db5fe1",
            "d37db046f42743fbb3fbcc62a38f12bf",
            "0be07aaa4bbe450a9918d9be1530a3eb",
            "952c1956e5e24d548f071a688cf11536",
            "9568cf8f9b8f4ec2b4da112a9c712680",
            "3a37eb291c3d4c359ebc1e361e91861a",
            "a23863cbea0544e8b8cb6182067fa89f",
            "a8096a9610594061a138e0d2da465608",
            "1eadc684efb84a938df0018f494e6bde",
            "647f5c0759404900b325f603e904b3a0",
            "6343b66c71614f1ab6148e52daf98145",
            "4997b0db6eb84b74a0e39321d8ab5fbd",
            "8610c4079e714b848cc56d2090b124f6",
            "ca64b253d6224944bf57dfaafd5ff0db",
            "a5944f5e888c4452b5d52b904c623c5c",
            "0c4debcf1bac464da22e3a8baa77b8f3",
            "71b9a918ca1d4a53bbd877cf0b011485",
            "89413154c6844524becd990f828f742c",
            "cda7fafc501241b4b379ebca7cd7ff70",
            "a19fc5223c9a47a3991dcf5447908b40",
            "0836e5f28f614ef797c73ace7f257671",
            "07d4a7b1790341d0af177f6bec5ee07a",
            "e80c7b09db52430d96c7f7f99df674fd",
            "133163922589417ba4573313e4aa6389",
            "8ac7285f00c54056afad68cc220fe4c2",
            "647f19f908d44379a05addde879994f3",
            "a53ad723865c40df87cc28f1ac41d8b7",
            "833bee3161c344c38d8babebdd2b8fe9",
            "a9b95b1bdc874d23bfe08f72866c1459",
            "a734bef744fa4349a2e777c5738a3226",
            "92d70996810948529d0df76322a71f93",
            "19e26f6df0b4467d98e3d0829470aaae",
            "4123b432673c4bc5a744eca0f4fba7bf",
            "5e75f545cec74ff78c39c3c904a2ddb3",
            "f213f06a3fe94de886efe5baaf716d27",
            "42dcb63cd8d84754bd52bcc0a3b675c6",
            "b1d3062aae1f4819b5e27242cfa6b719",
            "5a079a803cbf4f51a5b4bd837a96466b",
            "01f6a30e33064ed786d47d44e36a9853",
            "bf2cee6759b640f989cf2719812fda5d",
            "438aefd173f242f8bebf6c2d469eddd5",
            "eb10fe5dc9dd41fa89e500fb2bc69dee",
            "9c110a3089374e30a1aa38b0568a091c",
            "020ec5f308f8463faab4d648695f9898",
            "56195c0052aa4d82b990ea28f7d7de9c",
            "53ca8da33c60496f82e48c77c78dadcf",
            "5a708690267f4840a3f89ce8380295b9",
            "29cff417f0a74c00ac68383ae087f2b7",
            "65e1c5d450c04d368e8f3a78a8d788e1",
            "69d31724d0f0440389a6183c9cc4e960",
            "5d760c763b9746f48087e8c6acb750f1",
            "42f0b235ab344ee8ab3fc8dfc491ac8c",
            "e51546fdaa154c67a10fe6b22cfef10d",
            "055eea79ba464c1380d3bfd99e0a8a4c",
            "3fcd7b88a65b47bd81046841a35204c7",
            "3186cad5f38a4c5cbfebe4fd4c113247",
            "d08c7846de0348b68da2d4c3993d39f6",
            "8fb82b89602c4854a8a80d06cfea62bf",
            "d9cb0f057cf646099df1b222212abbbe",
            "886aa1aecc7d43329da55bbb809ca175",
            "6ff003250243455a9820bf775c5c109d",
            "de2a367366cd46b4ab7aabe675869aa0",
            "e965d479e4a049f19498629a43aba3cf",
            "3afa3913cb6a48cd9c85d0aca15a8866",
            "603f8b34bced470492ce963662c13282",
            "5c89d128c68244eb995cabe8cb7abc96",
            "9f8e589950fa46689fa09063502531fe",
            "ab4d17255da74bffa33788264e5fb493",
            "a218c1ce37de49a79e88e2744c343d00",
            "3d6c18d8927748c79b3042e9c3c5113b",
            "16e31a0766ec4ce2b024e1460c5a2659",
            "c66f08fd1f024316a4f1732f3c34d5f1",
            "f681eab9909e4f9db5aacc762442e08b",
            "889bf19fadd04f2b811b6525dd1af7a6",
            "380f09efdc824a8c94a09a9e919a490e",
            "06c93db71a534737905e34fea540d6aa",
            "ad9977935a5744d4a9cba8620a073e42",
            "bd7d822cc08644d5afb3c7234656b7fc",
            "4fa4d7c3bad24799ae9bdf497e49e7b3",
            "9dda7cac5e934284a81ae3b0ca199ed0",
            "c1dde4b36f254bba883f4864fb7c1a5c",
            "2029466fa4394a238d7e82ae218b23e7",
            "e57b2878994f4a33b5d53d0ac32153a3",
            "050be316b02b464289d57d64a0b4e766",
            "220ccb532a304446b9e095704a0a5eaa",
            "1d138c9dee3c44a8aa1163623fc5811a",
            "272c536adbae41f29df5df3db070b591",
            "7457967a9f194362b538dc84b54fdb49",
            "c25ae75b41d0423fa67559a8469dbab5",
            "ea0b742de4164147916c949c9e2d22b5",
            "36d7c87d628a4c3db47fc5af021d9247",
            "147f053b096a4d039118520cf41048bd",
            "96af8f2861a843d0995019045232ebb4",
            "0344f142430a4cfd9fc86b2510ca73fc",
            "4f841229e0bd4f25b3f6c90b900356f2",
            "c3e2a8239cfe44e0bcc25354c5ad48c7",
            "ada9da9f331246568846ff4aa3bcfbe3",
            "f0d967be60864cba85811d008bb5488a",
            "a1755240744b4c42bbad56fb6491b8db",
            "4e09461b849d4595bafe559ad0dfb3f1",
            "c1663806ef5248838bd569cbd5573c19",
            "4f50981675664329af6ad0e22420416c",
            "8d50ff4fd97040aeac89ef002b49e080",
            "df12c18640fd49ce8a48849890a0da64",
            "590c5e77b665462ea92b35c81e94df49",
            "e76c542f78904d8fa8f130b3351c7f4a",
            "194f7b5c45b244d191d0e32e54d94699",
            "f2f4d6c0384f467c860be752254a41eb",
            "a670561872e646efbe52d9310efbe9d7",
            "61ceeb6055ec47e98be5faf742a9c815",
            "f7ee3b2ad633416c9212c72139390bb1",
            "ab6c5c84d41f41508f04386460e1041b",
            "bdc6a3ce85e24efeb3c03b470600332d",
            "110f5d1113e14d6fa9684e9fd3b7f481",
            "d94ae99f18654b6d8f8ef4dc4cc727ea",
            "248652daa60c45a59327b841bfe8becf",
            "6ce39fa8ea3043de9833efcd975e2375",
            "b979bf11a11742c58fcd1dba1c8d1f19",
            "09d50d92d3524862b596ebb0f2029aaa",
            "55af5ae980324129b359e3c244b2d54a",
            "63775ea45f9247b6a404d0b4e773a24b",
            "85862c03e2ea4a3ebe6dec5fb241992a",
            "2d2e7f4b6b4d41dcbfa33876f7623478",
            "cdd8bfcbc5574a4a922eab0d9f7f2087",
            "ae71cf68625b4995bd024ab9f50bdd91",
            "c3250ebfa12246a4a644650df119d515",
            "8d1601902f7f4e56bc488cb619415dec",
            "9c593519568c416481a064d54fbd0498",
            "b13982bb01d145e7b9d8e5493c711d60",
            "2f1ae2c14b37445b904f72d4b4f7863d",
            "cb7877bf4a50463ba2518ea62251a459",
            "ab12873dc90f4b1eaa9894e985f6a035",
            "73a50433f31b46a4812ae9fc6ec2c72b",
            "89efc9959b3b4bf381d760bc9845e405",
            "5d837418d4074c46833b525da6b5f2a4",
            "81400030449c4fceb36275978e01b334",
            "aa656feebf3947f7ae89568e5d159117",
            "b5fd11895d66442c9b5758b4aeb50dbe",
            "81dbc982210841afb86831b33c48bef3",
            "3599d115dd4f4b158d353c457e55074d",
            "61e253f52a55482985b0355c056c65fa",
            "e05b8e1d205449ca912ebaf8ae8714af",
            "70d8f5d82cb24ec389d3a7c23c61e01d",
            "9599c95971744b3092c7b3f266ce5542",
            "60add59b074c46778429cd932a5cc5c9",
            "0f7ae24360d74337a4e8e500dd4b05c0",
            "2380dd0acb414ab89dcd98b9699ed00a",
            "1f3817b353a84af7ab7bd34aa27a11f6",
            "f6fde192df0c48c6868422c83d3a96cf",
            "840f5aae530d4ffd983a112cdcbb367a",
            "7837a4b773344c908e233b1d6ecd70c8",
            "8b14e945584b4d799f1cd5a8e4c90d59",
            "18a179ec2ed84678921521cb1932df98",
            "95f052d720c042dbaea28fcf0a99c968",
            "d976fe8c50ce4c51bd5b063725f6bcfc",
            "c29112e268a9495eb0a3bbde95850018",
            "8b2fa70b0d11431c8e9d10bd056315f5",
            "ae0ab2c042db4efb89f6d92992e75758",
            "fc1021d0fe4b4af5839814801f628189",
            "7925535ea9d24268bc24f778c2f9d666",
            "5f28d40362554e54a15fefd325b55ef0",
            "0d686500e4df4b6194f7648b647b9192",
            "19907a35385f49f98c2486da457b7c22",
            "57362d479c9f4167ba23fea09da98521",
            "e7d02d52fa15426d9764b03787bbdbbd",
            "40e0f9a9366643dbbed32bcc9b1e38c7",
            "eb1ed32277a14ed780826ae3673c4c46",
            "18be57701a1c4f6caf30b6c29d95376c",
            "35ae3932bb5b47fd92a3844c01bde2ef",
            "4258808a5019405aad61309d11959b88",
            "7c2d8b57d64648c9bb340e74efd4c6b4",
            "763045faadfe4b6caf6da00ec0e1af91",
            "82cabfa998b04377967d23483ab69821",
            "727d7fd7af0546a3a420d16fcb3a1dfb",
            "dd072240cc1441a48c623abe6b0b539e",
            "5c8684ff3be6461f9f6c9aae56258387",
            "757a76ad53574794806ceeda31b6e3ab",
            "1f574a5c6ab2442080b28602033b5b05",
            "8681b602b50a4d469871efb07c6a36b4",
            "a59544cb04c743079f33fbef883f5c57",
            "5f19259611824aa3b8e10e1a1b7d7bc5",
            "750c70a22c824856b5b3354909b3d3db",
            "4626e7721ed84a74a712209ccf976e52",
            "2ea592d248a1446bbc80a693dde8be32",
            "5774d23b6a8f462badbe5cab814e1d0e",
            "e70d03efaf444d47ba21a36a8f8c315b",
            "94f434e2a5be4f42858108ebf6f9d722",
            "533bad8067164cb78f2f4207311e290e",
            "3868e49d46d14d39a7ad9c0e43077d15",
            "355fcb7806664fd38b6ac65168de5e89",
            "d06fd79ec86a4d06937bc7d345c4a86f",
            "e0850af7da0f4f4a8b07a86d9578c3ea",
            "eb867618283143f0878885b433bec59e",
            "7750e0e4e9274684b9a5f10be4af23e5",
            "3f7b37754fc2438fb28da58a81e2a71c",
            "4964af7e9bf744ecbd495d0d48353b2d",
            "cb68400d9c79401b9b636a832afc3993",
            "b828b8afa88f4968852a639da3bd9590",
            "b5479c98e28748af9938ca5418a0e607",
            "be81117b38734ec2b310ccea9ada3386",
            "e17add68c0114e0a93dd8cbc6f2b76d8",
            "1015e20a71954f79a05a60aae11c54ca",
            "c2f0007ec5b9428abc456bc1302f31d7",
            "9014d830e0b346338c0e65f47b01572e",
            "293a5bd6f33d48988321f002ce864f96",
            "775ae87e97064879af4facfb6325509b",
            "94da135f0ebb4d78a3fee916dbb34160",
            "86b0c5dbaab14d0da5b781b3bcaa3061",
            "f30a9928ff3041e7967daeba89852891",
            "70084088c75942bc8fb18a32942d229a",
            "2350e55ebc754c66a60b4fffa5b24287",
            "202ac7207e704db5a45fcd6847c227cf",
            "d34253eaad84478d9114fdcdec3eb8cf",
            "1fdb8ef0cc234d77b1b344b5e49511ee",
            "896c6c79517542e1ac29c0e4bf1eddb1",
            "a240c53c834443e4813db2014748b5da",
            "50c9fa31966241deb5927b5311d43c9d",
            "d20b83909a43408d8406ece3beb62aad",
            "4899e0b0ca044afba079af1c06c28925",
            "e07d32edb66c4419bd826aa78e923c6f",
            "2ffcbb6ced0746b8b5a9af6215858e85",
            "4977db90e8124a91abca840dabbb4b44",
            "f71995f549f04a2b938d8d9a13bd2243",
            "d5ac75f1fcc044648f961e5183e10f81",
            "9a6472bcd5cd4635bc3d06a517256184",
            "f0502ba68e2b456492b4abe33f101226",
            "566a0f9560464f0cabf678c4cf94c718",
            "e745c0b23c77491d911b7d9c7c4467a0",
            "4a47e10379894d4f8038ba31f6889919",
            "1ce17c20e38f4088811aabc4b8ae9b45",
            "fe9e6a4c6ea0457993926aa9c6b48339",
            "9aef7845f53041ef820b635b7fcb032a",
            "8cbef3f2b2b04a82ae21c93b19afe81e",
            "385b799fb7de4a2aa387216ab49e069e",
            "13340808177e49e4ac00f6c1ffd00367",
            "7f916a7c245e4762a30253cc7e1df3bf",
            "cdf5397b510847a58e8b1b739ad81943",
            "dd9c0921d6ae49b9a4ec55eb5f4fc0da",
            "752c96d777664b099cb7b3a349472a45",
            "8a9ed6c7b5f64e55969be6343b8b90e6",
            "d266cd53c4a64a45b5022ac8bcb06a01",
            "3c962389696e4e51a146023258b9ee84",
            "019495a67d014af18a92395c1ba82948",
            "da49ac3296f241a6a52801c2f1344b29",
            "26bcf742c1d44fea81fd5f3db05374b0",
            "6f7344b523af4e679a89cfb438ce1a78",
            "16566e7f7e89488e8bb400cac1b6500d",
            "ea28af2e0c304e52b5f79ef20f94aef9",
            "d8293f2358e543658d77d6cc81a41536",
            "640db413fd10496980872cebc90b0762",
            "7dd2deb3ebc2490f8e926af712591c59",
            "0ac306deb67044cb8debf2a454f6253c",
            "bb9d1b8ef7524dfb8aaace657d4e0992",
            "81ad9ecb19e14328b1772f6331a988fd",
            "4156d06af4894b24ba9898184ed6ef8c",
            "b2ce515bc68e4abaad7c67ab1ca1bacb",
            "35bf74772afa47e4891ae0c29be35b72",
            "f878459b69b94057bf725764bc73981c",
            "6fb1441c9768438286344b7a915af471",
            "bd9f15abad8b474b8c56f69c79aea647",
            "7f7d046ffb574b299dc095260247f932",
            "8c42721a26794d668a77ff1f8f1aea14",
            "cbea7dd381544e5097cbd86a7b6625e4",
            "a0384936f7c641dcac980b71fde53e59",
            "edb62c677c624d1f9fee57355dc9e7e3",
            "24c3c2970c6b4643b912cc59ecfa7ba9",
            "9f179eb7a9574806be6a20ca614f39b8",
            "afd86a46c1a24350ad4f17d0866cff01",
            "e27eeaec1acf42479ac8b9ffe5164b50",
            "c53c244fa88a4b6584c2a2b3397178a7",
            "2f4c87f230fc4e4b868840098bc33265",
            "dde0be565b474ba089c824ffe144820f",
            "1a4d8bcd36d34e4bbd34fc3f276f238e",
            "5a08577c6d424e7ab1301efb20aed62c",
            "52edaf9503c3497a850c9ec6d4a81937",
            "18211a9c921549f8a20debcc42091a60",
            "56b2c3d57fc943efbaa87f3c5cb30d6b",
            "fbb3756e4b6f44fbaf66635339fdf5f6",
            "ba5c714acfc243a495742252d574e658",
            "c6bcf940ff5348e3843543f10c77bb6e",
            "1f4b004b333f42418807ae42f34559f4",
            "9f328ecfd8ef497882945a42e1ec4125",
            "bbf9c37fd6914507985cd2250c0c3d37",
            "9d387401806a47f1bd95122c87447268",
            "41280c3cbc314dcfb51b81f8c7f87665",
            "8a15b271b7f94b05bf08a5b3d5702189",
            "9c06f4a19b854afd90dc2f3ef536116b",
            "fefa6e918fae4466ba2d99362e455bc0",
            "a7807e2061af4dbbb6498f1912069f27",
            "5dc0b9fcc3ad408eb293faf9123e7d63",
            "0eedd2680eb042cf9b78421c2a09a0e9",
            "4f26df32438c4fc39296ff0bfaf2fbc3",
            "df46ca74c8714eccabd3374d5bf4e467",
            "2b210db4a82640b5a22b3cba5ed7b369",
            "91887699538747fcb538994f8fd9ceef",
            "93cb912fc0d1422493ea89ba4c24eced",
            "b38a4e093a8f4e418aa0a303bcb9ea33",
            "5162ecfb83f4409ead924c2440d04a9d",
            "f5b018bbf8654d81a4988327b55f49c6",
            "a2bc40ea9aa9420783fbbecfeb133b4d",
            "584a54fe12c84ebebc8766963d014937",
            "bce2e38e08334900adcb13b4807c0666",
            "e26e2c6523c14eb089cbc7daffa33339",
            "648965584c23492bb2c0c7a859943b3d",
            "59f9453f99fb4d8caa6fe742abd66e2f",
            "3780ee4c2895421c8fc6e3f1ef5eff9f",
            "833eacec91fb472e9ee3f07c64f5fe95"
          ]
        },
        "id": "7Rl59LaHdDbW",
        "outputId": "3480c908-b925-4d1d-cd4b-9ad1bfb678c0"
      },
      "id": "7Rl59LaHdDbW",
      "execution_count": null,
      "outputs": [
        {
          "output_type": "display_data",
          "data": {
            "text/plain": [
              "  0%|          | 0/1189 [00:00<?, ?it/s]"
            ],
            "application/vnd.jupyter.widget-view+json": {
              "version_major": 2,
              "version_minor": 0,
              "model_id": "99168f1079e14390a9fe1786fb538449"
            }
          },
          "metadata": {}
        },
        {
          "output_type": "display_data",
          "data": {
            "text/plain": [
              "  0%|          | 0/111 [00:00<?, ?it/s]"
            ],
            "application/vnd.jupyter.widget-view+json": {
              "version_major": 2,
              "version_minor": 0,
              "model_id": "c330e50cef6e4b3691e53c85295cc87a"
            }
          },
          "metadata": {}
        },
        {
          "output_type": "stream",
          "name": "stdout",
          "text": [
            "Epoch 01 | train PPL 170.361 | valid PPL 60.032 | BLEU-4 2.16\n",
            "✓ BLEU mejoró. Modelo guardado.\n"
          ]
        },
        {
          "output_type": "display_data",
          "data": {
            "text/plain": [
              "  0%|          | 0/1189 [00:00<?, ?it/s]"
            ],
            "application/vnd.jupyter.widget-view+json": {
              "version_major": 2,
              "version_minor": 0,
              "model_id": "99b46e11e04f4ae39d60fd00df52d055"
            }
          },
          "metadata": {}
        },
        {
          "output_type": "display_data",
          "data": {
            "text/plain": [
              "  0%|          | 0/111 [00:00<?, ?it/s]"
            ],
            "application/vnd.jupyter.widget-view+json": {
              "version_major": 2,
              "version_minor": 0,
              "model_id": "089343be47984c839d98a4222e36a02d"
            }
          },
          "metadata": {}
        },
        {
          "output_type": "stream",
          "name": "stdout",
          "text": [
            "Epoch 02 | train PPL 56.192 | valid PPL 46.421 | BLEU-4 3.01\n",
            "✓ BLEU mejoró. Modelo guardado.\n"
          ]
        },
        {
          "output_type": "display_data",
          "data": {
            "text/plain": [
              "  0%|          | 0/1189 [00:00<?, ?it/s]"
            ],
            "application/vnd.jupyter.widget-view+json": {
              "version_major": 2,
              "version_minor": 0,
              "model_id": "429e8add1daa46028a3e615265b2d20f"
            }
          },
          "metadata": {}
        },
        {
          "output_type": "display_data",
          "data": {
            "text/plain": [
              "  0%|          | 0/111 [00:00<?, ?it/s]"
            ],
            "application/vnd.jupyter.widget-view+json": {
              "version_major": 2,
              "version_minor": 0,
              "model_id": "4dff511dc9454251bd87d2e7e315df28"
            }
          },
          "metadata": {}
        },
        {
          "output_type": "stream",
          "name": "stdout",
          "text": [
            "Epoch 03 | train PPL 49.124 | valid PPL 46.101 | BLEU-4 2.47\n",
            "Early-stopping: 1/15\n"
          ]
        },
        {
          "output_type": "display_data",
          "data": {
            "text/plain": [
              "  0%|          | 0/1189 [00:00<?, ?it/s]"
            ],
            "application/vnd.jupyter.widget-view+json": {
              "version_major": 2,
              "version_minor": 0,
              "model_id": "ff58b218361a4dff9cc86fa4c693c082"
            }
          },
          "metadata": {}
        },
        {
          "output_type": "display_data",
          "data": {
            "text/plain": [
              "  0%|          | 0/111 [00:00<?, ?it/s]"
            ],
            "application/vnd.jupyter.widget-view+json": {
              "version_major": 2,
              "version_minor": 0,
              "model_id": "21a120da868648319bb4fcf06853d536"
            }
          },
          "metadata": {}
        },
        {
          "output_type": "stream",
          "name": "stdout",
          "text": [
            "Epoch 04 | train PPL 48.484 | valid PPL 42.785 | BLEU-4 2.70\n",
            "Early-stopping: 2/15\n"
          ]
        },
        {
          "output_type": "display_data",
          "data": {
            "text/plain": [
              "  0%|          | 0/1189 [00:00<?, ?it/s]"
            ],
            "application/vnd.jupyter.widget-view+json": {
              "version_major": 2,
              "version_minor": 0,
              "model_id": "57613ab7c01c4524a35eab21aad5a032"
            }
          },
          "metadata": {}
        },
        {
          "output_type": "display_data",
          "data": {
            "text/plain": [
              "  0%|          | 0/111 [00:00<?, ?it/s]"
            ],
            "application/vnd.jupyter.widget-view+json": {
              "version_major": 2,
              "version_minor": 0,
              "model_id": "6068f4cdf04b4af79d79471b969f354c"
            }
          },
          "metadata": {}
        },
        {
          "output_type": "stream",
          "name": "stdout",
          "text": [
            "Epoch 05 | train PPL 43.144 | valid PPL 39.280 | BLEU-4 3.10\n",
            "✓ BLEU mejoró. Modelo guardado.\n"
          ]
        },
        {
          "output_type": "display_data",
          "data": {
            "text/plain": [
              "  0%|          | 0/1189 [00:00<?, ?it/s]"
            ],
            "application/vnd.jupyter.widget-view+json": {
              "version_major": 2,
              "version_minor": 0,
              "model_id": "e21c2697e28d47b7b9096b37ee262703"
            }
          },
          "metadata": {}
        },
        {
          "output_type": "display_data",
          "data": {
            "text/plain": [
              "  0%|          | 0/111 [00:00<?, ?it/s]"
            ],
            "application/vnd.jupyter.widget-view+json": {
              "version_major": 2,
              "version_minor": 0,
              "model_id": "237c4e16a61749408d9989ae7e2bd728"
            }
          },
          "metadata": {}
        },
        {
          "output_type": "stream",
          "name": "stdout",
          "text": [
            "Epoch 06 | train PPL 38.749 | valid PPL 36.597 | BLEU-4 3.31\n",
            "✓ BLEU mejoró. Modelo guardado.\n"
          ]
        },
        {
          "output_type": "display_data",
          "data": {
            "text/plain": [
              "  0%|          | 0/1189 [00:00<?, ?it/s]"
            ],
            "application/vnd.jupyter.widget-view+json": {
              "version_major": 2,
              "version_minor": 0,
              "model_id": "a7ebbae5434e4b4c8d50b4ca0b9bacd8"
            }
          },
          "metadata": {}
        },
        {
          "output_type": "display_data",
          "data": {
            "text/plain": [
              "  0%|          | 0/111 [00:00<?, ?it/s]"
            ],
            "application/vnd.jupyter.widget-view+json": {
              "version_major": 2,
              "version_minor": 0,
              "model_id": "7bd22a932cfa473bba5688ad019241e7"
            }
          },
          "metadata": {}
        },
        {
          "output_type": "stream",
          "name": "stdout",
          "text": [
            "Epoch 07 | train PPL 35.777 | valid PPL 34.621 | BLEU-4 3.27\n",
            "Early-stopping: 1/15\n"
          ]
        },
        {
          "output_type": "display_data",
          "data": {
            "text/plain": [
              "  0%|          | 0/1189 [00:00<?, ?it/s]"
            ],
            "application/vnd.jupyter.widget-view+json": {
              "version_major": 2,
              "version_minor": 0,
              "model_id": "9e321846be0d4531a38ef6fe521cb469"
            }
          },
          "metadata": {}
        },
        {
          "output_type": "display_data",
          "data": {
            "text/plain": [
              "  0%|          | 0/111 [00:00<?, ?it/s]"
            ],
            "application/vnd.jupyter.widget-view+json": {
              "version_major": 2,
              "version_minor": 0,
              "model_id": "8616e7c5ee874131ab2531859d433344"
            }
          },
          "metadata": {}
        },
        {
          "output_type": "stream",
          "name": "stdout",
          "text": [
            "Epoch 08 | train PPL 33.390 | valid PPL 34.224 | BLEU-4 3.00\n",
            "Early-stopping: 2/15\n"
          ]
        },
        {
          "output_type": "display_data",
          "data": {
            "text/plain": [
              "  0%|          | 0/1189 [00:00<?, ?it/s]"
            ],
            "application/vnd.jupyter.widget-view+json": {
              "version_major": 2,
              "version_minor": 0,
              "model_id": "6f2a25f846f44220a612d055a77c7588"
            }
          },
          "metadata": {}
        },
        {
          "output_type": "display_data",
          "data": {
            "text/plain": [
              "  0%|          | 0/111 [00:00<?, ?it/s]"
            ],
            "application/vnd.jupyter.widget-view+json": {
              "version_major": 2,
              "version_minor": 0,
              "model_id": "a67a507518f84064bdb5a23ad3feb56c"
            }
          },
          "metadata": {}
        },
        {
          "output_type": "stream",
          "name": "stdout",
          "text": [
            "Epoch 09 | train PPL 31.524 | valid PPL 33.232 | BLEU-4 3.11\n",
            "Early-stopping: 3/15\n"
          ]
        },
        {
          "output_type": "display_data",
          "data": {
            "text/plain": [
              "  0%|          | 0/1189 [00:00<?, ?it/s]"
            ],
            "application/vnd.jupyter.widget-view+json": {
              "version_major": 2,
              "version_minor": 0,
              "model_id": "a00824302e57438993e46230cc0e2408"
            }
          },
          "metadata": {}
        },
        {
          "output_type": "display_data",
          "data": {
            "text/plain": [
              "  0%|          | 0/111 [00:00<?, ?it/s]"
            ],
            "application/vnd.jupyter.widget-view+json": {
              "version_major": 2,
              "version_minor": 0,
              "model_id": "db6c7054367740049ada1d04de244a4f"
            }
          },
          "metadata": {}
        },
        {
          "output_type": "stream",
          "name": "stdout",
          "text": [
            "Epoch 10 | train PPL 30.207 | valid PPL 32.633 | BLEU-4 3.27\n",
            "Early-stopping: 4/15\n"
          ]
        },
        {
          "output_type": "display_data",
          "data": {
            "text/plain": [
              "  0%|          | 0/1189 [00:00<?, ?it/s]"
            ],
            "application/vnd.jupyter.widget-view+json": {
              "version_major": 2,
              "version_minor": 0,
              "model_id": "bb5b0bfe66fe4dcfbc0e76e2e4a2feb2"
            }
          },
          "metadata": {}
        },
        {
          "output_type": "display_data",
          "data": {
            "text/plain": [
              "  0%|          | 0/111 [00:00<?, ?it/s]"
            ],
            "application/vnd.jupyter.widget-view+json": {
              "version_major": 2,
              "version_minor": 0,
              "model_id": "5156e988be1e43c8b7af2b3d858c3e6f"
            }
          },
          "metadata": {}
        },
        {
          "output_type": "stream",
          "name": "stdout",
          "text": [
            "Epoch 11 | train PPL 28.987 | valid PPL 32.270 | BLEU-4 2.96\n",
            "Early-stopping: 5/15\n"
          ]
        },
        {
          "output_type": "display_data",
          "data": {
            "text/plain": [
              "  0%|          | 0/1189 [00:00<?, ?it/s]"
            ],
            "application/vnd.jupyter.widget-view+json": {
              "version_major": 2,
              "version_minor": 0,
              "model_id": "b564526bf3654f5d9003c6f272fb5455"
            }
          },
          "metadata": {}
        },
        {
          "output_type": "display_data",
          "data": {
            "text/plain": [
              "  0%|          | 0/111 [00:00<?, ?it/s]"
            ],
            "application/vnd.jupyter.widget-view+json": {
              "version_major": 2,
              "version_minor": 0,
              "model_id": "1950efaf45414fd6861bdc4e5b49c802"
            }
          },
          "metadata": {}
        },
        {
          "output_type": "stream",
          "name": "stdout",
          "text": [
            "Epoch 12 | train PPL 27.990 | valid PPL 31.948 | BLEU-4 3.51\n",
            "✓ BLEU mejoró. Modelo guardado.\n"
          ]
        },
        {
          "output_type": "display_data",
          "data": {
            "text/plain": [
              "  0%|          | 0/1189 [00:00<?, ?it/s]"
            ],
            "application/vnd.jupyter.widget-view+json": {
              "version_major": 2,
              "version_minor": 0,
              "model_id": "4b3ed44dae80420f96d11afb9783553a"
            }
          },
          "metadata": {}
        },
        {
          "output_type": "display_data",
          "data": {
            "text/plain": [
              "  0%|          | 0/111 [00:00<?, ?it/s]"
            ],
            "application/vnd.jupyter.widget-view+json": {
              "version_major": 2,
              "version_minor": 0,
              "model_id": "1b3a9f4090f749a1a95ed35f4e98cb4f"
            }
          },
          "metadata": {}
        },
        {
          "output_type": "stream",
          "name": "stdout",
          "text": [
            "Epoch 13 | train PPL 26.983 | valid PPL 32.079 | BLEU-4 3.49\n",
            "Early-stopping: 1/15\n"
          ]
        },
        {
          "output_type": "display_data",
          "data": {
            "text/plain": [
              "  0%|          | 0/1189 [00:00<?, ?it/s]"
            ],
            "application/vnd.jupyter.widget-view+json": {
              "version_major": 2,
              "version_minor": 0,
              "model_id": "eb1dfa62a7784ebbb32b536276444609"
            }
          },
          "metadata": {}
        },
        {
          "output_type": "display_data",
          "data": {
            "text/plain": [
              "  0%|          | 0/111 [00:00<?, ?it/s]"
            ],
            "application/vnd.jupyter.widget-view+json": {
              "version_major": 2,
              "version_minor": 0,
              "model_id": "09da68d53ab34d5eb163102b08ff0406"
            }
          },
          "metadata": {}
        },
        {
          "output_type": "stream",
          "name": "stdout",
          "text": [
            "Epoch 14 | train PPL 26.230 | valid PPL 31.774 | BLEU-4 3.47\n",
            "Early-stopping: 2/15\n"
          ]
        },
        {
          "output_type": "display_data",
          "data": {
            "text/plain": [
              "  0%|          | 0/1189 [00:00<?, ?it/s]"
            ],
            "application/vnd.jupyter.widget-view+json": {
              "version_major": 2,
              "version_minor": 0,
              "model_id": "7ec3af563bd5419bba44a25c011c08c4"
            }
          },
          "metadata": {}
        },
        {
          "output_type": "display_data",
          "data": {
            "text/plain": [
              "  0%|          | 0/111 [00:00<?, ?it/s]"
            ],
            "application/vnd.jupyter.widget-view+json": {
              "version_major": 2,
              "version_minor": 0,
              "model_id": "e92aeb865c47403e9f74812aceb6c433"
            }
          },
          "metadata": {}
        },
        {
          "output_type": "stream",
          "name": "stdout",
          "text": [
            "Epoch 15 | train PPL 25.429 | valid PPL 30.927 | BLEU-4 3.64\n",
            "✓ BLEU mejoró. Modelo guardado.\n"
          ]
        },
        {
          "output_type": "display_data",
          "data": {
            "text/plain": [
              "  0%|          | 0/1189 [00:00<?, ?it/s]"
            ],
            "application/vnd.jupyter.widget-view+json": {
              "version_major": 2,
              "version_minor": 0,
              "model_id": "26191918a1584991afb6f5a4acecc240"
            }
          },
          "metadata": {}
        },
        {
          "output_type": "display_data",
          "data": {
            "text/plain": [
              "  0%|          | 0/111 [00:00<?, ?it/s]"
            ],
            "application/vnd.jupyter.widget-view+json": {
              "version_major": 2,
              "version_minor": 0,
              "model_id": "b511e9f4f57b4cca8e3173ac7b8c8d36"
            }
          },
          "metadata": {}
        },
        {
          "output_type": "stream",
          "name": "stdout",
          "text": [
            "Epoch 16 | train PPL 24.634 | valid PPL 31.070 | BLEU-4 3.62\n",
            "Early-stopping: 1/15\n"
          ]
        },
        {
          "output_type": "display_data",
          "data": {
            "text/plain": [
              "  0%|          | 0/1189 [00:00<?, ?it/s]"
            ],
            "application/vnd.jupyter.widget-view+json": {
              "version_major": 2,
              "version_minor": 0,
              "model_id": "bc7bfd9df7214fad92b94366e0f3618f"
            }
          },
          "metadata": {}
        },
        {
          "output_type": "display_data",
          "data": {
            "text/plain": [
              "  0%|          | 0/111 [00:00<?, ?it/s]"
            ],
            "application/vnd.jupyter.widget-view+json": {
              "version_major": 2,
              "version_minor": 0,
              "model_id": "8e36dc5d8e224252a1109a60a5ccf309"
            }
          },
          "metadata": {}
        },
        {
          "output_type": "stream",
          "name": "stdout",
          "text": [
            "Epoch 17 | train PPL 24.149 | valid PPL 31.123 | BLEU-4 3.76\n",
            "✓ BLEU mejoró. Modelo guardado.\n"
          ]
        },
        {
          "output_type": "display_data",
          "data": {
            "text/plain": [
              "  0%|          | 0/1189 [00:00<?, ?it/s]"
            ],
            "application/vnd.jupyter.widget-view+json": {
              "version_major": 2,
              "version_minor": 0,
              "model_id": "122cef27de184caa94f487cb3aa5b17a"
            }
          },
          "metadata": {}
        },
        {
          "output_type": "display_data",
          "data": {
            "text/plain": [
              "  0%|          | 0/111 [00:00<?, ?it/s]"
            ],
            "application/vnd.jupyter.widget-view+json": {
              "version_major": 2,
              "version_minor": 0,
              "model_id": "f4290304a8bf4147916b2d9197a156a6"
            }
          },
          "metadata": {}
        },
        {
          "output_type": "stream",
          "name": "stdout",
          "text": [
            "Epoch 18 | train PPL 23.598 | valid PPL 30.467 | BLEU-4 3.96\n",
            "✓ BLEU mejoró. Modelo guardado.\n"
          ]
        },
        {
          "output_type": "display_data",
          "data": {
            "text/plain": [
              "  0%|          | 0/1189 [00:00<?, ?it/s]"
            ],
            "application/vnd.jupyter.widget-view+json": {
              "version_major": 2,
              "version_minor": 0,
              "model_id": "4c2fed7398284591a5f4fad1a4d91a58"
            }
          },
          "metadata": {}
        },
        {
          "output_type": "display_data",
          "data": {
            "text/plain": [
              "  0%|          | 0/111 [00:00<?, ?it/s]"
            ],
            "application/vnd.jupyter.widget-view+json": {
              "version_major": 2,
              "version_minor": 0,
              "model_id": "4018a25d459747d3886610877cd7dc05"
            }
          },
          "metadata": {}
        },
        {
          "output_type": "stream",
          "name": "stdout",
          "text": [
            "Epoch 19 | train PPL 23.001 | valid PPL 30.536 | BLEU-4 4.02\n",
            "✓ BLEU mejoró. Modelo guardado.\n"
          ]
        },
        {
          "output_type": "display_data",
          "data": {
            "text/plain": [
              "  0%|          | 0/1189 [00:00<?, ?it/s]"
            ],
            "application/vnd.jupyter.widget-view+json": {
              "version_major": 2,
              "version_minor": 0,
              "model_id": "a697846413d1433d833b0d3f9b74dda9"
            }
          },
          "metadata": {}
        },
        {
          "output_type": "display_data",
          "data": {
            "text/plain": [
              "  0%|          | 0/111 [00:00<?, ?it/s]"
            ],
            "application/vnd.jupyter.widget-view+json": {
              "version_major": 2,
              "version_minor": 0,
              "model_id": "b1c7519d3f9d4553a85419c14aa6764f"
            }
          },
          "metadata": {}
        },
        {
          "output_type": "stream",
          "name": "stdout",
          "text": [
            "Epoch 20 | train PPL 22.616 | valid PPL 30.340 | BLEU-4 4.11\n",
            "✓ BLEU mejoró. Modelo guardado.\n"
          ]
        },
        {
          "output_type": "display_data",
          "data": {
            "text/plain": [
              "  0%|          | 0/1189 [00:00<?, ?it/s]"
            ],
            "application/vnd.jupyter.widget-view+json": {
              "version_major": 2,
              "version_minor": 0,
              "model_id": "8b5940c76fe84338ac31dba14787b59d"
            }
          },
          "metadata": {}
        },
        {
          "output_type": "display_data",
          "data": {
            "text/plain": [
              "  0%|          | 0/111 [00:00<?, ?it/s]"
            ],
            "application/vnd.jupyter.widget-view+json": {
              "version_major": 2,
              "version_minor": 0,
              "model_id": "0e8d2c77393a4bc4b05ba2ba68ec23bb"
            }
          },
          "metadata": {}
        },
        {
          "output_type": "stream",
          "name": "stdout",
          "text": [
            "Epoch 21 | train PPL 22.186 | valid PPL 30.250 | BLEU-4 3.93\n",
            "Early-stopping: 1/15\n"
          ]
        },
        {
          "output_type": "display_data",
          "data": {
            "text/plain": [
              "  0%|          | 0/1189 [00:00<?, ?it/s]"
            ],
            "application/vnd.jupyter.widget-view+json": {
              "version_major": 2,
              "version_minor": 0,
              "model_id": "5914cc3b71584989b849291eb32d7650"
            }
          },
          "metadata": {}
        },
        {
          "output_type": "display_data",
          "data": {
            "text/plain": [
              "  0%|          | 0/111 [00:00<?, ?it/s]"
            ],
            "application/vnd.jupyter.widget-view+json": {
              "version_major": 2,
              "version_minor": 0,
              "model_id": "914733df9b164a16bc150ba30d7c5980"
            }
          },
          "metadata": {}
        },
        {
          "output_type": "stream",
          "name": "stdout",
          "text": [
            "Epoch 22 | train PPL 21.807 | valid PPL 30.246 | BLEU-4 3.82\n",
            "Early-stopping: 2/15\n"
          ]
        },
        {
          "output_type": "display_data",
          "data": {
            "text/plain": [
              "  0%|          | 0/1189 [00:00<?, ?it/s]"
            ],
            "application/vnd.jupyter.widget-view+json": {
              "version_major": 2,
              "version_minor": 0,
              "model_id": "383fbd44ec934106ac64c4902e11b1eb"
            }
          },
          "metadata": {}
        },
        {
          "output_type": "display_data",
          "data": {
            "text/plain": [
              "  0%|          | 0/111 [00:00<?, ?it/s]"
            ],
            "application/vnd.jupyter.widget-view+json": {
              "version_major": 2,
              "version_minor": 0,
              "model_id": "6adf673275dd4facb1fb2b775296b8c6"
            }
          },
          "metadata": {}
        },
        {
          "output_type": "stream",
          "name": "stdout",
          "text": [
            "Epoch 23 | train PPL 21.497 | valid PPL 30.084 | BLEU-4 4.03\n",
            "Early-stopping: 3/15\n"
          ]
        },
        {
          "output_type": "display_data",
          "data": {
            "text/plain": [
              "  0%|          | 0/1189 [00:00<?, ?it/s]"
            ],
            "application/vnd.jupyter.widget-view+json": {
              "version_major": 2,
              "version_minor": 0,
              "model_id": "c806aaf0a25d4bfd98d8ee7ce4f193b9"
            }
          },
          "metadata": {}
        },
        {
          "output_type": "display_data",
          "data": {
            "text/plain": [
              "  0%|          | 0/111 [00:00<?, ?it/s]"
            ],
            "application/vnd.jupyter.widget-view+json": {
              "version_major": 2,
              "version_minor": 0,
              "model_id": "bfcdf3c9f9cf40efa90acdfbfcc72365"
            }
          },
          "metadata": {}
        },
        {
          "output_type": "stream",
          "name": "stdout",
          "text": [
            "Epoch 24 | train PPL 21.117 | valid PPL 29.829 | BLEU-4 3.89\n",
            "Early-stopping: 4/15\n"
          ]
        },
        {
          "output_type": "display_data",
          "data": {
            "text/plain": [
              "  0%|          | 0/1189 [00:00<?, ?it/s]"
            ],
            "application/vnd.jupyter.widget-view+json": {
              "version_major": 2,
              "version_minor": 0,
              "model_id": "747fb6cfbbbf4532ae5c006cd7f1ff6a"
            }
          },
          "metadata": {}
        },
        {
          "output_type": "display_data",
          "data": {
            "text/plain": [
              "  0%|          | 0/111 [00:00<?, ?it/s]"
            ],
            "application/vnd.jupyter.widget-view+json": {
              "version_major": 2,
              "version_minor": 0,
              "model_id": "6a09c93fc8364aa6a3a52a54a0cceeac"
            }
          },
          "metadata": {}
        },
        {
          "output_type": "stream",
          "name": "stdout",
          "text": [
            "Epoch 25 | train PPL 20.831 | valid PPL 30.186 | BLEU-4 3.80\n",
            "Early-stopping: 5/15\n"
          ]
        },
        {
          "output_type": "display_data",
          "data": {
            "text/plain": [
              "  0%|          | 0/1189 [00:00<?, ?it/s]"
            ],
            "application/vnd.jupyter.widget-view+json": {
              "version_major": 2,
              "version_minor": 0,
              "model_id": "e0d8f886bbe043c593b03f0c5d0d4fa9"
            }
          },
          "metadata": {}
        },
        {
          "output_type": "display_data",
          "data": {
            "text/plain": [
              "  0%|          | 0/111 [00:00<?, ?it/s]"
            ],
            "application/vnd.jupyter.widget-view+json": {
              "version_major": 2,
              "version_minor": 0,
              "model_id": "32f924bef9a2425b8aa0300f4493946b"
            }
          },
          "metadata": {}
        },
        {
          "output_type": "stream",
          "name": "stdout",
          "text": [
            "Epoch 26 | train PPL 20.581 | valid PPL 29.805 | BLEU-4 3.84\n",
            "Early-stopping: 6/15\n"
          ]
        },
        {
          "output_type": "display_data",
          "data": {
            "text/plain": [
              "  0%|          | 0/1189 [00:00<?, ?it/s]"
            ],
            "application/vnd.jupyter.widget-view+json": {
              "version_major": 2,
              "version_minor": 0,
              "model_id": "62feacb0037b4584a174a15328a1654b"
            }
          },
          "metadata": {}
        },
        {
          "output_type": "display_data",
          "data": {
            "text/plain": [
              "  0%|          | 0/111 [00:00<?, ?it/s]"
            ],
            "application/vnd.jupyter.widget-view+json": {
              "version_major": 2,
              "version_minor": 0,
              "model_id": "2d74b8c6efe24c62b6cf933a1932a334"
            }
          },
          "metadata": {}
        },
        {
          "output_type": "stream",
          "name": "stdout",
          "text": [
            "Epoch 27 | train PPL 20.273 | valid PPL 29.828 | BLEU-4 3.97\n",
            "Early-stopping: 7/15\n"
          ]
        },
        {
          "output_type": "display_data",
          "data": {
            "text/plain": [
              "  0%|          | 0/1189 [00:00<?, ?it/s]"
            ],
            "application/vnd.jupyter.widget-view+json": {
              "version_major": 2,
              "version_minor": 0,
              "model_id": "c1e0aa8593104d199bb09c9e297e1bcb"
            }
          },
          "metadata": {}
        },
        {
          "output_type": "display_data",
          "data": {
            "text/plain": [
              "  0%|          | 0/111 [00:00<?, ?it/s]"
            ],
            "application/vnd.jupyter.widget-view+json": {
              "version_major": 2,
              "version_minor": 0,
              "model_id": "8d500209a8144d2289b6d26121c3f3f6"
            }
          },
          "metadata": {}
        },
        {
          "output_type": "stream",
          "name": "stdout",
          "text": [
            "Epoch 28 | train PPL 20.028 | valid PPL 29.818 | BLEU-4 3.67\n",
            "Early-stopping: 8/15\n"
          ]
        },
        {
          "output_type": "display_data",
          "data": {
            "text/plain": [
              "  0%|          | 0/1189 [00:00<?, ?it/s]"
            ],
            "application/vnd.jupyter.widget-view+json": {
              "version_major": 2,
              "version_minor": 0,
              "model_id": "68b62a3f32794da0ad80cf3ba6dbaa57"
            }
          },
          "metadata": {}
        },
        {
          "output_type": "display_data",
          "data": {
            "text/plain": [
              "  0%|          | 0/111 [00:00<?, ?it/s]"
            ],
            "application/vnd.jupyter.widget-view+json": {
              "version_major": 2,
              "version_minor": 0,
              "model_id": "c89b43fe540547cebb1f4cf137aef157"
            }
          },
          "metadata": {}
        },
        {
          "output_type": "stream",
          "name": "stdout",
          "text": [
            "Epoch 29 | train PPL 19.762 | valid PPL 29.840 | BLEU-4 4.07\n",
            "Early-stopping: 9/15\n"
          ]
        },
        {
          "output_type": "display_data",
          "data": {
            "text/plain": [
              "  0%|          | 0/1189 [00:00<?, ?it/s]"
            ],
            "application/vnd.jupyter.widget-view+json": {
              "version_major": 2,
              "version_minor": 0,
              "model_id": "8320b2b27dce4930830328c0929ac8e7"
            }
          },
          "metadata": {}
        },
        {
          "output_type": "display_data",
          "data": {
            "text/plain": [
              "  0%|          | 0/111 [00:00<?, ?it/s]"
            ],
            "application/vnd.jupyter.widget-view+json": {
              "version_major": 2,
              "version_minor": 0,
              "model_id": "4ea02d4efa8c41419118199b42983a44"
            }
          },
          "metadata": {}
        },
        {
          "output_type": "stream",
          "name": "stdout",
          "text": [
            "Epoch 30 | train PPL 19.575 | valid PPL 29.682 | BLEU-4 4.38\n",
            "✓ BLEU mejoró. Modelo guardado.\n"
          ]
        },
        {
          "output_type": "display_data",
          "data": {
            "text/plain": [
              "  0%|          | 0/1189 [00:00<?, ?it/s]"
            ],
            "application/vnd.jupyter.widget-view+json": {
              "version_major": 2,
              "version_minor": 0,
              "model_id": "bb3f6f6effda480a8b0fa481a5947c2f"
            }
          },
          "metadata": {}
        },
        {
          "output_type": "display_data",
          "data": {
            "text/plain": [
              "  0%|          | 0/111 [00:00<?, ?it/s]"
            ],
            "application/vnd.jupyter.widget-view+json": {
              "version_major": 2,
              "version_minor": 0,
              "model_id": "4672bf9e48be4843abfb9c27100269be"
            }
          },
          "metadata": {}
        },
        {
          "output_type": "stream",
          "name": "stdout",
          "text": [
            "Epoch 31 | train PPL 19.280 | valid PPL 29.663 | BLEU-4 3.93\n",
            "Early-stopping: 1/15\n"
          ]
        },
        {
          "output_type": "display_data",
          "data": {
            "text/plain": [
              "  0%|          | 0/1189 [00:00<?, ?it/s]"
            ],
            "application/vnd.jupyter.widget-view+json": {
              "version_major": 2,
              "version_minor": 0,
              "model_id": "6f233b289e214d768962dacc8f60e520"
            }
          },
          "metadata": {}
        },
        {
          "output_type": "display_data",
          "data": {
            "text/plain": [
              "  0%|          | 0/111 [00:00<?, ?it/s]"
            ],
            "application/vnd.jupyter.widget-view+json": {
              "version_major": 2,
              "version_minor": 0,
              "model_id": "624c1cc026264858908e8439db8d0852"
            }
          },
          "metadata": {}
        },
        {
          "output_type": "stream",
          "name": "stdout",
          "text": [
            "Epoch 32 | train PPL 19.076 | valid PPL 29.590 | BLEU-4 3.82\n",
            "Early-stopping: 2/15\n"
          ]
        },
        {
          "output_type": "display_data",
          "data": {
            "text/plain": [
              "  0%|          | 0/1189 [00:00<?, ?it/s]"
            ],
            "application/vnd.jupyter.widget-view+json": {
              "version_major": 2,
              "version_minor": 0,
              "model_id": "f5fb1ee454d841d08d49191f36779998"
            }
          },
          "metadata": {}
        },
        {
          "output_type": "display_data",
          "data": {
            "text/plain": [
              "  0%|          | 0/111 [00:00<?, ?it/s]"
            ],
            "application/vnd.jupyter.widget-view+json": {
              "version_major": 2,
              "version_minor": 0,
              "model_id": "2e2f2a16f7da428b9def129e0e0e020d"
            }
          },
          "metadata": {}
        },
        {
          "output_type": "stream",
          "name": "stdout",
          "text": [
            "Epoch 33 | train PPL 18.829 | valid PPL 29.483 | BLEU-4 4.08\n",
            "Early-stopping: 3/15\n"
          ]
        },
        {
          "output_type": "display_data",
          "data": {
            "text/plain": [
              "  0%|          | 0/1189 [00:00<?, ?it/s]"
            ],
            "application/vnd.jupyter.widget-view+json": {
              "version_major": 2,
              "version_minor": 0,
              "model_id": "1f98c86b611e41f89ed1771cc5dd838e"
            }
          },
          "metadata": {}
        },
        {
          "output_type": "display_data",
          "data": {
            "text/plain": [
              "  0%|          | 0/111 [00:00<?, ?it/s]"
            ],
            "application/vnd.jupyter.widget-view+json": {
              "version_major": 2,
              "version_minor": 0,
              "model_id": "433af2feaa3c4dfea22d43af9d851bbb"
            }
          },
          "metadata": {}
        },
        {
          "output_type": "stream",
          "name": "stdout",
          "text": [
            "Epoch 34 | train PPL 18.646 | valid PPL 29.698 | BLEU-4 3.94\n",
            "Early-stopping: 4/15\n"
          ]
        },
        {
          "output_type": "display_data",
          "data": {
            "text/plain": [
              "  0%|          | 0/1189 [00:00<?, ?it/s]"
            ],
            "application/vnd.jupyter.widget-view+json": {
              "version_major": 2,
              "version_minor": 0,
              "model_id": "262de1bd5df847428f90b6cd8fcc6b1c"
            }
          },
          "metadata": {}
        },
        {
          "output_type": "display_data",
          "data": {
            "text/plain": [
              "  0%|          | 0/111 [00:00<?, ?it/s]"
            ],
            "application/vnd.jupyter.widget-view+json": {
              "version_major": 2,
              "version_minor": 0,
              "model_id": "e72cebc187044215b0c18548df3d5c08"
            }
          },
          "metadata": {}
        },
        {
          "output_type": "stream",
          "name": "stdout",
          "text": [
            "Epoch 35 | train PPL 18.564 | valid PPL 29.755 | BLEU-4 4.76\n",
            "✓ BLEU mejoró. Modelo guardado.\n"
          ]
        },
        {
          "output_type": "display_data",
          "data": {
            "text/plain": [
              "  0%|          | 0/1189 [00:00<?, ?it/s]"
            ],
            "application/vnd.jupyter.widget-view+json": {
              "version_major": 2,
              "version_minor": 0,
              "model_id": "6cec6afb62d54d38bc98a316c51e5f2e"
            }
          },
          "metadata": {}
        },
        {
          "output_type": "display_data",
          "data": {
            "text/plain": [
              "  0%|          | 0/111 [00:00<?, ?it/s]"
            ],
            "application/vnd.jupyter.widget-view+json": {
              "version_major": 2,
              "version_minor": 0,
              "model_id": "88a5351de81445e5b86ff1e4c445097e"
            }
          },
          "metadata": {}
        },
        {
          "output_type": "stream",
          "name": "stdout",
          "text": [
            "Epoch 36 | train PPL 18.333 | valid PPL 29.546 | BLEU-4 4.19\n",
            "Early-stopping: 1/15\n"
          ]
        },
        {
          "output_type": "display_data",
          "data": {
            "text/plain": [
              "  0%|          | 0/1189 [00:00<?, ?it/s]"
            ],
            "application/vnd.jupyter.widget-view+json": {
              "version_major": 2,
              "version_minor": 0,
              "model_id": "293ab4ffb9fa4feab078f7113d53dd82"
            }
          },
          "metadata": {}
        },
        {
          "output_type": "display_data",
          "data": {
            "text/plain": [
              "  0%|          | 0/111 [00:00<?, ?it/s]"
            ],
            "application/vnd.jupyter.widget-view+json": {
              "version_major": 2,
              "version_minor": 0,
              "model_id": "6343b66c71614f1ab6148e52daf98145"
            }
          },
          "metadata": {}
        },
        {
          "output_type": "stream",
          "name": "stdout",
          "text": [
            "Epoch 37 | train PPL 18.184 | valid PPL 29.769 | BLEU-4 3.85\n",
            "Early-stopping: 2/15\n"
          ]
        },
        {
          "output_type": "display_data",
          "data": {
            "text/plain": [
              "  0%|          | 0/1189 [00:00<?, ?it/s]"
            ],
            "application/vnd.jupyter.widget-view+json": {
              "version_major": 2,
              "version_minor": 0,
              "model_id": "07d4a7b1790341d0af177f6bec5ee07a"
            }
          },
          "metadata": {}
        },
        {
          "output_type": "display_data",
          "data": {
            "text/plain": [
              "  0%|          | 0/111 [00:00<?, ?it/s]"
            ],
            "application/vnd.jupyter.widget-view+json": {
              "version_major": 2,
              "version_minor": 0,
              "model_id": "4123b432673c4bc5a744eca0f4fba7bf"
            }
          },
          "metadata": {}
        },
        {
          "output_type": "stream",
          "name": "stdout",
          "text": [
            "Epoch 38 | train PPL 18.067 | valid PPL 29.497 | BLEU-4 3.76\n",
            "Early-stopping: 3/15\n"
          ]
        },
        {
          "output_type": "display_data",
          "data": {
            "text/plain": [
              "  0%|          | 0/1189 [00:00<?, ?it/s]"
            ],
            "application/vnd.jupyter.widget-view+json": {
              "version_major": 2,
              "version_minor": 0,
              "model_id": "020ec5f308f8463faab4d648695f9898"
            }
          },
          "metadata": {}
        },
        {
          "output_type": "display_data",
          "data": {
            "text/plain": [
              "  0%|          | 0/111 [00:00<?, ?it/s]"
            ],
            "application/vnd.jupyter.widget-view+json": {
              "version_major": 2,
              "version_minor": 0,
              "model_id": "3fcd7b88a65b47bd81046841a35204c7"
            }
          },
          "metadata": {}
        },
        {
          "output_type": "stream",
          "name": "stdout",
          "text": [
            "Epoch 39 | train PPL 17.831 | valid PPL 29.226 | BLEU-4 4.66\n",
            "Early-stopping: 4/15\n"
          ]
        },
        {
          "output_type": "display_data",
          "data": {
            "text/plain": [
              "  0%|          | 0/1189 [00:00<?, ?it/s]"
            ],
            "application/vnd.jupyter.widget-view+json": {
              "version_major": 2,
              "version_minor": 0,
              "model_id": "5c89d128c68244eb995cabe8cb7abc96"
            }
          },
          "metadata": {}
        },
        {
          "output_type": "display_data",
          "data": {
            "text/plain": [
              "  0%|          | 0/111 [00:00<?, ?it/s]"
            ],
            "application/vnd.jupyter.widget-view+json": {
              "version_major": 2,
              "version_minor": 0,
              "model_id": "ad9977935a5744d4a9cba8620a073e42"
            }
          },
          "metadata": {}
        },
        {
          "output_type": "stream",
          "name": "stdout",
          "text": [
            "Epoch 40 | train PPL 17.747 | valid PPL 29.079 | BLEU-4 4.40\n",
            "Early-stopping: 5/15\n"
          ]
        },
        {
          "output_type": "display_data",
          "data": {
            "text/plain": [
              "  0%|          | 0/1189 [00:00<?, ?it/s]"
            ],
            "application/vnd.jupyter.widget-view+json": {
              "version_major": 2,
              "version_minor": 0,
              "model_id": "7457967a9f194362b538dc84b54fdb49"
            }
          },
          "metadata": {}
        },
        {
          "output_type": "display_data",
          "data": {
            "text/plain": [
              "  0%|          | 0/111 [00:00<?, ?it/s]"
            ],
            "application/vnd.jupyter.widget-view+json": {
              "version_major": 2,
              "version_minor": 0,
              "model_id": "a1755240744b4c42bbad56fb6491b8db"
            }
          },
          "metadata": {}
        },
        {
          "output_type": "stream",
          "name": "stdout",
          "text": [
            "Epoch 41 | train PPL 17.603 | valid PPL 29.604 | BLEU-4 4.20\n",
            "Early-stopping: 6/15\n"
          ]
        },
        {
          "output_type": "display_data",
          "data": {
            "text/plain": [
              "  0%|          | 0/1189 [00:00<?, ?it/s]"
            ],
            "application/vnd.jupyter.widget-view+json": {
              "version_major": 2,
              "version_minor": 0,
              "model_id": "61ceeb6055ec47e98be5faf742a9c815"
            }
          },
          "metadata": {}
        },
        {
          "output_type": "display_data",
          "data": {
            "text/plain": [
              "  0%|          | 0/111 [00:00<?, ?it/s]"
            ],
            "application/vnd.jupyter.widget-view+json": {
              "version_major": 2,
              "version_minor": 0,
              "model_id": "63775ea45f9247b6a404d0b4e773a24b"
            }
          },
          "metadata": {}
        },
        {
          "output_type": "stream",
          "name": "stdout",
          "text": [
            "Epoch 42 | train PPL 17.407 | valid PPL 29.225 | BLEU-4 4.91\n",
            "✓ BLEU mejoró. Modelo guardado.\n"
          ]
        },
        {
          "output_type": "display_data",
          "data": {
            "text/plain": [
              "  0%|          | 0/1189 [00:00<?, ?it/s]"
            ],
            "application/vnd.jupyter.widget-view+json": {
              "version_major": 2,
              "version_minor": 0,
              "model_id": "ab12873dc90f4b1eaa9894e985f6a035"
            }
          },
          "metadata": {}
        },
        {
          "output_type": "display_data",
          "data": {
            "text/plain": [
              "  0%|          | 0/111 [00:00<?, ?it/s]"
            ],
            "application/vnd.jupyter.widget-view+json": {
              "version_major": 2,
              "version_minor": 0,
              "model_id": "70d8f5d82cb24ec389d3a7c23c61e01d"
            }
          },
          "metadata": {}
        },
        {
          "output_type": "stream",
          "name": "stdout",
          "text": [
            "Epoch 43 | train PPL 17.379 | valid PPL 29.245 | BLEU-4 4.19\n",
            "Early-stopping: 1/15\n"
          ]
        },
        {
          "output_type": "display_data",
          "data": {
            "text/plain": [
              "  0%|          | 0/1189 [00:00<?, ?it/s]"
            ],
            "application/vnd.jupyter.widget-view+json": {
              "version_major": 2,
              "version_minor": 0,
              "model_id": "95f052d720c042dbaea28fcf0a99c968"
            }
          },
          "metadata": {}
        },
        {
          "output_type": "display_data",
          "data": {
            "text/plain": [
              "  0%|          | 0/111 [00:00<?, ?it/s]"
            ],
            "application/vnd.jupyter.widget-view+json": {
              "version_major": 2,
              "version_minor": 0,
              "model_id": "e7d02d52fa15426d9764b03787bbdbbd"
            }
          },
          "metadata": {}
        },
        {
          "output_type": "stream",
          "name": "stdout",
          "text": [
            "Epoch 44 | train PPL 17.229 | valid PPL 29.718 | BLEU-4 4.26\n",
            "Early-stopping: 2/15\n"
          ]
        },
        {
          "output_type": "display_data",
          "data": {
            "text/plain": [
              "  0%|          | 0/1189 [00:00<?, ?it/s]"
            ],
            "application/vnd.jupyter.widget-view+json": {
              "version_major": 2,
              "version_minor": 0,
              "model_id": "5c8684ff3be6461f9f6c9aae56258387"
            }
          },
          "metadata": {}
        },
        {
          "output_type": "display_data",
          "data": {
            "text/plain": [
              "  0%|          | 0/111 [00:00<?, ?it/s]"
            ],
            "application/vnd.jupyter.widget-view+json": {
              "version_major": 2,
              "version_minor": 0,
              "model_id": "94f434e2a5be4f42858108ebf6f9d722"
            }
          },
          "metadata": {}
        },
        {
          "output_type": "stream",
          "name": "stdout",
          "text": [
            "Epoch 45 | train PPL 17.101 | valid PPL 29.176 | BLEU-4 4.56\n",
            "Early-stopping: 3/15\n"
          ]
        },
        {
          "output_type": "display_data",
          "data": {
            "text/plain": [
              "  0%|          | 0/1189 [00:00<?, ?it/s]"
            ],
            "application/vnd.jupyter.widget-view+json": {
              "version_major": 2,
              "version_minor": 0,
              "model_id": "b828b8afa88f4968852a639da3bd9590"
            }
          },
          "metadata": {}
        },
        {
          "output_type": "display_data",
          "data": {
            "text/plain": [
              "  0%|          | 0/111 [00:00<?, ?it/s]"
            ],
            "application/vnd.jupyter.widget-view+json": {
              "version_major": 2,
              "version_minor": 0,
              "model_id": "f30a9928ff3041e7967daeba89852891"
            }
          },
          "metadata": {}
        },
        {
          "output_type": "stream",
          "name": "stdout",
          "text": [
            "Epoch 46 | train PPL 16.983 | valid PPL 29.815 | BLEU-4 4.93\n",
            "✓ BLEU mejoró. Modelo guardado.\n"
          ]
        },
        {
          "output_type": "display_data",
          "data": {
            "text/plain": [
              "  0%|          | 0/1189 [00:00<?, ?it/s]"
            ],
            "application/vnd.jupyter.widget-view+json": {
              "version_major": 2,
              "version_minor": 0,
              "model_id": "e07d32edb66c4419bd826aa78e923c6f"
            }
          },
          "metadata": {}
        },
        {
          "output_type": "display_data",
          "data": {
            "text/plain": [
              "  0%|          | 0/111 [00:00<?, ?it/s]"
            ],
            "application/vnd.jupyter.widget-view+json": {
              "version_major": 2,
              "version_minor": 0,
              "model_id": "fe9e6a4c6ea0457993926aa9c6b48339"
            }
          },
          "metadata": {}
        },
        {
          "output_type": "stream",
          "name": "stdout",
          "text": [
            "Epoch 47 | train PPL 16.872 | valid PPL 29.611 | BLEU-4 4.63\n",
            "Early-stopping: 1/15\n"
          ]
        },
        {
          "output_type": "display_data",
          "data": {
            "text/plain": [
              "  0%|          | 0/1189 [00:00<?, ?it/s]"
            ],
            "application/vnd.jupyter.widget-view+json": {
              "version_major": 2,
              "version_minor": 0,
              "model_id": "3c962389696e4e51a146023258b9ee84"
            }
          },
          "metadata": {}
        },
        {
          "output_type": "display_data",
          "data": {
            "text/plain": [
              "  0%|          | 0/111 [00:00<?, ?it/s]"
            ],
            "application/vnd.jupyter.widget-view+json": {
              "version_major": 2,
              "version_minor": 0,
              "model_id": "bb9d1b8ef7524dfb8aaace657d4e0992"
            }
          },
          "metadata": {}
        },
        {
          "output_type": "stream",
          "name": "stdout",
          "text": [
            "Epoch 48 | train PPL 16.775 | valid PPL 29.660 | BLEU-4 4.42\n",
            "Early-stopping: 2/15\n"
          ]
        },
        {
          "output_type": "display_data",
          "data": {
            "text/plain": [
              "  0%|          | 0/1189 [00:00<?, ?it/s]"
            ],
            "application/vnd.jupyter.widget-view+json": {
              "version_major": 2,
              "version_minor": 0,
              "model_id": "a0384936f7c641dcac980b71fde53e59"
            }
          },
          "metadata": {}
        },
        {
          "output_type": "display_data",
          "data": {
            "text/plain": [
              "  0%|          | 0/111 [00:00<?, ?it/s]"
            ],
            "application/vnd.jupyter.widget-view+json": {
              "version_major": 2,
              "version_minor": 0,
              "model_id": "52edaf9503c3497a850c9ec6d4a81937"
            }
          },
          "metadata": {}
        },
        {
          "output_type": "stream",
          "name": "stdout",
          "text": [
            "Epoch 49 | train PPL 16.655 | valid PPL 29.527 | BLEU-4 4.55\n",
            "Early-stopping: 3/15\n"
          ]
        },
        {
          "output_type": "display_data",
          "data": {
            "text/plain": [
              "  0%|          | 0/1189 [00:00<?, ?it/s]"
            ],
            "application/vnd.jupyter.widget-view+json": {
              "version_major": 2,
              "version_minor": 0,
              "model_id": "8a15b271b7f94b05bf08a5b3d5702189"
            }
          },
          "metadata": {}
        },
        {
          "output_type": "display_data",
          "data": {
            "text/plain": [
              "  0%|          | 0/111 [00:00<?, ?it/s]"
            ],
            "application/vnd.jupyter.widget-view+json": {
              "version_major": 2,
              "version_minor": 0,
              "model_id": "b38a4e093a8f4e418aa0a303bcb9ea33"
            }
          },
          "metadata": {}
        },
        {
          "output_type": "stream",
          "name": "stdout",
          "text": [
            "Epoch 50 | train PPL 16.581 | valid PPL 29.782 | BLEU-4 4.64\n",
            "Early-stopping: 4/15\n"
          ]
        }
      ]
    },
    {
      "cell_type": "markdown",
      "source": [
        "| Época | PPL (train) | PPL (valid) | BLEU-4 |\n",
        "|-------|-------------|-------------|--------|\n",
        "| 42    | 17.407      | 29.225      | 4.91   |\n"
      ],
      "metadata": {
        "id": "Z80b2wqN0TDg"
      },
      "id": "Z80b2wqN0TDg"
    },
    {
      "cell_type": "markdown",
      "source": [
        "**Interpretación de resultados**\n",
        "\n",
        "Durante la época 42, el modelo alcanzó una **perplejidad (PPL)** de `17.407` en el conjunto de entrenamiento y `29.225` en el conjunto de validación. La perplejidad mide cuán bien el modelo predice la siguiente palabra en una secuencia: **valores más bajos indican mejor capacidad de predicción**. En este caso, el aumento de PPL en validación respecto al entrenamiento sugiere cierta diferencia de desempeño, aunque aún dentro de un rango aceptable.\n",
        "\n",
        "El valor de **BLEU-4** fue `4.91`, lo que indica que las respuestas generadas por el modelo tienen un bajo grado de coincidencia con las referencias reales en validación. Aunque no es un puntaje alto, se observa una mejora con respecto a épocas anteriores, lo que se refleja en el mensaje: *“✓ BLEU mejoró. Modelo guardado”*."
      ],
      "metadata": {
        "id": "VajWjTOc0YCE"
      },
      "id": "VajWjTOc0YCE"
    },
    {
      "cell_type": "code",
      "source": [
        "# ════════════════════════════════════════════════════════════════════════════\n",
        "# 0. utilidades de codificación / decodificación\n",
        "# (ya deberías tener vocab   y   PAD/SOS/EOS_IDX)\n",
        "# ════════════════════════════════════════════════════════════════════════════\n",
        "inv_vocab = {idx: tok for tok, idx in vocab.items()}\n",
        "\n",
        "def encode_sentence(text):\n",
        "    ids = [vocab.get(t, UNK_IDX) for t in tokenize(text)]\n",
        "    return torch.tensor([SOS_IDX] + ids + [EOS_IDX], dtype=torch.long)\n",
        "\n",
        "def decode_ids(ids):\n",
        "    toks = [inv_vocab[i] for i in ids if i not in (SOS_IDX, EOS_IDX, PAD_IDX)]\n",
        "    return \" \".join(toks)\n",
        "\n",
        "# ════════════════════════════════════════════════════════════════════════════\n",
        "# 1. función de generación greedy\n",
        "# ════════════════════════════════════════════════════════════════════════════\n",
        "@torch.no_grad()\n",
        "def reply(model, src_text, max_len=40, temperature=1.0, top_p=0.9):\n",
        "    model.eval()\n",
        "\n",
        "    src = encode_sentence(src_text).unsqueeze(0).to(device)   # [1, S_src]\n",
        "    trg_ids = torch.tensor([[SOS_IDX]], device=device)        # seed [1,1]\n",
        "\n",
        "    for step in range(max_len):\n",
        "        logits = model(src, trg_ids)[0]          # [1, t, V]\n",
        "        logits_step = logits[0, -1] / temperature\n",
        "        probs = torch.softmax(logits_step, dim=-1)\n",
        "\n",
        "        if step == 0:                            # fuerza ≥1 palabra real\n",
        "            probs[EOS_IDX] = 0.0\n",
        "            probs /= probs.sum()\n",
        "\n",
        "        # nucleus sampling --------------------------------------------------\n",
        "        sorted_probs, sorted_idx = torch.sort(probs, descending=True)\n",
        "        cum_probs = torch.cumsum(sorted_probs, dim=0)\n",
        "        mask = cum_probs > top_p\n",
        "        mask[0] = False\n",
        "        sorted_probs[mask] = 0.0\n",
        "        sorted_probs /= sorted_probs.sum()\n",
        "\n",
        "        next_id = sorted_idx[torch.multinomial(sorted_probs, 1)].unsqueeze(0)  # [1,1]\n",
        "        trg_ids = torch.cat([trg_ids, next_id], dim=1)\n",
        "\n",
        "        if next_id.item() == EOS_IDX:\n",
        "            break\n",
        "\n",
        "    return decode_ids(trg_ids.squeeze().tolist())\n"
      ],
      "metadata": {
        "id": "G2uDPYbphXpP"
      },
      "id": "G2uDPYbphXpP",
      "execution_count": null,
      "outputs": []
    },
    {
      "cell_type": "markdown",
      "source": [
        "Este bloque define funciones clave para convertir texto a índices y viceversa, necesarias para interactuar con el modelo. `encode_sentence` transforma una oración en una secuencia de IDs con los tokens `<sos>` y `<eos>`, mientras que `decode_ids` reconstruye el texto omitiendo los tokens especiales. La función `reply` permite generar texto automáticamente a partir de una frase de entrada. Lo hace de forma autoregresiva, agregando un token por paso hasta alcanzar un máximo de longitud o el token `<eos>`. Utiliza *nucleus sampling* (top-p) y temperatura para controlar la aleatoriedad en la generación, logrando respuestas coherentes pero variadas.\n"
      ],
      "metadata": {
        "id": "WQrI9QFXzavc"
      },
      "id": "WQrI9QFXzavc"
    },
    {
      "cell_type": "code",
      "source": [
        "user_turn = \"Could you recommend me a nice restaurant for tonight?\"\n",
        "print(\"YOU :\", user_turn)\n",
        "print(\"BOT :\", reply(model, user_turn, temperature=0.9, top_p=0.95))"
      ],
      "metadata": {
        "id": "BYt7wgFxiJ7W",
        "colab": {
          "base_uri": "https://localhost:8080/"
        },
        "outputId": "aecd48a4-0f81-491e-a971-bc424e083e76"
      },
      "id": "BYt7wgFxiJ7W",
      "execution_count": null,
      "outputs": [
        {
          "output_type": "stream",
          "name": "stdout",
          "text": [
            "YOU : Could you recommend me a nice restaurant for tonight?\n",
            "BOT : well , my passport is going to be a bit different .\n"
          ]
        }
      ]
    },
    {
      "cell_type": "code",
      "source": [
        "user_turn = \"Hello, how are you ?\"\n",
        "print(\"YOU :\", user_turn)\n",
        "print(\"BOT :\", reply(model, user_turn, temperature=0.9, top_p=0.95))"
      ],
      "metadata": {
        "id": "ySO8_H9Sogvl",
        "colab": {
          "base_uri": "https://localhost:8080/"
        },
        "outputId": "49c18130-5d2b-4c39-8983-6f023e63047c"
      },
      "id": "ySO8_H9Sogvl",
      "execution_count": null,
      "outputs": [
        {
          "output_type": "stream",
          "name": "stdout",
          "text": [
            "YOU : Hello, how are you ?\n",
            "BOT : bye .\n"
          ]
        }
      ]
    },
    {
      "cell_type": "code",
      "source": [
        "user_turn = \"How are you ?\"\n",
        "print(\"YOU :\", user_turn)\n",
        "print(\"BOT :\", reply(model, user_turn, temperature=0.9, top_p=0.95))"
      ],
      "metadata": {
        "id": "pfJrVjW7mxNx",
        "colab": {
          "base_uri": "https://localhost:8080/"
        },
        "outputId": "1ab9d14a-5c26-4fd1-e685-4e95f4c7255f"
      },
      "id": "pfJrVjW7mxNx",
      "execution_count": null,
      "outputs": [
        {
          "output_type": "stream",
          "name": "stdout",
          "text": [
            "YOU : How are you ?\n",
            "BOT : i ’ m not sure .\n"
          ]
        }
      ]
    },
    {
      "cell_type": "code",
      "source": [
        "user_turn = \"bye bye\"\n",
        "print(\"YOU :\", user_turn)\n",
        "print(\"BOT :\", reply(model, user_turn, temperature=0.9, top_p=0.95))"
      ],
      "metadata": {
        "colab": {
          "base_uri": "https://localhost:8080/"
        },
        "id": "wy8TSjHKU7by",
        "outputId": "dc1b6406-d065-416c-a3bb-7ed76a663629"
      },
      "id": "wy8TSjHKU7by",
      "execution_count": null,
      "outputs": [
        {
          "output_type": "stream",
          "name": "stdout",
          "text": [
            "YOU : bye bye\n",
            "BOT : hello , mr . sandals . what is your name ?\n"
          ]
        }
      ]
    },
    {
      "cell_type": "code",
      "source": [
        "user_turn = \"what is yor name ?\"\n",
        "print(\"YOU :\", user_turn)\n",
        "print(\"BOT :\", reply(model, user_turn, temperature=0.9, top_p=0.95))"
      ],
      "metadata": {
        "colab": {
          "base_uri": "https://localhost:8080/"
        },
        "id": "IOVyKBLAU8-K",
        "outputId": "d154ec34-72bd-4116-e1b4-793530e7ff90"
      },
      "id": "IOVyKBLAU8-K",
      "execution_count": null,
      "outputs": [
        {
          "output_type": "stream",
          "name": "stdout",
          "text": [
            "YOU : what is yor name ?\n",
            "BOT : hi , this is david .\n"
          ]
        }
      ]
    },
    {
      "cell_type": "code",
      "source": [
        "user_turn = \"What do you mean ?\"\n",
        "print(\"YOU :\", user_turn)\n",
        "print(\"BOT :\", reply(model, user_turn, temperature=0.9, top_p=0.95))"
      ],
      "metadata": {
        "colab": {
          "base_uri": "https://localhost:8080/"
        },
        "id": "gO-fEk4fypY7",
        "outputId": "dbb7004c-4411-4efa-d288-6352f2efd8af"
      },
      "id": "gO-fEk4fypY7",
      "execution_count": null,
      "outputs": [
        {
          "output_type": "stream",
          "name": "stdout",
          "text": [
            "YOU : What do you mean ?\n",
            "BOT : i guess you are right . i ' ll fill out this form .\n"
          ]
        }
      ]
    },
    {
      "cell_type": "code",
      "source": [
        "user_turn = \"Do you really think so ?\"\n",
        "print(\"YOU :\", user_turn)\n",
        "print(\"BOT :\", reply(model, user_turn, temperature=0.9, top_p=0.95))"
      ],
      "metadata": {
        "colab": {
          "base_uri": "https://localhost:8080/"
        },
        "id": "hb5LVGTMyi_K",
        "outputId": "2ca9ad3f-e537-40d1-d2bc-509d59ce7a3e"
      },
      "id": "hb5LVGTMyi_K",
      "execution_count": null,
      "outputs": [
        {
          "output_type": "stream",
          "name": "stdout",
          "text": [
            "YOU : Do you really think so ?\n",
            "BOT : you must know so much about the world . you also have two children to go to work hard .\n"
          ]
        }
      ]
    },
    {
      "cell_type": "markdown",
      "source": [
        "### Interpretación y observaciones sobre las predicciones del modelo\n",
        "\n",
        "Las respuestas generadas muestran una **coherencia sintáctica aceptable**, pero presentan **fallos semánticos** y de **contextualización**. Por ejemplo:\n",
        "\n",
        "* Ante una solicitud específica como **\"Could you recommend me a nice restaurant for tonight?\"**, el modelo responde con una frase fuera de contexto (**\"my passport is going to be a bit different\"**), lo que indica una falta de alineación temática.\n",
        "* En saludos simples como **\"Hello, how are you?\"**, el modelo responde con **\"bye\"**, lo cual resulta incoherente con el tono esperado de la conversación.\n",
        "* Sin embargo, en entradas como **\"what is your name?\"**, la respuesta **\"hi, this is david.\"** es un poco más adecuada, lo que demuestra que el modelo puede generar respuestas relevantes cuando se trata de frases frecuentes en los datos de entrenamiento.\n",
        "* Algunas respuestas, como **\"you must know so much about the world...\"**, aunque gramaticalmente correctas, carecen de relación directa con la pregunta y parecen generadas de forma más libre, posiblemente debido a la configuración de `temperature=0.9` y `top_p=0.95`, que introducen aleatoriedad.\n",
        "\n",
        "En resumen, el modelo **logra mantener la estructura del lenguaje**, pero **todavía necesita mejorar la coherencia semántica** y la capacidad de respuesta precisa frente a entradas más específicas o menos frecuentes. Esto sugiere que el modelo aún no ha captado del todo el contexto conversacional y podría beneficiarse de más entrenamiento o fine-tuning con datos más adecuados.\n"
      ],
      "metadata": {
        "id": "xZzg2uxz034p"
      },
      "id": "xZzg2uxz034p"
    },
    {
      "cell_type": "markdown",
      "source": [
        "# Conclusión"
      ],
      "metadata": {
        "id": "GbSfAZcMukF_"
      },
      "id": "GbSfAZcMukF_"
    },
    {
      "cell_type": "markdown",
      "source": [
        "La baja puntuación BLEU y varias respuestas fuera de contexto indican que el modelo aún tiene una comprensión limitada del lenguaje conversacional. Esto puede deberse a un corpus de entrenamiento reducido o poco variado. Además, la aleatoriedad introducida por top-p sampling y temperature aporta diversidad, pero también puede disminuir la coherencia en las respuestas cuando el modelo no está bien ajustado. Estas observaciones abren oportunidades claras para mejorar el rendimiento mediante fine-tuning, incorporación de datos más representativos o el uso de embeddings preentrenados."
      ],
      "metadata": {
        "id": "62X-jUTv2O0m"
      },
      "id": "62X-jUTv2O0m"
    }
  ],
  "metadata": {
    "language_info": {
      "name": "python"
    },
    "colab": {
      "provenance": [],
      "gpuType": "L4",
      "machine_shape": "hm"
    },
    "kernelspec": {
      "name": "python3",
      "display_name": "Python 3"
    },
    "accelerator": "GPU"
  },
  "nbformat": 4,
  "nbformat_minor": 5
}